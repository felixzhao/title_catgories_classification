{
  "nbformat": 4,
  "nbformat_minor": 0,
  "metadata": {
    "colab": {
      "provenance": [],
      "collapsed_sections": [
        "tKZLvYaCiy6i",
        "D4_k8TOxi70W"
      ],
      "authorship_tag": "ABX9TyPq+f4/c9UdYGr0/0Y8/GxC",
      "include_colab_link": true
    },
    "kernelspec": {
      "name": "python3",
      "display_name": "Python 3"
    },
    "language_info": {
      "name": "python"
    },
    "accelerator": "GPU",
    "gpuClass": "standard"
  },
  "cells": [
    {
      "cell_type": "markdown",
      "metadata": {
        "id": "view-in-github",
        "colab_type": "text"
      },
      "source": [
        "<a href=\"https://colab.research.google.com/github/felixzhao/title_catgories_classification/blob/main/JTC_v3_1_level2_model.ipynb\" target=\"_parent\"><img src=\"https://colab.research.google.com/assets/colab-badge.svg\" alt=\"Open In Colab\"/></a>"
      ]
    },
    {
      "cell_type": "code",
      "execution_count": null,
      "metadata": {
        "id": "bElRa-kGTA89"
      },
      "outputs": [],
      "source": []
    },
    {
      "cell_type": "markdown",
      "source": [
        "# install dependency"
      ],
      "metadata": {
        "id": "tKZLvYaCiy6i"
      }
    },
    {
      "cell_type": "code",
      "execution_count": 1,
      "metadata": {
        "colab": {
          "base_uri": "https://localhost:8080/"
        },
        "id": "IL9AjlvPNbzQ",
        "outputId": "63202980-f1b6-49a9-ce0d-de7c44d36d2b"
      },
      "outputs": [
        {
          "output_type": "stream",
          "name": "stdout",
          "text": [
            "Looking in indexes: https://pypi.org/simple, https://us-python.pkg.dev/colab-wheels/public/simple/\n",
            "Collecting sentence-transformers\n",
            "  Downloading sentence-transformers-2.2.2.tar.gz (85 kB)\n",
            "\u001b[2K     \u001b[90m━━━━━━━━━━━━━━━━━━━━━━━━━━━━━━━━━━━━━━━━\u001b[0m \u001b[32m86.0/86.0 KB\u001b[0m \u001b[31m2.7 MB/s\u001b[0m eta \u001b[36m0:00:00\u001b[0m\n",
            "\u001b[?25h  Preparing metadata (setup.py) ... \u001b[?25l\u001b[?25hdone\n",
            "Collecting transformers<5.0.0,>=4.6.0\n",
            "  Downloading transformers-4.26.1-py3-none-any.whl (6.3 MB)\n",
            "\u001b[2K     \u001b[90m━━━━━━━━━━━━━━━━━━━━━━━━━━━━━━━━━━━━━━━━\u001b[0m \u001b[32m6.3/6.3 MB\u001b[0m \u001b[31m43.2 MB/s\u001b[0m eta \u001b[36m0:00:00\u001b[0m\n",
            "\u001b[?25hRequirement already satisfied: tqdm in /usr/local/lib/python3.9/dist-packages (from sentence-transformers) (4.65.0)\n",
            "Requirement already satisfied: torch>=1.6.0 in /usr/local/lib/python3.9/dist-packages (from sentence-transformers) (1.13.1+cu116)\n",
            "Requirement already satisfied: torchvision in /usr/local/lib/python3.9/dist-packages (from sentence-transformers) (0.14.1+cu116)\n",
            "Requirement already satisfied: numpy in /usr/local/lib/python3.9/dist-packages (from sentence-transformers) (1.22.4)\n",
            "Requirement already satisfied: scikit-learn in /usr/local/lib/python3.9/dist-packages (from sentence-transformers) (1.2.1)\n",
            "Requirement already satisfied: scipy in /usr/local/lib/python3.9/dist-packages (from sentence-transformers) (1.10.1)\n",
            "Requirement already satisfied: nltk in /usr/local/lib/python3.9/dist-packages (from sentence-transformers) (3.7)\n",
            "Collecting sentencepiece\n",
            "  Downloading sentencepiece-0.1.97-cp39-cp39-manylinux_2_17_x86_64.manylinux2014_x86_64.whl (1.3 MB)\n",
            "\u001b[2K     \u001b[90m━━━━━━━━━━━━━━━━━━━━━━━━━━━━━━━━━━━━━━━━\u001b[0m \u001b[32m1.3/1.3 MB\u001b[0m \u001b[31m14.0 MB/s\u001b[0m eta \u001b[36m0:00:00\u001b[0m\n",
            "\u001b[?25hCollecting huggingface-hub>=0.4.0\n",
            "  Downloading huggingface_hub-0.13.1-py3-none-any.whl (199 kB)\n",
            "\u001b[2K     \u001b[90m━━━━━━━━━━━━━━━━━━━━━━━━━━━━━━━━━━━━━━\u001b[0m \u001b[32m199.2/199.2 KB\u001b[0m \u001b[31m15.4 MB/s\u001b[0m eta \u001b[36m0:00:00\u001b[0m\n",
            "\u001b[?25hRequirement already satisfied: pyyaml>=5.1 in /usr/local/lib/python3.9/dist-packages (from huggingface-hub>=0.4.0->sentence-transformers) (6.0)\n",
            "Requirement already satisfied: packaging>=20.9 in /usr/local/lib/python3.9/dist-packages (from huggingface-hub>=0.4.0->sentence-transformers) (23.0)\n",
            "Requirement already satisfied: filelock in /usr/local/lib/python3.9/dist-packages (from huggingface-hub>=0.4.0->sentence-transformers) (3.9.0)\n",
            "Requirement already satisfied: requests in /usr/local/lib/python3.9/dist-packages (from huggingface-hub>=0.4.0->sentence-transformers) (2.25.1)\n",
            "Requirement already satisfied: typing-extensions>=3.7.4.3 in /usr/local/lib/python3.9/dist-packages (from huggingface-hub>=0.4.0->sentence-transformers) (4.5.0)\n",
            "Collecting tokenizers!=0.11.3,<0.14,>=0.11.1\n",
            "  Downloading tokenizers-0.13.2-cp39-cp39-manylinux_2_17_x86_64.manylinux2014_x86_64.whl (7.6 MB)\n",
            "\u001b[2K     \u001b[90m━━━━━━━━━━━━━━━━━━━━━━━━━━━━━━━━━━━━━━━━\u001b[0m \u001b[32m7.6/7.6 MB\u001b[0m \u001b[31m20.7 MB/s\u001b[0m eta \u001b[36m0:00:00\u001b[0m\n",
            "\u001b[?25hRequirement already satisfied: regex!=2019.12.17 in /usr/local/lib/python3.9/dist-packages (from transformers<5.0.0,>=4.6.0->sentence-transformers) (2022.6.2)\n",
            "Requirement already satisfied: joblib in /usr/local/lib/python3.9/dist-packages (from nltk->sentence-transformers) (1.2.0)\n",
            "Requirement already satisfied: click in /usr/local/lib/python3.9/dist-packages (from nltk->sentence-transformers) (8.1.3)\n",
            "Requirement already satisfied: threadpoolctl>=2.0.0 in /usr/local/lib/python3.9/dist-packages (from scikit-learn->sentence-transformers) (3.1.0)\n",
            "Requirement already satisfied: pillow!=8.3.*,>=5.3.0 in /usr/local/lib/python3.9/dist-packages (from torchvision->sentence-transformers) (8.4.0)\n",
            "Requirement already satisfied: urllib3<1.27,>=1.21.1 in /usr/local/lib/python3.9/dist-packages (from requests->huggingface-hub>=0.4.0->sentence-transformers) (1.26.14)\n",
            "Requirement already satisfied: idna<3,>=2.5 in /usr/local/lib/python3.9/dist-packages (from requests->huggingface-hub>=0.4.0->sentence-transformers) (2.10)\n",
            "Requirement already satisfied: chardet<5,>=3.0.2 in /usr/local/lib/python3.9/dist-packages (from requests->huggingface-hub>=0.4.0->sentence-transformers) (4.0.0)\n",
            "Requirement already satisfied: certifi>=2017.4.17 in /usr/local/lib/python3.9/dist-packages (from requests->huggingface-hub>=0.4.0->sentence-transformers) (2022.12.7)\n",
            "Building wheels for collected packages: sentence-transformers\n",
            "  Building wheel for sentence-transformers (setup.py) ... \u001b[?25l\u001b[?25hdone\n",
            "  Created wheel for sentence-transformers: filename=sentence_transformers-2.2.2-py3-none-any.whl size=125938 sha256=aafb4f5df329b04115edc130e58b365fd5515875e303bad7f45ec63c38090aca\n",
            "  Stored in directory: /root/.cache/pip/wheels/71/67/06/162a3760c40d74dd40bc855d527008d26341c2b0ecf3e8e11f\n",
            "Successfully built sentence-transformers\n",
            "Installing collected packages: tokenizers, sentencepiece, huggingface-hub, transformers, sentence-transformers\n",
            "Successfully installed huggingface-hub-0.13.1 sentence-transformers-2.2.2 sentencepiece-0.1.97 tokenizers-0.13.2 transformers-4.26.1\n"
          ]
        }
      ],
      "source": [
        "! pip install sentence-transformers\n"
      ]
    },
    {
      "cell_type": "markdown",
      "source": [
        "# load packages"
      ],
      "metadata": {
        "id": "D4_k8TOxi70W"
      }
    },
    {
      "cell_type": "code",
      "execution_count": 2,
      "metadata": {
        "id": "x8kgHpZQ85G4"
      },
      "outputs": [],
      "source": [
        "import pandas as pd\n",
        "import matplotlib.pyplot as plt\n",
        "\n",
        "from collections import defaultdict\n",
        "import json"
      ]
    },
    {
      "cell_type": "code",
      "source": [
        "from sklearn.model_selection import train_test_split\n",
        "from sklearn.feature_extraction.text import CountVectorizer, TfidfVectorizer\n",
        "\n",
        "from sklearn.ensemble import RandomForestClassifier\n",
        "from sklearn.metrics import confusion_matrix,classification_report\n",
        "\n",
        "from sentence_transformers import SentenceTransformer, util\n",
        "from sklearn import metrics"
      ],
      "metadata": {
        "id": "A1MOksIe9C8O"
      },
      "execution_count": 3,
      "outputs": []
    },
    {
      "cell_type": "markdown",
      "source": [
        "load data\n",
        "This work loads data from google drive. Please put the files into \"trademe_data\" folder under the root of google drive.\n",
        "\n",
        "Then run the following code to mount the google drive in colab.\n",
        "\n",
        "You can follow the guide. https://towardsdatascience.com/different-ways-to-connect-google-drive-to-a-google-colab-notebook-pt-1-de03433d2f7a"
      ],
      "metadata": {
        "id": "1aW75fGu9Fgh"
      }
    },
    {
      "cell_type": "code",
      "source": [
        "from google.colab import drive\n",
        "drive.mount('/content/drive')\n",
        "root_path = \"drive/MyDrive/trademe_data/\""
      ],
      "metadata": {
        "colab": {
          "base_uri": "https://localhost:8080/"
        },
        "id": "yriR5_n99F7Z",
        "outputId": "4da3762c-49c3-4708-9449-dadf8818910a"
      },
      "execution_count": 4,
      "outputs": [
        {
          "output_type": "stream",
          "name": "stdout",
          "text": [
            "Mounted at /content/drive\n"
          ]
        }
      ]
    },
    {
      "cell_type": "markdown",
      "source": [
        "# load  data"
      ],
      "metadata": {
        "id": "6XjRHu5N9T46"
      }
    },
    {
      "cell_type": "code",
      "source": [
        "raw_path = f\"{root_path}raw.csv\""
      ],
      "metadata": {
        "id": "KyWXpSNUjZP0"
      },
      "execution_count": 38,
      "outputs": []
    },
    {
      "cell_type": "code",
      "source": [
        "raw_df = pd.read_csv(raw_path)"
      ],
      "metadata": {
        "id": "IUDMyMvG9JKr"
      },
      "execution_count": 39,
      "outputs": []
    },
    {
      "cell_type": "code",
      "source": [
        "raw_df = raw_df[['x_title_feature', 'cat_2']]\n",
        "print(len(raw_df))\n",
        "raw_df.head()"
      ],
      "metadata": {
        "colab": {
          "base_uri": "https://localhost:8080/",
          "height": 224
        },
        "id": "V0G_SMIOYArh",
        "outputId": "ad5b89ae-8f84-4370-f3d0-b2ce41abe378"
      },
      "execution_count": 40,
      "outputs": [
        {
          "output_type": "stream",
          "name": "stdout",
          "text": [
            "20000\n"
          ]
        },
        {
          "output_type": "execute_result",
          "data": {
            "text/plain": [
              "                        x_title_feature                        cat_2\n",
              "0               unqualifi asbesto remov                    labourers\n",
              "1                   senior test analyst                      testing\n",
              "2                ict trainer supervisor          tutoring & training\n",
              "3  automot specialist multi facet posit                  technicians\n",
              "4                          busi analyst  business & systems analysts"
            ],
            "text/html": [
              "\n",
              "  <div id=\"df-16931967-3c0d-418f-bd2a-7d7ac2228239\">\n",
              "    <div class=\"colab-df-container\">\n",
              "      <div>\n",
              "<style scoped>\n",
              "    .dataframe tbody tr th:only-of-type {\n",
              "        vertical-align: middle;\n",
              "    }\n",
              "\n",
              "    .dataframe tbody tr th {\n",
              "        vertical-align: top;\n",
              "    }\n",
              "\n",
              "    .dataframe thead th {\n",
              "        text-align: right;\n",
              "    }\n",
              "</style>\n",
              "<table border=\"1\" class=\"dataframe\">\n",
              "  <thead>\n",
              "    <tr style=\"text-align: right;\">\n",
              "      <th></th>\n",
              "      <th>x_title_feature</th>\n",
              "      <th>cat_2</th>\n",
              "    </tr>\n",
              "  </thead>\n",
              "  <tbody>\n",
              "    <tr>\n",
              "      <th>0</th>\n",
              "      <td>unqualifi asbesto remov</td>\n",
              "      <td>labourers</td>\n",
              "    </tr>\n",
              "    <tr>\n",
              "      <th>1</th>\n",
              "      <td>senior test analyst</td>\n",
              "      <td>testing</td>\n",
              "    </tr>\n",
              "    <tr>\n",
              "      <th>2</th>\n",
              "      <td>ict trainer supervisor</td>\n",
              "      <td>tutoring &amp; training</td>\n",
              "    </tr>\n",
              "    <tr>\n",
              "      <th>3</th>\n",
              "      <td>automot specialist multi facet posit</td>\n",
              "      <td>technicians</td>\n",
              "    </tr>\n",
              "    <tr>\n",
              "      <th>4</th>\n",
              "      <td>busi analyst</td>\n",
              "      <td>business &amp; systems analysts</td>\n",
              "    </tr>\n",
              "  </tbody>\n",
              "</table>\n",
              "</div>\n",
              "      <button class=\"colab-df-convert\" onclick=\"convertToInteractive('df-16931967-3c0d-418f-bd2a-7d7ac2228239')\"\n",
              "              title=\"Convert this dataframe to an interactive table.\"\n",
              "              style=\"display:none;\">\n",
              "        \n",
              "  <svg xmlns=\"http://www.w3.org/2000/svg\" height=\"24px\"viewBox=\"0 0 24 24\"\n",
              "       width=\"24px\">\n",
              "    <path d=\"M0 0h24v24H0V0z\" fill=\"none\"/>\n",
              "    <path d=\"M18.56 5.44l.94 2.06.94-2.06 2.06-.94-2.06-.94-.94-2.06-.94 2.06-2.06.94zm-11 1L8.5 8.5l.94-2.06 2.06-.94-2.06-.94L8.5 2.5l-.94 2.06-2.06.94zm10 10l.94 2.06.94-2.06 2.06-.94-2.06-.94-.94-2.06-.94 2.06-2.06.94z\"/><path d=\"M17.41 7.96l-1.37-1.37c-.4-.4-.92-.59-1.43-.59-.52 0-1.04.2-1.43.59L10.3 9.45l-7.72 7.72c-.78.78-.78 2.05 0 2.83L4 21.41c.39.39.9.59 1.41.59.51 0 1.02-.2 1.41-.59l7.78-7.78 2.81-2.81c.8-.78.8-2.07 0-2.86zM5.41 20L4 18.59l7.72-7.72 1.47 1.35L5.41 20z\"/>\n",
              "  </svg>\n",
              "      </button>\n",
              "      \n",
              "  <style>\n",
              "    .colab-df-container {\n",
              "      display:flex;\n",
              "      flex-wrap:wrap;\n",
              "      gap: 12px;\n",
              "    }\n",
              "\n",
              "    .colab-df-convert {\n",
              "      background-color: #E8F0FE;\n",
              "      border: none;\n",
              "      border-radius: 50%;\n",
              "      cursor: pointer;\n",
              "      display: none;\n",
              "      fill: #1967D2;\n",
              "      height: 32px;\n",
              "      padding: 0 0 0 0;\n",
              "      width: 32px;\n",
              "    }\n",
              "\n",
              "    .colab-df-convert:hover {\n",
              "      background-color: #E2EBFA;\n",
              "      box-shadow: 0px 1px 2px rgba(60, 64, 67, 0.3), 0px 1px 3px 1px rgba(60, 64, 67, 0.15);\n",
              "      fill: #174EA6;\n",
              "    }\n",
              "\n",
              "    [theme=dark] .colab-df-convert {\n",
              "      background-color: #3B4455;\n",
              "      fill: #D2E3FC;\n",
              "    }\n",
              "\n",
              "    [theme=dark] .colab-df-convert:hover {\n",
              "      background-color: #434B5C;\n",
              "      box-shadow: 0px 1px 3px 1px rgba(0, 0, 0, 0.15);\n",
              "      filter: drop-shadow(0px 1px 2px rgba(0, 0, 0, 0.3));\n",
              "      fill: #FFFFFF;\n",
              "    }\n",
              "  </style>\n",
              "\n",
              "      <script>\n",
              "        const buttonEl =\n",
              "          document.querySelector('#df-16931967-3c0d-418f-bd2a-7d7ac2228239 button.colab-df-convert');\n",
              "        buttonEl.style.display =\n",
              "          google.colab.kernel.accessAllowed ? 'block' : 'none';\n",
              "\n",
              "        async function convertToInteractive(key) {\n",
              "          const element = document.querySelector('#df-16931967-3c0d-418f-bd2a-7d7ac2228239');\n",
              "          const dataTable =\n",
              "            await google.colab.kernel.invokeFunction('convertToInteractive',\n",
              "                                                     [key], {});\n",
              "          if (!dataTable) return;\n",
              "\n",
              "          const docLinkHtml = 'Like what you see? Visit the ' +\n",
              "            '<a target=\"_blank\" href=https://colab.research.google.com/notebooks/data_table.ipynb>data table notebook</a>'\n",
              "            + ' to learn more about interactive tables.';\n",
              "          element.innerHTML = '';\n",
              "          dataTable['output_type'] = 'display_data';\n",
              "          await google.colab.output.renderOutput(dataTable, element);\n",
              "          const docLink = document.createElement('div');\n",
              "          docLink.innerHTML = docLinkHtml;\n",
              "          element.appendChild(docLink);\n",
              "        }\n",
              "      </script>\n",
              "    </div>\n",
              "  </div>\n",
              "  "
            ]
          },
          "metadata": {},
          "execution_count": 40
        }
      ]
    },
    {
      "cell_type": "markdown",
      "source": [
        "# preprocess"
      ],
      "metadata": {
        "id": "xj7F0cXrapuY"
      }
    },
    {
      "cell_type": "code",
      "source": [
        "dups = raw_df[raw_df.duplicated()]\n",
        "print(len(dups))\n",
        "dups[:1]"
      ],
      "metadata": {
        "colab": {
          "base_uri": "https://localhost:8080/",
          "height": 99
        },
        "id": "HRhPlJucapFy",
        "outputId": "52c3e200-8425-484c-c6c5-cfae86daf394"
      },
      "execution_count": 41,
      "outputs": [
        {
          "output_type": "stream",
          "name": "stdout",
          "text": [
            "5113\n"
          ]
        },
        {
          "output_type": "execute_result",
          "data": {
            "text/plain": [
              "   x_title_feature                        cat_2\n",
              "72  support worker  community & social services"
            ],
            "text/html": [
              "\n",
              "  <div id=\"df-35efdedd-8154-4cba-8ce2-91c26e9d918e\">\n",
              "    <div class=\"colab-df-container\">\n",
              "      <div>\n",
              "<style scoped>\n",
              "    .dataframe tbody tr th:only-of-type {\n",
              "        vertical-align: middle;\n",
              "    }\n",
              "\n",
              "    .dataframe tbody tr th {\n",
              "        vertical-align: top;\n",
              "    }\n",
              "\n",
              "    .dataframe thead th {\n",
              "        text-align: right;\n",
              "    }\n",
              "</style>\n",
              "<table border=\"1\" class=\"dataframe\">\n",
              "  <thead>\n",
              "    <tr style=\"text-align: right;\">\n",
              "      <th></th>\n",
              "      <th>x_title_feature</th>\n",
              "      <th>cat_2</th>\n",
              "    </tr>\n",
              "  </thead>\n",
              "  <tbody>\n",
              "    <tr>\n",
              "      <th>72</th>\n",
              "      <td>support worker</td>\n",
              "      <td>community &amp; social services</td>\n",
              "    </tr>\n",
              "  </tbody>\n",
              "</table>\n",
              "</div>\n",
              "      <button class=\"colab-df-convert\" onclick=\"convertToInteractive('df-35efdedd-8154-4cba-8ce2-91c26e9d918e')\"\n",
              "              title=\"Convert this dataframe to an interactive table.\"\n",
              "              style=\"display:none;\">\n",
              "        \n",
              "  <svg xmlns=\"http://www.w3.org/2000/svg\" height=\"24px\"viewBox=\"0 0 24 24\"\n",
              "       width=\"24px\">\n",
              "    <path d=\"M0 0h24v24H0V0z\" fill=\"none\"/>\n",
              "    <path d=\"M18.56 5.44l.94 2.06.94-2.06 2.06-.94-2.06-.94-.94-2.06-.94 2.06-2.06.94zm-11 1L8.5 8.5l.94-2.06 2.06-.94-2.06-.94L8.5 2.5l-.94 2.06-2.06.94zm10 10l.94 2.06.94-2.06 2.06-.94-2.06-.94-.94-2.06-.94 2.06-2.06.94z\"/><path d=\"M17.41 7.96l-1.37-1.37c-.4-.4-.92-.59-1.43-.59-.52 0-1.04.2-1.43.59L10.3 9.45l-7.72 7.72c-.78.78-.78 2.05 0 2.83L4 21.41c.39.39.9.59 1.41.59.51 0 1.02-.2 1.41-.59l7.78-7.78 2.81-2.81c.8-.78.8-2.07 0-2.86zM5.41 20L4 18.59l7.72-7.72 1.47 1.35L5.41 20z\"/>\n",
              "  </svg>\n",
              "      </button>\n",
              "      \n",
              "  <style>\n",
              "    .colab-df-container {\n",
              "      display:flex;\n",
              "      flex-wrap:wrap;\n",
              "      gap: 12px;\n",
              "    }\n",
              "\n",
              "    .colab-df-convert {\n",
              "      background-color: #E8F0FE;\n",
              "      border: none;\n",
              "      border-radius: 50%;\n",
              "      cursor: pointer;\n",
              "      display: none;\n",
              "      fill: #1967D2;\n",
              "      height: 32px;\n",
              "      padding: 0 0 0 0;\n",
              "      width: 32px;\n",
              "    }\n",
              "\n",
              "    .colab-df-convert:hover {\n",
              "      background-color: #E2EBFA;\n",
              "      box-shadow: 0px 1px 2px rgba(60, 64, 67, 0.3), 0px 1px 3px 1px rgba(60, 64, 67, 0.15);\n",
              "      fill: #174EA6;\n",
              "    }\n",
              "\n",
              "    [theme=dark] .colab-df-convert {\n",
              "      background-color: #3B4455;\n",
              "      fill: #D2E3FC;\n",
              "    }\n",
              "\n",
              "    [theme=dark] .colab-df-convert:hover {\n",
              "      background-color: #434B5C;\n",
              "      box-shadow: 0px 1px 3px 1px rgba(0, 0, 0, 0.15);\n",
              "      filter: drop-shadow(0px 1px 2px rgba(0, 0, 0, 0.3));\n",
              "      fill: #FFFFFF;\n",
              "    }\n",
              "  </style>\n",
              "\n",
              "      <script>\n",
              "        const buttonEl =\n",
              "          document.querySelector('#df-35efdedd-8154-4cba-8ce2-91c26e9d918e button.colab-df-convert');\n",
              "        buttonEl.style.display =\n",
              "          google.colab.kernel.accessAllowed ? 'block' : 'none';\n",
              "\n",
              "        async function convertToInteractive(key) {\n",
              "          const element = document.querySelector('#df-35efdedd-8154-4cba-8ce2-91c26e9d918e');\n",
              "          const dataTable =\n",
              "            await google.colab.kernel.invokeFunction('convertToInteractive',\n",
              "                                                     [key], {});\n",
              "          if (!dataTable) return;\n",
              "\n",
              "          const docLinkHtml = 'Like what you see? Visit the ' +\n",
              "            '<a target=\"_blank\" href=https://colab.research.google.com/notebooks/data_table.ipynb>data table notebook</a>'\n",
              "            + ' to learn more about interactive tables.';\n",
              "          element.innerHTML = '';\n",
              "          dataTable['output_type'] = 'display_data';\n",
              "          await google.colab.output.renderOutput(dataTable, element);\n",
              "          const docLink = document.createElement('div');\n",
              "          docLink.innerHTML = docLinkHtml;\n",
              "          element.appendChild(docLink);\n",
              "        }\n",
              "      </script>\n",
              "    </div>\n",
              "  </div>\n",
              "  "
            ]
          },
          "metadata": {},
          "execution_count": 41
        }
      ]
    },
    {
      "cell_type": "code",
      "source": [
        "raw_df = raw_df.drop_duplicates()\n",
        "print(len(raw_df))"
      ],
      "metadata": {
        "colab": {
          "base_uri": "https://localhost:8080/"
        },
        "id": "GKziIhBqa480",
        "outputId": "b89064b7-f4df-4ffd-8c26-13244332b28a"
      },
      "execution_count": 42,
      "outputs": [
        {
          "output_type": "stream",
          "name": "stdout",
          "text": [
            "14887\n"
          ]
        }
      ]
    },
    {
      "cell_type": "markdown",
      "source": [
        "# encoding"
      ],
      "metadata": {
        "id": "GJoHCCcuXauD"
      }
    },
    {
      "cell_type": "code",
      "source": [
        "model = SentenceTransformer(\"all-MiniLM-L6-v2\")"
      ],
      "metadata": {
        "id": "pQor32sKXiGf"
      },
      "execution_count": 43,
      "outputs": []
    },
    {
      "cell_type": "code",
      "source": [
        "\n",
        "# def get_embedding(text):\n",
        "#     if not text:\n",
        "#         print(\"Content is empty.\")\n",
        "#         return None\n",
        "#     return model.encode(input, convert_to_tensor=True)\n",
        "     "
      ],
      "metadata": {
        "id": "D2_I_uIaXcQO"
      },
      "execution_count": 44,
      "outputs": []
    },
    {
      "cell_type": "code",
      "source": [
        "# def get_nparray_embdding(content):\n",
        "#     return content.cpu().numpy()"
      ],
      "metadata": {
        "id": "38AircwoeDba"
      },
      "execution_count": 45,
      "outputs": []
    },
    {
      "cell_type": "code",
      "source": [
        "raw_df['x_title_feature_encoding'] = raw_df['x_title_feature'].apply(lambda x: model.encode(str(x), convert_to_tensor=True).cpu().numpy())"
      ],
      "metadata": {
        "id": "PERGWn-2XmQ_"
      },
      "execution_count": 67,
      "outputs": []
    },
    {
      "cell_type": "code",
      "source": [
        "raw_df.head(2)"
      ],
      "metadata": {
        "colab": {
          "base_uri": "https://localhost:8080/",
          "height": 112
        },
        "id": "FpuESiACYRZT",
        "outputId": "29c45d76-3482-49a7-943e-d514e7874388"
      },
      "execution_count": 64,
      "outputs": [
        {
          "output_type": "execute_result",
          "data": {
            "text/plain": [
              "           x_title_feature      cat_2  \\\n",
              "0  unqualifi asbesto remov  labourers   \n",
              "1      senior test analyst    testing   \n",
              "\n",
              "                            x_title_feature_encoding  \n",
              "0  [-0.04014635, 0.04006017, -0.052789543, 0.0232...  \n",
              "1  [-0.02413135, 0.055597737, -0.103181325, 0.024...  "
            ],
            "text/html": [
              "\n",
              "  <div id=\"df-92ac3f51-7d2c-43de-9948-30dbaa0b960f\">\n",
              "    <div class=\"colab-df-container\">\n",
              "      <div>\n",
              "<style scoped>\n",
              "    .dataframe tbody tr th:only-of-type {\n",
              "        vertical-align: middle;\n",
              "    }\n",
              "\n",
              "    .dataframe tbody tr th {\n",
              "        vertical-align: top;\n",
              "    }\n",
              "\n",
              "    .dataframe thead th {\n",
              "        text-align: right;\n",
              "    }\n",
              "</style>\n",
              "<table border=\"1\" class=\"dataframe\">\n",
              "  <thead>\n",
              "    <tr style=\"text-align: right;\">\n",
              "      <th></th>\n",
              "      <th>x_title_feature</th>\n",
              "      <th>cat_2</th>\n",
              "      <th>x_title_feature_encoding</th>\n",
              "    </tr>\n",
              "  </thead>\n",
              "  <tbody>\n",
              "    <tr>\n",
              "      <th>0</th>\n",
              "      <td>unqualifi asbesto remov</td>\n",
              "      <td>labourers</td>\n",
              "      <td>[-0.04014635, 0.04006017, -0.052789543, 0.0232...</td>\n",
              "    </tr>\n",
              "    <tr>\n",
              "      <th>1</th>\n",
              "      <td>senior test analyst</td>\n",
              "      <td>testing</td>\n",
              "      <td>[-0.02413135, 0.055597737, -0.103181325, 0.024...</td>\n",
              "    </tr>\n",
              "  </tbody>\n",
              "</table>\n",
              "</div>\n",
              "      <button class=\"colab-df-convert\" onclick=\"convertToInteractive('df-92ac3f51-7d2c-43de-9948-30dbaa0b960f')\"\n",
              "              title=\"Convert this dataframe to an interactive table.\"\n",
              "              style=\"display:none;\">\n",
              "        \n",
              "  <svg xmlns=\"http://www.w3.org/2000/svg\" height=\"24px\"viewBox=\"0 0 24 24\"\n",
              "       width=\"24px\">\n",
              "    <path d=\"M0 0h24v24H0V0z\" fill=\"none\"/>\n",
              "    <path d=\"M18.56 5.44l.94 2.06.94-2.06 2.06-.94-2.06-.94-.94-2.06-.94 2.06-2.06.94zm-11 1L8.5 8.5l.94-2.06 2.06-.94-2.06-.94L8.5 2.5l-.94 2.06-2.06.94zm10 10l.94 2.06.94-2.06 2.06-.94-2.06-.94-.94-2.06-.94 2.06-2.06.94z\"/><path d=\"M17.41 7.96l-1.37-1.37c-.4-.4-.92-.59-1.43-.59-.52 0-1.04.2-1.43.59L10.3 9.45l-7.72 7.72c-.78.78-.78 2.05 0 2.83L4 21.41c.39.39.9.59 1.41.59.51 0 1.02-.2 1.41-.59l7.78-7.78 2.81-2.81c.8-.78.8-2.07 0-2.86zM5.41 20L4 18.59l7.72-7.72 1.47 1.35L5.41 20z\"/>\n",
              "  </svg>\n",
              "      </button>\n",
              "      \n",
              "  <style>\n",
              "    .colab-df-container {\n",
              "      display:flex;\n",
              "      flex-wrap:wrap;\n",
              "      gap: 12px;\n",
              "    }\n",
              "\n",
              "    .colab-df-convert {\n",
              "      background-color: #E8F0FE;\n",
              "      border: none;\n",
              "      border-radius: 50%;\n",
              "      cursor: pointer;\n",
              "      display: none;\n",
              "      fill: #1967D2;\n",
              "      height: 32px;\n",
              "      padding: 0 0 0 0;\n",
              "      width: 32px;\n",
              "    }\n",
              "\n",
              "    .colab-df-convert:hover {\n",
              "      background-color: #E2EBFA;\n",
              "      box-shadow: 0px 1px 2px rgba(60, 64, 67, 0.3), 0px 1px 3px 1px rgba(60, 64, 67, 0.15);\n",
              "      fill: #174EA6;\n",
              "    }\n",
              "\n",
              "    [theme=dark] .colab-df-convert {\n",
              "      background-color: #3B4455;\n",
              "      fill: #D2E3FC;\n",
              "    }\n",
              "\n",
              "    [theme=dark] .colab-df-convert:hover {\n",
              "      background-color: #434B5C;\n",
              "      box-shadow: 0px 1px 3px 1px rgba(0, 0, 0, 0.15);\n",
              "      filter: drop-shadow(0px 1px 2px rgba(0, 0, 0, 0.3));\n",
              "      fill: #FFFFFF;\n",
              "    }\n",
              "  </style>\n",
              "\n",
              "      <script>\n",
              "        const buttonEl =\n",
              "          document.querySelector('#df-92ac3f51-7d2c-43de-9948-30dbaa0b960f button.colab-df-convert');\n",
              "        buttonEl.style.display =\n",
              "          google.colab.kernel.accessAllowed ? 'block' : 'none';\n",
              "\n",
              "        async function convertToInteractive(key) {\n",
              "          const element = document.querySelector('#df-92ac3f51-7d2c-43de-9948-30dbaa0b960f');\n",
              "          const dataTable =\n",
              "            await google.colab.kernel.invokeFunction('convertToInteractive',\n",
              "                                                     [key], {});\n",
              "          if (!dataTable) return;\n",
              "\n",
              "          const docLinkHtml = 'Like what you see? Visit the ' +\n",
              "            '<a target=\"_blank\" href=https://colab.research.google.com/notebooks/data_table.ipynb>data table notebook</a>'\n",
              "            + ' to learn more about interactive tables.';\n",
              "          element.innerHTML = '';\n",
              "          dataTable['output_type'] = 'display_data';\n",
              "          await google.colab.output.renderOutput(dataTable, element);\n",
              "          const docLink = document.createElement('div');\n",
              "          docLink.innerHTML = docLinkHtml;\n",
              "          element.appendChild(docLink);\n",
              "        }\n",
              "      </script>\n",
              "    </div>\n",
              "  </div>\n",
              "  "
            ]
          },
          "metadata": {},
          "execution_count": 64
        }
      ]
    },
    {
      "cell_type": "markdown",
      "source": [
        "# Train & test split"
      ],
      "metadata": {
        "id": "tP5jxLlOztdQ"
      }
    },
    {
      "cell_type": "code",
      "source": [
        "X_train, X_test , y_train, y_test = train_test_split(raw_df['x_title_feature_encoding'],   raw_df[['cat_2']],  test_size=0.2,   random_state=123    )"
      ],
      "metadata": {
        "id": "B6PM9F-Jzxiq"
      },
      "execution_count": 80,
      "outputs": []
    },
    {
      "cell_type": "code",
      "source": [
        "X_train = X_train.to_list()\n",
        "X_test = X_test.to_list()"
      ],
      "metadata": {
        "id": "HKIWPIFuiHKV"
      },
      "execution_count": 81,
      "outputs": []
    },
    {
      "cell_type": "markdown",
      "source": [
        "# Classification"
      ],
      "metadata": {
        "id": "S1_8hki2bwc7"
      }
    },
    {
      "cell_type": "code",
      "source": [
        "from typing import Any, Optional\n",
        "\n",
        "import pandas as pd\n",
        "import numpy as np\n",
        "\n",
        "from sklearn.ensemble import RandomForestClassifier\n",
        "\n",
        "from sklearn.metrics import (\n",
        "    classification_report,\n",
        "    accuracy_score,\n",
        "    confusion_matrix,\n",
        "    ConfusionMatrixDisplay\n",
        ")\n",
        "import pickle\n",
        "\n",
        "from sklearn.experimental import enable_halving_search_cv\n",
        "from sklearn.model_selection import HalvingGridSearchCV"
      ],
      "metadata": {
        "id": "CtVijL_Ibxad"
      },
      "execution_count": 82,
      "outputs": []
    },
    {
      "cell_type": "code",
      "source": [
        "clf = RandomForestClassifier(n_estimators=100)\n",
        "clf.fit(X_train, y_train)"
      ],
      "metadata": {
        "colab": {
          "base_uri": "https://localhost:8080/",
          "height": 130
        },
        "id": "w4MnkHwFbxz5",
        "outputId": "5f8c96f7-60a7-4122-9e78-a6a5089f8aec"
      },
      "execution_count": 83,
      "outputs": [
        {
          "output_type": "stream",
          "name": "stderr",
          "text": [
            "<ipython-input-83-549420f83866>:2: DataConversionWarning: A column-vector y was passed when a 1d array was expected. Please change the shape of y to (n_samples,), for example using ravel().\n",
            "  clf.fit(X_train, y_train)\n"
          ]
        },
        {
          "output_type": "execute_result",
          "data": {
            "text/plain": [
              "RandomForestClassifier()"
            ],
            "text/html": [
              "<style>#sk-container-id-2 {color: black;background-color: white;}#sk-container-id-2 pre{padding: 0;}#sk-container-id-2 div.sk-toggleable {background-color: white;}#sk-container-id-2 label.sk-toggleable__label {cursor: pointer;display: block;width: 100%;margin-bottom: 0;padding: 0.3em;box-sizing: border-box;text-align: center;}#sk-container-id-2 label.sk-toggleable__label-arrow:before {content: \"▸\";float: left;margin-right: 0.25em;color: #696969;}#sk-container-id-2 label.sk-toggleable__label-arrow:hover:before {color: black;}#sk-container-id-2 div.sk-estimator:hover label.sk-toggleable__label-arrow:before {color: black;}#sk-container-id-2 div.sk-toggleable__content {max-height: 0;max-width: 0;overflow: hidden;text-align: left;background-color: #f0f8ff;}#sk-container-id-2 div.sk-toggleable__content pre {margin: 0.2em;color: black;border-radius: 0.25em;background-color: #f0f8ff;}#sk-container-id-2 input.sk-toggleable__control:checked~div.sk-toggleable__content {max-height: 200px;max-width: 100%;overflow: auto;}#sk-container-id-2 input.sk-toggleable__control:checked~label.sk-toggleable__label-arrow:before {content: \"▾\";}#sk-container-id-2 div.sk-estimator input.sk-toggleable__control:checked~label.sk-toggleable__label {background-color: #d4ebff;}#sk-container-id-2 div.sk-label input.sk-toggleable__control:checked~label.sk-toggleable__label {background-color: #d4ebff;}#sk-container-id-2 input.sk-hidden--visually {border: 0;clip: rect(1px 1px 1px 1px);clip: rect(1px, 1px, 1px, 1px);height: 1px;margin: -1px;overflow: hidden;padding: 0;position: absolute;width: 1px;}#sk-container-id-2 div.sk-estimator {font-family: monospace;background-color: #f0f8ff;border: 1px dotted black;border-radius: 0.25em;box-sizing: border-box;margin-bottom: 0.5em;}#sk-container-id-2 div.sk-estimator:hover {background-color: #d4ebff;}#sk-container-id-2 div.sk-parallel-item::after {content: \"\";width: 100%;border-bottom: 1px solid gray;flex-grow: 1;}#sk-container-id-2 div.sk-label:hover label.sk-toggleable__label {background-color: #d4ebff;}#sk-container-id-2 div.sk-serial::before {content: \"\";position: absolute;border-left: 1px solid gray;box-sizing: border-box;top: 0;bottom: 0;left: 50%;z-index: 0;}#sk-container-id-2 div.sk-serial {display: flex;flex-direction: column;align-items: center;background-color: white;padding-right: 0.2em;padding-left: 0.2em;position: relative;}#sk-container-id-2 div.sk-item {position: relative;z-index: 1;}#sk-container-id-2 div.sk-parallel {display: flex;align-items: stretch;justify-content: center;background-color: white;position: relative;}#sk-container-id-2 div.sk-item::before, #sk-container-id-2 div.sk-parallel-item::before {content: \"\";position: absolute;border-left: 1px solid gray;box-sizing: border-box;top: 0;bottom: 0;left: 50%;z-index: -1;}#sk-container-id-2 div.sk-parallel-item {display: flex;flex-direction: column;z-index: 1;position: relative;background-color: white;}#sk-container-id-2 div.sk-parallel-item:first-child::after {align-self: flex-end;width: 50%;}#sk-container-id-2 div.sk-parallel-item:last-child::after {align-self: flex-start;width: 50%;}#sk-container-id-2 div.sk-parallel-item:only-child::after {width: 0;}#sk-container-id-2 div.sk-dashed-wrapped {border: 1px dashed gray;margin: 0 0.4em 0.5em 0.4em;box-sizing: border-box;padding-bottom: 0.4em;background-color: white;}#sk-container-id-2 div.sk-label label {font-family: monospace;font-weight: bold;display: inline-block;line-height: 1.2em;}#sk-container-id-2 div.sk-label-container {text-align: center;}#sk-container-id-2 div.sk-container {/* jupyter's `normalize.less` sets `[hidden] { display: none; }` but bootstrap.min.css set `[hidden] { display: none !important; }` so we also need the `!important` here to be able to override the default hidden behavior on the sphinx rendered scikit-learn.org. See: https://github.com/scikit-learn/scikit-learn/issues/21755 */display: inline-block !important;position: relative;}#sk-container-id-2 div.sk-text-repr-fallback {display: none;}</style><div id=\"sk-container-id-2\" class=\"sk-top-container\"><div class=\"sk-text-repr-fallback\"><pre>RandomForestClassifier()</pre><b>In a Jupyter environment, please rerun this cell to show the HTML representation or trust the notebook. <br />On GitHub, the HTML representation is unable to render, please try loading this page with nbviewer.org.</b></div><div class=\"sk-container\" hidden><div class=\"sk-item\"><div class=\"sk-estimator sk-toggleable\"><input class=\"sk-toggleable__control sk-hidden--visually\" id=\"sk-estimator-id-2\" type=\"checkbox\" checked><label for=\"sk-estimator-id-2\" class=\"sk-toggleable__label sk-toggleable__label-arrow\">RandomForestClassifier</label><div class=\"sk-toggleable__content\"><pre>RandomForestClassifier()</pre></div></div></div></div></div>"
            ]
          },
          "metadata": {},
          "execution_count": 83
        }
      ]
    },
    {
      "cell_type": "code",
      "source": [
        "preds = clf.predict(X_test)"
      ],
      "metadata": {
        "id": "vq1FdlaAb7ha"
      },
      "execution_count": 84,
      "outputs": []
    },
    {
      "cell_type": "code",
      "source": [
        "from datetime import datetime\n",
        "start = datetime.utcnow()\n",
        "\n",
        "t = clf.predict([X_test[0]])\n",
        "\n",
        "date= datetime.utcnow() - start\n",
        "print(\"Number of days since epoch:\",date)\n",
        "seconds =(date.total_seconds())\n",
        "milliseconds = round(seconds*1000)\n",
        "print(\"Milliseconds since epoch:\",milliseconds)"
      ],
      "metadata": {
        "colab": {
          "base_uri": "https://localhost:8080/"
        },
        "id": "xd8o0hXhjh2W",
        "outputId": "0abf312a-5ccc-42cf-e3b3-ed9ec555ceec"
      },
      "execution_count": 92,
      "outputs": [
        {
          "output_type": "stream",
          "name": "stdout",
          "text": [
            "Number of days since epoch: 0:00:00.017530\n",
            "Milliseconds since epoch: 18\n"
          ]
        }
      ]
    },
    {
      "cell_type": "code",
      "source": [
        "probas = clf.predict_proba(X_test)"
      ],
      "metadata": {
        "id": "8YFHcQzLgBL5"
      },
      "execution_count": 93,
      "outputs": []
    },
    {
      "cell_type": "code",
      "source": [
        "report = classification_report(y_test, preds)\n",
        "print(report)"
      ],
      "metadata": {
        "colab": {
          "base_uri": "https://localhost:8080/"
        },
        "id": "sysB8B8DgL3n",
        "outputId": "a35cf183-7bea-445e-87ad-2b25ca2d5fbb"
      },
      "execution_count": 94,
      "outputs": [
        {
          "output_type": "stream",
          "name": "stdout",
          "text": [
            "                                             precision    recall  f1-score   support\n",
            "\n",
            "                         account management       0.00      0.00      0.00         8\n",
            "                                accountants       0.46      0.46      0.46        39\n",
            "                    accounts administrators       0.00      0.00      0.00         9\n",
            "                           accounts payable       0.22      0.25      0.24         8\n",
            "                        accounts receivable       0.00      0.00      0.00         4\n",
            "                             administration       0.35      0.67      0.46       135\n",
            "                                advertising       0.00      0.00      0.00         3\n",
            "                   air con. & refrigeration       0.67      0.57      0.62        21\n",
            "                                   analysts       1.00      0.14      0.25         7\n",
            "                                 architects       0.45      0.56      0.50         9\n",
            "                   assistant store managers       0.50      0.31      0.38        16\n",
            "                         au pairs & nannies       0.00      0.00      0.00         6\n",
            "                      automotive technician       0.52      0.53      0.52        30\n",
            "                       bar staff & baristas       0.68      0.36      0.47        42\n",
            "                                 beautician       1.00      0.20      0.33         5\n",
            "                              boat building       0.00      0.00      0.00         3\n",
            "                     boilermakers & welders       0.52      0.65      0.58        20\n",
            "                 brand & product management       0.00      0.00      0.00         5\n",
            "                       building & carpentry       0.32      0.67      0.43        88\n",
            "                          building services       0.00      0.00      0.00         6\n",
            "                business & systems analysts       0.55      0.69      0.61        39\n",
            "               business development manager       0.00      0.00      0.00         9\n",
            "                          butchers & bakers       0.62      0.33      0.43        15\n",
            "                                call centre       0.11      0.06      0.08        17\n",
            "                                 caregiving       0.60      0.48      0.54        60\n",
            "                         central government       0.60      0.19      0.29        16\n",
            "                                      chefs       0.58      0.91      0.71        54\n",
            "                         civil & structural       0.53      0.32      0.40        31\n",
            "                                   cleaning       0.65      0.71      0.68        31\n",
            "                            client services       0.00      0.00      0.00         3\n",
            "                 commercial sales & leasing       0.00      0.00      0.00         2\n",
            "                        communications & pr       0.83      0.42      0.56        12\n",
            "                community & social services       0.36      0.61      0.46        71\n",
            "                    consultancy & valuation       0.00      0.00      0.00         1\n",
            "          corporate & institutional banking       0.00      0.00      0.00         0\n",
            "                           credit & lending       0.00      0.00      0.00         2\n",
            "                            customer-facing       0.22      0.17      0.19        24\n",
            "                                 data entry       0.00      0.00      0.00         4\n",
            "                      data warehousing & bi       0.50      0.20      0.29         5\n",
            "                                   database       0.00      0.00      0.00         4\n",
            "                                  dentistry       0.93      0.72      0.81        18\n",
            "                        department managers       0.00      0.00      0.00        15\n",
            "                                     design       0.00      0.00      0.00         2\n",
            "                            diesel mechanic       0.64      0.53      0.58        17\n",
            "                          digital marketing       0.57      0.40      0.47        10\n",
            "                           direct marketing       0.00      0.00      0.00         1\n",
            "                      doctors & specialists       0.72      0.58      0.65        36\n",
            "                                   drafting       0.25      0.12      0.17         8\n",
            "                         drivers & couriers       0.57      0.88      0.69        90\n",
            "                       ea, pa & secretarial       0.00      0.00      0.00        13\n",
            "                            early childhood       0.52      0.77      0.62        62\n",
            "                                 electrical       0.69      0.45      0.55        40\n",
            "                                     energy       0.00      0.00      0.00         2\n",
            "                                 estimation       1.00      0.20      0.33         5\n",
            "             executive & general management       0.00      0.00      0.00         6\n",
            "facilities & commercial property management       0.00      0.00      0.00         4\n",
            "                                    farming       0.74      0.40      0.52        42\n",
            "             finance managers & controllers       0.67      0.20      0.31        10\n",
            "            financial planning & investment       0.00      0.00      0.00         5\n",
            "                                    fishing       0.50      0.17      0.25         6\n",
            "                        fitness & wellbeing       0.67      0.15      0.25        13\n",
            "                        fitters & machining       0.00      0.00      0.00        10\n",
            "                                   flooring       1.00      0.33      0.50         6\n",
            "                                   forestry       1.00      0.08      0.14        13\n",
            "                         freight forwarders       0.00      0.00      0.00         5\n",
            "                     functional consultants       0.00      0.00      0.00         2\n",
            "                    gardening & landscaping       0.64      0.50      0.56        18\n",
            "                               geotechnical       0.00      0.00      0.00         1\n",
            "                                   glaziers       1.00      0.20      0.33         5\n",
            "                               hairdressing       0.79      0.73      0.76        15\n",
            "                              handy-persons       1.00      0.17      0.29         6\n",
            "                            health & safety       0.67      0.50      0.57        12\n",
            "                               horticulture       0.67      0.21      0.32        29\n",
            "                               housekeeping       1.00      0.58      0.74        12\n",
            "                                         hr       0.64      0.30      0.41        23\n",
            "                            import & export       0.00      0.00      0.00         5\n",
            "                           in-house counsel       1.00      0.40      0.57         5\n",
            "                                 industrial       0.00      0.00      0.00         9\n",
            "                                  insurance       0.00      0.00      0.00         8\n",
            "                            interior design       0.00      0.00      0.00         1\n",
            "                              kitchen staff       0.55      0.37      0.44        30\n",
            "                                  labourers       0.30      0.39      0.34        54\n",
            "                                  labouring       0.15      0.12      0.13        67\n",
            "                   local & regional council       0.33      0.18      0.23        28\n",
            "                          machine operation       0.34      0.34      0.34        32\n",
            "                          machine operators       0.46      0.45      0.46        58\n",
            "                                maintenance       0.50      0.11      0.18        18\n",
            "                                 management       0.23      0.52      0.32       104\n",
            "                 market research & analysis       0.00      0.00      0.00         2\n",
            "        marketing assistants & coordinators       0.00      0.00      0.00         6\n",
            "                                 mechanical       0.09      0.12      0.11         8\n",
            "                              merchandising       0.87      0.68      0.76        19\n",
            "                       networking & storage       1.00      0.14      0.25         7\n",
            "                        nursing & midwifery       0.58      0.82      0.68        87\n",
            "                       occupational therapy       0.82      0.75      0.78        12\n",
            "                          office management       0.00      0.00      0.00         7\n",
            "                                 operations       0.33      0.07      0.12        14\n",
            "                                   painting       0.71      0.94      0.81        18\n",
            "                              panel & paint       0.85      0.55      0.67        20\n",
            "                                    payroll       0.67      0.57      0.62         7\n",
            "                                   pharmacy       0.86      0.50      0.63        12\n",
            "                                   planning       0.50      0.33      0.40         3\n",
            "                                   plumbing       0.61      0.78      0.68        18\n",
            "                                    primary       0.00      0.00      0.00         9\n",
            "                                   printing       0.00      0.00      0.00         4\n",
            "                           private practice       0.67      0.29      0.40         7\n",
            "                         process & assembly       0.45      0.40      0.43        62\n",
            "                  programming & development       0.37      0.61      0.46        41\n",
            "             project & contracts management       0.54      0.29      0.38        24\n",
            "                         project management       0.33      0.05      0.09        20\n",
            "                   psychology & counselling       0.65      0.42      0.51        26\n",
            "                     purchasing & inventory       0.00      0.00      0.00         4\n",
            "                          quality assurance       0.00      0.00      0.00         6\n",
            "                         quantity surveying       0.90      0.64      0.75        14\n",
            "                   radiography & sonography       1.00      0.40      0.57         5\n",
            "                                  reception       0.00      0.00      0.00        10\n",
            "                     reception & front desk       0.00      0.00      0.00         6\n",
            "                                recruitment       0.58      0.33      0.42        21\n",
            "             residential sales & management       1.00      0.50      0.67         8\n",
            "                          retail assistants       0.31      0.68      0.43       115\n",
            "                          risk & compliance       0.00      0.00      0.00         0\n",
            "                                    roofing       0.75      0.53      0.62        17\n",
            "                             sales managers       0.00      0.00      0.00         6\n",
            "                                 sales reps       0.40      0.26      0.32        23\n",
            "                              sales support       0.00      0.00      0.00         8\n",
            "                  sales, operations & parts       0.42      0.19      0.26        26\n",
            "                       science & technology       0.43      0.15      0.22        20\n",
            "                                  secondary       0.00      0.00      0.00         6\n",
            "                                secretarial       1.00      0.33      0.50         6\n",
            "                                   security       0.60      0.36      0.45        25\n",
            "                               service desk       0.11      0.08      0.10        12\n",
            "                               sign writers       0.00      0.00      0.00         3\n",
            "                            site management       0.33      0.18      0.24        11\n",
            "                             store managers       0.54      0.30      0.39        23\n",
            "                 storepersons & warehousing       0.00      0.00      0.00        49\n",
            "                  supervisors & forepersons       0.35      0.21      0.26        33\n",
            "                    supply chain & planning       0.00      0.00      0.00         4\n",
            "                                  surveying       0.00      0.00      0.00         6\n",
            "                          systems engineers       0.43      0.15      0.22        20\n",
            "                                technicians       0.22      0.36      0.27        28\n",
            "                         telecommunications       1.00      0.20      0.33         5\n",
            "                                  telesales       0.00      0.00      0.00        10\n",
            "                     tellers & branch staff       0.00      0.00      0.00         4\n",
            "                                   tertiary       0.00      0.00      0.00         8\n",
            "                                    testing       1.00      0.75      0.86         8\n",
            "                      tourism & tour guides       0.00      0.00      0.00         3\n",
            "                         traffic management       0.81      0.65      0.72        20\n",
            "                                   training       0.00      0.00      0.00         1\n",
            "                        tutoring & training       0.00      0.00      0.00         7\n",
            "                                 veterinary       0.00      0.00      0.00         8\n",
            "                              waiting staff       0.36      0.27      0.31        15\n",
            "                   warehouse & distribution       0.33      0.38      0.35        82\n",
            "                              water & waste       0.00      0.00      0.00         5\n",
            "                                 web design       0.00      0.00      0.00         9\n",
            "\n",
            "                                   accuracy                           0.43      2978\n",
            "                                  macro avg       0.37      0.25      0.27      2978\n",
            "                               weighted avg       0.44      0.43      0.40      2978\n",
            "\n"
          ]
        },
        {
          "output_type": "stream",
          "name": "stderr",
          "text": [
            "/usr/local/lib/python3.9/dist-packages/sklearn/metrics/_classification.py:1344: UndefinedMetricWarning: Precision and F-score are ill-defined and being set to 0.0 in labels with no predicted samples. Use `zero_division` parameter to control this behavior.\n",
            "  _warn_prf(average, modifier, msg_start, len(result))\n",
            "/usr/local/lib/python3.9/dist-packages/sklearn/metrics/_classification.py:1344: UndefinedMetricWarning: Recall and F-score are ill-defined and being set to 0.0 in labels with no true samples. Use `zero_division` parameter to control this behavior.\n",
            "  _warn_prf(average, modifier, msg_start, len(result))\n",
            "/usr/local/lib/python3.9/dist-packages/sklearn/metrics/_classification.py:1344: UndefinedMetricWarning: Precision and F-score are ill-defined and being set to 0.0 in labels with no predicted samples. Use `zero_division` parameter to control this behavior.\n",
            "  _warn_prf(average, modifier, msg_start, len(result))\n",
            "/usr/local/lib/python3.9/dist-packages/sklearn/metrics/_classification.py:1344: UndefinedMetricWarning: Recall and F-score are ill-defined and being set to 0.0 in labels with no true samples. Use `zero_division` parameter to control this behavior.\n",
            "  _warn_prf(average, modifier, msg_start, len(result))\n",
            "/usr/local/lib/python3.9/dist-packages/sklearn/metrics/_classification.py:1344: UndefinedMetricWarning: Precision and F-score are ill-defined and being set to 0.0 in labels with no predicted samples. Use `zero_division` parameter to control this behavior.\n",
            "  _warn_prf(average, modifier, msg_start, len(result))\n",
            "/usr/local/lib/python3.9/dist-packages/sklearn/metrics/_classification.py:1344: UndefinedMetricWarning: Recall and F-score are ill-defined and being set to 0.0 in labels with no true samples. Use `zero_division` parameter to control this behavior.\n",
            "  _warn_prf(average, modifier, msg_start, len(result))\n"
          ]
        }
      ]
    },
    {
      "cell_type": "code",
      "source": [],
      "metadata": {
        "id": "D3lR9Il1gS4e"
      },
      "execution_count": null,
      "outputs": []
    }
  ]
}