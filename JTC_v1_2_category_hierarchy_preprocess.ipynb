{
  "nbformat": 4,
  "nbformat_minor": 0,
  "metadata": {
    "colab": {
      "provenance": [],
      "authorship_tag": "ABX9TyOHCWWSfk9okKGXKpGn5qMA",
      "include_colab_link": true
    },
    "kernelspec": {
      "name": "python3",
      "display_name": "Python 3"
    },
    "language_info": {
      "name": "python"
    },
    "gpuClass": "standard"
  },
  "cells": [
    {
      "cell_type": "markdown",
      "metadata": {
        "id": "view-in-github",
        "colab_type": "text"
      },
      "source": [
        "<a href=\"https://colab.research.google.com/github/felixzhao/title_catgories_classification/blob/main/JTC_v1_2_category_hierarchy_preprocess.ipynb\" target=\"_parent\"><img src=\"https://colab.research.google.com/assets/colab-badge.svg\" alt=\"Open In Colab\"/></a>"
      ]
    },
    {
      "cell_type": "markdown",
      "source": [
        "# load packages"
      ],
      "metadata": {
        "id": "D4_k8TOxi70W"
      }
    },
    {
      "cell_type": "code",
      "execution_count": 7,
      "metadata": {
        "id": "x8kgHpZQ85G4"
      },
      "outputs": [],
      "source": [
        "import pandas as pd\n",
        "import json\n",
        "import pickle"
      ]
    },
    {
      "cell_type": "markdown",
      "source": [
        "load data\n",
        "This work loads data from google drive. Please put the files into \"trademe_data\" folder under the root of google drive.\n",
        "\n",
        "Then run the following code to mount the google drive in colab.\n",
        "\n",
        "You can follow the guide. https://towardsdatascience.com/different-ways-to-connect-google-drive-to-a-google-colab-notebook-pt-1-de03433d2f7a"
      ],
      "metadata": {
        "id": "1aW75fGu9Fgh"
      }
    },
    {
      "cell_type": "code",
      "source": [
        "from google.colab import drive\n",
        "drive.mount('/content/drive')\n",
        "root_path = \"drive/MyDrive/trademe_data/\""
      ],
      "metadata": {
        "colab": {
          "base_uri": "https://localhost:8080/"
        },
        "id": "yriR5_n99F7Z",
        "outputId": "9ae41105-1b1d-4bb7-e872-0550c084a714"
      },
      "execution_count": 2,
      "outputs": [
        {
          "output_type": "stream",
          "name": "stdout",
          "text": [
            "Mounted at /content/drive\n"
          ]
        }
      ]
    },
    {
      "cell_type": "markdown",
      "source": [
        "# load  data"
      ],
      "metadata": {
        "id": "6XjRHu5N9T46"
      }
    },
    {
      "cell_type": "code",
      "source": [
        "cat_raw = pd.read_csv(f\"{root_path}categories.csv\")\n",
        "cat_raw.head(1)"
      ],
      "metadata": {
        "id": "KyWXpSNUjZP0",
        "colab": {
          "base_uri": "https://localhost:8080/",
          "height": 81
        },
        "outputId": "358e7150-af22-4862-cbe0-f4811e780d3a"
      },
      "execution_count": 3,
      "outputs": [
        {
          "output_type": "execute_result",
          "data": {
            "text/plain": [
              "   y_cat_id                   cat_1            cat_2            cat_3\n",
              "0      4957  construction & roading  health & safety  health & safety"
            ],
            "text/html": [
              "\n",
              "  <div id=\"df-51a264ce-6a6a-42db-87a5-2553cd7a4b9a\">\n",
              "    <div class=\"colab-df-container\">\n",
              "      <div>\n",
              "<style scoped>\n",
              "    .dataframe tbody tr th:only-of-type {\n",
              "        vertical-align: middle;\n",
              "    }\n",
              "\n",
              "    .dataframe tbody tr th {\n",
              "        vertical-align: top;\n",
              "    }\n",
              "\n",
              "    .dataframe thead th {\n",
              "        text-align: right;\n",
              "    }\n",
              "</style>\n",
              "<table border=\"1\" class=\"dataframe\">\n",
              "  <thead>\n",
              "    <tr style=\"text-align: right;\">\n",
              "      <th></th>\n",
              "      <th>y_cat_id</th>\n",
              "      <th>cat_1</th>\n",
              "      <th>cat_2</th>\n",
              "      <th>cat_3</th>\n",
              "    </tr>\n",
              "  </thead>\n",
              "  <tbody>\n",
              "    <tr>\n",
              "      <th>0</th>\n",
              "      <td>4957</td>\n",
              "      <td>construction &amp; roading</td>\n",
              "      <td>health &amp; safety</td>\n",
              "      <td>health &amp; safety</td>\n",
              "    </tr>\n",
              "  </tbody>\n",
              "</table>\n",
              "</div>\n",
              "      <button class=\"colab-df-convert\" onclick=\"convertToInteractive('df-51a264ce-6a6a-42db-87a5-2553cd7a4b9a')\"\n",
              "              title=\"Convert this dataframe to an interactive table.\"\n",
              "              style=\"display:none;\">\n",
              "        \n",
              "  <svg xmlns=\"http://www.w3.org/2000/svg\" height=\"24px\"viewBox=\"0 0 24 24\"\n",
              "       width=\"24px\">\n",
              "    <path d=\"M0 0h24v24H0V0z\" fill=\"none\"/>\n",
              "    <path d=\"M18.56 5.44l.94 2.06.94-2.06 2.06-.94-2.06-.94-.94-2.06-.94 2.06-2.06.94zm-11 1L8.5 8.5l.94-2.06 2.06-.94-2.06-.94L8.5 2.5l-.94 2.06-2.06.94zm10 10l.94 2.06.94-2.06 2.06-.94-2.06-.94-.94-2.06-.94 2.06-2.06.94z\"/><path d=\"M17.41 7.96l-1.37-1.37c-.4-.4-.92-.59-1.43-.59-.52 0-1.04.2-1.43.59L10.3 9.45l-7.72 7.72c-.78.78-.78 2.05 0 2.83L4 21.41c.39.39.9.59 1.41.59.51 0 1.02-.2 1.41-.59l7.78-7.78 2.81-2.81c.8-.78.8-2.07 0-2.86zM5.41 20L4 18.59l7.72-7.72 1.47 1.35L5.41 20z\"/>\n",
              "  </svg>\n",
              "      </button>\n",
              "      \n",
              "  <style>\n",
              "    .colab-df-container {\n",
              "      display:flex;\n",
              "      flex-wrap:wrap;\n",
              "      gap: 12px;\n",
              "    }\n",
              "\n",
              "    .colab-df-convert {\n",
              "      background-color: #E8F0FE;\n",
              "      border: none;\n",
              "      border-radius: 50%;\n",
              "      cursor: pointer;\n",
              "      display: none;\n",
              "      fill: #1967D2;\n",
              "      height: 32px;\n",
              "      padding: 0 0 0 0;\n",
              "      width: 32px;\n",
              "    }\n",
              "\n",
              "    .colab-df-convert:hover {\n",
              "      background-color: #E2EBFA;\n",
              "      box-shadow: 0px 1px 2px rgba(60, 64, 67, 0.3), 0px 1px 3px 1px rgba(60, 64, 67, 0.15);\n",
              "      fill: #174EA6;\n",
              "    }\n",
              "\n",
              "    [theme=dark] .colab-df-convert {\n",
              "      background-color: #3B4455;\n",
              "      fill: #D2E3FC;\n",
              "    }\n",
              "\n",
              "    [theme=dark] .colab-df-convert:hover {\n",
              "      background-color: #434B5C;\n",
              "      box-shadow: 0px 1px 3px 1px rgba(0, 0, 0, 0.15);\n",
              "      filter: drop-shadow(0px 1px 2px rgba(0, 0, 0, 0.3));\n",
              "      fill: #FFFFFF;\n",
              "    }\n",
              "  </style>\n",
              "\n",
              "      <script>\n",
              "        const buttonEl =\n",
              "          document.querySelector('#df-51a264ce-6a6a-42db-87a5-2553cd7a4b9a button.colab-df-convert');\n",
              "        buttonEl.style.display =\n",
              "          google.colab.kernel.accessAllowed ? 'block' : 'none';\n",
              "\n",
              "        async function convertToInteractive(key) {\n",
              "          const element = document.querySelector('#df-51a264ce-6a6a-42db-87a5-2553cd7a4b9a');\n",
              "          const dataTable =\n",
              "            await google.colab.kernel.invokeFunction('convertToInteractive',\n",
              "                                                     [key], {});\n",
              "          if (!dataTable) return;\n",
              "\n",
              "          const docLinkHtml = 'Like what you see? Visit the ' +\n",
              "            '<a target=\"_blank\" href=https://colab.research.google.com/notebooks/data_table.ipynb>data table notebook</a>'\n",
              "            + ' to learn more about interactive tables.';\n",
              "          element.innerHTML = '';\n",
              "          dataTable['output_type'] = 'display_data';\n",
              "          await google.colab.output.renderOutput(dataTable, element);\n",
              "          const docLink = document.createElement('div');\n",
              "          docLink.innerHTML = docLinkHtml;\n",
              "          element.appendChild(docLink);\n",
              "        }\n",
              "      </script>\n",
              "    </div>\n",
              "  </div>\n",
              "  "
            ]
          },
          "metadata": {},
          "execution_count": 3
        }
      ]
    },
    {
      "cell_type": "markdown",
      "source": [
        "# get level 3 hierarchy"
      ],
      "metadata": {
        "id": "9Lp8wyls0Fxa"
      }
    },
    {
      "cell_type": "code",
      "source": [
        "c3_dict = {}\n",
        "\n",
        "c3_grouped = cat_raw.groupby(['cat_2', 'cat_1'])\n",
        "\n",
        "for name, group in c3_grouped:\n",
        "    # print(name)\n",
        "    # print(group)\n",
        "    # if len(group) > 1:\n",
        "    #     print(name[0])\n",
        "    #     print(group.cat_3.to_list())\n",
        "    if len(group) > 1:\n",
        "        c3_dict[name[0]] = group.cat_3.to_list()\n",
        "\n",
        "c3_dict"
      ],
      "metadata": {
        "colab": {
          "base_uri": "https://localhost:8080/"
        },
        "id": "pdH3EbJH0IC1",
        "outputId": "d7385a21-c9b5-4476-a568-0c099d187dde"
      },
      "execution_count": 5,
      "outputs": [
        {
          "output_type": "execute_result",
          "data": {
            "text/plain": [
              "{'accountants': ['business advisory services',\n",
              "  'assistant accountants',\n",
              "  'audit',\n",
              "  'financial accounting & reporting',\n",
              "  'general / ca',\n",
              "  'management accountants',\n",
              "  'tax'],\n",
              " 'drivers & couriers': ['couriers', 'truck ht'],\n",
              " 'nursing & midwifery': ['community & primary care',\n",
              "  'critical care & emergency',\n",
              "  'medical',\n",
              "  'mental health',\n",
              "  'paediatrics',\n",
              "  'surgical',\n",
              "  'theatre & recovery',\n",
              "  'women’s health']}"
            ]
          },
          "metadata": {},
          "execution_count": 5
        }
      ]
    },
    {
      "cell_type": "code",
      "source": [
        "c1_dict = {}\n",
        "\n",
        "c1_grouped = cat_raw.groupby(['cat_2', 'cat_3'])\n",
        "\n",
        "for name, group in c1_grouped:\n",
        "    if len(group) > 1:\n",
        "        c1_dict[name[0]] = group.cat_1.to_list()\n",
        "\n",
        "c1_dict"
      ],
      "metadata": {
        "colab": {
          "base_uri": "https://localhost:8080/"
        },
        "id": "qHvo_AOD0LWz",
        "outputId": "c8595ffc-6068-4836-c447-98c7f947ab81"
      },
      "execution_count": 6,
      "outputs": [
        {
          "output_type": "execute_result",
          "data": {
            "text/plain": [
              "{'administration': ['healthcare', 'office & administration'],\n",
              " 'analysts': ['banking, finance & insurance', 'accounting'],\n",
              " 'architects': ['architecture', 'it'],\n",
              " 'drafting': ['architecture', 'engineering'],\n",
              " 'electrical': ['engineering', 'trades & services'],\n",
              " 'health & safety': ['construction & roading', 'hr & recruitment'],\n",
              " 'management': ['automotive',\n",
              "  'accounting',\n",
              "  'banking, finance & insurance',\n",
              "  'customer service',\n",
              "  'engineering',\n",
              "  'transport & logistics',\n",
              "  'healthcare',\n",
              "  'hospitality & tourism',\n",
              "  'it',\n",
              "  'manufacturing & operations',\n",
              "  'marketing, media & communications',\n",
              "  'retail'],\n",
              " 'project management': ['engineering', 'it'],\n",
              " 'security': ['trades & services', 'it'],\n",
              " 'supervisors & forepersons': ['construction & roading',\n",
              "  'manufacturing & operations']}"
            ]
          },
          "metadata": {},
          "execution_count": 6
        }
      ]
    },
    {
      "cell_type": "markdown",
      "source": [
        "# Save to file"
      ],
      "metadata": {
        "id": "wbxyzqyK00X_"
      }
    },
    {
      "cell_type": "code",
      "source": [
        "def write_to_file(file_name, dict_to_save):\n",
        "    with open(file_name, \"w\") as file:\n",
        "        json.dump(dict_to_save, file, indent=4)  "
      ],
      "metadata": {
        "id": "pgmVOY-e0UTD"
      },
      "execution_count": 9,
      "outputs": []
    },
    {
      "cell_type": "code",
      "source": [
        "write_to_file(f\"{root_path}c3_dict.json\", c3_dict)"
      ],
      "metadata": {
        "id": "LbiJ1MbT1XG3"
      },
      "execution_count": 10,
      "outputs": []
    },
    {
      "cell_type": "code",
      "source": [
        "write_to_file(f\"{root_path}c1_dict.json\", c1_dict)"
      ],
      "metadata": {
        "id": "Fn16tMrQ1kvi"
      },
      "execution_count": 11,
      "outputs": []
    },
    {
      "cell_type": "code",
      "source": [],
      "metadata": {
        "id": "KTnx5uMR1xZv"
      },
      "execution_count": null,
      "outputs": []
    }
  ]
}