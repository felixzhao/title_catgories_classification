{
  "nbformat": 4,
  "nbformat_minor": 0,
  "metadata": {
    "colab": {
      "provenance": [],
      "collapsed_sections": [
        "tKZLvYaCiy6i",
        "D4_k8TOxi70W",
        "6XjRHu5N9T46"
      ],
      "authorship_tag": "ABX9TyPdqhmpjBJQpteI/YoTUvVX",
      "include_colab_link": true
    },
    "kernelspec": {
      "name": "python3",
      "display_name": "Python 3"
    },
    "language_info": {
      "name": "python"
    }
  },
  "cells": [
    {
      "cell_type": "markdown",
      "metadata": {
        "id": "view-in-github",
        "colab_type": "text"
      },
      "source": [
        "<a href=\"https://colab.research.google.com/github/felixzhao/title_catgories_classification/blob/main/Job_title_classification_V3_3_level_2_categories_hierarchy_embedding_cossim_model_implementation.ipynb\" target=\"_parent\"><img src=\"https://colab.research.google.com/assets/colab-badge.svg\" alt=\"Open In Colab\"/></a>"
      ]
    },
    {
      "cell_type": "code",
      "execution_count": null,
      "metadata": {
        "id": "keb4NRKQod3E"
      },
      "outputs": [],
      "source": []
    },
    {
      "cell_type": "markdown",
      "source": [
        "# install dependency"
      ],
      "metadata": {
        "id": "tKZLvYaCiy6i"
      }
    },
    {
      "cell_type": "code",
      "execution_count": null,
      "metadata": {
        "colab": {
          "base_uri": "https://localhost:8080/"
        },
        "id": "IL9AjlvPNbzQ",
        "outputId": "7d1ad861-e8b5-4a47-aa74-a04c2aee1f39"
      },
      "outputs": [
        {
          "output_type": "stream",
          "name": "stdout",
          "text": [
            "Looking in indexes: https://pypi.org/simple, https://us-python.pkg.dev/colab-wheels/public/simple/\n",
            "Collecting sentence-transformers\n",
            "  Downloading sentence-transformers-2.2.2.tar.gz (85 kB)\n",
            "\u001b[2K     \u001b[90m━━━━━━━━━━━━━━━━━━━━━━━━━━━━━━━━━━━━━━━━\u001b[0m \u001b[32m86.0/86.0 KB\u001b[0m \u001b[31m1.6 MB/s\u001b[0m eta \u001b[36m0:00:00\u001b[0m\n",
            "\u001b[?25h  Preparing metadata (setup.py) ... \u001b[?25l\u001b[?25hdone\n",
            "Collecting transformers<5.0.0,>=4.6.0\n",
            "  Downloading transformers-4.26.1-py3-none-any.whl (6.3 MB)\n",
            "\u001b[2K     \u001b[90m━━━━━━━━━━━━━━━━━━━━━━━━━━━━━━━━━━━━━━━━\u001b[0m \u001b[32m6.3/6.3 MB\u001b[0m \u001b[31m16.0 MB/s\u001b[0m eta \u001b[36m0:00:00\u001b[0m\n",
            "\u001b[?25hRequirement already satisfied: tqdm in /usr/local/lib/python3.9/dist-packages (from sentence-transformers) (4.65.0)\n",
            "Requirement already satisfied: torch>=1.6.0 in /usr/local/lib/python3.9/dist-packages (from sentence-transformers) (1.13.1+cu116)\n",
            "Requirement already satisfied: torchvision in /usr/local/lib/python3.9/dist-packages (from sentence-transformers) (0.14.1+cu116)\n",
            "Requirement already satisfied: numpy in /usr/local/lib/python3.9/dist-packages (from sentence-transformers) (1.22.4)\n",
            "Requirement already satisfied: scikit-learn in /usr/local/lib/python3.9/dist-packages (from sentence-transformers) (1.2.1)\n",
            "Requirement already satisfied: scipy in /usr/local/lib/python3.9/dist-packages (from sentence-transformers) (1.10.1)\n",
            "Requirement already satisfied: nltk in /usr/local/lib/python3.9/dist-packages (from sentence-transformers) (3.7)\n",
            "Collecting sentencepiece\n",
            "  Downloading sentencepiece-0.1.97-cp39-cp39-manylinux_2_17_x86_64.manylinux2014_x86_64.whl (1.3 MB)\n",
            "\u001b[2K     \u001b[90m━━━━━━━━━━━━━━━━━━━━━━━━━━━━━━━━━━━━━━━━\u001b[0m \u001b[32m1.3/1.3 MB\u001b[0m \u001b[31m15.5 MB/s\u001b[0m eta \u001b[36m0:00:00\u001b[0m\n",
            "\u001b[?25hCollecting huggingface-hub>=0.4.0\n",
            "  Downloading huggingface_hub-0.13.0-py3-none-any.whl (199 kB)\n",
            "\u001b[2K     \u001b[90m━━━━━━━━━━━━━━━━━━━━━━━━━━━━━━━━━━━━━━\u001b[0m \u001b[32m199.1/199.1 KB\u001b[0m \u001b[31m14.2 MB/s\u001b[0m eta \u001b[36m0:00:00\u001b[0m\n",
            "\u001b[?25hRequirement already satisfied: pyyaml>=5.1 in /usr/local/lib/python3.9/dist-packages (from huggingface-hub>=0.4.0->sentence-transformers) (6.0)\n",
            "Requirement already satisfied: requests in /usr/local/lib/python3.9/dist-packages (from huggingface-hub>=0.4.0->sentence-transformers) (2.25.1)\n",
            "Requirement already satisfied: typing-extensions>=3.7.4.3 in /usr/local/lib/python3.9/dist-packages (from huggingface-hub>=0.4.0->sentence-transformers) (4.5.0)\n",
            "Requirement already satisfied: packaging>=20.9 in /usr/local/lib/python3.9/dist-packages (from huggingface-hub>=0.4.0->sentence-transformers) (23.0)\n",
            "Requirement already satisfied: filelock in /usr/local/lib/python3.9/dist-packages (from huggingface-hub>=0.4.0->sentence-transformers) (3.9.0)\n",
            "Collecting tokenizers!=0.11.3,<0.14,>=0.11.1\n",
            "  Downloading tokenizers-0.13.2-cp39-cp39-manylinux_2_17_x86_64.manylinux2014_x86_64.whl (7.6 MB)\n",
            "\u001b[2K     \u001b[90m━━━━━━━━━━━━━━━━━━━━━━━━━━━━━━━━━━━━━━━━\u001b[0m \u001b[32m7.6/7.6 MB\u001b[0m \u001b[31m44.5 MB/s\u001b[0m eta \u001b[36m0:00:00\u001b[0m\n",
            "\u001b[?25hRequirement already satisfied: regex!=2019.12.17 in /usr/local/lib/python3.9/dist-packages (from transformers<5.0.0,>=4.6.0->sentence-transformers) (2022.6.2)\n",
            "Requirement already satisfied: joblib in /usr/local/lib/python3.9/dist-packages (from nltk->sentence-transformers) (1.2.0)\n",
            "Requirement already satisfied: click in /usr/local/lib/python3.9/dist-packages (from nltk->sentence-transformers) (8.1.3)\n",
            "Requirement already satisfied: threadpoolctl>=2.0.0 in /usr/local/lib/python3.9/dist-packages (from scikit-learn->sentence-transformers) (3.1.0)\n",
            "Requirement already satisfied: pillow!=8.3.*,>=5.3.0 in /usr/local/lib/python3.9/dist-packages (from torchvision->sentence-transformers) (8.4.0)\n",
            "Requirement already satisfied: certifi>=2017.4.17 in /usr/local/lib/python3.9/dist-packages (from requests->huggingface-hub>=0.4.0->sentence-transformers) (2022.12.7)\n",
            "Requirement already satisfied: chardet<5,>=3.0.2 in /usr/local/lib/python3.9/dist-packages (from requests->huggingface-hub>=0.4.0->sentence-transformers) (4.0.0)\n",
            "Requirement already satisfied: idna<3,>=2.5 in /usr/local/lib/python3.9/dist-packages (from requests->huggingface-hub>=0.4.0->sentence-transformers) (2.10)\n",
            "Requirement already satisfied: urllib3<1.27,>=1.21.1 in /usr/local/lib/python3.9/dist-packages (from requests->huggingface-hub>=0.4.0->sentence-transformers) (1.26.14)\n",
            "Building wheels for collected packages: sentence-transformers\n",
            "  Building wheel for sentence-transformers (setup.py) ... \u001b[?25l\u001b[?25hdone\n",
            "  Created wheel for sentence-transformers: filename=sentence_transformers-2.2.2-py3-none-any.whl size=125938 sha256=7125e6ae0a2b4666a01dc86b9a8044b0b3980f0adc19a798a8294c43430fd39a\n",
            "  Stored in directory: /root/.cache/pip/wheels/71/67/06/162a3760c40d74dd40bc855d527008d26341c2b0ecf3e8e11f\n",
            "Successfully built sentence-transformers\n",
            "Installing collected packages: tokenizers, sentencepiece, huggingface-hub, transformers, sentence-transformers\n",
            "Successfully installed huggingface-hub-0.13.0 sentence-transformers-2.2.2 sentencepiece-0.1.97 tokenizers-0.13.2 transformers-4.26.1\n"
          ]
        }
      ],
      "source": [
        "! pip install sentence-transformers\n"
      ]
    },
    {
      "cell_type": "markdown",
      "source": [
        "# load packages"
      ],
      "metadata": {
        "id": "D4_k8TOxi70W"
      }
    },
    {
      "cell_type": "code",
      "execution_count": null,
      "metadata": {
        "id": "x8kgHpZQ85G4"
      },
      "outputs": [],
      "source": [
        "import pandas as pd\n",
        "import matplotlib.pyplot as plt\n",
        "\n",
        "from collections import defaultdict\n",
        "import json"
      ]
    },
    {
      "cell_type": "code",
      "source": [
        "from sklearn.model_selection import train_test_split\n",
        "from sklearn.feature_extraction.text import CountVectorizer, TfidfVectorizer\n",
        "\n",
        "from sklearn.ensemble import RandomForestClassifier\n",
        "from sklearn.metrics import confusion_matrix,classification_report\n",
        "\n",
        "from sentence_transformers import SentenceTransformer, util\n",
        "from sklearn import metrics"
      ],
      "metadata": {
        "id": "A1MOksIe9C8O"
      },
      "execution_count": null,
      "outputs": []
    },
    {
      "cell_type": "markdown",
      "source": [
        "load data\n",
        "This work loads data from google drive. Please put the files into \"trademe_data\" folder under the root of google drive.\n",
        "\n",
        "Then run the following code to mount the google drive in colab.\n",
        "\n",
        "You can follow the guide. https://towardsdatascience.com/different-ways-to-connect-google-drive-to-a-google-colab-notebook-pt-1-de03433d2f7a"
      ],
      "metadata": {
        "id": "1aW75fGu9Fgh"
      }
    },
    {
      "cell_type": "code",
      "source": [
        "from google.colab import drive\n",
        "drive.mount('/content/drive')\n",
        "root_path = \"drive/MyDrive/trademe_data/\""
      ],
      "metadata": {
        "colab": {
          "base_uri": "https://localhost:8080/"
        },
        "id": "yriR5_n99F7Z",
        "outputId": "773e4984-4156-4c55-a3b2-8cb5933fe446"
      },
      "execution_count": null,
      "outputs": [
        {
          "output_type": "stream",
          "name": "stdout",
          "text": [
            "Mounted at /content/drive\n"
          ]
        }
      ]
    },
    {
      "cell_type": "markdown",
      "source": [
        "# load  data"
      ],
      "metadata": {
        "id": "6XjRHu5N9T46"
      }
    },
    {
      "cell_type": "code",
      "source": [
        "raw_path = f\"{root_path}raw.csv\"\n",
        "unique_categories_path = f\"{root_path}level2_unique_categories_mapping.txt\"\n",
        "level_2_mapping_level_1_categories_path = f\"{root_path}level2_to_level1_categories_mapping.txt\"\n",
        "level_2_mapping_level_3_categories_path = f\"{root_path}level2_to_level3_categories_mapping.txt\""
      ],
      "metadata": {
        "id": "KyWXpSNUjZP0"
      },
      "execution_count": null,
      "outputs": []
    },
    {
      "cell_type": "code",
      "source": [
        "raw_df = pd.read_csv(raw_path)\n",
        "raw_df.head()"
      ],
      "metadata": {
        "colab": {
          "base_uri": "https://localhost:8080/"
        },
        "id": "IUDMyMvG9JKr",
        "outputId": "6b62fa4e-1250-4dbc-a09f-d9b1956d25a6"
      },
      "execution_count": null,
      "outputs": [
        {
          "output_type": "execute_result",
          "data": {
            "text/plain": [
              "   Unnamed: 0                                          x_title  y_cat_id  \\\n",
              "0           0                     unqualified asbestos remover      5192   \n",
              "1           1                              senior test analyst      5123   \n",
              "2           2                         ict trainer / supervisor      6894   \n",
              "3           3  automotive specialists *multi faceted position*      5197   \n",
              "4           4                                 business analyst      5114   \n",
              "\n",
              "               cat_1                        cat_2  \\\n",
              "0  trades & services                    labourers   \n",
              "1                 it                      testing   \n",
              "2          education          tutoring & training   \n",
              "3  trades & services                  technicians   \n",
              "4                 it  business & systems analysts   \n",
              "\n",
              "                         cat_3                                x_title_feature  \n",
              "0                    labourers                   unqualified asbestos remover  \n",
              "1                      testing                            senior test analyst  \n",
              "2          tutoring & training                         ict trainer supervisor  \n",
              "3                  technicians  automotive specialists multi faceted position  \n",
              "4  business & systems analysts                               business analyst  "
            ],
            "text/html": [
              "\n",
              "  <div id=\"df-2effa5c8-7336-457c-95da-553b297452c5\">\n",
              "    <div class=\"colab-df-container\">\n",
              "      <div>\n",
              "<style scoped>\n",
              "    .dataframe tbody tr th:only-of-type {\n",
              "        vertical-align: middle;\n",
              "    }\n",
              "\n",
              "    .dataframe tbody tr th {\n",
              "        vertical-align: top;\n",
              "    }\n",
              "\n",
              "    .dataframe thead th {\n",
              "        text-align: right;\n",
              "    }\n",
              "</style>\n",
              "<table border=\"1\" class=\"dataframe\">\n",
              "  <thead>\n",
              "    <tr style=\"text-align: right;\">\n",
              "      <th></th>\n",
              "      <th>Unnamed: 0</th>\n",
              "      <th>x_title</th>\n",
              "      <th>y_cat_id</th>\n",
              "      <th>cat_1</th>\n",
              "      <th>cat_2</th>\n",
              "      <th>cat_3</th>\n",
              "      <th>x_title_feature</th>\n",
              "    </tr>\n",
              "  </thead>\n",
              "  <tbody>\n",
              "    <tr>\n",
              "      <th>0</th>\n",
              "      <td>0</td>\n",
              "      <td>unqualified asbestos remover</td>\n",
              "      <td>5192</td>\n",
              "      <td>trades &amp; services</td>\n",
              "      <td>labourers</td>\n",
              "      <td>labourers</td>\n",
              "      <td>unqualified asbestos remover</td>\n",
              "    </tr>\n",
              "    <tr>\n",
              "      <th>1</th>\n",
              "      <td>1</td>\n",
              "      <td>senior test analyst</td>\n",
              "      <td>5123</td>\n",
              "      <td>it</td>\n",
              "      <td>testing</td>\n",
              "      <td>testing</td>\n",
              "      <td>senior test analyst</td>\n",
              "    </tr>\n",
              "    <tr>\n",
              "      <th>2</th>\n",
              "      <td>2</td>\n",
              "      <td>ict trainer / supervisor</td>\n",
              "      <td>6894</td>\n",
              "      <td>education</td>\n",
              "      <td>tutoring &amp; training</td>\n",
              "      <td>tutoring &amp; training</td>\n",
              "      <td>ict trainer supervisor</td>\n",
              "    </tr>\n",
              "    <tr>\n",
              "      <th>3</th>\n",
              "      <td>3</td>\n",
              "      <td>automotive specialists *multi faceted position*</td>\n",
              "      <td>5197</td>\n",
              "      <td>trades &amp; services</td>\n",
              "      <td>technicians</td>\n",
              "      <td>technicians</td>\n",
              "      <td>automotive specialists multi faceted position</td>\n",
              "    </tr>\n",
              "    <tr>\n",
              "      <th>4</th>\n",
              "      <td>4</td>\n",
              "      <td>business analyst</td>\n",
              "      <td>5114</td>\n",
              "      <td>it</td>\n",
              "      <td>business &amp; systems analysts</td>\n",
              "      <td>business &amp; systems analysts</td>\n",
              "      <td>business analyst</td>\n",
              "    </tr>\n",
              "  </tbody>\n",
              "</table>\n",
              "</div>\n",
              "      <button class=\"colab-df-convert\" onclick=\"convertToInteractive('df-2effa5c8-7336-457c-95da-553b297452c5')\"\n",
              "              title=\"Convert this dataframe to an interactive table.\"\n",
              "              style=\"display:none;\">\n",
              "        \n",
              "  <svg xmlns=\"http://www.w3.org/2000/svg\" height=\"24px\"viewBox=\"0 0 24 24\"\n",
              "       width=\"24px\">\n",
              "    <path d=\"M0 0h24v24H0V0z\" fill=\"none\"/>\n",
              "    <path d=\"M18.56 5.44l.94 2.06.94-2.06 2.06-.94-2.06-.94-.94-2.06-.94 2.06-2.06.94zm-11 1L8.5 8.5l.94-2.06 2.06-.94-2.06-.94L8.5 2.5l-.94 2.06-2.06.94zm10 10l.94 2.06.94-2.06 2.06-.94-2.06-.94-.94-2.06-.94 2.06-2.06.94z\"/><path d=\"M17.41 7.96l-1.37-1.37c-.4-.4-.92-.59-1.43-.59-.52 0-1.04.2-1.43.59L10.3 9.45l-7.72 7.72c-.78.78-.78 2.05 0 2.83L4 21.41c.39.39.9.59 1.41.59.51 0 1.02-.2 1.41-.59l7.78-7.78 2.81-2.81c.8-.78.8-2.07 0-2.86zM5.41 20L4 18.59l7.72-7.72 1.47 1.35L5.41 20z\"/>\n",
              "  </svg>\n",
              "      </button>\n",
              "      \n",
              "  <style>\n",
              "    .colab-df-container {\n",
              "      display:flex;\n",
              "      flex-wrap:wrap;\n",
              "      gap: 12px;\n",
              "    }\n",
              "\n",
              "    .colab-df-convert {\n",
              "      background-color: #E8F0FE;\n",
              "      border: none;\n",
              "      border-radius: 50%;\n",
              "      cursor: pointer;\n",
              "      display: none;\n",
              "      fill: #1967D2;\n",
              "      height: 32px;\n",
              "      padding: 0 0 0 0;\n",
              "      width: 32px;\n",
              "    }\n",
              "\n",
              "    .colab-df-convert:hover {\n",
              "      background-color: #E2EBFA;\n",
              "      box-shadow: 0px 1px 2px rgba(60, 64, 67, 0.3), 0px 1px 3px 1px rgba(60, 64, 67, 0.15);\n",
              "      fill: #174EA6;\n",
              "    }\n",
              "\n",
              "    [theme=dark] .colab-df-convert {\n",
              "      background-color: #3B4455;\n",
              "      fill: #D2E3FC;\n",
              "    }\n",
              "\n",
              "    [theme=dark] .colab-df-convert:hover {\n",
              "      background-color: #434B5C;\n",
              "      box-shadow: 0px 1px 3px 1px rgba(0, 0, 0, 0.15);\n",
              "      filter: drop-shadow(0px 1px 2px rgba(0, 0, 0, 0.3));\n",
              "      fill: #FFFFFF;\n",
              "    }\n",
              "  </style>\n",
              "\n",
              "      <script>\n",
              "        const buttonEl =\n",
              "          document.querySelector('#df-2effa5c8-7336-457c-95da-553b297452c5 button.colab-df-convert');\n",
              "        buttonEl.style.display =\n",
              "          google.colab.kernel.accessAllowed ? 'block' : 'none';\n",
              "\n",
              "        async function convertToInteractive(key) {\n",
              "          const element = document.querySelector('#df-2effa5c8-7336-457c-95da-553b297452c5');\n",
              "          const dataTable =\n",
              "            await google.colab.kernel.invokeFunction('convertToInteractive',\n",
              "                                                     [key], {});\n",
              "          if (!dataTable) return;\n",
              "\n",
              "          const docLinkHtml = 'Like what you see? Visit the ' +\n",
              "            '<a target=\"_blank\" href=https://colab.research.google.com/notebooks/data_table.ipynb>data table notebook</a>'\n",
              "            + ' to learn more about interactive tables.';\n",
              "          element.innerHTML = '';\n",
              "          dataTable['output_type'] = 'display_data';\n",
              "          await google.colab.output.renderOutput(dataTable, element);\n",
              "          const docLink = document.createElement('div');\n",
              "          docLink.innerHTML = docLinkHtml;\n",
              "          element.appendChild(docLink);\n",
              "        }\n",
              "      </script>\n",
              "    </div>\n",
              "  </div>\n",
              "  "
            ]
          },
          "metadata": {},
          "execution_count": 6
        }
      ]
    },
    {
      "cell_type": "code",
      "source": [
        "c2_uni_m_df = json.load(open(unique_categories_path))\n",
        "print(len(c2_uni_m_df.keys()))\n",
        "list(c2_uni_m_df.keys())[:3]"
      ],
      "metadata": {
        "colab": {
          "base_uri": "https://localhost:8080/"
        },
        "id": "b9bO5TwzjdcN",
        "outputId": "45bf5a7b-e0ee-45c4-bf80-6fbdd7fb50c9"
      },
      "execution_count": null,
      "outputs": [
        {
          "output_type": "stream",
          "name": "stdout",
          "text": [
            "149\n"
          ]
        },
        {
          "output_type": "execute_result",
          "data": {
            "text/plain": [
              "['account management', 'accounts administrators', 'accounts payable']"
            ]
          },
          "metadata": {},
          "execution_count": 7
        }
      ]
    },
    {
      "cell_type": "code",
      "source": [
        "c2_uni_m_df['account management']"
      ],
      "metadata": {
        "colab": {
          "base_uri": "https://localhost:8080/"
        },
        "id": "O7-aaxHB70KQ",
        "outputId": "ff35aa13-3b91-4e9b-dcb5-8a267c11a09b"
      },
      "execution_count": null,
      "outputs": [
        {
          "output_type": "execute_result",
          "data": {
            "text/plain": [
              "5164"
            ]
          },
          "metadata": {},
          "execution_count": 8
        }
      ]
    },
    {
      "cell_type": "code",
      "source": [
        "c1_dict = json.load(open(level_2_mapping_level_1_categories_path))\n",
        "print(len(c1_dict.keys()))\n",
        "list(c1_dict.keys())[:3]"
      ],
      "metadata": {
        "colab": {
          "base_uri": "https://localhost:8080/"
        },
        "id": "VQIp1baZkSVp",
        "outputId": "4141543b-f459-4b98-f1e3-42476992bbf8"
      },
      "execution_count": null,
      "outputs": [
        {
          "output_type": "stream",
          "name": "stdout",
          "text": [
            "10\n"
          ]
        },
        {
          "output_type": "execute_result",
          "data": {
            "text/plain": [
              "['administration', 'analysts', 'architects']"
            ]
          },
          "metadata": {},
          "execution_count": 9
        }
      ]
    },
    {
      "cell_type": "code",
      "source": [
        "c3_dict = json.load(open(level_2_mapping_level_3_categories_path))\n",
        "print(len(c3_dict.keys()))\n",
        "list(c3_dict.keys())[:3]"
      ],
      "metadata": {
        "colab": {
          "base_uri": "https://localhost:8080/"
        },
        "id": "t2JhC5cukSYk",
        "outputId": "510dd51d-9a1b-47be-b5f5-1596943c38f1"
      },
      "execution_count": null,
      "outputs": [
        {
          "output_type": "stream",
          "name": "stdout",
          "text": [
            "3\n"
          ]
        },
        {
          "output_type": "execute_result",
          "data": {
            "text/plain": [
              "['accountants', 'drivers & couriers', 'nursing & midwifery']"
            ]
          },
          "metadata": {},
          "execution_count": 10
        }
      ]
    },
    {
      "cell_type": "markdown",
      "source": [
        "# Train & test split"
      ],
      "metadata": {
        "id": "tP5jxLlOztdQ"
      }
    },
    {
      "cell_type": "code",
      "source": [
        "X_train, X_test , y_train, y_test = train_test_split(raw_df['x_title_feature'],   raw_df[['y_cat_id','cat_1','cat_2','cat_3']],  test_size=0.2,   random_state=123    )"
      ],
      "metadata": {
        "id": "B6PM9F-Jzxiq"
      },
      "execution_count": null,
      "outputs": []
    },
    {
      "cell_type": "code",
      "source": [
        "type(X_train)"
      ],
      "metadata": {
        "colab": {
          "base_uri": "https://localhost:8080/"
        },
        "id": "UrFqn61tz_vH",
        "outputId": "0d2426f9-7903-4b0f-c90c-37737ae45ecb"
      },
      "execution_count": null,
      "outputs": [
        {
          "output_type": "execute_result",
          "data": {
            "text/plain": [
              "pandas.core.series.Series"
            ]
          },
          "metadata": {},
          "execution_count": 12
        }
      ]
    },
    {
      "cell_type": "code",
      "source": [
        "train_df = pd.concat([X_train, y_train], axis=1)\n",
        "train_df.head(2)"
      ],
      "metadata": {
        "colab": {
          "base_uri": "https://localhost:8080/",
          "height": 112
        },
        "id": "L2R-769P0NWQ",
        "outputId": "0c695b7b-651a-49f5-d1cc-233f6f540994"
      },
      "execution_count": null,
      "outputs": [
        {
          "output_type": "execute_result",
          "data": {
            "text/plain": [
              "                       x_title_feature  y_cat_id  \\\n",
              "9642   kiwifruit orchards workers want      5016   \n",
              "17924                     orchard hand      5019   \n",
              "\n",
              "                                 cat_1         cat_2         cat_3  \n",
              "9642   agriculture, fishing & forestry       farming       farming  \n",
              "17924  agriculture, fishing & forestry  horticulture  horticulture  "
            ],
            "text/html": [
              "\n",
              "  <div id=\"df-24d7eead-0f61-4ac6-804a-bff37517ad70\">\n",
              "    <div class=\"colab-df-container\">\n",
              "      <div>\n",
              "<style scoped>\n",
              "    .dataframe tbody tr th:only-of-type {\n",
              "        vertical-align: middle;\n",
              "    }\n",
              "\n",
              "    .dataframe tbody tr th {\n",
              "        vertical-align: top;\n",
              "    }\n",
              "\n",
              "    .dataframe thead th {\n",
              "        text-align: right;\n",
              "    }\n",
              "</style>\n",
              "<table border=\"1\" class=\"dataframe\">\n",
              "  <thead>\n",
              "    <tr style=\"text-align: right;\">\n",
              "      <th></th>\n",
              "      <th>x_title_feature</th>\n",
              "      <th>y_cat_id</th>\n",
              "      <th>cat_1</th>\n",
              "      <th>cat_2</th>\n",
              "      <th>cat_3</th>\n",
              "    </tr>\n",
              "  </thead>\n",
              "  <tbody>\n",
              "    <tr>\n",
              "      <th>9642</th>\n",
              "      <td>kiwifruit orchards workers want</td>\n",
              "      <td>5016</td>\n",
              "      <td>agriculture, fishing &amp; forestry</td>\n",
              "      <td>farming</td>\n",
              "      <td>farming</td>\n",
              "    </tr>\n",
              "    <tr>\n",
              "      <th>17924</th>\n",
              "      <td>orchard hand</td>\n",
              "      <td>5019</td>\n",
              "      <td>agriculture, fishing &amp; forestry</td>\n",
              "      <td>horticulture</td>\n",
              "      <td>horticulture</td>\n",
              "    </tr>\n",
              "  </tbody>\n",
              "</table>\n",
              "</div>\n",
              "      <button class=\"colab-df-convert\" onclick=\"convertToInteractive('df-24d7eead-0f61-4ac6-804a-bff37517ad70')\"\n",
              "              title=\"Convert this dataframe to an interactive table.\"\n",
              "              style=\"display:none;\">\n",
              "        \n",
              "  <svg xmlns=\"http://www.w3.org/2000/svg\" height=\"24px\"viewBox=\"0 0 24 24\"\n",
              "       width=\"24px\">\n",
              "    <path d=\"M0 0h24v24H0V0z\" fill=\"none\"/>\n",
              "    <path d=\"M18.56 5.44l.94 2.06.94-2.06 2.06-.94-2.06-.94-.94-2.06-.94 2.06-2.06.94zm-11 1L8.5 8.5l.94-2.06 2.06-.94-2.06-.94L8.5 2.5l-.94 2.06-2.06.94zm10 10l.94 2.06.94-2.06 2.06-.94-2.06-.94-.94-2.06-.94 2.06-2.06.94z\"/><path d=\"M17.41 7.96l-1.37-1.37c-.4-.4-.92-.59-1.43-.59-.52 0-1.04.2-1.43.59L10.3 9.45l-7.72 7.72c-.78.78-.78 2.05 0 2.83L4 21.41c.39.39.9.59 1.41.59.51 0 1.02-.2 1.41-.59l7.78-7.78 2.81-2.81c.8-.78.8-2.07 0-2.86zM5.41 20L4 18.59l7.72-7.72 1.47 1.35L5.41 20z\"/>\n",
              "  </svg>\n",
              "      </button>\n",
              "      \n",
              "  <style>\n",
              "    .colab-df-container {\n",
              "      display:flex;\n",
              "      flex-wrap:wrap;\n",
              "      gap: 12px;\n",
              "    }\n",
              "\n",
              "    .colab-df-convert {\n",
              "      background-color: #E8F0FE;\n",
              "      border: none;\n",
              "      border-radius: 50%;\n",
              "      cursor: pointer;\n",
              "      display: none;\n",
              "      fill: #1967D2;\n",
              "      height: 32px;\n",
              "      padding: 0 0 0 0;\n",
              "      width: 32px;\n",
              "    }\n",
              "\n",
              "    .colab-df-convert:hover {\n",
              "      background-color: #E2EBFA;\n",
              "      box-shadow: 0px 1px 2px rgba(60, 64, 67, 0.3), 0px 1px 3px 1px rgba(60, 64, 67, 0.15);\n",
              "      fill: #174EA6;\n",
              "    }\n",
              "\n",
              "    [theme=dark] .colab-df-convert {\n",
              "      background-color: #3B4455;\n",
              "      fill: #D2E3FC;\n",
              "    }\n",
              "\n",
              "    [theme=dark] .colab-df-convert:hover {\n",
              "      background-color: #434B5C;\n",
              "      box-shadow: 0px 1px 3px 1px rgba(0, 0, 0, 0.15);\n",
              "      filter: drop-shadow(0px 1px 2px rgba(0, 0, 0, 0.3));\n",
              "      fill: #FFFFFF;\n",
              "    }\n",
              "  </style>\n",
              "\n",
              "      <script>\n",
              "        const buttonEl =\n",
              "          document.querySelector('#df-24d7eead-0f61-4ac6-804a-bff37517ad70 button.colab-df-convert');\n",
              "        buttonEl.style.display =\n",
              "          google.colab.kernel.accessAllowed ? 'block' : 'none';\n",
              "\n",
              "        async function convertToInteractive(key) {\n",
              "          const element = document.querySelector('#df-24d7eead-0f61-4ac6-804a-bff37517ad70');\n",
              "          const dataTable =\n",
              "            await google.colab.kernel.invokeFunction('convertToInteractive',\n",
              "                                                     [key], {});\n",
              "          if (!dataTable) return;\n",
              "\n",
              "          const docLinkHtml = 'Like what you see? Visit the ' +\n",
              "            '<a target=\"_blank\" href=https://colab.research.google.com/notebooks/data_table.ipynb>data table notebook</a>'\n",
              "            + ' to learn more about interactive tables.';\n",
              "          element.innerHTML = '';\n",
              "          dataTable['output_type'] = 'display_data';\n",
              "          await google.colab.output.renderOutput(dataTable, element);\n",
              "          const docLink = document.createElement('div');\n",
              "          docLink.innerHTML = docLinkHtml;\n",
              "          element.appendChild(docLink);\n",
              "        }\n",
              "      </script>\n",
              "    </div>\n",
              "  </div>\n",
              "  "
            ]
          },
          "metadata": {},
          "execution_count": 13
        }
      ]
    },
    {
      "cell_type": "code",
      "source": [
        "y_test_list = y_test['y_cat_id'].to_list()\n",
        "y_test_list[:2]"
      ],
      "metadata": {
        "colab": {
          "base_uri": "https://localhost:8080/"
        },
        "id": "mEm81fGju86f",
        "outputId": "c8784db3-d80e-4e10-ad5a-b01b8ddde66d"
      },
      "execution_count": null,
      "outputs": [
        {
          "output_type": "execute_result",
          "data": {
            "text/plain": [
              "[5141, 6909]"
            ]
          },
          "metadata": {},
          "execution_count": 32
        }
      ]
    },
    {
      "cell_type": "markdown",
      "source": [
        "# model class"
      ],
      "metadata": {
        "id": "woDR4JKkN3Ke"
      }
    },
    {
      "cell_type": "code",
      "source": [],
      "metadata": {
        "id": "5uzvY1o0r4Gb"
      },
      "execution_count": null,
      "outputs": []
    },
    {
      "cell_type": "code",
      "source": [
        "\n",
        "class PredictModel:\n",
        "    def __init__(self,corpus_dict, model):\n",
        "        \n",
        "        self.trait_embedding = {}\n",
        "        self.model = model\n",
        "\n",
        "        for trait, sentences in list(corpus_dict.items()):\n",
        "            print(trait)\n",
        "            self.trait_embedding[trait] = self.model.encode(\n",
        "                sentences, convert_to_tensor=True\n",
        "            )\n",
        "\n",
        "    \n",
        "            \n",
        "\n",
        "    def predict(self, input):\n",
        "        input_embeddings = self.model.encode(input, convert_to_tensor=True)\n",
        "        trait_score = {}\n",
        "        max_trait = \"\"\n",
        "        max_score = -float(\"inf\")\n",
        "\n",
        "        for key in self.trait_embedding.keys():\n",
        "            similar_scores = (\n",
        "                util.cos_sim(self.trait_embedding[key], input_embeddings).numpy().max()\n",
        "            )\n",
        "\n",
        "            # print(key, similar_scores)\n",
        "            trait_score[key] = similar_scores\n",
        "            # max_score = max(similar_scores, max_score)\n",
        "            if similar_scores > max_score:\n",
        "                max_trait = key\n",
        "                max_score = similar_scores\n",
        "        # print(max_trait, max_score)\n",
        "        # return max_trait, trait_score\n",
        "        return max_trait\n",
        "\n",
        "    # def infer(self, inputs, show_log=False):\n",
        "    #     predict_labels = []\n",
        "    #     print(type(inputs))\n",
        "    #     print(len(inputs))\n",
        "    #     for x in inputs:\n",
        "    #         max_trait, trait_score = self.predict(x)\n",
        "    #         if show_log:\n",
        "    #             print(max_trait, trait_score)\n",
        "    #         predict_labels.append(max_trait)\n",
        "    #     return predict_labels\n"
      ],
      "metadata": {
        "id": "zI0K92soN2jy"
      },
      "execution_count": null,
      "outputs": []
    },
    {
      "cell_type": "code",
      "source": [
        "class LeavePredictModelHandler:\n",
        "    def __init__(self, df, hierarchy_dict, model, category_level=\"cat_3\"):\n",
        "        self.hierarchy_dict = hierarchy_dict\n",
        "        self.category_level = category_level\n",
        "        corpus_dict_list = self._get_leaves_dicts(df)\n",
        "        self.predict_models = {}\n",
        "        for k, v in corpus_dict_list.items():\n",
        "            self.predict_models[k] = PredictModel(v, model)\n",
        "\n",
        "    def _get_category_dict(self, df, col_data='x_title_feature'):\n",
        "        groups = df[[self.category_level, col_data]].groupby(self.category_level)\n",
        "        res = {key1: group[col_data].to_list() for key1, group in groups}\n",
        "        return res\n",
        "    \n",
        "    def _get_leaves_dicts(self, df, col_data='x_title_feature'):\n",
        "        leaves_dicts = defaultdict(list)\n",
        "\n",
        "        for k, v in self.hierarchy_dict.items():\n",
        "            cat_list = c3_keys = [x[1] for x in v]\n",
        "            cat_df = df[[self.category_level, col_data]][(df[self.category_level].isin(cat_list))]\n",
        "            leaves_dicts[k] = self._get_category_dict(cat_df)\n",
        "        return leaves_dicts\n",
        "\n",
        "    def get_leaves_node_list(self):\n",
        "        return list(self.hierarchy_dict.keys())\n",
        "\n",
        "    def get_leaves_name_id_mapping(self, node_name):\n",
        "        return {v:k for (k,v) in self.hierarchy_dict[node_name]}\n",
        "\n",
        "    def get_predict_model(self, node_name):\n",
        "        return self.predict_models[node_name]\n",
        "\n",
        "    def get_predict_models(self):\n",
        "        return self.predict_models"
      ],
      "metadata": {
        "id": "m9A-VeY7wzds"
      },
      "execution_count": null,
      "outputs": []
    },
    {
      "cell_type": "code",
      "source": [
        "class PredictPipeline:\n",
        "    def __init__(self, train_df, level_1_hierarchy_dict, level_3_hierarchy_dict, unique_categories_mapping):\n",
        "        self.df = train_df\n",
        "        self.unique_categories_mapping = unique_categories_mapping\n",
        "        self.level_1_hierarchy_dict = level_1_hierarchy_dict\n",
        "        self.level_3_hierarchy_dict = level_3_hierarchy_dict\n",
        "        self.model = SentenceTransformer(\"all-MiniLM-L6-v2\")\n",
        "        self.level_2_model = None\n",
        "        self.level_3_models = None\n",
        "        self.level_1_models = None\n",
        "\n",
        "    def _get_category_dict(self, df, category_level, col_data='x_title_feature'):\n",
        "        groups = df[[category_level, col_data]].groupby(category_level)\n",
        "        res = {key1: group[col_data].to_list() for key1, group in groups}\n",
        "        return res\n",
        "\n",
        "    def train(self):\n",
        "        print('train level 2:')\n",
        "        corpus_dict = self._get_category_dict(self.df, 'cat_2')\n",
        "        self.level_2_model = PredictModel( corpus_dict = corpus_dict, model = self.model)\n",
        "        print('train level 3:')\n",
        "        self.level_3_models = LeavePredictModelHandler(df = self.df, hierarchy_dict = self.level_3_hierarchy_dict, category_level=\"cat_3\", model=self.model)\n",
        "        print('train level 1:')\n",
        "        self.level_1_models = LeavePredictModelHandler(self.df, self.level_1_hierarchy_dict, category_level=\"cat_1\", model=self.model)\n",
        "    \n",
        "    def _level_predict(self, query, level_model, c2_pred):\n",
        "        node_model = level_model.predict_models[c2_pred]\n",
        "        pred = node_model.predict(query)\n",
        "        return level_model.get_leaves_name_id_mapping(c2_pred)[pred]\n",
        "\n",
        "    def predict(self, query):\n",
        "        c2_pred = self.level_2_model.predict(query)\n",
        "        hit_level = 'c2'\n",
        "        if c2_pred in self.level_3_models.predict_models:\n",
        "            return self._level_predict(query = query, level_model = self.level_3_models, c2_pred = c2_pred)\n",
        "            # c3_model = self.level_3_models.get_predict_model(c2_pred)\n",
        "            # pred = c3_model.predict(query)\n",
        "            # return c3_model.get_leaves_name_id_mapping(c2_pred)[pred]\n",
        "        elif c2_pred in self.level_1_models.predict_models:\n",
        "            return self._level_predict(query = query, level_model = self.level_1_models, c2_pred = c2_pred)\n",
        "            # c1_model = self.level_1_models.get_predict_model(c2_pred)\n",
        "            # pred = c1_model.predict(query)\n",
        "            # return c1_model.get_leaves_name_id_mapping(c2_pred)[pred]\n",
        "        else:\n",
        "            return -1\n",
        "\n",
        "        return self.unique_categories_mapping[c2_pred]\n",
        "\n",
        "\n",
        "    def batch_predict(self, queries):\n",
        "        predicts = []\n",
        "        for q in queries:\n",
        "            predicts.append(self.predict(q))\n",
        "        return predicts\n"
      ],
      "metadata": {
        "id": "cISsCvCXpGSG"
      },
      "execution_count": null,
      "outputs": []
    },
    {
      "cell_type": "markdown",
      "source": [
        "# Inference"
      ],
      "metadata": {
        "id": "AVQdDsAbA9W6"
      }
    },
    {
      "cell_type": "code",
      "source": [
        "pipeline = PredictPipeline(train_df = train_df, level_1_hierarchy_dict = c1_dict, level_3_hierarchy_dict = c3_dict, unique_categories_mapping= c2_uni_m_df)"
      ],
      "metadata": {
        "id": "ucN6zwMGA_Fj"
      },
      "execution_count": null,
      "outputs": []
    },
    {
      "cell_type": "code",
      "source": [
        "pipeline.train()"
      ],
      "metadata": {
        "colab": {
          "base_uri": "https://localhost:8080/"
        },
        "id": "SxQly91gBMhe",
        "outputId": "844f3621-4949-4b8d-b6b7-599c96f18507"
      },
      "execution_count": null,
      "outputs": [
        {
          "output_type": "stream",
          "name": "stdout",
          "text": [
            "train level 2:\n",
            "account management\n",
            "accountants\n",
            "accounts administrators\n",
            "accounts payable\n",
            "accounts receivable\n",
            "administration\n",
            "advertising\n",
            "air con. & refrigeration\n",
            "analysts\n",
            "architects\n",
            "area managers\n",
            "assistant store managers\n",
            "au pairs & nannies\n",
            "automotive technician\n",
            "bar staff & baristas\n",
            "beautician\n",
            "boat building\n",
            "boilermakers & welders\n",
            "brand & product management\n",
            "building & carpentry\n",
            "building services\n",
            "business & systems analysts\n",
            "business development manager\n",
            "butchers & bakers\n",
            "buying\n",
            "call centre\n",
            "caregiving\n",
            "central government\n",
            "chefs\n",
            "civil & structural\n",
            "cleaning\n",
            "client services\n",
            "commercial sales & leasing\n",
            "communications & pr\n",
            "community & social services\n",
            "consultancy & valuation\n",
            "corporate & institutional banking\n",
            "credit & lending\n",
            "customer-facing\n",
            "data entry\n",
            "data warehousing & bi\n",
            "database\n",
            "defence\n",
            "dentistry\n",
            "department managers\n",
            "design\n",
            "diesel mechanic\n",
            "digital marketing\n",
            "direct marketing\n",
            "doctors & specialists\n",
            "drafting\n",
            "drivers & couriers\n",
            "ea, pa & secretarial\n",
            "early childhood\n",
            "electrical\n",
            "energy\n",
            "environmental\n",
            "estimation\n",
            "executive & general management\n",
            "facilities & commercial property management\n",
            "farming\n",
            "finance managers & controllers\n",
            "financial planning & investment\n",
            "fishing\n",
            "fitness & wellbeing\n",
            "fitters & machining\n",
            "flooring\n",
            "forestry\n",
            "freight forwarders\n",
            "functional consultants\n",
            "gardening & landscaping\n",
            "geotechnical\n",
            "glaziers\n",
            "hairdressing\n",
            "handy-persons\n",
            "health & safety\n",
            "horticulture\n",
            "housekeeping\n",
            "hr\n",
            "import & export\n",
            "in-house counsel\n",
            "industrial\n",
            "insurance\n",
            "interior design\n",
            "journalism\n",
            "kitchen staff\n",
            "labourers\n",
            "labouring\n",
            "local & regional council\n",
            "machine operation\n",
            "machine operators\n",
            "maintenance\n",
            "management\n",
            "market research & analysis\n",
            "marketing assistants & coordinators\n",
            "mechanical\n",
            "merchandising\n",
            "networking & storage\n",
            "nursing & midwifery\n",
            "occupational therapy\n",
            "office management\n",
            "operations\n",
            "painting\n",
            "panel & paint\n",
            "payroll\n",
            "pharmacy\n",
            "planning\n",
            "plumbing\n",
            "primary\n",
            "printing\n",
            "private practice\n",
            "process & assembly\n",
            "programming & development\n",
            "project & contracts management\n",
            "project management\n",
            "psychology & counselling\n",
            "purchasing & inventory\n",
            "quality assurance\n",
            "quantity surveying\n",
            "radiography & sonography\n",
            "reception\n",
            "reception & front desk\n",
            "recruitment\n",
            "residential sales & management\n",
            "retail assistants\n",
            "risk & compliance\n",
            "roofing\n",
            "sales & pre-sales\n",
            "sales managers\n",
            "sales reps\n",
            "sales support\n",
            "sales, operations & parts\n",
            "science & technology\n",
            "secondary\n",
            "secretarial\n",
            "security\n",
            "service desk\n",
            "sign writers\n",
            "site management\n",
            "store managers\n",
            "storepersons & warehousing\n",
            "supervisors & forepersons\n",
            "supply chain & planning\n",
            "surveying\n",
            "systems engineers\n",
            "technicians\n",
            "telecommunications\n",
            "telesales\n",
            "tellers & branch staff\n",
            "tertiary\n",
            "testing\n",
            "tourism & tour guides\n",
            "traffic management\n",
            "training\n",
            "travel consultants\n",
            "tutoring & training\n",
            "veterinary\n",
            "waiting staff\n",
            "warehouse & distribution\n",
            "water & waste\n",
            "web design\n",
            "train level 3:\n",
            "assistant accountants\n",
            "audit\n",
            "business advisory services\n",
            "financial accounting & reporting\n",
            "general / ca\n",
            "management accountants\n",
            "tax\n",
            "couriers\n",
            "truck ht\n",
            "community & primary care\n",
            "critical care & emergency\n",
            "medical\n",
            "mental health\n",
            "paediatrics\n",
            "surgical\n",
            "theatre & recovery\n",
            "women’s health\n",
            "train level 1:\n",
            "healthcare\n",
            "office & administration\n",
            "accounting\n",
            "banking, finance & insurance\n",
            "architecture\n",
            "it\n",
            "architecture\n",
            "engineering\n",
            "engineering\n",
            "trades & services\n",
            "construction & roading\n",
            "hr & recruitment\n",
            "accounting\n",
            "automotive\n",
            "banking, finance & insurance\n",
            "customer service\n",
            "engineering\n",
            "healthcare\n",
            "hospitality & tourism\n",
            "it\n",
            "manufacturing & operations\n",
            "marketing, media & communications\n",
            "retail\n",
            "transport & logistics\n",
            "engineering\n"
          ]
        }
      ]
    },
    {
      "cell_type": "code",
      "source": [
        "y_pred = pipeline.batch_predict(X_test)"
      ],
      "metadata": {
        "id": "xHt_Kf2GBSSC"
      },
      "execution_count": null,
      "outputs": []
    },
    {
      "cell_type": "code",
      "source": [
        "# pipeline.level_3_models.predict_models #.get_predict_models()"
      ],
      "metadata": {
        "id": "BqtM3XmJGvV9"
      },
      "execution_count": null,
      "outputs": []
    },
    {
      "cell_type": "code",
      "source": [
        "# pipeline.level_1_models.get_leaves_node_list()"
      ],
      "metadata": {
        "id": "bAMXt-_pDyrp"
      },
      "execution_count": null,
      "outputs": []
    },
    {
      "cell_type": "code",
      "source": [
        "# pipeline.level_1_models.get_predict_model('electrical')"
      ],
      "metadata": {
        "id": "LQAuz2biD7Oj"
      },
      "execution_count": null,
      "outputs": []
    },
    {
      "cell_type": "code",
      "source": [
        "y_test"
      ],
      "metadata": {
        "colab": {
          "base_uri": "https://localhost:8080/",
          "height": 424
        },
        "id": "PoZSS8mQu3aU",
        "outputId": "1c449fb9-f402-4078-8d31-32cc07592f89"
      },
      "execution_count": null,
      "outputs": [
        {
          "output_type": "execute_result",
          "data": {
            "text/plain": [
              "       y_cat_id                         cat_1                        cat_2  \\\n",
              "12136      5141    manufacturing & operations   storepersons & warehousing   \n",
              "16812      6909         transport & logistics           drivers & couriers   \n",
              "10072      6909         transport & logistics           drivers & couriers   \n",
              "5850       5029  banking, finance & insurance                    insurance   \n",
              "4320       5085                    healthcare  community & social services   \n",
              "...         ...                           ...                          ...   \n",
              "7481       5175                        retail            retail assistants   \n",
              "154        5173                        retail                merchandising   \n",
              "8627       5101         hospitality & tourism       reception & front desk   \n",
              "4565       6891        construction & roading            machine operators   \n",
              "1894       4961                    automotive              diesel mechanic   \n",
              "\n",
              "                             cat_3  \n",
              "12136   storepersons & warehousing  \n",
              "16812                     truck ht  \n",
              "10072                     truck ht  \n",
              "5850                     insurance  \n",
              "4320   community & social services  \n",
              "...                            ...  \n",
              "7481             retail assistants  \n",
              "154                  merchandising  \n",
              "8627        reception & front desk  \n",
              "4565             machine operators  \n",
              "1894               diesel mechanic  \n",
              "\n",
              "[4000 rows x 4 columns]"
            ],
            "text/html": [
              "\n",
              "  <div id=\"df-6dbcf512-0c8f-4054-9588-879b61d8e12d\">\n",
              "    <div class=\"colab-df-container\">\n",
              "      <div>\n",
              "<style scoped>\n",
              "    .dataframe tbody tr th:only-of-type {\n",
              "        vertical-align: middle;\n",
              "    }\n",
              "\n",
              "    .dataframe tbody tr th {\n",
              "        vertical-align: top;\n",
              "    }\n",
              "\n",
              "    .dataframe thead th {\n",
              "        text-align: right;\n",
              "    }\n",
              "</style>\n",
              "<table border=\"1\" class=\"dataframe\">\n",
              "  <thead>\n",
              "    <tr style=\"text-align: right;\">\n",
              "      <th></th>\n",
              "      <th>y_cat_id</th>\n",
              "      <th>cat_1</th>\n",
              "      <th>cat_2</th>\n",
              "      <th>cat_3</th>\n",
              "    </tr>\n",
              "  </thead>\n",
              "  <tbody>\n",
              "    <tr>\n",
              "      <th>12136</th>\n",
              "      <td>5141</td>\n",
              "      <td>manufacturing &amp; operations</td>\n",
              "      <td>storepersons &amp; warehousing</td>\n",
              "      <td>storepersons &amp; warehousing</td>\n",
              "    </tr>\n",
              "    <tr>\n",
              "      <th>16812</th>\n",
              "      <td>6909</td>\n",
              "      <td>transport &amp; logistics</td>\n",
              "      <td>drivers &amp; couriers</td>\n",
              "      <td>truck ht</td>\n",
              "    </tr>\n",
              "    <tr>\n",
              "      <th>10072</th>\n",
              "      <td>6909</td>\n",
              "      <td>transport &amp; logistics</td>\n",
              "      <td>drivers &amp; couriers</td>\n",
              "      <td>truck ht</td>\n",
              "    </tr>\n",
              "    <tr>\n",
              "      <th>5850</th>\n",
              "      <td>5029</td>\n",
              "      <td>banking, finance &amp; insurance</td>\n",
              "      <td>insurance</td>\n",
              "      <td>insurance</td>\n",
              "    </tr>\n",
              "    <tr>\n",
              "      <th>4320</th>\n",
              "      <td>5085</td>\n",
              "      <td>healthcare</td>\n",
              "      <td>community &amp; social services</td>\n",
              "      <td>community &amp; social services</td>\n",
              "    </tr>\n",
              "    <tr>\n",
              "      <th>...</th>\n",
              "      <td>...</td>\n",
              "      <td>...</td>\n",
              "      <td>...</td>\n",
              "      <td>...</td>\n",
              "    </tr>\n",
              "    <tr>\n",
              "      <th>7481</th>\n",
              "      <td>5175</td>\n",
              "      <td>retail</td>\n",
              "      <td>retail assistants</td>\n",
              "      <td>retail assistants</td>\n",
              "    </tr>\n",
              "    <tr>\n",
              "      <th>154</th>\n",
              "      <td>5173</td>\n",
              "      <td>retail</td>\n",
              "      <td>merchandising</td>\n",
              "      <td>merchandising</td>\n",
              "    </tr>\n",
              "    <tr>\n",
              "      <th>8627</th>\n",
              "      <td>5101</td>\n",
              "      <td>hospitality &amp; tourism</td>\n",
              "      <td>reception &amp; front desk</td>\n",
              "      <td>reception &amp; front desk</td>\n",
              "    </tr>\n",
              "    <tr>\n",
              "      <th>4565</th>\n",
              "      <td>6891</td>\n",
              "      <td>construction &amp; roading</td>\n",
              "      <td>machine operators</td>\n",
              "      <td>machine operators</td>\n",
              "    </tr>\n",
              "    <tr>\n",
              "      <th>1894</th>\n",
              "      <td>4961</td>\n",
              "      <td>automotive</td>\n",
              "      <td>diesel mechanic</td>\n",
              "      <td>diesel mechanic</td>\n",
              "    </tr>\n",
              "  </tbody>\n",
              "</table>\n",
              "<p>4000 rows × 4 columns</p>\n",
              "</div>\n",
              "      <button class=\"colab-df-convert\" onclick=\"convertToInteractive('df-6dbcf512-0c8f-4054-9588-879b61d8e12d')\"\n",
              "              title=\"Convert this dataframe to an interactive table.\"\n",
              "              style=\"display:none;\">\n",
              "        \n",
              "  <svg xmlns=\"http://www.w3.org/2000/svg\" height=\"24px\"viewBox=\"0 0 24 24\"\n",
              "       width=\"24px\">\n",
              "    <path d=\"M0 0h24v24H0V0z\" fill=\"none\"/>\n",
              "    <path d=\"M18.56 5.44l.94 2.06.94-2.06 2.06-.94-2.06-.94-.94-2.06-.94 2.06-2.06.94zm-11 1L8.5 8.5l.94-2.06 2.06-.94-2.06-.94L8.5 2.5l-.94 2.06-2.06.94zm10 10l.94 2.06.94-2.06 2.06-.94-2.06-.94-.94-2.06-.94 2.06-2.06.94z\"/><path d=\"M17.41 7.96l-1.37-1.37c-.4-.4-.92-.59-1.43-.59-.52 0-1.04.2-1.43.59L10.3 9.45l-7.72 7.72c-.78.78-.78 2.05 0 2.83L4 21.41c.39.39.9.59 1.41.59.51 0 1.02-.2 1.41-.59l7.78-7.78 2.81-2.81c.8-.78.8-2.07 0-2.86zM5.41 20L4 18.59l7.72-7.72 1.47 1.35L5.41 20z\"/>\n",
              "  </svg>\n",
              "      </button>\n",
              "      \n",
              "  <style>\n",
              "    .colab-df-container {\n",
              "      display:flex;\n",
              "      flex-wrap:wrap;\n",
              "      gap: 12px;\n",
              "    }\n",
              "\n",
              "    .colab-df-convert {\n",
              "      background-color: #E8F0FE;\n",
              "      border: none;\n",
              "      border-radius: 50%;\n",
              "      cursor: pointer;\n",
              "      display: none;\n",
              "      fill: #1967D2;\n",
              "      height: 32px;\n",
              "      padding: 0 0 0 0;\n",
              "      width: 32px;\n",
              "    }\n",
              "\n",
              "    .colab-df-convert:hover {\n",
              "      background-color: #E2EBFA;\n",
              "      box-shadow: 0px 1px 2px rgba(60, 64, 67, 0.3), 0px 1px 3px 1px rgba(60, 64, 67, 0.15);\n",
              "      fill: #174EA6;\n",
              "    }\n",
              "\n",
              "    [theme=dark] .colab-df-convert {\n",
              "      background-color: #3B4455;\n",
              "      fill: #D2E3FC;\n",
              "    }\n",
              "\n",
              "    [theme=dark] .colab-df-convert:hover {\n",
              "      background-color: #434B5C;\n",
              "      box-shadow: 0px 1px 3px 1px rgba(0, 0, 0, 0.15);\n",
              "      filter: drop-shadow(0px 1px 2px rgba(0, 0, 0, 0.3));\n",
              "      fill: #FFFFFF;\n",
              "    }\n",
              "  </style>\n",
              "\n",
              "      <script>\n",
              "        const buttonEl =\n",
              "          document.querySelector('#df-6dbcf512-0c8f-4054-9588-879b61d8e12d button.colab-df-convert');\n",
              "        buttonEl.style.display =\n",
              "          google.colab.kernel.accessAllowed ? 'block' : 'none';\n",
              "\n",
              "        async function convertToInteractive(key) {\n",
              "          const element = document.querySelector('#df-6dbcf512-0c8f-4054-9588-879b61d8e12d');\n",
              "          const dataTable =\n",
              "            await google.colab.kernel.invokeFunction('convertToInteractive',\n",
              "                                                     [key], {});\n",
              "          if (!dataTable) return;\n",
              "\n",
              "          const docLinkHtml = 'Like what you see? Visit the ' +\n",
              "            '<a target=\"_blank\" href=https://colab.research.google.com/notebooks/data_table.ipynb>data table notebook</a>'\n",
              "            + ' to learn more about interactive tables.';\n",
              "          element.innerHTML = '';\n",
              "          dataTable['output_type'] = 'display_data';\n",
              "          await google.colab.output.renderOutput(dataTable, element);\n",
              "          const docLink = document.createElement('div');\n",
              "          docLink.innerHTML = docLinkHtml;\n",
              "          element.appendChild(docLink);\n",
              "        }\n",
              "      </script>\n",
              "    </div>\n",
              "  </div>\n",
              "  "
            ]
          },
          "metadata": {},
          "execution_count": 31
        }
      ]
    },
    {
      "cell_type": "markdown",
      "source": [
        "# Eval Model"
      ],
      "metadata": {
        "id": "QK8dncZPA27U"
      }
    },
    {
      "cell_type": "code",
      "source": [
        "print('eval Accuracy:',metrics.accuracy_score(y_test_list, y_pred))"
      ],
      "metadata": {
        "id": "GZqL3pVpA6Hp",
        "colab": {
          "base_uri": "https://localhost:8080/"
        },
        "outputId": "3d69d3c8-ca22-4bdb-da43-542656b6673e"
      },
      "execution_count": null,
      "outputs": [
        {
          "output_type": "stream",
          "name": "stdout",
          "text": [
            "eval Accuracy: 0.0995\n"
          ]
        }
      ]
    },
    {
      "cell_type": "code",
      "source": [
        "print(classification_report(y_test_list, y_pred))"
      ],
      "metadata": {
        "id": "HWNTAdMOBdJ7",
        "colab": {
          "base_uri": "https://localhost:8080/"
        },
        "outputId": "9f4b9a7f-c947-44e3-aef5-dd831beef689"
      },
      "execution_count": null,
      "outputs": [
        {
          "output_type": "stream",
          "name": "stdout",
          "text": [
            "              precision    recall  f1-score   support\n",
            "\n",
            "          -1       0.00      0.00      0.00         0\n",
            "         621       0.60      0.46      0.52        13\n",
            "         674       0.00      0.00      0.00         3\n",
            "         728       0.00      0.00      0.00        18\n",
            "         733       0.00      0.00      0.00        19\n",
            "         748       0.00      0.00      0.00         5\n",
            "         749       0.00      0.00      0.00         6\n",
            "         751       0.00      0.00      0.00        10\n",
            "         752       0.00      0.00      0.00         6\n",
            "         755       0.00      0.00      0.00         3\n",
            "         759       0.00      0.00      0.00         3\n",
            "         761       0.00      0.00      0.00        30\n",
            "         763       0.00      0.00      0.00         4\n",
            "         764       0.00      0.00      0.00        11\n",
            "         765       0.00      0.00      0.00         2\n",
            "         766       0.00      0.00      0.00         3\n",
            "         768       0.00      0.00      0.00        13\n",
            "         883       0.00      0.00      0.00         8\n",
            "         897       0.00      0.00      0.00        16\n",
            "         900       0.47      0.34      0.39        41\n",
            "         904       0.78      0.78      0.78         9\n",
            "         906       0.33      0.15      0.21        13\n",
            "         907       0.60      0.56      0.58        16\n",
            "         910       1.00      0.67      0.80         3\n",
            "         916       0.71      0.56      0.63         9\n",
            "         927       0.83      0.62      0.71         8\n",
            "         929       0.75      1.00      0.86         6\n",
            "        4957       0.25      0.17      0.20         6\n",
            "        4958       0.42      0.80      0.55        10\n",
            "        4960       0.00      0.00      0.00        41\n",
            "        4961       0.00      0.00      0.00        33\n",
            "        4962       0.11      0.75      0.19         4\n",
            "        4963       0.00      0.00      0.00        20\n",
            "        4964       0.00      0.00      0.00        27\n",
            "        5004       0.00      0.00      0.00        10\n",
            "        5005       0.00      0.00      0.00         5\n",
            "        5007       0.00      0.00      0.00        21\n",
            "        5009       0.00      0.00      0.00        22\n",
            "        5011       0.00      0.00      0.00         1\n",
            "        5012       0.00      0.00      0.00        19\n",
            "        5016       0.00      0.00      0.00        60\n",
            "        5017       0.00      0.00      0.00         8\n",
            "        5018       0.00      0.00      0.00         9\n",
            "        5019       0.00      0.00      0.00        35\n",
            "        5022       0.00      0.00      0.00         3\n",
            "        5023       0.00      0.00      0.00         2\n",
            "        5026       0.00      0.00      0.00         5\n",
            "        5027       0.00      0.00      0.00         4\n",
            "        5029       0.00      0.00      0.00        13\n",
            "        5030       0.00      0.00      0.00         1\n",
            "        5034       0.68      0.93      0.79        14\n",
            "        5035       0.50      0.14      0.22         7\n",
            "        5036       0.00      0.00      0.00         2\n",
            "        5037       0.00      0.00      0.00         2\n",
            "        5038       0.00      0.00      0.00         6\n",
            "        5039       0.00      0.00      0.00        85\n",
            "        5040       0.00      0.00      0.00        24\n",
            "        5041       0.00      0.00      0.00         8\n",
            "        5042       0.29      0.36      0.32        25\n",
            "        5043       0.00      0.00      0.00         7\n",
            "        5046       0.00      0.00      0.00        35\n",
            "        5047       0.00      0.00      0.00         6\n",
            "        5051       0.00      0.00      0.00        80\n",
            "        5052       0.00      0.00      0.00         6\n",
            "        5053       0.00      0.00      0.00         4\n",
            "        5054       0.00      0.00      0.00         4\n",
            "        5057       0.00      0.00      0.00         4\n",
            "        5058       0.00      0.00      0.00        44\n",
            "        5059       0.43      1.00      0.60         3\n",
            "        5060       0.11      0.22      0.15         9\n",
            "        5062       0.00      0.00      0.00        18\n",
            "        5063       0.00      0.00      0.00         1\n",
            "        5064       0.00      0.00      0.00        19\n",
            "        5065       0.40      0.67      0.50         3\n",
            "        5066       0.00      0.00      0.00         5\n",
            "        5070       0.00      0.00      0.00         3\n",
            "        5071       0.00      0.00      0.00        19\n",
            "        5072       0.33      0.40      0.36        10\n",
            "        5073       0.00      0.00      0.00         5\n",
            "        5074       0.00      0.00      0.00        93\n",
            "        5075       0.00      0.00      0.00         2\n",
            "        5078       0.00      0.00      0.00        30\n",
            "        5079       0.00      0.00      0.00        29\n",
            "        5080       0.00      0.00      0.00         2\n",
            "        5083       0.37      0.43      0.40        42\n",
            "        5084       0.00      0.00      0.00        85\n",
            "        5085       0.00      0.00      0.00        99\n",
            "        5086       0.00      0.00      0.00        10\n",
            "        5087       0.00      0.00      0.00        31\n",
            "        5088       0.22      0.17      0.19        24\n",
            "        5091       0.00      0.00      0.00        13\n",
            "        5092       0.00      0.00      0.00         6\n",
            "        5094       0.00      0.00      0.00        26\n",
            "        5095       0.00      0.00      0.00         7\n",
            "        5098       0.00      0.00      0.00        44\n",
            "        5099       0.00      0.00      0.00        22\n",
            "        5100       0.00      0.00      0.00       102\n",
            "        5101       0.00      0.00      0.00         7\n",
            "        5102       0.00      0.00      0.00        39\n",
            "        5103       0.33      0.19      0.24        63\n",
            "        5104       0.00      0.00      0.00         1\n",
            "        5107       0.00      0.00      0.00        31\n",
            "        5110       0.00      0.00      0.00        21\n",
            "        5113       0.50      0.71      0.59         7\n",
            "        5114       0.00      0.00      0.00        43\n",
            "        5115       0.00      0.00      0.00         3\n",
            "        5116       0.00      0.00      0.00        14\n",
            "        5117       0.35      0.27      0.31        22\n",
            "        5118       0.00      0.00      0.00         6\n",
            "        5119       0.00      0.00      0.00        87\n",
            "        5120       0.31      0.24      0.27        21\n",
            "        5121       0.00      0.00      0.00         1\n",
            "        5122       0.00      0.00      0.00         7\n",
            "        5123       0.00      0.00      0.00        18\n",
            "        5124       0.00      0.00      0.00         8\n",
            "        5127       0.00      0.00      0.00         4\n",
            "        5129       0.00      0.00      0.00         3\n",
            "        5130       0.00      0.00      0.00         9\n",
            "        5133       0.00      0.00      0.00         7\n",
            "        5135       0.00      0.00      0.00        53\n",
            "        5136       0.00      0.00      0.00         7\n",
            "        5138       0.00      0.00      0.00        77\n",
            "        5139       0.00      0.00      0.00         7\n",
            "        5140       0.00      0.00      0.00         5\n",
            "        5141       0.00      0.00      0.00        67\n",
            "        5145       0.00      0.00      0.00         7\n",
            "        5146       0.00      0.00      0.00         4\n",
            "        5147       0.00      0.00      0.00         1\n",
            "        5148       0.00      0.00      0.00         5\n",
            "        5149       0.00      0.00      0.00         6\n",
            "        5150       0.00      0.00      0.00        10\n",
            "        5151       0.00      0.00      0.00         1\n",
            "        5156       0.45      0.59      0.51       112\n",
            "        5157       0.00      0.00      0.00         7\n",
            "        5158       0.00      0.00      0.00        12\n",
            "        5159       0.00      0.00      0.00        12\n",
            "        5160       0.00      0.00      0.00        17\n",
            "        5164       0.00      0.00      0.00         9\n",
            "        5165       0.00      0.00      0.00        16\n",
            "        5166       0.00      0.00      0.00        12\n",
            "        5167       0.00      0.00      0.00        31\n",
            "        5168       0.00      0.00      0.00        10\n",
            "        5169       0.00      0.00      0.00         6\n",
            "        5173       0.00      0.00      0.00        20\n",
            "        5174       0.17      0.19      0.18        16\n",
            "        5175       0.00      0.00      0.00       144\n",
            "        5176       0.00      0.00      0.00        38\n",
            "        5177       0.00      0.00      0.00        18\n",
            "        5179       0.00      0.00      0.00        32\n",
            "        5182       0.00      0.00      0.00        24\n",
            "        5184       0.00      0.00      0.00        21\n",
            "        5185       0.00      0.00      0.00        15\n",
            "        5186       0.00      0.00      0.00       170\n",
            "        5187       0.00      0.00      0.00        48\n",
            "        5188       0.60      0.46      0.52        39\n",
            "        5189       0.00      0.00      0.00        31\n",
            "        5190       0.00      0.00      0.00        28\n",
            "        5191       0.00      0.00      0.00        10\n",
            "        5192       0.00      0.00      0.00        86\n",
            "        5193       0.00      0.00      0.00        28\n",
            "        5194       0.00      0.00      0.00        48\n",
            "        5195       0.00      0.00      0.00         2\n",
            "        5196       0.67      0.64      0.65        28\n",
            "        5197       0.00      0.00      0.00        42\n",
            "        5311       0.00      0.00      0.00        29\n",
            "        6882       0.38      0.65      0.48        17\n",
            "        6883       0.89      1.00      0.94         8\n",
            "        6884       0.41      0.45      0.43        20\n",
            "        6885       0.00      0.00      0.00         2\n",
            "        6886       0.24      0.40      0.30        10\n",
            "        6887       0.00      0.00      0.00         0\n",
            "        6889       0.17      0.25      0.20         4\n",
            "        6891       0.00      0.00      0.00        80\n",
            "        6894       0.00      0.00      0.00        10\n",
            "        6895       0.00      0.00      0.00         4\n",
            "        6896       0.00      0.00      0.00        12\n",
            "        6897       0.00      0.00      0.00        12\n",
            "        6898       0.00      0.00      0.00         2\n",
            "        6899       0.78      0.70      0.74        10\n",
            "        6900       0.00      0.00      0.00         1\n",
            "        6901       0.29      0.33      0.31        12\n",
            "        6902       0.00      0.00      0.00         3\n",
            "        6903       0.00      0.00      0.00         4\n",
            "        6904       0.00      0.00      0.00         7\n",
            "        6905       0.00      0.00      0.00         6\n",
            "        6906       0.00      0.00      0.00        16\n",
            "        6907       0.00      0.00      0.00         2\n",
            "        6908       0.48      0.68      0.57        22\n",
            "        6909       0.71      0.65      0.68       126\n",
            "        9831       0.00      0.00      0.00        15\n",
            "\n",
            "    accuracy                           0.10      4000\n",
            "   macro avg       0.09      0.10      0.09      4000\n",
            "weighted avg       0.10      0.10      0.10      4000\n",
            "\n"
          ]
        },
        {
          "output_type": "stream",
          "name": "stderr",
          "text": [
            "/usr/local/lib/python3.9/dist-packages/sklearn/metrics/_classification.py:1344: UndefinedMetricWarning: Precision and F-score are ill-defined and being set to 0.0 in labels with no predicted samples. Use `zero_division` parameter to control this behavior.\n",
            "  _warn_prf(average, modifier, msg_start, len(result))\n",
            "/usr/local/lib/python3.9/dist-packages/sklearn/metrics/_classification.py:1344: UndefinedMetricWarning: Recall and F-score are ill-defined and being set to 0.0 in labels with no true samples. Use `zero_division` parameter to control this behavior.\n",
            "  _warn_prf(average, modifier, msg_start, len(result))\n",
            "/usr/local/lib/python3.9/dist-packages/sklearn/metrics/_classification.py:1344: UndefinedMetricWarning: Precision and F-score are ill-defined and being set to 0.0 in labels with no predicted samples. Use `zero_division` parameter to control this behavior.\n",
            "  _warn_prf(average, modifier, msg_start, len(result))\n",
            "/usr/local/lib/python3.9/dist-packages/sklearn/metrics/_classification.py:1344: UndefinedMetricWarning: Recall and F-score are ill-defined and being set to 0.0 in labels with no true samples. Use `zero_division` parameter to control this behavior.\n",
            "  _warn_prf(average, modifier, msg_start, len(result))\n",
            "/usr/local/lib/python3.9/dist-packages/sklearn/metrics/_classification.py:1344: UndefinedMetricWarning: Precision and F-score are ill-defined and being set to 0.0 in labels with no predicted samples. Use `zero_division` parameter to control this behavior.\n",
            "  _warn_prf(average, modifier, msg_start, len(result))\n",
            "/usr/local/lib/python3.9/dist-packages/sklearn/metrics/_classification.py:1344: UndefinedMetricWarning: Recall and F-score are ill-defined and being set to 0.0 in labels with no true samples. Use `zero_division` parameter to control this behavior.\n",
            "  _warn_prf(average, modifier, msg_start, len(result))\n"
          ]
        }
      ]
    },
    {
      "cell_type": "markdown",
      "source": [
        "# Practice"
      ],
      "metadata": {
        "id": "AraiP2OsroJz"
      }
    },
    {
      "cell_type": "code",
      "source": [
        "test_c3_dict = {'accountants': [(621, 'business advisory services'),\n",
        "  (6882, 'assistant accountants'),\n",
        "  (6883, 'audit'),\n",
        "  (6884, 'financial accounting & reporting'),\n",
        "  (6885, 'general / ca'),\n",
        "  (6886, 'management accountants'),\n",
        "  (6887, 'tax')]}"
      ],
      "metadata": {
        "id": "gDLcm713z6TJ"
      },
      "execution_count": null,
      "outputs": []
    },
    {
      "cell_type": "code",
      "source": [
        "test_c1_dict = {'administration': [(5083, 'healthcare'), (5156, 'office & administration')]}"
      ],
      "metadata": {
        "id": "XP8q42Z4z_K-"
      },
      "execution_count": null,
      "outputs": []
    },
    {
      "cell_type": "code",
      "source": [
        "pipeline = PredictPipeline(train_df = train_df, level_1_hierarchy_dict = test_c1_dict, level_3_hierarchy_dict = test_c3_dict, unique_categories_mapping= c2_uni_m_df)"
      ],
      "metadata": {
        "id": "Cbq24iQwrncr"
      },
      "execution_count": null,
      "outputs": []
    },
    {
      "cell_type": "code",
      "source": [
        "pipeline.train()"
      ],
      "metadata": {
        "colab": {
          "base_uri": "https://localhost:8080/"
        },
        "id": "xpTAeIT4rzBL",
        "outputId": "ba0bb7f8-843f-45db-f4b3-f4c4aa09a375"
      },
      "execution_count": null,
      "outputs": [
        {
          "output_type": "stream",
          "name": "stdout",
          "text": [
            "train level 2:\n",
            "account management\n",
            "accountants\n",
            "accounts administrators\n",
            "accounts payable\n",
            "accounts receivable\n",
            "administration\n",
            "advertising\n",
            "air con. & refrigeration\n",
            "analysts\n",
            "architects\n",
            "area managers\n",
            "assistant store managers\n",
            "au pairs & nannies\n",
            "automotive technician\n",
            "bar staff & baristas\n",
            "beautician\n",
            "boat building\n",
            "boilermakers & welders\n",
            "brand & product management\n",
            "building & carpentry\n",
            "building services\n",
            "business & systems analysts\n",
            "business development manager\n",
            "butchers & bakers\n",
            "buying\n",
            "call centre\n",
            "caregiving\n",
            "central government\n",
            "chefs\n",
            "civil & structural\n",
            "cleaning\n",
            "client services\n",
            "commercial sales & leasing\n",
            "communications & pr\n",
            "community & social services\n",
            "consultancy & valuation\n",
            "corporate & institutional banking\n",
            "credit & lending\n",
            "customer-facing\n",
            "data entry\n",
            "data warehousing & bi\n",
            "database\n",
            "defence\n",
            "dentistry\n",
            "department managers\n",
            "design\n",
            "diesel mechanic\n",
            "digital marketing\n",
            "direct marketing\n",
            "doctors & specialists\n",
            "drafting\n",
            "drivers & couriers\n",
            "ea, pa & secretarial\n",
            "early childhood\n",
            "electrical\n",
            "energy\n",
            "environmental\n",
            "estimation\n",
            "executive & general management\n",
            "facilities & commercial property management\n",
            "farming\n",
            "finance managers & controllers\n",
            "financial planning & investment\n",
            "fishing\n",
            "fitness & wellbeing\n",
            "fitters & machining\n",
            "flooring\n",
            "forestry\n",
            "freight forwarders\n",
            "functional consultants\n",
            "gardening & landscaping\n",
            "geotechnical\n",
            "glaziers\n",
            "hairdressing\n",
            "handy-persons\n",
            "health & safety\n",
            "horticulture\n",
            "housekeeping\n",
            "hr\n",
            "import & export\n",
            "in-house counsel\n",
            "industrial\n",
            "insurance\n",
            "interior design\n",
            "journalism\n",
            "kitchen staff\n",
            "labourers\n",
            "labouring\n",
            "local & regional council\n",
            "machine operation\n",
            "machine operators\n",
            "maintenance\n",
            "management\n",
            "market research & analysis\n",
            "marketing assistants & coordinators\n",
            "mechanical\n",
            "merchandising\n",
            "networking & storage\n",
            "nursing & midwifery\n",
            "occupational therapy\n",
            "office management\n",
            "operations\n",
            "painting\n",
            "panel & paint\n",
            "payroll\n",
            "pharmacy\n",
            "planning\n",
            "plumbing\n",
            "primary\n",
            "printing\n",
            "private practice\n",
            "process & assembly\n",
            "programming & development\n",
            "project & contracts management\n",
            "project management\n",
            "psychology & counselling\n",
            "purchasing & inventory\n",
            "quality assurance\n",
            "quantity surveying\n",
            "radiography & sonography\n",
            "reception\n",
            "reception & front desk\n",
            "recruitment\n",
            "residential sales & management\n",
            "retail assistants\n",
            "risk & compliance\n",
            "roofing\n",
            "sales & pre-sales\n",
            "sales managers\n",
            "sales reps\n",
            "sales support\n",
            "sales, operations & parts\n",
            "science & technology\n",
            "secondary\n",
            "secretarial\n",
            "security\n",
            "service desk\n",
            "sign writers\n",
            "site management\n",
            "store managers\n",
            "storepersons & warehousing\n",
            "supervisors & forepersons\n",
            "supply chain & planning\n",
            "surveying\n",
            "systems engineers\n",
            "technicians\n",
            "telecommunications\n",
            "telesales\n",
            "tellers & branch staff\n",
            "tertiary\n",
            "testing\n",
            "tourism & tour guides\n",
            "traffic management\n",
            "training\n",
            "travel consultants\n",
            "tutoring & training\n",
            "veterinary\n",
            "waiting staff\n",
            "warehouse & distribution\n",
            "water & waste\n",
            "web design\n",
            "train level 3:\n",
            "assistant accountants\n",
            "audit\n",
            "business advisory services\n",
            "financial accounting & reporting\n",
            "general / ca\n",
            "management accountants\n",
            "tax\n",
            "train level 1:\n",
            "healthcare\n",
            "office & administration\n"
          ]
        }
      ]
    },
    {
      "cell_type": "code",
      "source": [
        "pipeline.predict('accountant - retail')"
      ],
      "metadata": {
        "colab": {
          "base_uri": "https://localhost:8080/"
        },
        "id": "WldVPxqR1tm4",
        "outputId": "8ccc2fd8-4c9c-4d80-b4b1-1b87a80a312f"
      },
      "execution_count": null,
      "outputs": [
        {
          "output_type": "execute_result",
          "data": {
            "text/plain": [
              "621"
            ]
          },
          "metadata": {},
          "execution_count": 130
        }
      ]
    },
    {
      "cell_type": "code",
      "source": [
        "pipeline.predict('account manager')"
      ],
      "metadata": {
        "colab": {
          "base_uri": "https://localhost:8080/"
        },
        "id": "5ftM4-OaAJAy",
        "outputId": "3e1f103b-0982-449b-a298-d4cc41a3487a"
      },
      "execution_count": null,
      "outputs": [
        {
          "output_type": "execute_result",
          "data": {
            "text/plain": [
              "5164"
            ]
          },
          "metadata": {},
          "execution_count": 131
        }
      ]
    },
    {
      "cell_type": "code",
      "source": [],
      "metadata": {
        "id": "f45lrfnc-6FO"
      },
      "execution_count": null,
      "outputs": []
    }
  ]
}