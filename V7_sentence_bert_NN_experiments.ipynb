{
  "nbformat": 4,
  "nbformat_minor": 0,
  "metadata": {
    "colab": {
      "provenance": [],
      "collapsed_sections": [
        "3xXeZppJuXwD",
        "yhzklUfjuhcF"
      ],
      "authorship_tag": "ABX9TyM6rnA+bXgmwrx44r56TXtP",
      "include_colab_link": true
    },
    "kernelspec": {
      "name": "python3",
      "display_name": "Python 3"
    },
    "language_info": {
      "name": "python"
    },
    "gpuClass": "standard"
  },
  "cells": [
    {
      "cell_type": "markdown",
      "metadata": {
        "id": "view-in-github",
        "colab_type": "text"
      },
      "source": [
        "<a href=\"https://colab.research.google.com/github/felixzhao/title_catgories_classification/blob/main/V7_sentence_bert_NN_experiments.ipynb\" target=\"_parent\"><img src=\"https://colab.research.google.com/assets/colab-badge.svg\" alt=\"Open In Colab\"/></a>"
      ]
    },
    {
      "cell_type": "markdown",
      "source": [
        "# install sentence-transformers package"
      ],
      "metadata": {
        "id": "3xXeZppJuXwD"
      }
    },
    {
      "cell_type": "code",
      "source": [
        "! pip install torch sentence-transformers"
      ],
      "metadata": {
        "colab": {
          "base_uri": "https://localhost:8080/"
        },
        "id": "vOuMIysoEmqN",
        "outputId": "a1e9f454-0f83-48ee-f313-c556640026d4"
      },
      "execution_count": 23,
      "outputs": [
        {
          "output_type": "stream",
          "name": "stdout",
          "text": [
            "Looking in indexes: https://pypi.org/simple, https://us-python.pkg.dev/colab-wheels/public/simple/\n",
            "Requirement already satisfied: torch in /usr/local/lib/python3.9/dist-packages (1.13.1+cu116)\n",
            "Requirement already satisfied: sentence-transformers in /usr/local/lib/python3.9/dist-packages (2.2.2)\n",
            "Requirement already satisfied: typing-extensions in /usr/local/lib/python3.9/dist-packages (from torch) (4.5.0)\n",
            "Requirement already satisfied: huggingface-hub>=0.4.0 in /usr/local/lib/python3.9/dist-packages (from sentence-transformers) (0.13.2)\n",
            "Requirement already satisfied: numpy in /usr/local/lib/python3.9/dist-packages (from sentence-transformers) (1.22.4)\n",
            "Requirement already satisfied: scipy in /usr/local/lib/python3.9/dist-packages (from sentence-transformers) (1.10.1)\n",
            "Requirement already satisfied: nltk in /usr/local/lib/python3.9/dist-packages (from sentence-transformers) (3.7)\n",
            "Requirement already satisfied: transformers<5.0.0,>=4.6.0 in /usr/local/lib/python3.9/dist-packages (from sentence-transformers) (4.26.1)\n",
            "Requirement already satisfied: torchvision in /usr/local/lib/python3.9/dist-packages (from sentence-transformers) (0.14.1+cu116)\n",
            "Requirement already satisfied: tqdm in /usr/local/lib/python3.9/dist-packages (from sentence-transformers) (4.65.0)\n",
            "Requirement already satisfied: sentencepiece in /usr/local/lib/python3.9/dist-packages (from sentence-transformers) (0.1.97)\n",
            "Requirement already satisfied: scikit-learn in /usr/local/lib/python3.9/dist-packages (from sentence-transformers) (1.2.2)\n",
            "Requirement already satisfied: requests in /usr/local/lib/python3.9/dist-packages (from huggingface-hub>=0.4.0->sentence-transformers) (2.25.1)\n",
            "Requirement already satisfied: packaging>=20.9 in /usr/local/lib/python3.9/dist-packages (from huggingface-hub>=0.4.0->sentence-transformers) (23.0)\n",
            "Requirement already satisfied: pyyaml>=5.1 in /usr/local/lib/python3.9/dist-packages (from huggingface-hub>=0.4.0->sentence-transformers) (6.0)\n",
            "Requirement already satisfied: filelock in /usr/local/lib/python3.9/dist-packages (from huggingface-hub>=0.4.0->sentence-transformers) (3.9.0)\n",
            "Requirement already satisfied: regex!=2019.12.17 in /usr/local/lib/python3.9/dist-packages (from transformers<5.0.0,>=4.6.0->sentence-transformers) (2022.6.2)\n",
            "Requirement already satisfied: tokenizers!=0.11.3,<0.14,>=0.11.1 in /usr/local/lib/python3.9/dist-packages (from transformers<5.0.0,>=4.6.0->sentence-transformers) (0.13.2)\n",
            "Requirement already satisfied: joblib in /usr/local/lib/python3.9/dist-packages (from nltk->sentence-transformers) (1.1.1)\n",
            "Requirement already satisfied: click in /usr/local/lib/python3.9/dist-packages (from nltk->sentence-transformers) (8.1.3)\n",
            "Requirement already satisfied: threadpoolctl>=2.0.0 in /usr/local/lib/python3.9/dist-packages (from scikit-learn->sentence-transformers) (3.1.0)\n",
            "Requirement already satisfied: pillow!=8.3.*,>=5.3.0 in /usr/local/lib/python3.9/dist-packages (from torchvision->sentence-transformers) (8.4.0)\n",
            "Requirement already satisfied: idna<3,>=2.5 in /usr/local/lib/python3.9/dist-packages (from requests->huggingface-hub>=0.4.0->sentence-transformers) (2.10)\n",
            "Requirement already satisfied: certifi>=2017.4.17 in /usr/local/lib/python3.9/dist-packages (from requests->huggingface-hub>=0.4.0->sentence-transformers) (2022.12.7)\n",
            "Requirement already satisfied: urllib3<1.27,>=1.21.1 in /usr/local/lib/python3.9/dist-packages (from requests->huggingface-hub>=0.4.0->sentence-transformers) (1.26.15)\n",
            "Requirement already satisfied: chardet<5,>=3.0.2 in /usr/local/lib/python3.9/dist-packages (from requests->huggingface-hub>=0.4.0->sentence-transformers) (4.0.0)\n"
          ]
        }
      ]
    },
    {
      "cell_type": "markdown",
      "source": [
        "# import packages"
      ],
      "metadata": {
        "id": "yhzklUfjuhcF"
      }
    },
    {
      "cell_type": "code",
      "source": [
        "import torch\n",
        "from torch.utils.data import Dataset, DataLoader\n",
        "import pandas as pd\n",
        "from sklearn.model_selection import train_test_split\n",
        "from sentence_transformers import SentenceTransformer\n",
        "import torch\n",
        "import torch.nn as nn\n",
        "import torch.optim as optim\n",
        "from sklearn.metrics import confusion_matrix,classification_report\n",
        "from sklearn import metrics"
      ],
      "metadata": {
        "id": "LgE5_TdeGCV1"
      },
      "execution_count": 24,
      "outputs": []
    },
    {
      "cell_type": "markdown",
      "source": [
        "# init model"
      ],
      "metadata": {
        "id": "WmYJrP4burd0"
      }
    },
    {
      "cell_type": "code",
      "source": [
        "torch.cuda.is_available()"
      ],
      "metadata": {
        "colab": {
          "base_uri": "https://localhost:8080/"
        },
        "id": "B7T7TCbJzObS",
        "outputId": "2e164055-bdf1-46d4-9a0c-ec9243158b6a"
      },
      "execution_count": 25,
      "outputs": [
        {
          "output_type": "execute_result",
          "data": {
            "text/plain": [
              "False"
            ]
          },
          "metadata": {},
          "execution_count": 25
        }
      ]
    },
    {
      "cell_type": "code",
      "source": [
        "device = torch.device(\"cuda\" if torch.cuda.is_available() else \"cpu\")\n",
        "\n",
        "model_name = \"sentence-transformers/bert-base-nli-mean-tokens\"\n",
        "sentence_transformer = SentenceTransformer(model_name).to(device)"
      ],
      "metadata": {
        "id": "Vwnr_nDyun-n"
      },
      "execution_count": 26,
      "outputs": []
    },
    {
      "cell_type": "markdown",
      "source": [
        "# load  data"
      ],
      "metadata": {
        "id": "6XjRHu5N9T46"
      }
    },
    {
      "cell_type": "code",
      "source": [
        "from google.colab import drive\n",
        "drive.mount('/content/drive')\n",
        "root_path = \"drive/MyDrive/trademe_data/\""
      ],
      "metadata": {
        "colab": {
          "base_uri": "https://localhost:8080/"
        },
        "id": "NUVlvYaHGaaK",
        "outputId": "187e932a-3d68-4b44-aa92-37e60ea2ec80"
      },
      "execution_count": 27,
      "outputs": [
        {
          "output_type": "stream",
          "name": "stdout",
          "text": [
            "Drive already mounted at /content/drive; to attempt to forcibly remount, call drive.mount(\"/content/drive\", force_remount=True).\n"
          ]
        }
      ]
    },
    {
      "cell_type": "code",
      "source": [
        "raw_path = f\"{root_path}raw.csv\""
      ],
      "metadata": {
        "id": "KyWXpSNUjZP0"
      },
      "execution_count": 28,
      "outputs": []
    },
    {
      "cell_type": "code",
      "source": [
        "raw_df = pd.read_csv(raw_path)\n",
        "raw_df.head(1)"
      ],
      "metadata": {
        "id": "IUDMyMvG9JKr",
        "colab": {
          "base_uri": "https://localhost:8080/",
          "height": 81
        },
        "outputId": "bb1ac563-9b5f-49a8-dbe9-2972feb466a4"
      },
      "execution_count": 29,
      "outputs": [
        {
          "output_type": "execute_result",
          "data": {
            "text/plain": [
              "   Unnamed: 0                       x_title  y_cat_id              cat_1  \\\n",
              "0           0  unqualified asbestos remover      5192  trades & services   \n",
              "\n",
              "       cat_2      cat_3          x_title_feature  \n",
              "0  labourers  labourers  unqualifi asbesto remov  "
            ],
            "text/html": [
              "\n",
              "  <div id=\"df-53331342-97f6-47d1-8839-6a2e38f68616\">\n",
              "    <div class=\"colab-df-container\">\n",
              "      <div>\n",
              "<style scoped>\n",
              "    .dataframe tbody tr th:only-of-type {\n",
              "        vertical-align: middle;\n",
              "    }\n",
              "\n",
              "    .dataframe tbody tr th {\n",
              "        vertical-align: top;\n",
              "    }\n",
              "\n",
              "    .dataframe thead th {\n",
              "        text-align: right;\n",
              "    }\n",
              "</style>\n",
              "<table border=\"1\" class=\"dataframe\">\n",
              "  <thead>\n",
              "    <tr style=\"text-align: right;\">\n",
              "      <th></th>\n",
              "      <th>Unnamed: 0</th>\n",
              "      <th>x_title</th>\n",
              "      <th>y_cat_id</th>\n",
              "      <th>cat_1</th>\n",
              "      <th>cat_2</th>\n",
              "      <th>cat_3</th>\n",
              "      <th>x_title_feature</th>\n",
              "    </tr>\n",
              "  </thead>\n",
              "  <tbody>\n",
              "    <tr>\n",
              "      <th>0</th>\n",
              "      <td>0</td>\n",
              "      <td>unqualified asbestos remover</td>\n",
              "      <td>5192</td>\n",
              "      <td>trades &amp; services</td>\n",
              "      <td>labourers</td>\n",
              "      <td>labourers</td>\n",
              "      <td>unqualifi asbesto remov</td>\n",
              "    </tr>\n",
              "  </tbody>\n",
              "</table>\n",
              "</div>\n",
              "      <button class=\"colab-df-convert\" onclick=\"convertToInteractive('df-53331342-97f6-47d1-8839-6a2e38f68616')\"\n",
              "              title=\"Convert this dataframe to an interactive table.\"\n",
              "              style=\"display:none;\">\n",
              "        \n",
              "  <svg xmlns=\"http://www.w3.org/2000/svg\" height=\"24px\"viewBox=\"0 0 24 24\"\n",
              "       width=\"24px\">\n",
              "    <path d=\"M0 0h24v24H0V0z\" fill=\"none\"/>\n",
              "    <path d=\"M18.56 5.44l.94 2.06.94-2.06 2.06-.94-2.06-.94-.94-2.06-.94 2.06-2.06.94zm-11 1L8.5 8.5l.94-2.06 2.06-.94-2.06-.94L8.5 2.5l-.94 2.06-2.06.94zm10 10l.94 2.06.94-2.06 2.06-.94-2.06-.94-.94-2.06-.94 2.06-2.06.94z\"/><path d=\"M17.41 7.96l-1.37-1.37c-.4-.4-.92-.59-1.43-.59-.52 0-1.04.2-1.43.59L10.3 9.45l-7.72 7.72c-.78.78-.78 2.05 0 2.83L4 21.41c.39.39.9.59 1.41.59.51 0 1.02-.2 1.41-.59l7.78-7.78 2.81-2.81c.8-.78.8-2.07 0-2.86zM5.41 20L4 18.59l7.72-7.72 1.47 1.35L5.41 20z\"/>\n",
              "  </svg>\n",
              "      </button>\n",
              "      \n",
              "  <style>\n",
              "    .colab-df-container {\n",
              "      display:flex;\n",
              "      flex-wrap:wrap;\n",
              "      gap: 12px;\n",
              "    }\n",
              "\n",
              "    .colab-df-convert {\n",
              "      background-color: #E8F0FE;\n",
              "      border: none;\n",
              "      border-radius: 50%;\n",
              "      cursor: pointer;\n",
              "      display: none;\n",
              "      fill: #1967D2;\n",
              "      height: 32px;\n",
              "      padding: 0 0 0 0;\n",
              "      width: 32px;\n",
              "    }\n",
              "\n",
              "    .colab-df-convert:hover {\n",
              "      background-color: #E2EBFA;\n",
              "      box-shadow: 0px 1px 2px rgba(60, 64, 67, 0.3), 0px 1px 3px 1px rgba(60, 64, 67, 0.15);\n",
              "      fill: #174EA6;\n",
              "    }\n",
              "\n",
              "    [theme=dark] .colab-df-convert {\n",
              "      background-color: #3B4455;\n",
              "      fill: #D2E3FC;\n",
              "    }\n",
              "\n",
              "    [theme=dark] .colab-df-convert:hover {\n",
              "      background-color: #434B5C;\n",
              "      box-shadow: 0px 1px 3px 1px rgba(0, 0, 0, 0.15);\n",
              "      filter: drop-shadow(0px 1px 2px rgba(0, 0, 0, 0.3));\n",
              "      fill: #FFFFFF;\n",
              "    }\n",
              "  </style>\n",
              "\n",
              "      <script>\n",
              "        const buttonEl =\n",
              "          document.querySelector('#df-53331342-97f6-47d1-8839-6a2e38f68616 button.colab-df-convert');\n",
              "        buttonEl.style.display =\n",
              "          google.colab.kernel.accessAllowed ? 'block' : 'none';\n",
              "\n",
              "        async function convertToInteractive(key) {\n",
              "          const element = document.querySelector('#df-53331342-97f6-47d1-8839-6a2e38f68616');\n",
              "          const dataTable =\n",
              "            await google.colab.kernel.invokeFunction('convertToInteractive',\n",
              "                                                     [key], {});\n",
              "          if (!dataTable) return;\n",
              "\n",
              "          const docLinkHtml = 'Like what you see? Visit the ' +\n",
              "            '<a target=\"_blank\" href=https://colab.research.google.com/notebooks/data_table.ipynb>data table notebook</a>'\n",
              "            + ' to learn more about interactive tables.';\n",
              "          element.innerHTML = '';\n",
              "          dataTable['output_type'] = 'display_data';\n",
              "          await google.colab.output.renderOutput(dataTable, element);\n",
              "          const docLink = document.createElement('div');\n",
              "          docLink.innerHTML = docLinkHtml;\n",
              "          element.appendChild(docLink);\n",
              "        }\n",
              "      </script>\n",
              "    </div>\n",
              "  </div>\n",
              "  "
            ]
          },
          "metadata": {},
          "execution_count": 29
        }
      ]
    },
    {
      "cell_type": "code",
      "source": [
        "len(raw_df.y_cat_id.unique())"
      ],
      "metadata": {
        "colab": {
          "base_uri": "https://localhost:8080/"
        },
        "id": "EuP3DTUJsNkC",
        "outputId": "5a9f6a5e-db13-4d1b-8ee8-259808102552"
      },
      "execution_count": 30,
      "outputs": [
        {
          "output_type": "execute_result",
          "data": {
            "text/plain": [
              "195"
            ]
          },
          "metadata": {},
          "execution_count": 30
        }
      ]
    },
    {
      "cell_type": "code",
      "source": [
        "raw_df = raw_df[[ 'x_title_feature', 'cat_2']]\n",
        "print(len(raw_df))\n",
        "raw_df.head(10)"
      ],
      "metadata": {
        "colab": {
          "base_uri": "https://localhost:8080/",
          "height": 381
        },
        "id": "V0G_SMIOYArh",
        "outputId": "5a4e2208-5f0a-41e4-ca77-d5e430a689e1"
      },
      "execution_count": 31,
      "outputs": [
        {
          "output_type": "stream",
          "name": "stdout",
          "text": [
            "20000\n"
          ]
        },
        {
          "output_type": "execute_result",
          "data": {
            "text/plain": [
              "                        x_title_feature                        cat_2\n",
              "0               unqualifi asbesto remov                    labourers\n",
              "1                   senior test analyst                      testing\n",
              "2                ict trainer supervisor          tutoring & training\n",
              "3  automot specialist multi facet posit                  technicians\n",
              "4                          busi analyst  business & systems analysts\n",
              "5     experienc excav oper truck driver            machine operators\n",
              "6                        system account                  accountants\n",
              "7                  industri electrician                   electrical\n",
              "8                                  chef                        chefs\n",
              "9                     project architect                   architects"
            ],
            "text/html": [
              "\n",
              "  <div id=\"df-0e6d2e53-3087-422d-a35d-3d1d128cbca6\">\n",
              "    <div class=\"colab-df-container\">\n",
              "      <div>\n",
              "<style scoped>\n",
              "    .dataframe tbody tr th:only-of-type {\n",
              "        vertical-align: middle;\n",
              "    }\n",
              "\n",
              "    .dataframe tbody tr th {\n",
              "        vertical-align: top;\n",
              "    }\n",
              "\n",
              "    .dataframe thead th {\n",
              "        text-align: right;\n",
              "    }\n",
              "</style>\n",
              "<table border=\"1\" class=\"dataframe\">\n",
              "  <thead>\n",
              "    <tr style=\"text-align: right;\">\n",
              "      <th></th>\n",
              "      <th>x_title_feature</th>\n",
              "      <th>cat_2</th>\n",
              "    </tr>\n",
              "  </thead>\n",
              "  <tbody>\n",
              "    <tr>\n",
              "      <th>0</th>\n",
              "      <td>unqualifi asbesto remov</td>\n",
              "      <td>labourers</td>\n",
              "    </tr>\n",
              "    <tr>\n",
              "      <th>1</th>\n",
              "      <td>senior test analyst</td>\n",
              "      <td>testing</td>\n",
              "    </tr>\n",
              "    <tr>\n",
              "      <th>2</th>\n",
              "      <td>ict trainer supervisor</td>\n",
              "      <td>tutoring &amp; training</td>\n",
              "    </tr>\n",
              "    <tr>\n",
              "      <th>3</th>\n",
              "      <td>automot specialist multi facet posit</td>\n",
              "      <td>technicians</td>\n",
              "    </tr>\n",
              "    <tr>\n",
              "      <th>4</th>\n",
              "      <td>busi analyst</td>\n",
              "      <td>business &amp; systems analysts</td>\n",
              "    </tr>\n",
              "    <tr>\n",
              "      <th>5</th>\n",
              "      <td>experienc excav oper truck driver</td>\n",
              "      <td>machine operators</td>\n",
              "    </tr>\n",
              "    <tr>\n",
              "      <th>6</th>\n",
              "      <td>system account</td>\n",
              "      <td>accountants</td>\n",
              "    </tr>\n",
              "    <tr>\n",
              "      <th>7</th>\n",
              "      <td>industri electrician</td>\n",
              "      <td>electrical</td>\n",
              "    </tr>\n",
              "    <tr>\n",
              "      <th>8</th>\n",
              "      <td>chef</td>\n",
              "      <td>chefs</td>\n",
              "    </tr>\n",
              "    <tr>\n",
              "      <th>9</th>\n",
              "      <td>project architect</td>\n",
              "      <td>architects</td>\n",
              "    </tr>\n",
              "  </tbody>\n",
              "</table>\n",
              "</div>\n",
              "      <button class=\"colab-df-convert\" onclick=\"convertToInteractive('df-0e6d2e53-3087-422d-a35d-3d1d128cbca6')\"\n",
              "              title=\"Convert this dataframe to an interactive table.\"\n",
              "              style=\"display:none;\">\n",
              "        \n",
              "  <svg xmlns=\"http://www.w3.org/2000/svg\" height=\"24px\"viewBox=\"0 0 24 24\"\n",
              "       width=\"24px\">\n",
              "    <path d=\"M0 0h24v24H0V0z\" fill=\"none\"/>\n",
              "    <path d=\"M18.56 5.44l.94 2.06.94-2.06 2.06-.94-2.06-.94-.94-2.06-.94 2.06-2.06.94zm-11 1L8.5 8.5l.94-2.06 2.06-.94-2.06-.94L8.5 2.5l-.94 2.06-2.06.94zm10 10l.94 2.06.94-2.06 2.06-.94-2.06-.94-.94-2.06-.94 2.06-2.06.94z\"/><path d=\"M17.41 7.96l-1.37-1.37c-.4-.4-.92-.59-1.43-.59-.52 0-1.04.2-1.43.59L10.3 9.45l-7.72 7.72c-.78.78-.78 2.05 0 2.83L4 21.41c.39.39.9.59 1.41.59.51 0 1.02-.2 1.41-.59l7.78-7.78 2.81-2.81c.8-.78.8-2.07 0-2.86zM5.41 20L4 18.59l7.72-7.72 1.47 1.35L5.41 20z\"/>\n",
              "  </svg>\n",
              "      </button>\n",
              "      \n",
              "  <style>\n",
              "    .colab-df-container {\n",
              "      display:flex;\n",
              "      flex-wrap:wrap;\n",
              "      gap: 12px;\n",
              "    }\n",
              "\n",
              "    .colab-df-convert {\n",
              "      background-color: #E8F0FE;\n",
              "      border: none;\n",
              "      border-radius: 50%;\n",
              "      cursor: pointer;\n",
              "      display: none;\n",
              "      fill: #1967D2;\n",
              "      height: 32px;\n",
              "      padding: 0 0 0 0;\n",
              "      width: 32px;\n",
              "    }\n",
              "\n",
              "    .colab-df-convert:hover {\n",
              "      background-color: #E2EBFA;\n",
              "      box-shadow: 0px 1px 2px rgba(60, 64, 67, 0.3), 0px 1px 3px 1px rgba(60, 64, 67, 0.15);\n",
              "      fill: #174EA6;\n",
              "    }\n",
              "\n",
              "    [theme=dark] .colab-df-convert {\n",
              "      background-color: #3B4455;\n",
              "      fill: #D2E3FC;\n",
              "    }\n",
              "\n",
              "    [theme=dark] .colab-df-convert:hover {\n",
              "      background-color: #434B5C;\n",
              "      box-shadow: 0px 1px 3px 1px rgba(0, 0, 0, 0.15);\n",
              "      filter: drop-shadow(0px 1px 2px rgba(0, 0, 0, 0.3));\n",
              "      fill: #FFFFFF;\n",
              "    }\n",
              "  </style>\n",
              "\n",
              "      <script>\n",
              "        const buttonEl =\n",
              "          document.querySelector('#df-0e6d2e53-3087-422d-a35d-3d1d128cbca6 button.colab-df-convert');\n",
              "        buttonEl.style.display =\n",
              "          google.colab.kernel.accessAllowed ? 'block' : 'none';\n",
              "\n",
              "        async function convertToInteractive(key) {\n",
              "          const element = document.querySelector('#df-0e6d2e53-3087-422d-a35d-3d1d128cbca6');\n",
              "          const dataTable =\n",
              "            await google.colab.kernel.invokeFunction('convertToInteractive',\n",
              "                                                     [key], {});\n",
              "          if (!dataTable) return;\n",
              "\n",
              "          const docLinkHtml = 'Like what you see? Visit the ' +\n",
              "            '<a target=\"_blank\" href=https://colab.research.google.com/notebooks/data_table.ipynb>data table notebook</a>'\n",
              "            + ' to learn more about interactive tables.';\n",
              "          element.innerHTML = '';\n",
              "          dataTable['output_type'] = 'display_data';\n",
              "          await google.colab.output.renderOutput(dataTable, element);\n",
              "          const docLink = document.createElement('div');\n",
              "          docLink.innerHTML = docLinkHtml;\n",
              "          element.appendChild(docLink);\n",
              "        }\n",
              "      </script>\n",
              "    </div>\n",
              "  </div>\n",
              "  "
            ]
          },
          "metadata": {},
          "execution_count": 31
        }
      ]
    },
    {
      "cell_type": "code",
      "source": [
        "from sklearn.preprocessing import LabelEncoder\n",
        " \n",
        "# Creating a instance of label Encoder.\n",
        "le = LabelEncoder()\n",
        " \n",
        "# Using .fit_transform function to fit label\n",
        "# encoder and return encoded label\n",
        "label = LabelEncoder().fit_transform(raw_df['cat_2'])\n",
        " \n",
        "raw_df['y'] = label\n",
        "# # printing label\n",
        "# print(len(raw_df.y.unique()))\n",
        "# raw_df"
      ],
      "metadata": {
        "id": "cs1kS5tPhZ-D"
      },
      "execution_count": 32,
      "outputs": []
    },
    {
      "cell_type": "code",
      "source": [
        "num_classes = len(raw_df.y.unique())\n",
        "num_classes"
      ],
      "metadata": {
        "colab": {
          "base_uri": "https://localhost:8080/"
        },
        "id": "K4onnhAJWVgK",
        "outputId": "94bc714b-6019-4602-d717-875023d0f5a6"
      },
      "execution_count": 33,
      "outputs": [
        {
          "output_type": "execute_result",
          "data": {
            "text/plain": [
              "161"
            ]
          },
          "metadata": {},
          "execution_count": 33
        }
      ]
    },
    {
      "cell_type": "code",
      "source": [
        "raw_df.y.unique()"
      ],
      "metadata": {
        "colab": {
          "base_uri": "https://localhost:8080/"
        },
        "id": "WOJx4ELai6oI",
        "outputId": "b50f4ee8-b077-436f-ba3f-1416ea87f89e"
      },
      "execution_count": 34,
      "outputs": [
        {
          "output_type": "execute_result",
          "data": {
            "text/plain": [
              "array([ 86, 150, 155, 145,  21,  90,   1,  54,  28,   9,  85,  14,  89,\n",
              "        26, 126, 105, 102,  34, 101,   5,  75,  19,  60, 111,  27,  92,\n",
              "        47,  51, 136, 108, 114, 115,  82,  17, 138,  25, 135, 128,  13,\n",
              "       120,  18,  76, 140, 112,  87,  98,  53, 141, 124,  58, 131,  78,\n",
              "        94,  33, 156, 158, 143,  81, 129,  64,  30, 122,  20, 118,  23,\n",
              "       123, 157, 132,  46,  59,  74, 113,  96,  29,  70,  38,  43,  99,\n",
              "        91,  88,  49, 127,   2, 107,  11,  97, 146, 134, 117,  50,  57,\n",
              "        95, 144,   6,  83, 148,  61,  22,  73, 137, 133, 139,  68,  41,\n",
              "       110, 100, 104, 142,  62,  44, 152,  77,  67,  39, 159, 130,   8,\n",
              "         7, 119,  80,  63, 103, 147, 125, 149,  93, 151, 106,  52,  79,\n",
              "        71, 160,  37,  65,  69,   3,  72,   4,   0,  40,  10, 154,  15,\n",
              "       116,  66,  36,  12,  45,  16,  42, 121,  48,  31, 153,  55,  32,\n",
              "        24, 109,  84,  35,  56])"
            ]
          },
          "metadata": {},
          "execution_count": 34
        }
      ]
    },
    {
      "cell_type": "markdown",
      "source": [
        "# sentence bert NN"
      ],
      "metadata": {
        "id": "pQ3aQJzCdhh1"
      }
    },
    {
      "cell_type": "markdown",
      "source": [
        "## classes"
      ],
      "metadata": {
        "id": "-CAhI0X4jYJD"
      }
    },
    {
      "cell_type": "markdown",
      "source": [
        "## Define the neural network structure for multi-class classification"
      ],
      "metadata": {
        "id": "0QUopbpFu8Hl"
      }
    },
    {
      "cell_type": "code",
      "source": [
        "class MultiClassClassifier(nn.Module):\n",
        "    def __init__(self, input_size, num_classes):\n",
        "        super(MultiClassClassifier, self).__init__()\n",
        "        self.fc1 = nn.Linear(input_size, 512)\n",
        "        self.relu = nn.ReLU()\n",
        "        self.fc2 = nn.Linear(512, num_classes)\n",
        "        self.softmax = nn.Softmax(dim=1)\n",
        "\n",
        "    def forward(self, x):\n",
        "        x = self.fc1(x)\n",
        "        x = self.relu(x)\n",
        "        x = self.fc2(x)\n",
        "        x = self.softmax(x)\n",
        "        return x"
      ],
      "metadata": {
        "id": "qykzsOq_jbwW"
      },
      "execution_count": 35,
      "outputs": []
    },
    {
      "cell_type": "code",
      "source": [
        "class MultiClassClassifierHandler:\n",
        "    def __init__(self):\n",
        "        self.classifier = MultiClassClassifier(768, num_classes).to(device)\n",
        "\n",
        "    def train(self, X_train, y_train):\n",
        "        train_embeddings = sentence_transformer.encode(X_train, convert_to_tensor=True).to(device)\n",
        "        train_labels = torch.tensor(y_train).to(device)\n",
        "        # Hyperparameters\n",
        "        epochs = 10\n",
        "        learning_rate = 0.005\n",
        "        batch_size = 16\n",
        "\n",
        "        # Loss function and optimizer\n",
        "        criterion = nn.CrossEntropyLoss()\n",
        "        optimizer = optim.Adam(self.classifier.parameters(), lr=learning_rate)\n",
        "\n",
        "        # Training loop\n",
        "        for epoch in range(epochs):\n",
        "            for batch_idx in range(0, len(train_embeddings), batch_size):\n",
        "                batch_embeddings = train_embeddings[batch_idx:batch_idx+batch_size]\n",
        "                batch_labels = train_labels[batch_idx:batch_idx+batch_size]\n",
        "                \n",
        "                optimizer.zero_grad()\n",
        "                outputs = self.classifier(batch_embeddings)\n",
        "                loss = criterion(outputs, batch_labels)\n",
        "                loss.backward()\n",
        "                optimizer.step()\n",
        "\n",
        "            print(f\"Epoch {epoch+1}/{epochs}, Loss: {loss.item()}\")\n",
        "\n",
        "    def predict(self, text_list):\n",
        "        with torch.no_grad():\n",
        "            sentence_embeddings = sentence_transformer.encode(text_list, convert_to_tensor=True).to(device)\n",
        "            probabilities = self.classifier(sentence_embeddings)\n",
        "            max_probs, predicted_classes = torch.max(probabilities, 1)\n",
        "            return predicted_classes.tolist(), max_probs.tolist()"
      ],
      "metadata": {
        "id": "g0xgOJLYvLBQ"
      },
      "execution_count": 46,
      "outputs": []
    },
    {
      "cell_type": "markdown",
      "source": [
        "## split data"
      ],
      "metadata": {
        "id": "9gxvj4opjZyj"
      }
    },
    {
      "cell_type": "code",
      "source": [
        "X_train, X_test, y_train, y_test = train_test_split(raw_df['x_title_feature'], raw_df['y'], test_size=0.33, random_state=42)"
      ],
      "metadata": {
        "id": "Nc1ETaMUlz1f"
      },
      "execution_count": 47,
      "outputs": []
    },
    {
      "cell_type": "code",
      "source": [
        "train_sentences = X_train.reset_index(drop=True)\n",
        "train_labels = y_train.reset_index(drop=True)\n",
        "test_sentences = X_test.reset_index(drop=True)\n",
        "test_labels = y_test.reset_index(drop=True)"
      ],
      "metadata": {
        "id": "btxK0XTJpl1a"
      },
      "execution_count": 48,
      "outputs": []
    },
    {
      "cell_type": "code",
      "source": [
        "# train_embeddings = sentence_transformer.encode(train_sentences, convert_to_tensor=True).to(device)\n",
        "# train_labels = torch.tensor(train_labels).to(device)"
      ],
      "metadata": {
        "id": "YX9RfeealQ2q"
      },
      "execution_count": 49,
      "outputs": []
    },
    {
      "cell_type": "markdown",
      "source": [
        "# Train model"
      ],
      "metadata": {
        "id": "urFlABOAwU2U"
      }
    },
    {
      "cell_type": "code",
      "source": [
        "handler = MultiClassClassifierHandler()\n",
        "handler.train(train_sentences, train_labels)"
      ],
      "metadata": {
        "colab": {
          "base_uri": "https://localhost:8080/"
        },
        "id": "2oI4JjabwWoA",
        "outputId": "5bfb467f-c382-483f-b30e-d5831443f56f"
      },
      "execution_count": 50,
      "outputs": [
        {
          "output_type": "stream",
          "name": "stdout",
          "text": [
            "Epoch 1/10, Loss: 5.092020511627197\n",
            "Epoch 2/10, Loss: 5.092020511627197\n",
            "Epoch 3/10, Loss: 5.092020511627197\n",
            "Epoch 4/10, Loss: 5.092020511627197\n",
            "Epoch 5/10, Loss: 5.092020511627197\n",
            "Epoch 6/10, Loss: 5.092020511627197\n",
            "Epoch 7/10, Loss: 5.092020511627197\n",
            "Epoch 8/10, Loss: 5.092020511627197\n",
            "Epoch 9/10, Loss: 5.092020511627197\n",
            "Epoch 10/10, Loss: 5.092020511627197\n"
          ]
        }
      ]
    },
    {
      "cell_type": "markdown",
      "source": [
        "# Eval model"
      ],
      "metadata": {
        "id": "r9SdA-PLw-gd"
      }
    },
    {
      "cell_type": "code",
      "source": [
        "X_test = test_sentences.values.tolist()\n",
        "y_test = test_labels.values.tolist()"
      ],
      "metadata": {
        "id": "7PttGBUmxfc9"
      },
      "execution_count": 51,
      "outputs": []
    },
    {
      "cell_type": "code",
      "source": [
        "y_pred, y_prob =  handler.predict(X_test)"
      ],
      "metadata": {
        "id": "F55t8So4xAGZ"
      },
      "execution_count": 52,
      "outputs": []
    },
    {
      "cell_type": "code",
      "source": [
        "metrics.accuracy_score(y_test, y_pred)"
      ],
      "metadata": {
        "colab": {
          "base_uri": "https://localhost:8080/"
        },
        "outputId": "8e15beaf-95bf-4bad-aaab-21f4b95ff16c",
        "id": "Ez5GXhqLxVpa"
      },
      "execution_count": 53,
      "outputs": [
        {
          "output_type": "execute_result",
          "data": {
            "text/plain": [
              "0.037575757575757575"
            ]
          },
          "metadata": {},
          "execution_count": 53
        }
      ]
    },
    {
      "cell_type": "code",
      "source": [
        "print(classification_report(y_test, y_pred))"
      ],
      "metadata": {
        "colab": {
          "base_uri": "https://localhost:8080/"
        },
        "outputId": "bfd2676f-4f03-46a7-ae1a-bdead5bb5fe8",
        "id": "AqQ6JRTWxVpa"
      },
      "execution_count": 54,
      "outputs": [
        {
          "output_type": "stream",
          "name": "stdout",
          "text": [
            "              precision    recall  f1-score   support\n",
            "\n",
            "           0       0.00      0.00      0.00        12\n",
            "           1       0.00      0.00      0.00       105\n",
            "           2       0.00      0.00      0.00        30\n",
            "           3       0.00      0.00      0.00        27\n",
            "           4       0.00      0.00      0.00         3\n",
            "           5       0.00      0.00      0.00       274\n",
            "           6       0.00      0.00      0.00         4\n",
            "           7       0.00      0.00      0.00        31\n",
            "           8       0.00      0.00      0.00         7\n",
            "           9       0.00      0.00      0.00        36\n",
            "          10       0.00      0.00      0.00         2\n",
            "          11       0.00      0.00      0.00        36\n",
            "          12       0.00      0.00      0.00         3\n",
            "          13       0.00      0.00      0.00        82\n",
            "          14       0.00      0.00      0.00        65\n",
            "          15       0.00      0.00      0.00         8\n",
            "          16       0.00      0.00      0.00         4\n",
            "          17       0.00      0.00      0.00        42\n",
            "          18       0.00      0.00      0.00         8\n",
            "          19       0.00      0.00      0.00       255\n",
            "          20       0.00      0.00      0.00         8\n",
            "          21       0.00      0.00      0.00        80\n",
            "          22       0.00      0.00      0.00        21\n",
            "          23       0.00      0.00      0.00        27\n",
            "          25       0.00      0.00      0.00        47\n",
            "          26       0.00      0.00      0.00       135\n",
            "          27       0.00      0.00      0.00        35\n",
            "          28       0.00      0.00      0.00       191\n",
            "          29       0.00      0.00      0.00        55\n",
            "          30       0.00      0.00      0.00        66\n",
            "          31       0.00      0.00      0.00         5\n",
            "          32       0.00      0.00      0.00         1\n",
            "          33       0.00      0.00      0.00        21\n",
            "          34       0.00      0.00      0.00       156\n",
            "          36       0.00      0.00      0.00         1\n",
            "          37       0.00      0.00      0.00         5\n",
            "          38       0.00      0.00      0.00        55\n",
            "          39       0.00      0.00      0.00        14\n",
            "          40       0.00      0.00      0.00        12\n",
            "          41       0.00      0.00      0.00         6\n",
            "          42       0.00      0.00      0.00         2\n",
            "          43       0.00      0.00      0.00        25\n",
            "          44       0.00      0.00      0.00        22\n",
            "          45       0.00      0.00      0.00         7\n",
            "          46       0.00      0.00      0.00        46\n",
            "          47       0.00      0.00      0.00        18\n",
            "          48       0.00      0.00      0.00         1\n",
            "          49       0.00      0.00      0.00        74\n",
            "          50       0.00      0.00      0.00        14\n",
            "          51       0.04      1.00      0.07       248\n",
            "          52       0.00      0.00      0.00        30\n",
            "          53       0.00      0.00      0.00       145\n",
            "          54       0.00      0.00      0.00        98\n",
            "          55       0.00      0.00      0.00         2\n",
            "          56       0.00      0.00      0.00         1\n",
            "          57       0.00      0.00      0.00        13\n",
            "          58       0.00      0.00      0.00        13\n",
            "          59       0.00      0.00      0.00        14\n",
            "          60       0.00      0.00      0.00        89\n",
            "          61       0.00      0.00      0.00        33\n",
            "          62       0.00      0.00      0.00         3\n",
            "          63       0.00      0.00      0.00        17\n",
            "          64       0.00      0.00      0.00        20\n",
            "          65       0.00      0.00      0.00        13\n",
            "          66       0.00      0.00      0.00        10\n",
            "          67       0.00      0.00      0.00        20\n",
            "          68       0.00      0.00      0.00        11\n",
            "          69       0.00      0.00      0.00         3\n",
            "          70       0.00      0.00      0.00        42\n",
            "          71       0.00      0.00      0.00         4\n",
            "          72       0.00      0.00      0.00         6\n",
            "          73       0.00      0.00      0.00        36\n",
            "          74       0.00      0.00      0.00        24\n",
            "          75       0.00      0.00      0.00        26\n",
            "          76       0.00      0.00      0.00        62\n",
            "          77       0.00      0.00      0.00        39\n",
            "          78       0.00      0.00      0.00        44\n",
            "          79       0.00      0.00      0.00         5\n",
            "          80       0.00      0.00      0.00         3\n",
            "          81       0.00      0.00      0.00        17\n",
            "          82       0.00      0.00      0.00         7\n",
            "          83       0.00      0.00      0.00         7\n",
            "          85       0.00      0.00      0.00        70\n",
            "          86       0.00      0.00      0.00       135\n",
            "          87       0.00      0.00      0.00       131\n",
            "          88       0.00      0.00      0.00        59\n",
            "          89       0.00      0.00      0.00        99\n",
            "          90       0.00      0.00      0.00       139\n",
            "          91       0.00      0.00      0.00        32\n",
            "          92       0.00      0.00      0.00       220\n",
            "          93       0.00      0.00      0.00         4\n",
            "          94       0.00      0.00      0.00        12\n",
            "          95       0.00      0.00      0.00        27\n",
            "          96       0.00      0.00      0.00        29\n",
            "          97       0.00      0.00      0.00        13\n",
            "          98       0.00      0.00      0.00       184\n",
            "          99       0.00      0.00      0.00        17\n",
            "         100       0.00      0.00      0.00        20\n",
            "         101       0.00      0.00      0.00        22\n",
            "         102       0.00      0.00      0.00        50\n",
            "         103       0.00      0.00      0.00        30\n",
            "         104       0.00      0.00      0.00        27\n",
            "         105       0.00      0.00      0.00        20\n",
            "         106       0.00      0.00      0.00         8\n",
            "         107       0.00      0.00      0.00        65\n",
            "         108       0.00      0.00      0.00        13\n",
            "         109       0.00      0.00      0.00         5\n",
            "         110       0.00      0.00      0.00        16\n",
            "         111       0.00      0.00      0.00       128\n",
            "         112       0.00      0.00      0.00       120\n",
            "         113       0.00      0.00      0.00        38\n",
            "         114       0.00      0.00      0.00        36\n",
            "         115       0.00      0.00      0.00        46\n",
            "         116       0.00      0.00      0.00        15\n",
            "         117       0.00      0.00      0.00         6\n",
            "         118       0.00      0.00      0.00        44\n",
            "         119       0.00      0.00      0.00        12\n",
            "         120       0.00      0.00      0.00        27\n",
            "         121       0.00      0.00      0.00         9\n",
            "         122       0.00      0.00      0.00        46\n",
            "         123       0.00      0.00      0.00        37\n",
            "         124       0.00      0.00      0.00       216\n",
            "         125       0.00      0.00      0.00         5\n",
            "         126       0.00      0.00      0.00        36\n",
            "         127       0.00      0.00      0.00         2\n",
            "         128       0.00      0.00      0.00        16\n",
            "         129       0.00      0.00      0.00        49\n",
            "         130       0.00      0.00      0.00        19\n",
            "         131       0.00      0.00      0.00        47\n",
            "         132       0.00      0.00      0.00        40\n",
            "         133       0.00      0.00      0.00         5\n",
            "         134       0.00      0.00      0.00         4\n",
            "         135       0.00      0.00      0.00        39\n",
            "         136       0.00      0.00      0.00        37\n",
            "         137       0.00      0.00      0.00         3\n",
            "         138       0.00      0.00      0.00        31\n",
            "         139       0.00      0.00      0.00        57\n",
            "         140       0.00      0.00      0.00        95\n",
            "         141       0.00      0.00      0.00        82\n",
            "         142       0.00      0.00      0.00         8\n",
            "         143       0.00      0.00      0.00        13\n",
            "         144       0.00      0.00      0.00        37\n",
            "         145       0.00      0.00      0.00        70\n",
            "         146       0.00      0.00      0.00         9\n",
            "         147       0.00      0.00      0.00        14\n",
            "         148       0.00      0.00      0.00         3\n",
            "         149       0.00      0.00      0.00        18\n",
            "         150       0.00      0.00      0.00        33\n",
            "         151       0.00      0.00      0.00         7\n",
            "         152       0.00      0.00      0.00        39\n",
            "         153       0.00      0.00      0.00         2\n",
            "         154       0.00      0.00      0.00         1\n",
            "         155       0.00      0.00      0.00        10\n",
            "         156       0.00      0.00      0.00         9\n",
            "         157       0.00      0.00      0.00        51\n",
            "         158       0.00      0.00      0.00       177\n",
            "         159       0.00      0.00      0.00         6\n",
            "         160       0.00      0.00      0.00        10\n",
            "\n",
            "    accuracy                           0.04      6600\n",
            "   macro avg       0.00      0.01      0.00      6600\n",
            "weighted avg       0.00      0.04      0.00      6600\n",
            "\n"
          ]
        },
        {
          "output_type": "stream",
          "name": "stderr",
          "text": [
            "/usr/local/lib/python3.9/dist-packages/sklearn/metrics/_classification.py:1344: UndefinedMetricWarning: Precision and F-score are ill-defined and being set to 0.0 in labels with no predicted samples. Use `zero_division` parameter to control this behavior.\n",
            "  _warn_prf(average, modifier, msg_start, len(result))\n",
            "/usr/local/lib/python3.9/dist-packages/sklearn/metrics/_classification.py:1344: UndefinedMetricWarning: Precision and F-score are ill-defined and being set to 0.0 in labels with no predicted samples. Use `zero_division` parameter to control this behavior.\n",
            "  _warn_prf(average, modifier, msg_start, len(result))\n",
            "/usr/local/lib/python3.9/dist-packages/sklearn/metrics/_classification.py:1344: UndefinedMetricWarning: Precision and F-score are ill-defined and being set to 0.0 in labels with no predicted samples. Use `zero_division` parameter to control this behavior.\n",
            "  _warn_prf(average, modifier, msg_start, len(result))\n"
          ]
        }
      ]
    }
  ]
}