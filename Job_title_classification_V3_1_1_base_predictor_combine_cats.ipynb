{
  "nbformat": 4,
  "nbformat_minor": 0,
  "metadata": {
    "colab": {
      "provenance": [],
      "collapsed_sections": [
        "tKZLvYaCiy6i",
        "D4_k8TOxi70W"
      ],
      "authorship_tag": "ABX9TyNCjf3tQegUC3cEUAdfsP9l",
      "include_colab_link": true
    },
    "kernelspec": {
      "name": "python3",
      "display_name": "Python 3"
    },
    "language_info": {
      "name": "python"
    }
  },
  "cells": [
    {
      "cell_type": "markdown",
      "metadata": {
        "id": "view-in-github",
        "colab_type": "text"
      },
      "source": [
        "<a href=\"https://colab.research.google.com/github/felixzhao/title_catgories_classification/blob/main/Job_title_classification_V3_1_1_base_predictor_combine_cats.ipynb\" target=\"_parent\"><img src=\"https://colab.research.google.com/assets/colab-badge.svg\" alt=\"Open In Colab\"/></a>"
      ]
    },
    {
      "cell_type": "code",
      "execution_count": null,
      "metadata": {
        "id": "keb4NRKQod3E"
      },
      "outputs": [],
      "source": []
    },
    {
      "cell_type": "markdown",
      "source": [
        "# install dependency"
      ],
      "metadata": {
        "id": "tKZLvYaCiy6i"
      }
    },
    {
      "cell_type": "code",
      "execution_count": null,
      "metadata": {
        "colab": {
          "base_uri": "https://localhost:8080/"
        },
        "id": "IL9AjlvPNbzQ",
        "outputId": "3d22d491-5036-46f2-cc2e-76a28223f576"
      },
      "outputs": [
        {
          "output_type": "stream",
          "name": "stdout",
          "text": [
            "Looking in indexes: https://pypi.org/simple, https://us-python.pkg.dev/colab-wheels/public/simple/\n",
            "Collecting sentence-transformers\n",
            "  Downloading sentence-transformers-2.2.2.tar.gz (85 kB)\n",
            "\u001b[2K     \u001b[90m━━━━━━━━━━━━━━━━━━━━━━━━━━━━━━━━━━━━━━━━\u001b[0m \u001b[32m86.0/86.0 KB\u001b[0m \u001b[31m4.9 MB/s\u001b[0m eta \u001b[36m0:00:00\u001b[0m\n",
            "\u001b[?25h  Preparing metadata (setup.py) ... \u001b[?25l\u001b[?25hdone\n",
            "Collecting transformers<5.0.0,>=4.6.0\n",
            "  Downloading transformers-4.26.1-py3-none-any.whl (6.3 MB)\n",
            "\u001b[2K     \u001b[90m━━━━━━━━━━━━━━━━━━━━━━━━━━━━━━━━━━━━━━━━\u001b[0m \u001b[32m6.3/6.3 MB\u001b[0m \u001b[31m79.7 MB/s\u001b[0m eta \u001b[36m0:00:00\u001b[0m\n",
            "\u001b[?25hRequirement already satisfied: tqdm in /usr/local/lib/python3.9/dist-packages (from sentence-transformers) (4.65.0)\n",
            "Requirement already satisfied: torch>=1.6.0 in /usr/local/lib/python3.9/dist-packages (from sentence-transformers) (1.13.1+cu116)\n",
            "Requirement already satisfied: torchvision in /usr/local/lib/python3.9/dist-packages (from sentence-transformers) (0.14.1+cu116)\n",
            "Requirement already satisfied: numpy in /usr/local/lib/python3.9/dist-packages (from sentence-transformers) (1.22.4)\n",
            "Requirement already satisfied: scikit-learn in /usr/local/lib/python3.9/dist-packages (from sentence-transformers) (1.2.1)\n",
            "Requirement already satisfied: scipy in /usr/local/lib/python3.9/dist-packages (from sentence-transformers) (1.10.1)\n",
            "Requirement already satisfied: nltk in /usr/local/lib/python3.9/dist-packages (from sentence-transformers) (3.7)\n",
            "Collecting sentencepiece\n",
            "  Downloading sentencepiece-0.1.97-cp39-cp39-manylinux_2_17_x86_64.manylinux2014_x86_64.whl (1.3 MB)\n",
            "\u001b[2K     \u001b[90m━━━━━━━━━━━━━━━━━━━━━━━━━━━━━━━━━━━━━━━━\u001b[0m \u001b[32m1.3/1.3 MB\u001b[0m \u001b[31m66.7 MB/s\u001b[0m eta \u001b[36m0:00:00\u001b[0m\n",
            "\u001b[?25hCollecting huggingface-hub>=0.4.0\n",
            "  Downloading huggingface_hub-0.13.0-py3-none-any.whl (199 kB)\n",
            "\u001b[2K     \u001b[90m━━━━━━━━━━━━━━━━━━━━━━━━━━━━━━━━━━━━━━\u001b[0m \u001b[32m199.1/199.1 KB\u001b[0m \u001b[31m21.3 MB/s\u001b[0m eta \u001b[36m0:00:00\u001b[0m\n",
            "\u001b[?25hRequirement already satisfied: pyyaml>=5.1 in /usr/local/lib/python3.9/dist-packages (from huggingface-hub>=0.4.0->sentence-transformers) (6.0)\n",
            "Requirement already satisfied: packaging>=20.9 in /usr/local/lib/python3.9/dist-packages (from huggingface-hub>=0.4.0->sentence-transformers) (23.0)\n",
            "Requirement already satisfied: typing-extensions>=3.7.4.3 in /usr/local/lib/python3.9/dist-packages (from huggingface-hub>=0.4.0->sentence-transformers) (4.5.0)\n",
            "Requirement already satisfied: requests in /usr/local/lib/python3.9/dist-packages (from huggingface-hub>=0.4.0->sentence-transformers) (2.25.1)\n",
            "Requirement already satisfied: filelock in /usr/local/lib/python3.9/dist-packages (from huggingface-hub>=0.4.0->sentence-transformers) (3.9.0)\n",
            "Requirement already satisfied: regex!=2019.12.17 in /usr/local/lib/python3.9/dist-packages (from transformers<5.0.0,>=4.6.0->sentence-transformers) (2022.6.2)\n",
            "Collecting tokenizers!=0.11.3,<0.14,>=0.11.1\n",
            "  Downloading tokenizers-0.13.2-cp39-cp39-manylinux_2_17_x86_64.manylinux2014_x86_64.whl (7.6 MB)\n",
            "\u001b[2K     \u001b[90m━━━━━━━━━━━━━━━━━━━━━━━━━━━━━━━━━━━━━━━━\u001b[0m \u001b[32m7.6/7.6 MB\u001b[0m \u001b[31m115.7 MB/s\u001b[0m eta \u001b[36m0:00:00\u001b[0m\n",
            "\u001b[?25hRequirement already satisfied: click in /usr/local/lib/python3.9/dist-packages (from nltk->sentence-transformers) (8.1.3)\n",
            "Requirement already satisfied: joblib in /usr/local/lib/python3.9/dist-packages (from nltk->sentence-transformers) (1.2.0)\n",
            "Requirement already satisfied: threadpoolctl>=2.0.0 in /usr/local/lib/python3.9/dist-packages (from scikit-learn->sentence-transformers) (3.1.0)\n",
            "Requirement already satisfied: pillow!=8.3.*,>=5.3.0 in /usr/local/lib/python3.9/dist-packages (from torchvision->sentence-transformers) (8.4.0)\n",
            "Requirement already satisfied: urllib3<1.27,>=1.21.1 in /usr/local/lib/python3.9/dist-packages (from requests->huggingface-hub>=0.4.0->sentence-transformers) (1.26.14)\n",
            "Requirement already satisfied: chardet<5,>=3.0.2 in /usr/local/lib/python3.9/dist-packages (from requests->huggingface-hub>=0.4.0->sentence-transformers) (4.0.0)\n",
            "Requirement already satisfied: idna<3,>=2.5 in /usr/local/lib/python3.9/dist-packages (from requests->huggingface-hub>=0.4.0->sentence-transformers) (2.10)\n",
            "Requirement already satisfied: certifi>=2017.4.17 in /usr/local/lib/python3.9/dist-packages (from requests->huggingface-hub>=0.4.0->sentence-transformers) (2022.12.7)\n",
            "Building wheels for collected packages: sentence-transformers\n",
            "  Building wheel for sentence-transformers (setup.py) ... \u001b[?25l\u001b[?25hdone\n",
            "  Created wheel for sentence-transformers: filename=sentence_transformers-2.2.2-py3-none-any.whl size=125938 sha256=2c3152ba301e17a391b19fc1e696e34ae1b5e075910082349133d32f937f46ad\n",
            "  Stored in directory: /root/.cache/pip/wheels/71/67/06/162a3760c40d74dd40bc855d527008d26341c2b0ecf3e8e11f\n",
            "Successfully built sentence-transformers\n",
            "Installing collected packages: tokenizers, sentencepiece, huggingface-hub, transformers, sentence-transformers\n",
            "Successfully installed huggingface-hub-0.13.0 sentence-transformers-2.2.2 sentencepiece-0.1.97 tokenizers-0.13.2 transformers-4.26.1\n"
          ]
        }
      ],
      "source": [
        "! pip install sentence-transformers\n"
      ]
    },
    {
      "cell_type": "markdown",
      "source": [
        "# load packages"
      ],
      "metadata": {
        "id": "D4_k8TOxi70W"
      }
    },
    {
      "cell_type": "code",
      "execution_count": null,
      "metadata": {
        "id": "x8kgHpZQ85G4"
      },
      "outputs": [],
      "source": [
        "import pandas as pd\n",
        "import matplotlib.pyplot as plt\n",
        "\n",
        "from collections import defaultdict\n",
        "import json"
      ]
    },
    {
      "cell_type": "code",
      "source": [
        "from sklearn.model_selection import train_test_split\n",
        "from sklearn.feature_extraction.text import CountVectorizer, TfidfVectorizer\n",
        "\n",
        "from sklearn.ensemble import RandomForestClassifier\n",
        "from sklearn.metrics import confusion_matrix,classification_report\n",
        "\n",
        "from sentence_transformers import SentenceTransformer, util\n",
        "from sklearn import metrics"
      ],
      "metadata": {
        "id": "A1MOksIe9C8O"
      },
      "execution_count": null,
      "outputs": []
    },
    {
      "cell_type": "markdown",
      "source": [
        "load data\n",
        "This work loads data from google drive. Please put the files into \"trademe_data\" folder under the root of google drive.\n",
        "\n",
        "Then run the following code to mount the google drive in colab.\n",
        "\n",
        "You can follow the guide. https://towardsdatascience.com/different-ways-to-connect-google-drive-to-a-google-colab-notebook-pt-1-de03433d2f7a"
      ],
      "metadata": {
        "id": "1aW75fGu9Fgh"
      }
    },
    {
      "cell_type": "code",
      "source": [
        "from google.colab import drive\n",
        "drive.mount('/content/drive')\n",
        "root_path = \"drive/MyDrive/trademe_data/\""
      ],
      "metadata": {
        "colab": {
          "base_uri": "https://localhost:8080/"
        },
        "id": "yriR5_n99F7Z",
        "outputId": "83beff1f-0e63-42c9-db8a-74ba5dc53300"
      },
      "execution_count": null,
      "outputs": [
        {
          "output_type": "stream",
          "name": "stdout",
          "text": [
            "Mounted at /content/drive\n"
          ]
        }
      ]
    },
    {
      "cell_type": "markdown",
      "source": [
        "# load  data"
      ],
      "metadata": {
        "id": "6XjRHu5N9T46"
      }
    },
    {
      "cell_type": "code",
      "source": [
        "raw_path = f\"{root_path}raw.csv\"\n",
        "unique_categories_path = f\"{root_path}level2_unique_categories_mapping.txt\"\n",
        "level_2_mapping_level_1_categories_path = f\"{root_path}level2_to_level1_categories_mapping.txt\"\n",
        "level_2_mapping_level_3_categories_path = f\"{root_path}level2_to_level3_categories_mapping.txt\""
      ],
      "metadata": {
        "id": "KyWXpSNUjZP0"
      },
      "execution_count": null,
      "outputs": []
    },
    {
      "cell_type": "code",
      "source": [
        "raw_df = pd.read_csv(raw_path)\n",
        "raw_df.head()"
      ],
      "metadata": {
        "colab": {
          "base_uri": "https://localhost:8080/",
          "height": 206
        },
        "id": "IUDMyMvG9JKr",
        "outputId": "b9857fc2-9185-48bf-95ad-e498027b9fdc"
      },
      "execution_count": null,
      "outputs": [
        {
          "output_type": "execute_result",
          "data": {
            "text/plain": [
              "   Unnamed: 0                                          x_title  y_cat_id  \\\n",
              "0           0                     unqualified asbestos remover      5192   \n",
              "1           1                              senior test analyst      5123   \n",
              "2           2                         ict trainer / supervisor      6894   \n",
              "3           3  automotive specialists *multi faceted position*      5197   \n",
              "4           4                                 business analyst      5114   \n",
              "\n",
              "               cat_1                        cat_2  \\\n",
              "0  trades & services                    labourers   \n",
              "1                 it                      testing   \n",
              "2          education          tutoring & training   \n",
              "3  trades & services                  technicians   \n",
              "4                 it  business & systems analysts   \n",
              "\n",
              "                         cat_3                                x_title_feature  \n",
              "0                    labourers                   unqualified asbestos remover  \n",
              "1                      testing                            senior test analyst  \n",
              "2          tutoring & training                         ict trainer supervisor  \n",
              "3                  technicians  automotive specialists multi faceted position  \n",
              "4  business & systems analysts                               business analyst  "
            ],
            "text/html": [
              "\n",
              "  <div id=\"df-414551f4-e8e5-4b5b-8b2a-cc8b90e93bc7\">\n",
              "    <div class=\"colab-df-container\">\n",
              "      <div>\n",
              "<style scoped>\n",
              "    .dataframe tbody tr th:only-of-type {\n",
              "        vertical-align: middle;\n",
              "    }\n",
              "\n",
              "    .dataframe tbody tr th {\n",
              "        vertical-align: top;\n",
              "    }\n",
              "\n",
              "    .dataframe thead th {\n",
              "        text-align: right;\n",
              "    }\n",
              "</style>\n",
              "<table border=\"1\" class=\"dataframe\">\n",
              "  <thead>\n",
              "    <tr style=\"text-align: right;\">\n",
              "      <th></th>\n",
              "      <th>Unnamed: 0</th>\n",
              "      <th>x_title</th>\n",
              "      <th>y_cat_id</th>\n",
              "      <th>cat_1</th>\n",
              "      <th>cat_2</th>\n",
              "      <th>cat_3</th>\n",
              "      <th>x_title_feature</th>\n",
              "    </tr>\n",
              "  </thead>\n",
              "  <tbody>\n",
              "    <tr>\n",
              "      <th>0</th>\n",
              "      <td>0</td>\n",
              "      <td>unqualified asbestos remover</td>\n",
              "      <td>5192</td>\n",
              "      <td>trades &amp; services</td>\n",
              "      <td>labourers</td>\n",
              "      <td>labourers</td>\n",
              "      <td>unqualified asbestos remover</td>\n",
              "    </tr>\n",
              "    <tr>\n",
              "      <th>1</th>\n",
              "      <td>1</td>\n",
              "      <td>senior test analyst</td>\n",
              "      <td>5123</td>\n",
              "      <td>it</td>\n",
              "      <td>testing</td>\n",
              "      <td>testing</td>\n",
              "      <td>senior test analyst</td>\n",
              "    </tr>\n",
              "    <tr>\n",
              "      <th>2</th>\n",
              "      <td>2</td>\n",
              "      <td>ict trainer / supervisor</td>\n",
              "      <td>6894</td>\n",
              "      <td>education</td>\n",
              "      <td>tutoring &amp; training</td>\n",
              "      <td>tutoring &amp; training</td>\n",
              "      <td>ict trainer supervisor</td>\n",
              "    </tr>\n",
              "    <tr>\n",
              "      <th>3</th>\n",
              "      <td>3</td>\n",
              "      <td>automotive specialists *multi faceted position*</td>\n",
              "      <td>5197</td>\n",
              "      <td>trades &amp; services</td>\n",
              "      <td>technicians</td>\n",
              "      <td>technicians</td>\n",
              "      <td>automotive specialists multi faceted position</td>\n",
              "    </tr>\n",
              "    <tr>\n",
              "      <th>4</th>\n",
              "      <td>4</td>\n",
              "      <td>business analyst</td>\n",
              "      <td>5114</td>\n",
              "      <td>it</td>\n",
              "      <td>business &amp; systems analysts</td>\n",
              "      <td>business &amp; systems analysts</td>\n",
              "      <td>business analyst</td>\n",
              "    </tr>\n",
              "  </tbody>\n",
              "</table>\n",
              "</div>\n",
              "      <button class=\"colab-df-convert\" onclick=\"convertToInteractive('df-414551f4-e8e5-4b5b-8b2a-cc8b90e93bc7')\"\n",
              "              title=\"Convert this dataframe to an interactive table.\"\n",
              "              style=\"display:none;\">\n",
              "        \n",
              "  <svg xmlns=\"http://www.w3.org/2000/svg\" height=\"24px\"viewBox=\"0 0 24 24\"\n",
              "       width=\"24px\">\n",
              "    <path d=\"M0 0h24v24H0V0z\" fill=\"none\"/>\n",
              "    <path d=\"M18.56 5.44l.94 2.06.94-2.06 2.06-.94-2.06-.94-.94-2.06-.94 2.06-2.06.94zm-11 1L8.5 8.5l.94-2.06 2.06-.94-2.06-.94L8.5 2.5l-.94 2.06-2.06.94zm10 10l.94 2.06.94-2.06 2.06-.94-2.06-.94-.94-2.06-.94 2.06-2.06.94z\"/><path d=\"M17.41 7.96l-1.37-1.37c-.4-.4-.92-.59-1.43-.59-.52 0-1.04.2-1.43.59L10.3 9.45l-7.72 7.72c-.78.78-.78 2.05 0 2.83L4 21.41c.39.39.9.59 1.41.59.51 0 1.02-.2 1.41-.59l7.78-7.78 2.81-2.81c.8-.78.8-2.07 0-2.86zM5.41 20L4 18.59l7.72-7.72 1.47 1.35L5.41 20z\"/>\n",
              "  </svg>\n",
              "      </button>\n",
              "      \n",
              "  <style>\n",
              "    .colab-df-container {\n",
              "      display:flex;\n",
              "      flex-wrap:wrap;\n",
              "      gap: 12px;\n",
              "    }\n",
              "\n",
              "    .colab-df-convert {\n",
              "      background-color: #E8F0FE;\n",
              "      border: none;\n",
              "      border-radius: 50%;\n",
              "      cursor: pointer;\n",
              "      display: none;\n",
              "      fill: #1967D2;\n",
              "      height: 32px;\n",
              "      padding: 0 0 0 0;\n",
              "      width: 32px;\n",
              "    }\n",
              "\n",
              "    .colab-df-convert:hover {\n",
              "      background-color: #E2EBFA;\n",
              "      box-shadow: 0px 1px 2px rgba(60, 64, 67, 0.3), 0px 1px 3px 1px rgba(60, 64, 67, 0.15);\n",
              "      fill: #174EA6;\n",
              "    }\n",
              "\n",
              "    [theme=dark] .colab-df-convert {\n",
              "      background-color: #3B4455;\n",
              "      fill: #D2E3FC;\n",
              "    }\n",
              "\n",
              "    [theme=dark] .colab-df-convert:hover {\n",
              "      background-color: #434B5C;\n",
              "      box-shadow: 0px 1px 3px 1px rgba(0, 0, 0, 0.15);\n",
              "      filter: drop-shadow(0px 1px 2px rgba(0, 0, 0, 0.3));\n",
              "      fill: #FFFFFF;\n",
              "    }\n",
              "  </style>\n",
              "\n",
              "      <script>\n",
              "        const buttonEl =\n",
              "          document.querySelector('#df-414551f4-e8e5-4b5b-8b2a-cc8b90e93bc7 button.colab-df-convert');\n",
              "        buttonEl.style.display =\n",
              "          google.colab.kernel.accessAllowed ? 'block' : 'none';\n",
              "\n",
              "        async function convertToInteractive(key) {\n",
              "          const element = document.querySelector('#df-414551f4-e8e5-4b5b-8b2a-cc8b90e93bc7');\n",
              "          const dataTable =\n",
              "            await google.colab.kernel.invokeFunction('convertToInteractive',\n",
              "                                                     [key], {});\n",
              "          if (!dataTable) return;\n",
              "\n",
              "          const docLinkHtml = 'Like what you see? Visit the ' +\n",
              "            '<a target=\"_blank\" href=https://colab.research.google.com/notebooks/data_table.ipynb>data table notebook</a>'\n",
              "            + ' to learn more about interactive tables.';\n",
              "          element.innerHTML = '';\n",
              "          dataTable['output_type'] = 'display_data';\n",
              "          await google.colab.output.renderOutput(dataTable, element);\n",
              "          const docLink = document.createElement('div');\n",
              "          docLink.innerHTML = docLinkHtml;\n",
              "          element.appendChild(docLink);\n",
              "        }\n",
              "      </script>\n",
              "    </div>\n",
              "  </div>\n",
              "  "
            ]
          },
          "metadata": {},
          "execution_count": 6
        }
      ]
    },
    {
      "cell_type": "code",
      "source": [
        "c2_uni_m_df = json.load(open(unique_categories_path))\n",
        "print(len(c2_uni_m_df.keys()))\n",
        "list(c2_uni_m_df.keys())[:3]"
      ],
      "metadata": {
        "colab": {
          "base_uri": "https://localhost:8080/"
        },
        "id": "b9bO5TwzjdcN",
        "outputId": "def3987f-5e08-43cd-8732-9112ee572bc2"
      },
      "execution_count": null,
      "outputs": [
        {
          "output_type": "stream",
          "name": "stdout",
          "text": [
            "149\n"
          ]
        },
        {
          "output_type": "execute_result",
          "data": {
            "text/plain": [
              "['account management', 'accounts administrators', 'accounts payable']"
            ]
          },
          "metadata": {},
          "execution_count": 7
        }
      ]
    },
    {
      "cell_type": "code",
      "source": [
        "c2_uni_m_df['account management']"
      ],
      "metadata": {
        "colab": {
          "base_uri": "https://localhost:8080/"
        },
        "id": "O7-aaxHB70KQ",
        "outputId": "2f644e96-e6a2-4afe-8ea0-ffff33ff7f2a"
      },
      "execution_count": null,
      "outputs": [
        {
          "output_type": "execute_result",
          "data": {
            "text/plain": [
              "5164"
            ]
          },
          "metadata": {},
          "execution_count": 8
        }
      ]
    },
    {
      "cell_type": "code",
      "source": [
        "c1_dict = json.load(open(level_2_mapping_level_1_categories_path))\n",
        "print(len(c1_dict.keys()))\n",
        "list(c1_dict.keys())[:3]"
      ],
      "metadata": {
        "colab": {
          "base_uri": "https://localhost:8080/"
        },
        "id": "VQIp1baZkSVp",
        "outputId": "ce18a6a0-a34a-4bfe-aa96-9221068bf17e"
      },
      "execution_count": null,
      "outputs": [
        {
          "output_type": "stream",
          "name": "stdout",
          "text": [
            "10\n"
          ]
        },
        {
          "output_type": "execute_result",
          "data": {
            "text/plain": [
              "['administration', 'analysts', 'architects']"
            ]
          },
          "metadata": {},
          "execution_count": 9
        }
      ]
    },
    {
      "cell_type": "code",
      "source": [
        "c3_dict = json.load(open(level_2_mapping_level_3_categories_path))\n",
        "print(len(c3_dict.keys()))\n",
        "list(c3_dict.keys())[:3]"
      ],
      "metadata": {
        "colab": {
          "base_uri": "https://localhost:8080/"
        },
        "id": "t2JhC5cukSYk",
        "outputId": "ca2b585f-2161-4f4c-d70f-ced7a49a27fc"
      },
      "execution_count": null,
      "outputs": [
        {
          "output_type": "stream",
          "name": "stdout",
          "text": [
            "3\n"
          ]
        },
        {
          "output_type": "execute_result",
          "data": {
            "text/plain": [
              "['accountants', 'drivers & couriers', 'nursing & midwifery']"
            ]
          },
          "metadata": {},
          "execution_count": 10
        }
      ]
    },
    {
      "cell_type": "markdown",
      "source": [
        "# Filter Raw for unique C2 only"
      ],
      "metadata": {
        "id": "z0c_JLBu4TFb"
      }
    },
    {
      "cell_type": "code",
      "source": [
        "c2_uni_keys = list(c2_uni_m_df.keys())\n",
        "c2_unique_raw = raw_df[raw_df.cat_2.isin(c2_uni_keys)]"
      ],
      "metadata": {
        "id": "KS4H2xVD4WrL"
      },
      "execution_count": null,
      "outputs": []
    },
    {
      "cell_type": "code",
      "source": [
        "len(c2_uni_keys)"
      ],
      "metadata": {
        "colab": {
          "base_uri": "https://localhost:8080/"
        },
        "id": "9ZZDW-EB4qAI",
        "outputId": "3074ce85-2cb8-4447-cbc0-54f1d2b83185"
      },
      "execution_count": null,
      "outputs": [
        {
          "output_type": "execute_result",
          "data": {
            "text/plain": [
              "149"
            ]
          },
          "metadata": {},
          "execution_count": 68
        }
      ]
    },
    {
      "cell_type": "code",
      "source": [
        "len(c2_unique_raw.cat_2.unique())"
      ],
      "metadata": {
        "colab": {
          "base_uri": "https://localhost:8080/"
        },
        "id": "WWyPc79x4nUb",
        "outputId": "8ab4acfc-4277-468b-9e54-ecdb04a5bd7e"
      },
      "execution_count": null,
      "outputs": [
        {
          "output_type": "execute_result",
          "data": {
            "text/plain": [
              "148"
            ]
          },
          "metadata": {},
          "execution_count": 69
        }
      ]
    },
    {
      "cell_type": "markdown",
      "source": [
        "# Train & test split"
      ],
      "metadata": {
        "id": "tP5jxLlOztdQ"
      }
    },
    {
      "cell_type": "code",
      "source": [
        "X_train, X_test , y_train, y_test = train_test_split(c2_unique_raw['x_title_feature'],   c2_unique_raw[['y_cat_id','cat_1','cat_2','cat_3']],  test_size=0.2,   random_state=123    )"
      ],
      "metadata": {
        "id": "B6PM9F-Jzxiq"
      },
      "execution_count": null,
      "outputs": []
    },
    {
      "cell_type": "code",
      "source": [
        "# X_train, X_test , y_train, y_test = train_test_split(c2_unique_raw['x_title'],   c2_unique_raw[['y_cat_id','cat_1','cat_2','cat_3']],  test_size=0.2,   random_state=123    )"
      ],
      "metadata": {
        "id": "qV6-vs380N1j"
      },
      "execution_count": null,
      "outputs": []
    },
    {
      "cell_type": "code",
      "source": [
        "type(X_train)"
      ],
      "metadata": {
        "colab": {
          "base_uri": "https://localhost:8080/"
        },
        "id": "UrFqn61tz_vH",
        "outputId": "7a8ea7e0-7a8e-4fd3-fa3b-e3f5d521639c"
      },
      "execution_count": null,
      "outputs": [
        {
          "output_type": "execute_result",
          "data": {
            "text/plain": [
              "pandas.core.series.Series"
            ]
          },
          "metadata": {},
          "execution_count": 108
        }
      ]
    },
    {
      "cell_type": "code",
      "source": [
        "train_df = pd.concat([X_train, y_train], axis=1)\n",
        "train_df.head(2)"
      ],
      "metadata": {
        "colab": {
          "base_uri": "https://localhost:8080/",
          "height": 112
        },
        "id": "L2R-769P0NWQ",
        "outputId": "3f707d45-924a-41cd-be98-0717a293a2b5"
      },
      "execution_count": null,
      "outputs": [
        {
          "output_type": "execute_result",
          "data": {
            "text/plain": [
              "                x_title_feature  y_cat_id cat_1                      cat_2  \\\n",
              "11135     deployment specialist       761    it          systems engineers   \n",
              "13371  senior analyst developer      5119    it  programming & development   \n",
              "\n",
              "                           cat_3  \n",
              "11135          systems engineers  \n",
              "13371  programming & development  "
            ],
            "text/html": [
              "\n",
              "  <div id=\"df-6f95c8c3-dfcf-4c8e-b9a7-55db70f83dbf\">\n",
              "    <div class=\"colab-df-container\">\n",
              "      <div>\n",
              "<style scoped>\n",
              "    .dataframe tbody tr th:only-of-type {\n",
              "        vertical-align: middle;\n",
              "    }\n",
              "\n",
              "    .dataframe tbody tr th {\n",
              "        vertical-align: top;\n",
              "    }\n",
              "\n",
              "    .dataframe thead th {\n",
              "        text-align: right;\n",
              "    }\n",
              "</style>\n",
              "<table border=\"1\" class=\"dataframe\">\n",
              "  <thead>\n",
              "    <tr style=\"text-align: right;\">\n",
              "      <th></th>\n",
              "      <th>x_title_feature</th>\n",
              "      <th>y_cat_id</th>\n",
              "      <th>cat_1</th>\n",
              "      <th>cat_2</th>\n",
              "      <th>cat_3</th>\n",
              "    </tr>\n",
              "  </thead>\n",
              "  <tbody>\n",
              "    <tr>\n",
              "      <th>11135</th>\n",
              "      <td>deployment specialist</td>\n",
              "      <td>761</td>\n",
              "      <td>it</td>\n",
              "      <td>systems engineers</td>\n",
              "      <td>systems engineers</td>\n",
              "    </tr>\n",
              "    <tr>\n",
              "      <th>13371</th>\n",
              "      <td>senior analyst developer</td>\n",
              "      <td>5119</td>\n",
              "      <td>it</td>\n",
              "      <td>programming &amp; development</td>\n",
              "      <td>programming &amp; development</td>\n",
              "    </tr>\n",
              "  </tbody>\n",
              "</table>\n",
              "</div>\n",
              "      <button class=\"colab-df-convert\" onclick=\"convertToInteractive('df-6f95c8c3-dfcf-4c8e-b9a7-55db70f83dbf')\"\n",
              "              title=\"Convert this dataframe to an interactive table.\"\n",
              "              style=\"display:none;\">\n",
              "        \n",
              "  <svg xmlns=\"http://www.w3.org/2000/svg\" height=\"24px\"viewBox=\"0 0 24 24\"\n",
              "       width=\"24px\">\n",
              "    <path d=\"M0 0h24v24H0V0z\" fill=\"none\"/>\n",
              "    <path d=\"M18.56 5.44l.94 2.06.94-2.06 2.06-.94-2.06-.94-.94-2.06-.94 2.06-2.06.94zm-11 1L8.5 8.5l.94-2.06 2.06-.94-2.06-.94L8.5 2.5l-.94 2.06-2.06.94zm10 10l.94 2.06.94-2.06 2.06-.94-2.06-.94-.94-2.06-.94 2.06-2.06.94z\"/><path d=\"M17.41 7.96l-1.37-1.37c-.4-.4-.92-.59-1.43-.59-.52 0-1.04.2-1.43.59L10.3 9.45l-7.72 7.72c-.78.78-.78 2.05 0 2.83L4 21.41c.39.39.9.59 1.41.59.51 0 1.02-.2 1.41-.59l7.78-7.78 2.81-2.81c.8-.78.8-2.07 0-2.86zM5.41 20L4 18.59l7.72-7.72 1.47 1.35L5.41 20z\"/>\n",
              "  </svg>\n",
              "      </button>\n",
              "      \n",
              "  <style>\n",
              "    .colab-df-container {\n",
              "      display:flex;\n",
              "      flex-wrap:wrap;\n",
              "      gap: 12px;\n",
              "    }\n",
              "\n",
              "    .colab-df-convert {\n",
              "      background-color: #E8F0FE;\n",
              "      border: none;\n",
              "      border-radius: 50%;\n",
              "      cursor: pointer;\n",
              "      display: none;\n",
              "      fill: #1967D2;\n",
              "      height: 32px;\n",
              "      padding: 0 0 0 0;\n",
              "      width: 32px;\n",
              "    }\n",
              "\n",
              "    .colab-df-convert:hover {\n",
              "      background-color: #E2EBFA;\n",
              "      box-shadow: 0px 1px 2px rgba(60, 64, 67, 0.3), 0px 1px 3px 1px rgba(60, 64, 67, 0.15);\n",
              "      fill: #174EA6;\n",
              "    }\n",
              "\n",
              "    [theme=dark] .colab-df-convert {\n",
              "      background-color: #3B4455;\n",
              "      fill: #D2E3FC;\n",
              "    }\n",
              "\n",
              "    [theme=dark] .colab-df-convert:hover {\n",
              "      background-color: #434B5C;\n",
              "      box-shadow: 0px 1px 3px 1px rgba(0, 0, 0, 0.15);\n",
              "      filter: drop-shadow(0px 1px 2px rgba(0, 0, 0, 0.3));\n",
              "      fill: #FFFFFF;\n",
              "    }\n",
              "  </style>\n",
              "\n",
              "      <script>\n",
              "        const buttonEl =\n",
              "          document.querySelector('#df-6f95c8c3-dfcf-4c8e-b9a7-55db70f83dbf button.colab-df-convert');\n",
              "        buttonEl.style.display =\n",
              "          google.colab.kernel.accessAllowed ? 'block' : 'none';\n",
              "\n",
              "        async function convertToInteractive(key) {\n",
              "          const element = document.querySelector('#df-6f95c8c3-dfcf-4c8e-b9a7-55db70f83dbf');\n",
              "          const dataTable =\n",
              "            await google.colab.kernel.invokeFunction('convertToInteractive',\n",
              "                                                     [key], {});\n",
              "          if (!dataTable) return;\n",
              "\n",
              "          const docLinkHtml = 'Like what you see? Visit the ' +\n",
              "            '<a target=\"_blank\" href=https://colab.research.google.com/notebooks/data_table.ipynb>data table notebook</a>'\n",
              "            + ' to learn more about interactive tables.';\n",
              "          element.innerHTML = '';\n",
              "          dataTable['output_type'] = 'display_data';\n",
              "          await google.colab.output.renderOutput(dataTable, element);\n",
              "          const docLink = document.createElement('div');\n",
              "          docLink.innerHTML = docLinkHtml;\n",
              "          element.appendChild(docLink);\n",
              "        }\n",
              "      </script>\n",
              "    </div>\n",
              "  </div>\n",
              "  "
            ]
          },
          "metadata": {},
          "execution_count": 109
        }
      ]
    },
    {
      "cell_type": "code",
      "source": [
        "y_test_id = y_test['y_cat_id'].to_list()\n",
        "y_test_id[:2]"
      ],
      "metadata": {
        "colab": {
          "base_uri": "https://localhost:8080/"
        },
        "id": "mEm81fGju86f",
        "outputId": "3b4fdb16-328f-4e28-8cd9-7bec59e56b0a"
      },
      "execution_count": null,
      "outputs": [
        {
          "output_type": "execute_result",
          "data": {
            "text/plain": [
              "[5177, 5175]"
            ]
          },
          "metadata": {},
          "execution_count": 110
        }
      ]
    },
    {
      "cell_type": "code",
      "source": [
        "y_test_c2 = y_test['cat_2'].to_list()\n",
        "y_test_c2[:2]"
      ],
      "metadata": {
        "colab": {
          "base_uri": "https://localhost:8080/"
        },
        "id": "n_nu56-7wsEv",
        "outputId": "6073a890-4bf8-4b2d-b12f-940376e8320a"
      },
      "execution_count": null,
      "outputs": [
        {
          "output_type": "execute_result",
          "data": {
            "text/plain": [
              "['assistant store managers', 'retail assistants']"
            ]
          },
          "metadata": {},
          "execution_count": 111
        }
      ]
    },
    {
      "cell_type": "markdown",
      "source": [
        "# model class"
      ],
      "metadata": {
        "id": "woDR4JKkN3Ke"
      }
    },
    {
      "cell_type": "code",
      "source": [],
      "metadata": {
        "id": "5uzvY1o0r4Gb"
      },
      "execution_count": null,
      "outputs": []
    },
    {
      "cell_type": "code",
      "source": [
        "\n",
        "class PredictModel:\n",
        "    def __init__(self,corpus_dict, model):\n",
        "        \n",
        "        self.trait_embedding = {}\n",
        "        self.model = model\n",
        "\n",
        "        for trait, sentences in list(corpus_dict.items()):\n",
        "            print(trait)\n",
        "            self.trait_embedding[trait] = self.model.encode(\n",
        "                sentences, convert_to_tensor=True\n",
        "            )\n",
        "\n",
        "    \n",
        "            \n",
        "\n",
        "    def predict(self, input):\n",
        "        input_embeddings = self.model.encode(input, convert_to_tensor=True)\n",
        "        trait_score = {}\n",
        "        max_trait = \"\"\n",
        "        max_score = -float(\"inf\")\n",
        "\n",
        "        for key in self.trait_embedding.keys():\n",
        "            similar_scores = (\n",
        "                util.cos_sim(self.trait_embedding[key], input_embeddings).numpy().max()\n",
        "            )\n",
        "\n",
        "            # print(key, similar_scores)\n",
        "            trait_score[key] = similar_scores\n",
        "            # max_score = max(similar_scores, max_score)\n",
        "            if similar_scores > max_score:\n",
        "                max_trait = key\n",
        "                max_score = similar_scores\n",
        "        # print(max_trait, max_score)\n",
        "        # return max_trait, trait_score\n",
        "        return max_trait\n",
        "\n",
        "    # def infer(self, inputs, show_log=False):\n",
        "    #     predict_labels = []\n",
        "    #     print(type(inputs))\n",
        "    #     print(len(inputs))\n",
        "    #     for x in inputs:\n",
        "    #         max_trait, trait_score = self.predict(x)\n",
        "    #         if show_log:\n",
        "    #             print(max_trait, trait_score)\n",
        "    #         predict_labels.append(max_trait)\n",
        "    #     return predict_labels\n"
      ],
      "metadata": {
        "id": "zI0K92soN2jy"
      },
      "execution_count": null,
      "outputs": []
    },
    {
      "cell_type": "code",
      "source": [
        "class LeavePredictModelHandler:\n",
        "    def __init__(self, df, hierarchy_dict, model, category_level=\"cat_3\"):\n",
        "        self.hierarchy_dict = hierarchy_dict\n",
        "        self.category_level = category_level\n",
        "        corpus_dict_list = self._get_leaves_dicts(df)\n",
        "        self.predict_models = {}\n",
        "        for k, v in corpus_dict_list.items():\n",
        "            self.predict_models[k] = PredictModel(v, model)\n",
        "\n",
        "    def _get_category_dict(self, df, col_data='x_title_feature'):\n",
        "        groups = df[[self.category_level, col_data]].groupby(self.category_level)\n",
        "        res = {key1: group[col_data].to_list() for key1, group in groups}\n",
        "        return res\n",
        "    \n",
        "    def _get_leaves_dicts(self, df, col_data='x_title_feature'):\n",
        "        leaves_dicts = defaultdict(list)\n",
        "\n",
        "        for k, v in self.hierarchy_dict.items():\n",
        "            cat_list = c3_keys = [x[1] for x in v]\n",
        "            cat_df = df[[self.category_level, col_data]][(df[self.category_level].isin(cat_list))]\n",
        "            leaves_dicts[k] = self._get_category_dict(cat_df)\n",
        "        return leaves_dicts\n",
        "\n",
        "    def get_leaves_node_list(self):\n",
        "        return list(self.hierarchy_dict.keys())\n",
        "\n",
        "    def get_leaves_name_id_mapping(self, node_name):\n",
        "        return {v:k for (k,v) in self.hierarchy_dict[node_name]}\n",
        "\n",
        "    def get_predict_model(self, node_name):\n",
        "        return self.predict_models[node_name]\n",
        "\n",
        "    def get_predict_models(self):\n",
        "        return self.predict_models"
      ],
      "metadata": {
        "id": "m9A-VeY7wzds"
      },
      "execution_count": null,
      "outputs": []
    },
    {
      "cell_type": "code",
      "source": [
        "class PredictPipeline:\n",
        "    def __init__(self, train_df, level_1_hierarchy_dict, level_3_hierarchy_dict, unique_categories_mapping):\n",
        "        self.df = train_df\n",
        "        self.unique_categories_mapping = unique_categories_mapping\n",
        "        self.level_1_hierarchy_dict = level_1_hierarchy_dict\n",
        "        self.level_3_hierarchy_dict = level_3_hierarchy_dict\n",
        "        self.model = SentenceTransformer(\"all-MiniLM-L6-v2\")\n",
        "        self.level_2_model = None\n",
        "        self.level_3_models = None\n",
        "        self.level_1_models = None\n",
        "\n",
        "    def _get_category_dict(self, df, category_level, col_data='x_title_feature'):\n",
        "        groups = df[[category_level, col_data]].groupby(category_level)\n",
        "        res = {key1: group[col_data].to_list() for key1, group in groups}\n",
        "        return res\n",
        "\n",
        "    def train(self):\n",
        "        print('train level 2:')\n",
        "        corpus_dict = self._get_category_dict(self.df, 'cat_2')\n",
        "        self.level_2_model = PredictModel( corpus_dict = corpus_dict, model = self.model)\n",
        "        print('train level 3:')\n",
        "        # self.level_3_models = LeavePredictModelHandler(df = self.df, hierarchy_dict = self.level_3_hierarchy_dict, category_level=\"cat_3\", model=self.model)\n",
        "        print('train level 1:')\n",
        "        # self.level_1_models = LeavePredictModelHandler(self.df, self.level_1_hierarchy_dict, category_level=\"cat_1\", model=self.model)\n",
        "    \n",
        "    def _level_predict(self, query, level_model, c2_pred):\n",
        "        node_model = level_model.predict_models[c2_pred]\n",
        "        pred = node_model.predict(query)\n",
        "        return level_model.get_leaves_name_id_mapping(c2_pred)[pred]\n",
        "\n",
        "    def predict(self, query):\n",
        "        c2_pred = self.level_2_model.predict(query)\n",
        "        if c2_pred not in self.unique_categories_mapping:\n",
        "            return -1\n",
        "        # if c2_pred in self.level_3_models.predict_models:\n",
        "        #     return self._level_predict(query = query, level_model = self.level_3_models, c2_pred = c2_pred)\n",
        "        #     # c3_model = self.level_3_models.get_predict_model(c2_pred)\n",
        "        #     # pred = c3_model.predict(query)\n",
        "        #     # return c3_model.get_leaves_name_id_mapping(c2_pred)[pred]\n",
        "        # elif c2_pred in self.level_1_models.predict_models:\n",
        "        #     return self._level_predict(query = query, level_model = self.level_1_models, c2_pred = c2_pred)\n",
        "        #     # c1_model = self.level_1_models.get_predict_model(c2_pred)\n",
        "        #     # pred = c1_model.predict(query)\n",
        "        #     # return c1_model.get_leaves_name_id_mapping(c2_pred)[pred]\n",
        "        # else:\n",
        "        #     return -1\n",
        "\n",
        "        return self.unique_categories_mapping[c2_pred]\n",
        "\n",
        "\n",
        "    def batch_predict(self, queries):\n",
        "        predicts = []\n",
        "        for q in queries:\n",
        "            predicts.append(self.predict(q))\n",
        "        return predicts\n",
        "\n",
        "\n",
        "    def batch_pred_label(self, queries):\n",
        "        predicts = []\n",
        "        for query in queries:\n",
        "            predicts.append(self.level_2_model.predict(query))\n",
        "        return predicts\n"
      ],
      "metadata": {
        "id": "cISsCvCXpGSG"
      },
      "execution_count": null,
      "outputs": []
    },
    {
      "cell_type": "markdown",
      "source": [
        "# Inference"
      ],
      "metadata": {
        "id": "AVQdDsAbA9W6"
      }
    },
    {
      "cell_type": "code",
      "source": [
        "pipeline = PredictPipeline(train_df = train_df, level_1_hierarchy_dict = c1_dict, level_3_hierarchy_dict = c3_dict, unique_categories_mapping= c2_uni_m_df)"
      ],
      "metadata": {
        "id": "ucN6zwMGA_Fj"
      },
      "execution_count": null,
      "outputs": []
    },
    {
      "cell_type": "code",
      "source": [
        "pipeline.train()"
      ],
      "metadata": {
        "colab": {
          "base_uri": "https://localhost:8080/"
        },
        "id": "SxQly91gBMhe",
        "outputId": "5b05f717-01ca-49db-83dc-8ea4fd09e8d0"
      },
      "execution_count": null,
      "outputs": [
        {
          "output_type": "stream",
          "name": "stdout",
          "text": [
            "train level 2:\n",
            "account management\n",
            "accounts administrators\n",
            "accounts payable\n",
            "accounts receivable\n",
            "advertising\n",
            "air con. & refrigeration\n",
            "area managers\n",
            "assistant store managers\n",
            "au pairs & nannies\n",
            "automotive technician\n",
            "bar staff & baristas\n",
            "beautician\n",
            "boat building\n",
            "boilermakers & welders\n",
            "brand & product management\n",
            "building & carpentry\n",
            "building services\n",
            "business & systems analysts\n",
            "business development manager\n",
            "butchers & bakers\n",
            "buying\n",
            "call centre\n",
            "caregiving\n",
            "central government\n",
            "chefs\n",
            "civil & structural\n",
            "cleaning\n",
            "client services\n",
            "commercial sales & leasing\n",
            "communications & pr\n",
            "community & social services\n",
            "consultancy & valuation\n",
            "corporate & institutional banking\n",
            "credit & lending\n",
            "customer-facing\n",
            "data entry\n",
            "data warehousing & bi\n",
            "database\n",
            "defence\n",
            "dentistry\n",
            "department managers\n",
            "design\n",
            "diesel mechanic\n",
            "digital marketing\n",
            "direct marketing\n",
            "doctors & specialists\n",
            "ea, pa & secretarial\n",
            "early childhood\n",
            "energy\n",
            "environmental\n",
            "estimation\n",
            "executive & general management\n",
            "facilities & commercial property management\n",
            "farming\n",
            "finance managers & controllers\n",
            "financial planning & investment\n",
            "fishing\n",
            "fitness & wellbeing\n",
            "fitters & machining\n",
            "flooring\n",
            "forestry\n",
            "freight forwarders\n",
            "functional consultants\n",
            "gardening & landscaping\n",
            "geotechnical\n",
            "glaziers\n",
            "hairdressing\n",
            "handy-persons\n",
            "horticulture\n",
            "housekeeping\n",
            "hr\n",
            "import & export\n",
            "in-house counsel\n",
            "industrial\n",
            "insurance\n",
            "interior design\n",
            "journalism\n",
            "kitchen staff\n",
            "labourers\n",
            "labouring\n",
            "local & regional council\n",
            "machine operation\n",
            "machine operators\n",
            "maintenance\n",
            "market research & analysis\n",
            "marketing assistants & coordinators\n",
            "mechanical\n",
            "merchandising\n",
            "networking & storage\n",
            "occupational therapy\n",
            "office management\n",
            "operations\n",
            "painting\n",
            "panel & paint\n",
            "payroll\n",
            "pharmacy\n",
            "planning\n",
            "plumbing\n",
            "primary\n",
            "printing\n",
            "private practice\n",
            "process & assembly\n",
            "programming & development\n",
            "project & contracts management\n",
            "psychology & counselling\n",
            "purchasing & inventory\n",
            "quality assurance\n",
            "quantity surveying\n",
            "radiography & sonography\n",
            "reception\n",
            "reception & front desk\n",
            "recruitment\n",
            "residential sales & management\n",
            "retail assistants\n",
            "risk & compliance\n",
            "roofing\n",
            "sales & pre-sales\n",
            "sales managers\n",
            "sales reps\n",
            "sales support\n",
            "sales, operations & parts\n",
            "science & technology\n",
            "secondary\n",
            "secretarial\n",
            "service desk\n",
            "sign writers\n",
            "site management\n",
            "store managers\n",
            "storepersons & warehousing\n",
            "supply chain & planning\n",
            "surveying\n",
            "systems engineers\n",
            "technicians\n",
            "telecommunications\n",
            "telesales\n",
            "tellers & branch staff\n",
            "tertiary\n",
            "testing\n",
            "tourism & tour guides\n",
            "traffic management\n",
            "training\n",
            "travel consultants\n",
            "tutoring & training\n",
            "veterinary\n",
            "waiting staff\n",
            "warehouse & distribution\n",
            "water & waste\n",
            "web design\n",
            "train level 3:\n",
            "train level 1:\n"
          ]
        }
      ]
    },
    {
      "cell_type": "code",
      "source": [
        "y_pred = pipeline.batch_predict(X_test)"
      ],
      "metadata": {
        "id": "xHt_Kf2GBSSC"
      },
      "execution_count": null,
      "outputs": []
    },
    {
      "cell_type": "code",
      "source": [
        "# pipeline.level_3_models.predict_models #.get_predict_models()"
      ],
      "metadata": {
        "id": "BqtM3XmJGvV9"
      },
      "execution_count": null,
      "outputs": []
    },
    {
      "cell_type": "code",
      "source": [
        "# pipeline.level_1_models.get_leaves_node_list()"
      ],
      "metadata": {
        "id": "bAMXt-_pDyrp"
      },
      "execution_count": null,
      "outputs": []
    },
    {
      "cell_type": "code",
      "source": [
        "# pipeline.level_1_models.get_predict_model('electrical')"
      ],
      "metadata": {
        "id": "LQAuz2biD7Oj"
      },
      "execution_count": null,
      "outputs": []
    },
    {
      "cell_type": "code",
      "source": [
        "y_test_id[:20]"
      ],
      "metadata": {
        "colab": {
          "base_uri": "https://localhost:8080/"
        },
        "id": "PoZSS8mQu3aU",
        "outputId": "66b1f7ac-0bb5-4529-90cb-9935bc92c8c4"
      },
      "execution_count": null,
      "outputs": [
        {
          "output_type": "execute_result",
          "data": {
            "text/plain": [
              "[5177,\n",
              " 5175,\n",
              " 5185,\n",
              " 6906,\n",
              " 5192,\n",
              " 5167,\n",
              " 5193,\n",
              " 4963,\n",
              " 5129,\n",
              " 5187,\n",
              " 5186,\n",
              " 5139,\n",
              " 5087,\n",
              " 6891,\n",
              " 5084,\n",
              " 4961,\n",
              " 5175,\n",
              " 5058,\n",
              " 5051,\n",
              " 4960]"
            ]
          },
          "metadata": {},
          "execution_count": 121
        }
      ]
    },
    {
      "cell_type": "code",
      "source": [
        "y_pred[:20]"
      ],
      "metadata": {
        "colab": {
          "base_uri": "https://localhost:8080/"
        },
        "id": "sl_Kqj-bxzko",
        "outputId": "5718cf82-71a7-46ac-8850-3903162daa4c"
      },
      "execution_count": null,
      "outputs": [
        {
          "output_type": "execute_result",
          "data": {
            "text/plain": [
              "[5177,\n",
              " 5175,\n",
              " 5185,\n",
              " 6906,\n",
              " 5039,\n",
              " 5074,\n",
              " 5192,\n",
              " 4963,\n",
              " 5129,\n",
              " 5187,\n",
              " 5062,\n",
              " 5139,\n",
              " 5087,\n",
              " 6891,\n",
              " 5084,\n",
              " 4961,\n",
              " 5189,\n",
              " 5058,\n",
              " 5051,\n",
              " 4960]"
            ]
          },
          "metadata": {},
          "execution_count": 122
        }
      ]
    },
    {
      "cell_type": "markdown",
      "source": [
        "# Eval Model"
      ],
      "metadata": {
        "id": "QK8dncZPA27U"
      }
    },
    {
      "cell_type": "code",
      "source": [
        "print('eval Accuracy:',metrics.accuracy_score(y_test_id, y_pred))"
      ],
      "metadata": {
        "id": "GZqL3pVpA6Hp",
        "colab": {
          "base_uri": "https://localhost:8080/"
        },
        "outputId": "08a7103d-d432-48ac-f3f3-713d81fb23d5"
      },
      "execution_count": null,
      "outputs": [
        {
          "output_type": "stream",
          "name": "stdout",
          "text": [
            "eval Accuracy: 0.5807473084230526\n"
          ]
        }
      ]
    },
    {
      "cell_type": "code",
      "source": [
        "print(classification_report(y_test_id, y_pred))"
      ],
      "metadata": {
        "id": "HWNTAdMOBdJ7",
        "colab": {
          "base_uri": "https://localhost:8080/"
        },
        "outputId": "98f55516-9c97-4eb7-d276-08b8d5268b42"
      },
      "execution_count": null,
      "outputs": [
        {
          "output_type": "stream",
          "name": "stdout",
          "text": [
            "              precision    recall  f1-score   support\n",
            "\n",
            "         674       0.00      0.00      0.00         3\n",
            "         728       0.86      0.44      0.59        27\n",
            "         733       0.26      0.32      0.29        22\n",
            "         748       1.00      1.00      1.00         2\n",
            "         749       0.00      0.00      0.00         2\n",
            "         751       0.73      0.73      0.73        15\n",
            "         752       0.88      0.70      0.78        10\n",
            "         755       0.50      0.50      0.50         4\n",
            "         759       0.43      0.50      0.46         6\n",
            "         761       0.73      0.50      0.59        22\n",
            "         764       0.27      0.43      0.33         7\n",
            "         765       0.00      0.00      0.00         1\n",
            "         766       0.00      0.00      0.00         1\n",
            "         768       0.62      0.38      0.48        13\n",
            "         821       0.00      0.00      0.00         2\n",
            "         883       0.09      0.25      0.13         4\n",
            "         897       0.85      0.85      0.85        20\n",
            "        4960       0.57      0.70      0.63        47\n",
            "        4961       0.65      0.55      0.60        31\n",
            "        4963       0.83      0.62      0.71        16\n",
            "        4964       0.42      0.45      0.43        29\n",
            "        5004       0.28      0.56      0.37         9\n",
            "        5005       0.00      0.00      0.00         0\n",
            "        5007       0.35      0.47      0.40        17\n",
            "        5009       0.46      0.40      0.43        15\n",
            "        5012       0.87      0.76      0.81        17\n",
            "        5016       0.65      0.83      0.73        54\n",
            "        5017       0.50      0.82      0.62        11\n",
            "        5018       0.50      0.56      0.53         9\n",
            "        5019       0.49      0.47      0.48        38\n",
            "        5023       0.00      0.00      0.00         1\n",
            "        5024       0.00      0.00      0.00         1\n",
            "        5025       0.00      0.00      0.00         1\n",
            "        5026       1.00      0.67      0.80         6\n",
            "        5027       0.25      0.33      0.29         3\n",
            "        5029       0.57      0.57      0.57         7\n",
            "        5036       0.14      0.33      0.20         6\n",
            "        5037       0.00      0.00      0.00         0\n",
            "        5038       0.25      0.40      0.31         5\n",
            "        5039       0.29      0.25      0.27        75\n",
            "        5040       0.40      0.38      0.39        21\n",
            "        5041       0.78      0.61      0.68        23\n",
            "        5043       0.67      0.50      0.57         8\n",
            "        5046       0.30      0.26      0.28        38\n",
            "        5051       0.95      0.92      0.94        89\n",
            "        5052       0.38      0.43      0.40         7\n",
            "        5053       1.00      0.38      0.55         8\n",
            "        5054       0.25      0.25      0.25         4\n",
            "        5057       0.25      0.20      0.22         5\n",
            "        5058       0.64      0.74      0.69        31\n",
            "        5062       0.17      0.06      0.09        16\n",
            "        5064       0.11      0.09      0.10        22\n",
            "        5066       0.00      0.00      0.00         2\n",
            "        5070       0.33      0.17      0.22         6\n",
            "        5071       0.50      0.39      0.44        18\n",
            "        5073       0.00      0.00      0.00         5\n",
            "        5074       0.51      0.48      0.49       105\n",
            "        5075       0.00      0.00      0.00         2\n",
            "        5078       0.48      0.33      0.39        30\n",
            "        5079       0.44      0.25      0.32        16\n",
            "        5080       0.00      0.00      0.00         1\n",
            "        5084       0.72      0.81      0.76        83\n",
            "        5085       0.58      0.69      0.63        90\n",
            "        5086       0.89      0.73      0.80        11\n",
            "        5087       0.86      0.91      0.89        47\n",
            "        5091       0.75      0.71      0.73        17\n",
            "        5092       0.90      0.64      0.75        14\n",
            "        5094       0.59      0.50      0.54        26\n",
            "        5095       1.00      1.00      1.00         7\n",
            "        5098       0.60      0.60      0.60        40\n",
            "        5099       0.43      0.60      0.50        20\n",
            "        5100       0.82      0.86      0.84       108\n",
            "        5101       0.00      0.00      0.00         1\n",
            "        5102       0.61      0.44      0.51        43\n",
            "        5104       0.00      0.00      0.00         0\n",
            "        5107       0.64      0.74      0.69        31\n",
            "        5110       0.50      0.40      0.44        15\n",
            "        5114       0.70      0.68      0.69        47\n",
            "        5115       0.50      0.25      0.33         4\n",
            "        5116       0.67      0.60      0.63        20\n",
            "        5118       0.67      1.00      0.80         6\n",
            "        5119       0.68      0.62      0.65        74\n",
            "        5121       0.00      0.00      0.00         2\n",
            "        5122       0.33      0.50      0.40         4\n",
            "        5123       0.74      0.80      0.77        25\n",
            "        5124       0.50      0.67      0.57         6\n",
            "        5127       0.38      1.00      0.55         3\n",
            "        5129       0.33      0.67      0.44         3\n",
            "        5130       0.90      0.69      0.78        13\n",
            "        5133       0.06      0.10      0.08        10\n",
            "        5135       0.51      0.52      0.51        75\n",
            "        5138       0.50      0.45      0.48        84\n",
            "        5139       0.33      0.12      0.18         8\n",
            "        5140       0.20      1.00      0.33         1\n",
            "        5141       0.28      0.33      0.30        54\n",
            "        5145       0.29      1.00      0.44         2\n",
            "        5146       0.00      0.00      0.00         1\n",
            "        5147       0.00      0.00      0.00         2\n",
            "        5148       0.50      1.00      0.67         1\n",
            "        5149       0.67      0.33      0.44        12\n",
            "        5150       0.69      0.82      0.75        11\n",
            "        5153       0.00      0.00      0.00         0\n",
            "        5157       0.67      0.50      0.57         4\n",
            "        5158       0.12      0.09      0.11        11\n",
            "        5159       0.82      0.74      0.78        19\n",
            "        5160       0.85      0.61      0.71        18\n",
            "        5164       0.38      0.21      0.27        14\n",
            "        5165       0.18      0.33      0.23         9\n",
            "        5166       0.43      0.55      0.48        11\n",
            "        5167       0.30      0.24      0.27        25\n",
            "        5168       0.20      0.06      0.09        17\n",
            "        5169       0.50      0.50      0.50         4\n",
            "        5173       0.79      0.88      0.84        26\n",
            "        5175       0.58      0.69      0.63       137\n",
            "        5176       0.65      0.42      0.51        36\n",
            "        5177       0.37      0.77      0.50        13\n",
            "        5179       0.59      0.42      0.49        31\n",
            "        5182       0.62      0.65      0.63        20\n",
            "        5184       0.42      0.65      0.51        20\n",
            "        5185       0.70      0.44      0.54        16\n",
            "        5186       0.68      0.75      0.72       167\n",
            "        5187       0.74      0.62      0.67        47\n",
            "        5189       0.50      0.61      0.55        28\n",
            "        5190       0.90      0.95      0.92        19\n",
            "        5191       0.30      0.33      0.32         9\n",
            "        5192       0.36      0.45      0.40        88\n",
            "        5193       0.92      0.65      0.76        34\n",
            "        5194       0.81      0.73      0.77        41\n",
            "        5195       0.00      0.00      0.00         3\n",
            "        5197       0.61      0.48      0.53        42\n",
            "        5311       0.82      0.52      0.64        27\n",
            "        6891       0.70      0.65      0.68        77\n",
            "        6894       0.38      0.62      0.48         8\n",
            "        6895       0.50      0.60      0.55         5\n",
            "        6896       0.17      0.10      0.12        10\n",
            "        6897       0.78      0.78      0.78        18\n",
            "        6898       0.00      0.00      0.00         4\n",
            "        6900       0.00      0.00      0.00         1\n",
            "        6902       1.00      0.60      0.75         5\n",
            "        6903       0.00      0.00      0.00         3\n",
            "        6904       0.80      0.67      0.73         6\n",
            "        6905       0.88      0.88      0.88         8\n",
            "        6906       0.78      0.75      0.77        24\n",
            "        6907       1.00      0.40      0.57         5\n",
            "        9831       0.11      0.18      0.13        11\n",
            "\n",
            "    accuracy                           0.58      3158\n",
            "   macro avg       0.47      0.46      0.45      3158\n",
            "weighted avg       0.59      0.58      0.58      3158\n",
            "\n"
          ]
        },
        {
          "output_type": "stream",
          "name": "stderr",
          "text": [
            "/usr/local/lib/python3.9/dist-packages/sklearn/metrics/_classification.py:1344: UndefinedMetricWarning: Precision and F-score are ill-defined and being set to 0.0 in labels with no predicted samples. Use `zero_division` parameter to control this behavior.\n",
            "  _warn_prf(average, modifier, msg_start, len(result))\n",
            "/usr/local/lib/python3.9/dist-packages/sklearn/metrics/_classification.py:1344: UndefinedMetricWarning: Recall and F-score are ill-defined and being set to 0.0 in labels with no true samples. Use `zero_division` parameter to control this behavior.\n",
            "  _warn_prf(average, modifier, msg_start, len(result))\n",
            "/usr/local/lib/python3.9/dist-packages/sklearn/metrics/_classification.py:1344: UndefinedMetricWarning: Precision and F-score are ill-defined and being set to 0.0 in labels with no predicted samples. Use `zero_division` parameter to control this behavior.\n",
            "  _warn_prf(average, modifier, msg_start, len(result))\n",
            "/usr/local/lib/python3.9/dist-packages/sklearn/metrics/_classification.py:1344: UndefinedMetricWarning: Recall and F-score are ill-defined and being set to 0.0 in labels with no true samples. Use `zero_division` parameter to control this behavior.\n",
            "  _warn_prf(average, modifier, msg_start, len(result))\n",
            "/usr/local/lib/python3.9/dist-packages/sklearn/metrics/_classification.py:1344: UndefinedMetricWarning: Precision and F-score are ill-defined and being set to 0.0 in labels with no predicted samples. Use `zero_division` parameter to control this behavior.\n",
            "  _warn_prf(average, modifier, msg_start, len(result))\n",
            "/usr/local/lib/python3.9/dist-packages/sklearn/metrics/_classification.py:1344: UndefinedMetricWarning: Recall and F-score are ill-defined and being set to 0.0 in labels with no true samples. Use `zero_division` parameter to control this behavior.\n",
            "  _warn_prf(average, modifier, msg_start, len(result))\n"
          ]
        }
      ]
    },
    {
      "cell_type": "markdown",
      "source": [
        "# Eval Model by label"
      ],
      "metadata": {
        "id": "lMW8PodyyEtM"
      }
    },
    {
      "cell_type": "code",
      "source": [
        "y_pred_label = pipeline.batch_pred_label(X_test)"
      ],
      "metadata": {
        "id": "fgvLM480yG5o"
      },
      "execution_count": null,
      "outputs": []
    },
    {
      "cell_type": "code",
      "source": [
        "print('eval Accuracy:',metrics.accuracy_score(y_test_c2, y_pred_label))"
      ],
      "metadata": {
        "colab": {
          "base_uri": "https://localhost:8080/"
        },
        "id": "EN0ZR39kyT6M",
        "outputId": "6778bb93-118b-4e3e-87b3-35f6c631f07d"
      },
      "execution_count": null,
      "outputs": [
        {
          "output_type": "stream",
          "name": "stdout",
          "text": [
            "eval Accuracy: 0.5807473084230526\n"
          ]
        }
      ]
    },
    {
      "cell_type": "code",
      "source": [
        "print(classification_report(y_test_c2, y_pred_label))"
      ],
      "metadata": {
        "colab": {
          "base_uri": "https://localhost:8080/"
        },
        "id": "w_lNflS4yZ6H",
        "outputId": "e92df213-fdb7-49fb-818b-f9084d54879c"
      },
      "execution_count": null,
      "outputs": [
        {
          "output_type": "stream",
          "name": "stdout",
          "text": [
            "                                             precision    recall  f1-score   support\n",
            "\n",
            "                         account management       0.38      0.21      0.27        14\n",
            "                    accounts administrators       0.35      0.47      0.40        17\n",
            "                           accounts payable       0.28      0.56      0.37         9\n",
            "                        accounts receivable       0.00      0.00      0.00         0\n",
            "                   air con. & refrigeration       0.62      0.65      0.63        20\n",
            "                              area managers       0.00      0.00      0.00         1\n",
            "                   assistant store managers       0.37      0.77      0.50        13\n",
            "                         au pairs & nannies       1.00      1.00      1.00         2\n",
            "                      automotive technician       0.57      0.70      0.63        47\n",
            "                       bar staff & baristas       0.60      0.60      0.60        40\n",
            "                                 beautician       1.00      0.60      0.75         5\n",
            "                              boat building       0.00      0.00      0.00         3\n",
            "                     boilermakers & welders       0.42      0.65      0.51        20\n",
            "                 brand & product management       0.29      1.00      0.44         2\n",
            "                       building & carpentry       0.68      0.75      0.72       167\n",
            "                          building services       0.25      0.20      0.22         5\n",
            "                business & systems analysts       0.70      0.68      0.69        47\n",
            "               business development manager       0.18      0.33      0.23         9\n",
            "                          butchers & bakers       0.70      0.44      0.54        16\n",
            "                                     buying       0.00      0.00      0.00         1\n",
            "                                call centre       0.26      0.32      0.29        22\n",
            "                                 caregiving       0.72      0.81      0.76        83\n",
            "                         central government       0.44      0.25      0.32        16\n",
            "                                      chefs       0.82      0.86      0.84       108\n",
            "                         civil & structural       0.64      0.74      0.69        31\n",
            "                                   cleaning       0.74      0.62      0.67        47\n",
            "                            client services       0.00      0.00      0.00         1\n",
            "                 commercial sales & leasing       0.00      0.00      0.00         2\n",
            "                        communications & pr       0.69      0.82      0.75        11\n",
            "                community & social services       0.58      0.69      0.63        90\n",
            "          corporate & institutional banking       0.00      0.00      0.00         1\n",
            "                           credit & lending       1.00      0.67      0.80         6\n",
            "                            customer-facing       0.30      0.26      0.28        38\n",
            "                                 data entry       0.67      0.50      0.57         4\n",
            "                      data warehousing & bi       0.43      0.50      0.46         6\n",
            "                                   database       0.50      0.25      0.33         4\n",
            "                                    defence       0.00      0.00      0.00         1\n",
            "                                  dentistry       0.89      0.73      0.80        11\n",
            "                        department managers       0.62      0.38      0.48        13\n",
            "                                     design       0.00      0.00      0.00         1\n",
            "                            diesel mechanic       0.65      0.55      0.60        31\n",
            "                          digital marketing       0.27      0.43      0.33         7\n",
            "                           direct marketing       0.00      0.00      0.00         2\n",
            "                      doctors & specialists       0.86      0.91      0.89        47\n",
            "                       ea, pa & secretarial       0.82      0.74      0.78        19\n",
            "                            early childhood       0.95      0.92      0.94        89\n",
            "                                     energy       0.50      0.60      0.55         5\n",
            "                                 estimation       0.14      0.33      0.20         6\n",
            "             executive & general management       0.11      0.18      0.13        11\n",
            "facilities & commercial property management       0.09      0.25      0.13         4\n",
            "                                    farming       0.65      0.83      0.73        54\n",
            "             finance managers & controllers       0.46      0.40      0.43        15\n",
            "            financial planning & investment       0.25      0.33      0.29         3\n",
            "                                    fishing       0.50      0.82      0.62        11\n",
            "                        fitness & wellbeing       0.73      0.73      0.73        15\n",
            "                        fitters & machining       0.06      0.10      0.08        10\n",
            "                                   flooring       0.80      0.67      0.73         6\n",
            "                                   forestry       0.50      0.56      0.53         9\n",
            "                         freight forwarders       0.33      0.17      0.22         6\n",
            "                     functional consultants       0.00      0.00      0.00         4\n",
            "                    gardening & landscaping       0.50      0.61      0.55        28\n",
            "                               geotechnical       0.00      0.00      0.00         2\n",
            "                                   glaziers       0.88      0.88      0.88         8\n",
            "                               hairdressing       0.90      0.95      0.92        19\n",
            "                              handy-persons       0.30      0.33      0.32         9\n",
            "                               horticulture       0.49      0.47      0.48        38\n",
            "                               housekeeping       0.78      0.78      0.78        18\n",
            "                                         hr       0.64      0.74      0.69        31\n",
            "                            import & export       0.00      0.00      0.00         2\n",
            "                           in-house counsel       0.33      0.67      0.44         3\n",
            "                                 industrial       0.17      0.10      0.12        10\n",
            "                                  insurance       0.57      0.57      0.57         7\n",
            "                            interior design       0.00      0.00      0.00         0\n",
            "                                 journalism       0.00      0.00      0.00         0\n",
            "                              kitchen staff       0.61      0.44      0.51        43\n",
            "                                  labourers       0.36      0.45      0.40        88\n",
            "                                  labouring       0.29      0.25      0.27        75\n",
            "                   local & regional council       0.48      0.33      0.39        30\n",
            "                          machine operation       0.51      0.52      0.51        75\n",
            "                          machine operators       0.70      0.65      0.68        77\n",
            "                                maintenance       0.17      0.06      0.09        16\n",
            "                 market research & analysis       0.50      1.00      0.67         1\n",
            "        marketing assistants & coordinators       0.67      0.33      0.44        12\n",
            "                                 mechanical       0.11      0.09      0.10        22\n",
            "                              merchandising       0.79      0.88      0.84        26\n",
            "                       networking & storage       0.67      1.00      0.80         6\n",
            "                       occupational therapy       0.75      0.71      0.73        17\n",
            "                          office management       0.12      0.09      0.11        11\n",
            "                                 operations       0.50      0.39      0.44        18\n",
            "                                   painting       0.92      0.65      0.76        34\n",
            "                              panel & paint       0.83      0.62      0.71        16\n",
            "                                    payroll       0.87      0.76      0.81        17\n",
            "                                   pharmacy       0.90      0.64      0.75        14\n",
            "                                   planning       0.25      0.40      0.31         5\n",
            "                                   plumbing       0.81      0.73      0.77        41\n",
            "                                    primary       0.38      0.43      0.40         7\n",
            "                                   printing       0.00      0.00      0.00         3\n",
            "                           private practice       0.90      0.69      0.78        13\n",
            "                         process & assembly       0.50      0.45      0.48        84\n",
            "                  programming & development       0.68      0.62      0.65        74\n",
            "             project & contracts management       0.40      0.38      0.39        21\n",
            "                   psychology & counselling       0.59      0.50      0.54        26\n",
            "                     purchasing & inventory       0.33      0.12      0.18         8\n",
            "                          quality assurance       0.20      1.00      0.33         1\n",
            "                         quantity surveying       0.86      0.44      0.59        27\n",
            "                   radiography & sonography       1.00      1.00      1.00         7\n",
            "                                  reception       0.85      0.61      0.71        18\n",
            "                     reception & front desk       0.00      0.00      0.00         1\n",
            "                                recruitment       0.50      0.40      0.44        15\n",
            "             residential sales & management       0.85      0.85      0.85        20\n",
            "                          retail assistants       0.58      0.69      0.63       137\n",
            "                          risk & compliance       0.00      0.00      0.00         3\n",
            "                                    roofing       0.78      0.75      0.77        24\n",
            "                          sales & pre-sales       0.00      0.00      0.00         2\n",
            "                             sales managers       0.43      0.55      0.48        11\n",
            "                                 sales reps       0.30      0.24      0.27        25\n",
            "                              sales support       0.20      0.06      0.09        17\n",
            "                  sales, operations & parts       0.42      0.45      0.43        29\n",
            "                       science & technology       0.59      0.42      0.49        31\n",
            "                                  secondary       1.00      0.38      0.55         8\n",
            "                                secretarial       0.38      1.00      0.55         3\n",
            "                               service desk       0.67      0.60      0.63        20\n",
            "                               sign writers       1.00      0.40      0.57         5\n",
            "                            site management       0.78      0.61      0.68        23\n",
            "                             store managers       0.65      0.42      0.51        36\n",
            "                 storepersons & warehousing       0.28      0.33      0.30        54\n",
            "                    supply chain & planning       0.00      0.00      0.00         5\n",
            "                                  surveying       0.67      0.50      0.57         8\n",
            "                          systems engineers       0.73      0.50      0.59        22\n",
            "                                technicians       0.61      0.48      0.53        42\n",
            "                         telecommunications       0.33      0.50      0.40         4\n",
            "                                  telesales       0.50      0.50      0.50         4\n",
            "                     tellers & branch staff       0.00      0.00      0.00         1\n",
            "                                   tertiary       0.25      0.25      0.25         4\n",
            "                                    testing       0.74      0.80      0.77        25\n",
            "                      tourism & tour guides       0.50      0.50      0.50         4\n",
            "                         traffic management       0.82      0.52      0.64        27\n",
            "                                   training       0.00      0.00      0.00         1\n",
            "                         travel consultants       0.00      0.00      0.00         0\n",
            "                        tutoring & training       0.38      0.62      0.48         8\n",
            "                                 veterinary       0.88      0.70      0.78        10\n",
            "                              waiting staff       0.43      0.60      0.50        20\n",
            "                   warehouse & distribution       0.51      0.48      0.49       105\n",
            "                              water & waste       0.00      0.00      0.00         2\n",
            "                                 web design       0.50      0.67      0.57         6\n",
            "\n",
            "                                   accuracy                           0.58      3158\n",
            "                                  macro avg       0.47      0.46      0.45      3158\n",
            "                               weighted avg       0.59      0.58      0.58      3158\n",
            "\n"
          ]
        },
        {
          "output_type": "stream",
          "name": "stderr",
          "text": [
            "/usr/local/lib/python3.9/dist-packages/sklearn/metrics/_classification.py:1344: UndefinedMetricWarning: Precision and F-score are ill-defined and being set to 0.0 in labels with no predicted samples. Use `zero_division` parameter to control this behavior.\n",
            "  _warn_prf(average, modifier, msg_start, len(result))\n",
            "/usr/local/lib/python3.9/dist-packages/sklearn/metrics/_classification.py:1344: UndefinedMetricWarning: Recall and F-score are ill-defined and being set to 0.0 in labels with no true samples. Use `zero_division` parameter to control this behavior.\n",
            "  _warn_prf(average, modifier, msg_start, len(result))\n",
            "/usr/local/lib/python3.9/dist-packages/sklearn/metrics/_classification.py:1344: UndefinedMetricWarning: Precision and F-score are ill-defined and being set to 0.0 in labels with no predicted samples. Use `zero_division` parameter to control this behavior.\n",
            "  _warn_prf(average, modifier, msg_start, len(result))\n",
            "/usr/local/lib/python3.9/dist-packages/sklearn/metrics/_classification.py:1344: UndefinedMetricWarning: Recall and F-score are ill-defined and being set to 0.0 in labels with no true samples. Use `zero_division` parameter to control this behavior.\n",
            "  _warn_prf(average, modifier, msg_start, len(result))\n",
            "/usr/local/lib/python3.9/dist-packages/sklearn/metrics/_classification.py:1344: UndefinedMetricWarning: Precision and F-score are ill-defined and being set to 0.0 in labels with no predicted samples. Use `zero_division` parameter to control this behavior.\n",
            "  _warn_prf(average, modifier, msg_start, len(result))\n",
            "/usr/local/lib/python3.9/dist-packages/sklearn/metrics/_classification.py:1344: UndefinedMetricWarning: Recall and F-score are ill-defined and being set to 0.0 in labels with no true samples. Use `zero_division` parameter to control this behavior.\n",
            "  _warn_prf(average, modifier, msg_start, len(result))\n"
          ]
        }
      ]
    },
    {
      "cell_type": "markdown",
      "source": [
        "# Practice"
      ],
      "metadata": {
        "id": "AraiP2OsroJz"
      }
    },
    {
      "cell_type": "code",
      "source": [
        "test_c3_dict = {'accountants': [(621, 'business advisory services'),\n",
        "  (6882, 'assistant accountants'),\n",
        "  (6883, 'audit'),\n",
        "  (6884, 'financial accounting & reporting'),\n",
        "  (6885, 'general / ca'),\n",
        "  (6886, 'management accountants'),\n",
        "  (6887, 'tax')]}"
      ],
      "metadata": {
        "id": "gDLcm713z6TJ"
      },
      "execution_count": null,
      "outputs": []
    },
    {
      "cell_type": "code",
      "source": [
        "test_c1_dict = {'administration': [(5083, 'healthcare'), (5156, 'office & administration')]}"
      ],
      "metadata": {
        "id": "XP8q42Z4z_K-"
      },
      "execution_count": null,
      "outputs": []
    },
    {
      "cell_type": "code",
      "source": [
        "pipeline = PredictPipeline(train_df = train_df, level_1_hierarchy_dict = test_c1_dict, level_3_hierarchy_dict = test_c3_dict, unique_categories_mapping= c2_uni_m_df)"
      ],
      "metadata": {
        "id": "Cbq24iQwrncr"
      },
      "execution_count": null,
      "outputs": []
    },
    {
      "cell_type": "code",
      "source": [
        "pipeline.train()"
      ],
      "metadata": {
        "colab": {
          "base_uri": "https://localhost:8080/"
        },
        "id": "xpTAeIT4rzBL",
        "outputId": "ba0bb7f8-843f-45db-f4b3-f4c4aa09a375"
      },
      "execution_count": null,
      "outputs": [
        {
          "output_type": "stream",
          "name": "stdout",
          "text": [
            "train level 2:\n",
            "account management\n",
            "accountants\n",
            "accounts administrators\n",
            "accounts payable\n",
            "accounts receivable\n",
            "administration\n",
            "advertising\n",
            "air con. & refrigeration\n",
            "analysts\n",
            "architects\n",
            "area managers\n",
            "assistant store managers\n",
            "au pairs & nannies\n",
            "automotive technician\n",
            "bar staff & baristas\n",
            "beautician\n",
            "boat building\n",
            "boilermakers & welders\n",
            "brand & product management\n",
            "building & carpentry\n",
            "building services\n",
            "business & systems analysts\n",
            "business development manager\n",
            "butchers & bakers\n",
            "buying\n",
            "call centre\n",
            "caregiving\n",
            "central government\n",
            "chefs\n",
            "civil & structural\n",
            "cleaning\n",
            "client services\n",
            "commercial sales & leasing\n",
            "communications & pr\n",
            "community & social services\n",
            "consultancy & valuation\n",
            "corporate & institutional banking\n",
            "credit & lending\n",
            "customer-facing\n",
            "data entry\n",
            "data warehousing & bi\n",
            "database\n",
            "defence\n",
            "dentistry\n",
            "department managers\n",
            "design\n",
            "diesel mechanic\n",
            "digital marketing\n",
            "direct marketing\n",
            "doctors & specialists\n",
            "drafting\n",
            "drivers & couriers\n",
            "ea, pa & secretarial\n",
            "early childhood\n",
            "electrical\n",
            "energy\n",
            "environmental\n",
            "estimation\n",
            "executive & general management\n",
            "facilities & commercial property management\n",
            "farming\n",
            "finance managers & controllers\n",
            "financial planning & investment\n",
            "fishing\n",
            "fitness & wellbeing\n",
            "fitters & machining\n",
            "flooring\n",
            "forestry\n",
            "freight forwarders\n",
            "functional consultants\n",
            "gardening & landscaping\n",
            "geotechnical\n",
            "glaziers\n",
            "hairdressing\n",
            "handy-persons\n",
            "health & safety\n",
            "horticulture\n",
            "housekeeping\n",
            "hr\n",
            "import & export\n",
            "in-house counsel\n",
            "industrial\n",
            "insurance\n",
            "interior design\n",
            "journalism\n",
            "kitchen staff\n",
            "labourers\n",
            "labouring\n",
            "local & regional council\n",
            "machine operation\n",
            "machine operators\n",
            "maintenance\n",
            "management\n",
            "market research & analysis\n",
            "marketing assistants & coordinators\n",
            "mechanical\n",
            "merchandising\n",
            "networking & storage\n",
            "nursing & midwifery\n",
            "occupational therapy\n",
            "office management\n",
            "operations\n",
            "painting\n",
            "panel & paint\n",
            "payroll\n",
            "pharmacy\n",
            "planning\n",
            "plumbing\n",
            "primary\n",
            "printing\n",
            "private practice\n",
            "process & assembly\n",
            "programming & development\n",
            "project & contracts management\n",
            "project management\n",
            "psychology & counselling\n",
            "purchasing & inventory\n",
            "quality assurance\n",
            "quantity surveying\n",
            "radiography & sonography\n",
            "reception\n",
            "reception & front desk\n",
            "recruitment\n",
            "residential sales & management\n",
            "retail assistants\n",
            "risk & compliance\n",
            "roofing\n",
            "sales & pre-sales\n",
            "sales managers\n",
            "sales reps\n",
            "sales support\n",
            "sales, operations & parts\n",
            "science & technology\n",
            "secondary\n",
            "secretarial\n",
            "security\n",
            "service desk\n",
            "sign writers\n",
            "site management\n",
            "store managers\n",
            "storepersons & warehousing\n",
            "supervisors & forepersons\n",
            "supply chain & planning\n",
            "surveying\n",
            "systems engineers\n",
            "technicians\n",
            "telecommunications\n",
            "telesales\n",
            "tellers & branch staff\n",
            "tertiary\n",
            "testing\n",
            "tourism & tour guides\n",
            "traffic management\n",
            "training\n",
            "travel consultants\n",
            "tutoring & training\n",
            "veterinary\n",
            "waiting staff\n",
            "warehouse & distribution\n",
            "water & waste\n",
            "web design\n",
            "train level 3:\n",
            "assistant accountants\n",
            "audit\n",
            "business advisory services\n",
            "financial accounting & reporting\n",
            "general / ca\n",
            "management accountants\n",
            "tax\n",
            "train level 1:\n",
            "healthcare\n",
            "office & administration\n"
          ]
        }
      ]
    },
    {
      "cell_type": "code",
      "source": [
        "pipeline.predict('accountant - retail')"
      ],
      "metadata": {
        "colab": {
          "base_uri": "https://localhost:8080/"
        },
        "id": "WldVPxqR1tm4",
        "outputId": "8ccc2fd8-4c9c-4d80-b4b1-1b87a80a312f"
      },
      "execution_count": null,
      "outputs": [
        {
          "output_type": "execute_result",
          "data": {
            "text/plain": [
              "621"
            ]
          },
          "metadata": {},
          "execution_count": 130
        }
      ]
    },
    {
      "cell_type": "code",
      "source": [
        "pipeline.predict('account manager')"
      ],
      "metadata": {
        "colab": {
          "base_uri": "https://localhost:8080/"
        },
        "id": "5ftM4-OaAJAy",
        "outputId": "3e1f103b-0982-449b-a298-d4cc41a3487a"
      },
      "execution_count": null,
      "outputs": [
        {
          "output_type": "execute_result",
          "data": {
            "text/plain": [
              "5164"
            ]
          },
          "metadata": {},
          "execution_count": 131
        }
      ]
    },
    {
      "cell_type": "code",
      "source": [],
      "metadata": {
        "id": "f45lrfnc-6FO"
      },
      "execution_count": null,
      "outputs": []
    }
  ]
}