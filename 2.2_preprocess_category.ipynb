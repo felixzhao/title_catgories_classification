{
  "nbformat": 4,
  "nbformat_minor": 0,
  "metadata": {
    "colab": {
      "provenance": [],
      "authorship_tag": "ABX9TyMrdk+IWn7boKZd8e6PbiRj",
      "include_colab_link": true
    },
    "kernelspec": {
      "name": "python3",
      "display_name": "Python 3"
    },
    "language_info": {
      "name": "python"
    },
    "gpuClass": "standard"
  },
  "cells": [
    {
      "cell_type": "markdown",
      "metadata": {
        "id": "view-in-github",
        "colab_type": "text"
      },
      "source": [
        "<a href=\"https://colab.research.google.com/github/felixzhao/title_catgories_classification/blob/main/2.2_preprocess_category.ipynb\" target=\"_parent\"><img src=\"https://colab.research.google.com/assets/colab-badge.svg\" alt=\"Open In Colab\"/></a>"
      ]
    },
    {
      "cell_type": "markdown",
      "source": [
        "# load packages"
      ],
      "metadata": {
        "id": "D4_k8TOxi70W"
      }
    },
    {
      "cell_type": "code",
      "execution_count": null,
      "metadata": {
        "id": "x8kgHpZQ85G4"
      },
      "outputs": [],
      "source": [
        "import pandas as pd\n",
        "import json\n",
        "import pickle"
      ]
    },
    {
      "cell_type": "markdown",
      "source": [
        "load data\n",
        "This work loads data from google drive. Please put the files into \"trademe_data\" folder under the root of google drive.\n",
        "\n",
        "Then run the following code to mount the google drive in colab.\n",
        "\n",
        "You can follow the guide. https://towardsdatascience.com/different-ways-to-connect-google-drive-to-a-google-colab-notebook-pt-1-de03433d2f7a"
      ],
      "metadata": {
        "id": "1aW75fGu9Fgh"
      }
    },
    {
      "cell_type": "code",
      "source": [
        "from google.colab import drive\n",
        "drive.mount('/content/drive')\n",
        "root_path = \"drive/MyDrive/trademe_data/\""
      ],
      "metadata": {
        "colab": {
          "base_uri": "https://localhost:8080/"
        },
        "id": "yriR5_n99F7Z",
        "outputId": "c1ef66e0-8b39-4b6c-d21e-7f810bb4049c"
      },
      "execution_count": null,
      "outputs": [
        {
          "output_type": "stream",
          "name": "stdout",
          "text": [
            "Mounted at /content/drive\n"
          ]
        }
      ]
    },
    {
      "cell_type": "markdown",
      "source": [
        "# load  data"
      ],
      "metadata": {
        "id": "6XjRHu5N9T46"
      }
    },
    {
      "cell_type": "code",
      "source": [
        "cat_raw = pd.read_csv(f\"{root_path}categories.csv\")\n",
        "cat_raw.head(1)"
      ],
      "metadata": {
        "id": "KyWXpSNUjZP0",
        "colab": {
          "base_uri": "https://localhost:8080/",
          "height": 81
        },
        "outputId": "a627db5c-e102-40e5-958f-d82dab777337"
      },
      "execution_count": null,
      "outputs": [
        {
          "output_type": "execute_result",
          "data": {
            "text/plain": [
              "   y_cat_id                   cat_1            cat_2            cat_3\n",
              "0      4957  construction & roading  health & safety  health & safety"
            ],
            "text/html": [
              "\n",
              "  <div id=\"df-44707e2d-9d54-4420-b04e-d6b8d096613c\">\n",
              "    <div class=\"colab-df-container\">\n",
              "      <div>\n",
              "<style scoped>\n",
              "    .dataframe tbody tr th:only-of-type {\n",
              "        vertical-align: middle;\n",
              "    }\n",
              "\n",
              "    .dataframe tbody tr th {\n",
              "        vertical-align: top;\n",
              "    }\n",
              "\n",
              "    .dataframe thead th {\n",
              "        text-align: right;\n",
              "    }\n",
              "</style>\n",
              "<table border=\"1\" class=\"dataframe\">\n",
              "  <thead>\n",
              "    <tr style=\"text-align: right;\">\n",
              "      <th></th>\n",
              "      <th>y_cat_id</th>\n",
              "      <th>cat_1</th>\n",
              "      <th>cat_2</th>\n",
              "      <th>cat_3</th>\n",
              "    </tr>\n",
              "  </thead>\n",
              "  <tbody>\n",
              "    <tr>\n",
              "      <th>0</th>\n",
              "      <td>4957</td>\n",
              "      <td>construction &amp; roading</td>\n",
              "      <td>health &amp; safety</td>\n",
              "      <td>health &amp; safety</td>\n",
              "    </tr>\n",
              "  </tbody>\n",
              "</table>\n",
              "</div>\n",
              "      <button class=\"colab-df-convert\" onclick=\"convertToInteractive('df-44707e2d-9d54-4420-b04e-d6b8d096613c')\"\n",
              "              title=\"Convert this dataframe to an interactive table.\"\n",
              "              style=\"display:none;\">\n",
              "        \n",
              "  <svg xmlns=\"http://www.w3.org/2000/svg\" height=\"24px\"viewBox=\"0 0 24 24\"\n",
              "       width=\"24px\">\n",
              "    <path d=\"M0 0h24v24H0V0z\" fill=\"none\"/>\n",
              "    <path d=\"M18.56 5.44l.94 2.06.94-2.06 2.06-.94-2.06-.94-.94-2.06-.94 2.06-2.06.94zm-11 1L8.5 8.5l.94-2.06 2.06-.94-2.06-.94L8.5 2.5l-.94 2.06-2.06.94zm10 10l.94 2.06.94-2.06 2.06-.94-2.06-.94-.94-2.06-.94 2.06-2.06.94z\"/><path d=\"M17.41 7.96l-1.37-1.37c-.4-.4-.92-.59-1.43-.59-.52 0-1.04.2-1.43.59L10.3 9.45l-7.72 7.72c-.78.78-.78 2.05 0 2.83L4 21.41c.39.39.9.59 1.41.59.51 0 1.02-.2 1.41-.59l7.78-7.78 2.81-2.81c.8-.78.8-2.07 0-2.86zM5.41 20L4 18.59l7.72-7.72 1.47 1.35L5.41 20z\"/>\n",
              "  </svg>\n",
              "      </button>\n",
              "      \n",
              "  <style>\n",
              "    .colab-df-container {\n",
              "      display:flex;\n",
              "      flex-wrap:wrap;\n",
              "      gap: 12px;\n",
              "    }\n",
              "\n",
              "    .colab-df-convert {\n",
              "      background-color: #E8F0FE;\n",
              "      border: none;\n",
              "      border-radius: 50%;\n",
              "      cursor: pointer;\n",
              "      display: none;\n",
              "      fill: #1967D2;\n",
              "      height: 32px;\n",
              "      padding: 0 0 0 0;\n",
              "      width: 32px;\n",
              "    }\n",
              "\n",
              "    .colab-df-convert:hover {\n",
              "      background-color: #E2EBFA;\n",
              "      box-shadow: 0px 1px 2px rgba(60, 64, 67, 0.3), 0px 1px 3px 1px rgba(60, 64, 67, 0.15);\n",
              "      fill: #174EA6;\n",
              "    }\n",
              "\n",
              "    [theme=dark] .colab-df-convert {\n",
              "      background-color: #3B4455;\n",
              "      fill: #D2E3FC;\n",
              "    }\n",
              "\n",
              "    [theme=dark] .colab-df-convert:hover {\n",
              "      background-color: #434B5C;\n",
              "      box-shadow: 0px 1px 3px 1px rgba(0, 0, 0, 0.15);\n",
              "      filter: drop-shadow(0px 1px 2px rgba(0, 0, 0, 0.3));\n",
              "      fill: #FFFFFF;\n",
              "    }\n",
              "  </style>\n",
              "\n",
              "      <script>\n",
              "        const buttonEl =\n",
              "          document.querySelector('#df-44707e2d-9d54-4420-b04e-d6b8d096613c button.colab-df-convert');\n",
              "        buttonEl.style.display =\n",
              "          google.colab.kernel.accessAllowed ? 'block' : 'none';\n",
              "\n",
              "        async function convertToInteractive(key) {\n",
              "          const element = document.querySelector('#df-44707e2d-9d54-4420-b04e-d6b8d096613c');\n",
              "          const dataTable =\n",
              "            await google.colab.kernel.invokeFunction('convertToInteractive',\n",
              "                                                     [key], {});\n",
              "          if (!dataTable) return;\n",
              "\n",
              "          const docLinkHtml = 'Like what you see? Visit the ' +\n",
              "            '<a target=\"_blank\" href=https://colab.research.google.com/notebooks/data_table.ipynb>data table notebook</a>'\n",
              "            + ' to learn more about interactive tables.';\n",
              "          element.innerHTML = '';\n",
              "          dataTable['output_type'] = 'display_data';\n",
              "          await google.colab.output.renderOutput(dataTable, element);\n",
              "          const docLink = document.createElement('div');\n",
              "          docLink.innerHTML = docLinkHtml;\n",
              "          element.appendChild(docLink);\n",
              "        }\n",
              "      </script>\n",
              "    </div>\n",
              "  </div>\n",
              "  "
            ]
          },
          "metadata": {},
          "execution_count": 3
        }
      ]
    },
    {
      "cell_type": "markdown",
      "source": [
        "# get level 3 hierarchy"
      ],
      "metadata": {
        "id": "9Lp8wyls0Fxa"
      }
    },
    {
      "cell_type": "code",
      "source": [
        "c3_dict = {}\n",
        "\n",
        "c3_grouped = cat_raw.groupby(['cat_2', 'cat_1'])\n",
        "\n",
        "for name, group in c3_grouped:\n",
        "    # print(name)\n",
        "    # print(group)\n",
        "    # if len(group) > 1:\n",
        "    #     print(name[0])\n",
        "    #     print(group.cat_3.to_list())\n",
        "    if len(group) > 1:\n",
        "        c3_dict[name[0]] = group.cat_3.to_list()\n",
        "\n",
        "c3_dict"
      ],
      "metadata": {
        "colab": {
          "base_uri": "https://localhost:8080/"
        },
        "id": "pdH3EbJH0IC1",
        "outputId": "2e6912f1-ebc9-454e-a256-b245ede0cc95"
      },
      "execution_count": null,
      "outputs": [
        {
          "output_type": "execute_result",
          "data": {
            "text/plain": [
              "{'accountants': ['business advisory services',\n",
              "  'assistant accountants',\n",
              "  'audit',\n",
              "  'financial accounting & reporting',\n",
              "  'general / ca',\n",
              "  'management accountants',\n",
              "  'tax'],\n",
              " 'drivers & couriers': ['couriers', 'truck ht'],\n",
              " 'nursing & midwifery': ['community & primary care',\n",
              "  'critical care & emergency',\n",
              "  'medical',\n",
              "  'mental health',\n",
              "  'paediatrics',\n",
              "  'surgical',\n",
              "  'theatre & recovery',\n",
              "  'women’s health']}"
            ]
          },
          "metadata": {},
          "execution_count": 4
        }
      ]
    },
    {
      "cell_type": "code",
      "source": [
        "c1_dict = {}\n",
        "\n",
        "c1_grouped = cat_raw.groupby(['cat_2', 'cat_3'])\n",
        "\n",
        "for name, group in c1_grouped:\n",
        "    if len(group) > 1:\n",
        "        c1_dict[name[0]] = group.cat_1.to_list()\n",
        "\n",
        "c1_dict"
      ],
      "metadata": {
        "colab": {
          "base_uri": "https://localhost:8080/"
        },
        "id": "qHvo_AOD0LWz",
        "outputId": "21d460e2-e734-4dfd-87a1-0d7edc29d76f"
      },
      "execution_count": null,
      "outputs": [
        {
          "output_type": "execute_result",
          "data": {
            "text/plain": [
              "{'administration': ['healthcare', 'office & administration'],\n",
              " 'analysts': ['banking, finance & insurance', 'accounting'],\n",
              " 'architects': ['architecture', 'it'],\n",
              " 'drafting': ['architecture', 'engineering'],\n",
              " 'electrical': ['engineering', 'trades & services'],\n",
              " 'health & safety': ['construction & roading', 'hr & recruitment'],\n",
              " 'management': ['automotive',\n",
              "  'accounting',\n",
              "  'banking, finance & insurance',\n",
              "  'customer service',\n",
              "  'engineering',\n",
              "  'transport & logistics',\n",
              "  'healthcare',\n",
              "  'hospitality & tourism',\n",
              "  'it',\n",
              "  'manufacturing & operations',\n",
              "  'marketing, media & communications',\n",
              "  'retail'],\n",
              " 'project management': ['engineering', 'it'],\n",
              " 'security': ['trades & services', 'it'],\n",
              " 'supervisors & forepersons': ['construction & roading',\n",
              "  'manufacturing & operations']}"
            ]
          },
          "metadata": {},
          "execution_count": 5
        }
      ]
    },
    {
      "cell_type": "markdown",
      "source": [
        "# Save to file"
      ],
      "metadata": {
        "id": "wbxyzqyK00X_"
      }
    },
    {
      "cell_type": "code",
      "source": [
        "def write_to_file(file_name, dict_to_save):\n",
        "    with open(file_name, \"w\") as file:\n",
        "        json.dump(dict_to_save, file, indent=4)  "
      ],
      "metadata": {
        "id": "pgmVOY-e0UTD"
      },
      "execution_count": null,
      "outputs": []
    },
    {
      "cell_type": "code",
      "source": [
        "write_to_file(f\"{root_path}c3_dict.json\", c3_dict)"
      ],
      "metadata": {
        "id": "LbiJ1MbT1XG3"
      },
      "execution_count": null,
      "outputs": []
    },
    {
      "cell_type": "code",
      "source": [
        "write_to_file(f\"{root_path}c1_dict.json\", c1_dict)"
      ],
      "metadata": {
        "id": "Fn16tMrQ1kvi"
      },
      "execution_count": null,
      "outputs": []
    },
    {
      "cell_type": "code",
      "source": [],
      "metadata": {
        "id": "KTnx5uMR1xZv"
      },
      "execution_count": null,
      "outputs": []
    },
    {
      "cell_type": "markdown",
      "source": [
        "# Get label id mapping for each level"
      ],
      "metadata": {
        "id": "D2o86V6bwVhp"
      }
    },
    {
      "cell_type": "markdown",
      "source": [
        "## Category Level 2"
      ],
      "metadata": {
        "id": "4Iw4JstBwbCH"
      }
    },
    {
      "cell_type": "code",
      "source": [
        "cat_raw.head(1)"
      ],
      "metadata": {
        "colab": {
          "base_uri": "https://localhost:8080/",
          "height": 81
        },
        "id": "vi49JiElwY-1",
        "outputId": "ffeaf337-2eb1-4d85-ff8b-0183ddf0a380"
      },
      "execution_count": null,
      "outputs": [
        {
          "output_type": "execute_result",
          "data": {
            "text/plain": [
              "   y_cat_id                   cat_1            cat_2            cat_3\n",
              "0      4957  construction & roading  health & safety  health & safety"
            ],
            "text/html": [
              "\n",
              "  <div id=\"df-8c65fc3a-386b-49ad-89e5-5ec3b9db3fb8\">\n",
              "    <div class=\"colab-df-container\">\n",
              "      <div>\n",
              "<style scoped>\n",
              "    .dataframe tbody tr th:only-of-type {\n",
              "        vertical-align: middle;\n",
              "    }\n",
              "\n",
              "    .dataframe tbody tr th {\n",
              "        vertical-align: top;\n",
              "    }\n",
              "\n",
              "    .dataframe thead th {\n",
              "        text-align: right;\n",
              "    }\n",
              "</style>\n",
              "<table border=\"1\" class=\"dataframe\">\n",
              "  <thead>\n",
              "    <tr style=\"text-align: right;\">\n",
              "      <th></th>\n",
              "      <th>y_cat_id</th>\n",
              "      <th>cat_1</th>\n",
              "      <th>cat_2</th>\n",
              "      <th>cat_3</th>\n",
              "    </tr>\n",
              "  </thead>\n",
              "  <tbody>\n",
              "    <tr>\n",
              "      <th>0</th>\n",
              "      <td>4957</td>\n",
              "      <td>construction &amp; roading</td>\n",
              "      <td>health &amp; safety</td>\n",
              "      <td>health &amp; safety</td>\n",
              "    </tr>\n",
              "  </tbody>\n",
              "</table>\n",
              "</div>\n",
              "      <button class=\"colab-df-convert\" onclick=\"convertToInteractive('df-8c65fc3a-386b-49ad-89e5-5ec3b9db3fb8')\"\n",
              "              title=\"Convert this dataframe to an interactive table.\"\n",
              "              style=\"display:none;\">\n",
              "        \n",
              "  <svg xmlns=\"http://www.w3.org/2000/svg\" height=\"24px\"viewBox=\"0 0 24 24\"\n",
              "       width=\"24px\">\n",
              "    <path d=\"M0 0h24v24H0V0z\" fill=\"none\"/>\n",
              "    <path d=\"M18.56 5.44l.94 2.06.94-2.06 2.06-.94-2.06-.94-.94-2.06-.94 2.06-2.06.94zm-11 1L8.5 8.5l.94-2.06 2.06-.94-2.06-.94L8.5 2.5l-.94 2.06-2.06.94zm10 10l.94 2.06.94-2.06 2.06-.94-2.06-.94-.94-2.06-.94 2.06-2.06.94z\"/><path d=\"M17.41 7.96l-1.37-1.37c-.4-.4-.92-.59-1.43-.59-.52 0-1.04.2-1.43.59L10.3 9.45l-7.72 7.72c-.78.78-.78 2.05 0 2.83L4 21.41c.39.39.9.59 1.41.59.51 0 1.02-.2 1.41-.59l7.78-7.78 2.81-2.81c.8-.78.8-2.07 0-2.86zM5.41 20L4 18.59l7.72-7.72 1.47 1.35L5.41 20z\"/>\n",
              "  </svg>\n",
              "      </button>\n",
              "      \n",
              "  <style>\n",
              "    .colab-df-container {\n",
              "      display:flex;\n",
              "      flex-wrap:wrap;\n",
              "      gap: 12px;\n",
              "    }\n",
              "\n",
              "    .colab-df-convert {\n",
              "      background-color: #E8F0FE;\n",
              "      border: none;\n",
              "      border-radius: 50%;\n",
              "      cursor: pointer;\n",
              "      display: none;\n",
              "      fill: #1967D2;\n",
              "      height: 32px;\n",
              "      padding: 0 0 0 0;\n",
              "      width: 32px;\n",
              "    }\n",
              "\n",
              "    .colab-df-convert:hover {\n",
              "      background-color: #E2EBFA;\n",
              "      box-shadow: 0px 1px 2px rgba(60, 64, 67, 0.3), 0px 1px 3px 1px rgba(60, 64, 67, 0.15);\n",
              "      fill: #174EA6;\n",
              "    }\n",
              "\n",
              "    [theme=dark] .colab-df-convert {\n",
              "      background-color: #3B4455;\n",
              "      fill: #D2E3FC;\n",
              "    }\n",
              "\n",
              "    [theme=dark] .colab-df-convert:hover {\n",
              "      background-color: #434B5C;\n",
              "      box-shadow: 0px 1px 3px 1px rgba(0, 0, 0, 0.15);\n",
              "      filter: drop-shadow(0px 1px 2px rgba(0, 0, 0, 0.3));\n",
              "      fill: #FFFFFF;\n",
              "    }\n",
              "  </style>\n",
              "\n",
              "      <script>\n",
              "        const buttonEl =\n",
              "          document.querySelector('#df-8c65fc3a-386b-49ad-89e5-5ec3b9db3fb8 button.colab-df-convert');\n",
              "        buttonEl.style.display =\n",
              "          google.colab.kernel.accessAllowed ? 'block' : 'none';\n",
              "\n",
              "        async function convertToInteractive(key) {\n",
              "          const element = document.querySelector('#df-8c65fc3a-386b-49ad-89e5-5ec3b9db3fb8');\n",
              "          const dataTable =\n",
              "            await google.colab.kernel.invokeFunction('convertToInteractive',\n",
              "                                                     [key], {});\n",
              "          if (!dataTable) return;\n",
              "\n",
              "          const docLinkHtml = 'Like what you see? Visit the ' +\n",
              "            '<a target=\"_blank\" href=https://colab.research.google.com/notebooks/data_table.ipynb>data table notebook</a>'\n",
              "            + ' to learn more about interactive tables.';\n",
              "          element.innerHTML = '';\n",
              "          dataTable['output_type'] = 'display_data';\n",
              "          await google.colab.output.renderOutput(dataTable, element);\n",
              "          const docLink = document.createElement('div');\n",
              "          docLink.innerHTML = docLinkHtml;\n",
              "          element.appendChild(docLink);\n",
              "        }\n",
              "      </script>\n",
              "    </div>\n",
              "  </div>\n",
              "  "
            ]
          },
          "metadata": {},
          "execution_count": 9
        }
      ]
    },
    {
      "cell_type": "code",
      "source": [
        "c2_mapping = {}\n",
        "\n",
        "c2_grouped = cat_raw.groupby(['cat_2'])\n",
        "\n",
        "for name, group in c2_grouped:\n",
        "    # print(name)\n",
        "    # print(group)\n",
        "    # if len(group) == 1:\n",
        "    #     print(name)\n",
        "    #     print(group.iloc[0].y_cat_id)\n",
        "    if len(group) == 1:\n",
        "        c2_mapping[name] = group.iloc[0].y_cat_id\n",
        "\n",
        "print(len(c2_mapping))\n",
        "list(c2_mapping.items())"
      ],
      "metadata": {
        "colab": {
          "base_uri": "https://localhost:8080/"
        },
        "id": "KSuxtkuPwjro",
        "outputId": "db9ebd08-b932-404e-f15c-47ae612a379f"
      },
      "execution_count": null,
      "outputs": [
        {
          "output_type": "stream",
          "name": "stdout",
          "text": [
            "149\n"
          ]
        },
        {
          "output_type": "execute_result",
          "data": {
            "text/plain": [
              "[('account management', 5164),\n",
              " ('accounts administrators', 5007),\n",
              " ('accounts payable', 5004),\n",
              " ('accounts receivable', 5005),\n",
              " ('advertising', 763),\n",
              " ('air con. & refrigeration', 5182),\n",
              " ('area managers', 765),\n",
              " ('assistant store managers', 5177),\n",
              " ('au pairs & nannies', 748),\n",
              " ('automotive technician', 4960),\n",
              " ('bar staff & baristas', 5098),\n",
              " ('beautician', 6902),\n",
              " ('boat building', 6903),\n",
              " ('boilermakers & welders', 5184),\n",
              " ('brand & product management', 5145),\n",
              " ('building & carpentry', 5186),\n",
              " ('building services', 5057),\n",
              " ('business & systems analysts', 5114),\n",
              " ('business development manager', 5165),\n",
              " ('butchers & bakers', 5185),\n",
              " ('buying', 766),\n",
              " ('call centre', 733),\n",
              " ('caregiving', 5084),\n",
              " ('central government', 5079),\n",
              " ('chefs', 5100),\n",
              " ('civil & structural', 5058),\n",
              " ('cleaning', 5187),\n",
              " ('client services', 5024),\n",
              " ('commercial sales & leasing', 821),\n",
              " ('communications & pr', 5150),\n",
              " ('community & social services', 5085),\n",
              " ('consultancy & valuation', 840),\n",
              " ('corporate & institutional banking', 5025),\n",
              " ('credit & lending', 5026),\n",
              " ('customer-facing', 5046),\n",
              " ('data entry', 5157),\n",
              " ('data warehousing & bi', 759),\n",
              " ('database', 5115),\n",
              " ('defence', 5080),\n",
              " ('dentistry', 5086),\n",
              " ('department managers', 768),\n",
              " ('design', 5146),\n",
              " ('diesel mechanic', 4961),\n",
              " ('digital marketing', 764),\n",
              " ('direct marketing', 5147),\n",
              " ('doctors & specialists', 5087),\n",
              " ('ea, pa & secretarial', 5159),\n",
              " ('early childhood', 5051),\n",
              " ('energy', 6895),\n",
              " ('environmental', 5061),\n",
              " ('estimation', 5036),\n",
              " ('executive & general management', 9831),\n",
              " ('facilities & commercial property management', 883),\n",
              " ('farming', 5016),\n",
              " ('finance managers & controllers', 5009),\n",
              " ('financial planning & investment', 5027),\n",
              " ('fishing', 5017),\n",
              " ('fitness & wellbeing', 751),\n",
              " ('fitters & machining', 5133),\n",
              " ('flooring', 6904),\n",
              " ('forestry', 5018),\n",
              " ('freight forwarders', 5070),\n",
              " ('functional consultants', 6898),\n",
              " ('gardening & landscaping', 5189),\n",
              " ('geotechnical', 749),\n",
              " ('glaziers', 6905),\n",
              " ('hairdressing', 5190),\n",
              " ('handy-persons', 5191),\n",
              " ('horticulture', 5019),\n",
              " ('housekeeping', 6897),\n",
              " ('hr', 5107),\n",
              " ('import & export', 5075),\n",
              " ('in-house counsel', 5129),\n",
              " ('industrial', 6896),\n",
              " ('insurance', 5029),\n",
              " ('interior design', 5037),\n",
              " ('journalism', 5153),\n",
              " ('kitchen staff', 5102),\n",
              " ('labourers', 5192),\n",
              " ('labouring', 5039),\n",
              " ('local & regional council', 5078),\n",
              " ('machine operation', 5135),\n",
              " ('machine operators', 6891),\n",
              " ('maintenance', 5062),\n",
              " ('market research & analysis', 5148),\n",
              " ('marketing assistants & coordinators', 5149),\n",
              " ('mechanical', 5064),\n",
              " ('merchandising', 5173),\n",
              " ('networking & storage', 5118),\n",
              " ('occupational therapy', 5091),\n",
              " ('office management', 5158),\n",
              " ('operations', 5071),\n",
              " ('painting', 5193),\n",
              " ('panel & paint', 4963),\n",
              " ('payroll', 5012),\n",
              " ('pharmacy', 5092),\n",
              " ('planning', 5038),\n",
              " ('plumbing', 5194),\n",
              " ('primary', 5052),\n",
              " ('printing', 5195),\n",
              " ('private practice', 5130),\n",
              " ('process & assembly', 5138),\n",
              " ('programming & development', 5119),\n",
              " ('project & contracts management', 5040),\n",
              " ('psychology & counselling', 5094),\n",
              " ('purchasing & inventory', 5139),\n",
              " ('quality assurance', 5140),\n",
              " ('quantity surveying', 728),\n",
              " ('radiography & sonography', 5095),\n",
              " ('reception', 5160),\n",
              " ('reception & front desk', 5101),\n",
              " ('recruitment', 5110),\n",
              " ('residential sales & management', 897),\n",
              " ('retail assistants', 5175),\n",
              " ('risk & compliance', 674),\n",
              " ('roofing', 6906),\n",
              " ('sales & pre-sales', 5121),\n",
              " ('sales managers', 5166),\n",
              " ('sales reps', 5167),\n",
              " ('sales support', 5168),\n",
              " ('sales, operations & parts', 4964),\n",
              " ('science & technology', 5179),\n",
              " ('secondary', 5053),\n",
              " ('secretarial', 5127),\n",
              " ('service desk', 5116),\n",
              " ('settlements', 6890),\n",
              " ('sign writers', 6907),\n",
              " ('site management', 5041),\n",
              " ('store managers', 5176),\n",
              " ('storepersons & warehousing', 5141),\n",
              " ('supply chain & planning', 5073),\n",
              " ('surveying', 5043),\n",
              " ('systems engineers', 761),\n",
              " ('technicians', 5197),\n",
              " ('telecommunications', 5122),\n",
              " ('telesales', 5169),\n",
              " ('tellers & branch staff', 5023),\n",
              " ('tertiary', 5054),\n",
              " ('testing', 5123),\n",
              " ('tourism & tour guides', 755),\n",
              " ('traffic management', 5311),\n",
              " ('training', 6900),\n",
              " ('travel consultants', 5104),\n",
              " ('tutoring & training', 6894),\n",
              " ('veterinary', 752),\n",
              " ('waiting staff', 5099),\n",
              " ('warehouse & distribution', 5074),\n",
              " ('water & waste', 5066),\n",
              " ('web design', 5124)]"
            ]
          },
          "metadata": {},
          "execution_count": 31
        }
      ]
    },
    {
      "cell_type": "code",
      "source": [
        "c3_mapping = {}\n",
        "\n",
        "c3_grouped = cat_raw.groupby(['cat_2', 'cat_1'])\n",
        "\n",
        "for name, group in c3_grouped:\n",
        "    # print(name)\n",
        "    # print(group)\n",
        "    # if len(group) > 1:\n",
        "    #     print(name[0])\n",
        "    #     print(dict(zip(group.y_cat_id, group.cat_3)))\n",
        "    if len(group) > 1:\n",
        "        c3_mapping[name[0]] = dict(zip(group.y_cat_id, group.cat_3))\n",
        "\n",
        "print(len(c3_mapping))\n",
        "list(c3_mapping.items())[:3]"
      ],
      "metadata": {
        "colab": {
          "base_uri": "https://localhost:8080/"
        },
        "id": "4klD17uLwyPV",
        "outputId": "baf00dff-2a6f-401c-9c6b-c7462fcee305"
      },
      "execution_count": null,
      "outputs": [
        {
          "output_type": "stream",
          "name": "stdout",
          "text": [
            "3\n"
          ]
        },
        {
          "output_type": "execute_result",
          "data": {
            "text/plain": [
              "[('accountants',\n",
              "  {621: 'business advisory services',\n",
              "   6882: 'assistant accountants',\n",
              "   6883: 'audit',\n",
              "   6884: 'financial accounting & reporting',\n",
              "   6885: 'general / ca',\n",
              "   6886: 'management accountants',\n",
              "   6887: 'tax'}),\n",
              " ('drivers & couriers', {6908: 'couriers', 6909: 'truck ht'}),\n",
              " ('nursing & midwifery',\n",
              "  {900: 'community & primary care',\n",
              "   904: 'critical care & emergency',\n",
              "   906: 'medical',\n",
              "   907: 'mental health',\n",
              "   910: 'paediatrics',\n",
              "   916: 'surgical',\n",
              "   927: 'theatre & recovery',\n",
              "   929: 'women’s health'})]"
            ]
          },
          "metadata": {},
          "execution_count": 26
        }
      ]
    },
    {
      "cell_type": "code",
      "source": [
        "c1_mapping = {}\n",
        "\n",
        "c1_grouped = cat_raw.groupby(['cat_2', 'cat_3'])\n",
        "\n",
        "for name, group in c1_grouped:\n",
        "    # print(name)\n",
        "    # print(group)\n",
        "    # if len(group) > 1:\n",
        "    #     print(name[0])\n",
        "    #     print(dict(zip(group.y_cat_id, group.cat_3)))\n",
        "    if len(group) > 1:\n",
        "        c1_mapping[name[0]] = dict(zip(group.y_cat_id, group.cat_1))\n",
        "\n",
        "print(len(c1_mapping))\n",
        "list(c1_mapping.items())[:3]"
      ],
      "metadata": {
        "colab": {
          "base_uri": "https://localhost:8080/"
        },
        "id": "cMQp1yiHyO1j",
        "outputId": "91e11c1e-cb56-4ece-cf6a-97b3d212eae2"
      },
      "execution_count": null,
      "outputs": [
        {
          "output_type": "stream",
          "name": "stdout",
          "text": [
            "10\n"
          ]
        },
        {
          "output_type": "execute_result",
          "data": {
            "text/plain": [
              "[('administration', {5083: 'healthcare', 5156: 'office & administration'}),\n",
              " ('analysts', {5022: 'banking, finance & insurance', 6889: 'accounting'}),\n",
              " ('architects', {5034: 'architecture', 5113: 'it'})]"
            ]
          },
          "metadata": {},
          "execution_count": 27
        }
      ]
    },
    {
      "cell_type": "code",
      "source": [
        "write_to_file(f\"{root_path}c1_mapping.json\", c1_mapping)"
      ],
      "metadata": {
        "id": "8bigR29CztdR"
      },
      "execution_count": null,
      "outputs": []
    },
    {
      "cell_type": "code",
      "source": [
        "def write_to_file_pickle(file_name, dict_to_save):\n",
        "    with open(file_name, \"wb\") as file:\n",
        "        pickle.dump(dict_to_save, file)  "
      ],
      "metadata": {
        "id": "FkXaozOO0uUP"
      },
      "execution_count": null,
      "outputs": []
    },
    {
      "cell_type": "code",
      "source": [
        "write_to_file_pickle(f\"{root_path}c2_mapping.json\", c2_mapping)"
      ],
      "metadata": {
        "id": "oSrG5942z0Qv"
      },
      "execution_count": null,
      "outputs": []
    },
    {
      "cell_type": "code",
      "source": [
        "write_to_file(f\"{root_path}c3_mapping.json\", c3_mapping)"
      ],
      "metadata": {
        "id": "EkdVttCKz0eH"
      },
      "execution_count": null,
      "outputs": []
    },
    {
      "cell_type": "markdown",
      "source": [
        "# load from file to dict"
      ],
      "metadata": {
        "id": "Iyrwa_2r1Rp-"
      }
    },
    {
      "cell_type": "code",
      "source": [
        "def read_from_file_pickle(file_name):\n",
        "    res = None\n",
        "    with open(file_name, \"rb\") as file:\n",
        "        res = pickle.load(file) \n",
        "    return res "
      ],
      "metadata": {
        "id": "kumNqAzL1XsB"
      },
      "execution_count": null,
      "outputs": []
    },
    {
      "cell_type": "code",
      "source": [
        "load_dict = read_from_file_pickle(f\"{root_path}c2_mapping.json\")\n",
        "print(type(load_dict))"
      ],
      "metadata": {
        "colab": {
          "base_uri": "https://localhost:8080/"
        },
        "id": "sCB3pgVMz8Gk",
        "outputId": "39146d17-4efa-43f3-fca1-e81c9a243ad5"
      },
      "execution_count": null,
      "outputs": [
        {
          "output_type": "stream",
          "name": "stdout",
          "text": [
            "<class 'dict'>\n"
          ]
        }
      ]
    },
    {
      "cell_type": "code",
      "source": [],
      "metadata": {
        "id": "6LprkDRd1qxC"
      },
      "execution_count": null,
      "outputs": []
    }
  ]
}