{
  "nbformat": 4,
  "nbformat_minor": 0,
  "metadata": {
    "colab": {
      "provenance": [],
      "collapsed_sections": [
        "tKZLvYaCiy6i",
        "D4_k8TOxi70W",
        "6XjRHu5N9T46"
      ],
      "authorship_tag": "ABX9TyMl2aHDRENj+xUEmcyVLvSs",
      "include_colab_link": true
    },
    "kernelspec": {
      "name": "python3",
      "display_name": "Python 3"
    },
    "language_info": {
      "name": "python"
    },
    "accelerator": "GPU",
    "gpuClass": "standard",
    "widgets": {
      "application/vnd.jupyter.widget-state+json": {
        "fe5b90583e984c40b4fa690c31cb2787": {
          "model_module": "@jupyter-widgets/controls",
          "model_name": "HBoxModel",
          "model_module_version": "1.5.0",
          "state": {
            "_dom_classes": [],
            "_model_module": "@jupyter-widgets/controls",
            "_model_module_version": "1.5.0",
            "_model_name": "HBoxModel",
            "_view_count": null,
            "_view_module": "@jupyter-widgets/controls",
            "_view_module_version": "1.5.0",
            "_view_name": "HBoxView",
            "box_style": "",
            "children": [
              "IPY_MODEL_28e85b0d85cd470788414999bae83ad3",
              "IPY_MODEL_817fa74d69354233908b64b12fd3dece",
              "IPY_MODEL_15952501deab4950ad922f8910ba867a"
            ],
            "layout": "IPY_MODEL_4f7de8ed70274d4dbbf0264375358f33"
          }
        },
        "28e85b0d85cd470788414999bae83ad3": {
          "model_module": "@jupyter-widgets/controls",
          "model_name": "HTMLModel",
          "model_module_version": "1.5.0",
          "state": {
            "_dom_classes": [],
            "_model_module": "@jupyter-widgets/controls",
            "_model_module_version": "1.5.0",
            "_model_name": "HTMLModel",
            "_view_count": null,
            "_view_module": "@jupyter-widgets/controls",
            "_view_module_version": "1.5.0",
            "_view_name": "HTMLView",
            "description": "",
            "description_tooltip": null,
            "layout": "IPY_MODEL_4c40284163504b24a5db99e8fcdbca71",
            "placeholder": "​",
            "style": "IPY_MODEL_3f900d69a7f7402f9ee6a799e00e7d9b",
            "value": "Downloading (…)e9125/.gitattributes: 100%"
          }
        },
        "817fa74d69354233908b64b12fd3dece": {
          "model_module": "@jupyter-widgets/controls",
          "model_name": "FloatProgressModel",
          "model_module_version": "1.5.0",
          "state": {
            "_dom_classes": [],
            "_model_module": "@jupyter-widgets/controls",
            "_model_module_version": "1.5.0",
            "_model_name": "FloatProgressModel",
            "_view_count": null,
            "_view_module": "@jupyter-widgets/controls",
            "_view_module_version": "1.5.0",
            "_view_name": "ProgressView",
            "bar_style": "success",
            "description": "",
            "description_tooltip": null,
            "layout": "IPY_MODEL_ab09b51cc63f4cfcb35a930317ca65eb",
            "max": 1175,
            "min": 0,
            "orientation": "horizontal",
            "style": "IPY_MODEL_9c4ef25f7c454db1a2dd4dac026811fd",
            "value": 1175
          }
        },
        "15952501deab4950ad922f8910ba867a": {
          "model_module": "@jupyter-widgets/controls",
          "model_name": "HTMLModel",
          "model_module_version": "1.5.0",
          "state": {
            "_dom_classes": [],
            "_model_module": "@jupyter-widgets/controls",
            "_model_module_version": "1.5.0",
            "_model_name": "HTMLModel",
            "_view_count": null,
            "_view_module": "@jupyter-widgets/controls",
            "_view_module_version": "1.5.0",
            "_view_name": "HTMLView",
            "description": "",
            "description_tooltip": null,
            "layout": "IPY_MODEL_c6e38603feab4bf2873eb594b3be8ddd",
            "placeholder": "​",
            "style": "IPY_MODEL_f714e6e22aee4871b1c253ff4a2afcf3",
            "value": " 1.18k/1.18k [00:00&lt;00:00, 47.7kB/s]"
          }
        },
        "4f7de8ed70274d4dbbf0264375358f33": {
          "model_module": "@jupyter-widgets/base",
          "model_name": "LayoutModel",
          "model_module_version": "1.2.0",
          "state": {
            "_model_module": "@jupyter-widgets/base",
            "_model_module_version": "1.2.0",
            "_model_name": "LayoutModel",
            "_view_count": null,
            "_view_module": "@jupyter-widgets/base",
            "_view_module_version": "1.2.0",
            "_view_name": "LayoutView",
            "align_content": null,
            "align_items": null,
            "align_self": null,
            "border": null,
            "bottom": null,
            "display": null,
            "flex": null,
            "flex_flow": null,
            "grid_area": null,
            "grid_auto_columns": null,
            "grid_auto_flow": null,
            "grid_auto_rows": null,
            "grid_column": null,
            "grid_gap": null,
            "grid_row": null,
            "grid_template_areas": null,
            "grid_template_columns": null,
            "grid_template_rows": null,
            "height": null,
            "justify_content": null,
            "justify_items": null,
            "left": null,
            "margin": null,
            "max_height": null,
            "max_width": null,
            "min_height": null,
            "min_width": null,
            "object_fit": null,
            "object_position": null,
            "order": null,
            "overflow": null,
            "overflow_x": null,
            "overflow_y": null,
            "padding": null,
            "right": null,
            "top": null,
            "visibility": null,
            "width": null
          }
        },
        "4c40284163504b24a5db99e8fcdbca71": {
          "model_module": "@jupyter-widgets/base",
          "model_name": "LayoutModel",
          "model_module_version": "1.2.0",
          "state": {
            "_model_module": "@jupyter-widgets/base",
            "_model_module_version": "1.2.0",
            "_model_name": "LayoutModel",
            "_view_count": null,
            "_view_module": "@jupyter-widgets/base",
            "_view_module_version": "1.2.0",
            "_view_name": "LayoutView",
            "align_content": null,
            "align_items": null,
            "align_self": null,
            "border": null,
            "bottom": null,
            "display": null,
            "flex": null,
            "flex_flow": null,
            "grid_area": null,
            "grid_auto_columns": null,
            "grid_auto_flow": null,
            "grid_auto_rows": null,
            "grid_column": null,
            "grid_gap": null,
            "grid_row": null,
            "grid_template_areas": null,
            "grid_template_columns": null,
            "grid_template_rows": null,
            "height": null,
            "justify_content": null,
            "justify_items": null,
            "left": null,
            "margin": null,
            "max_height": null,
            "max_width": null,
            "min_height": null,
            "min_width": null,
            "object_fit": null,
            "object_position": null,
            "order": null,
            "overflow": null,
            "overflow_x": null,
            "overflow_y": null,
            "padding": null,
            "right": null,
            "top": null,
            "visibility": null,
            "width": null
          }
        },
        "3f900d69a7f7402f9ee6a799e00e7d9b": {
          "model_module": "@jupyter-widgets/controls",
          "model_name": "DescriptionStyleModel",
          "model_module_version": "1.5.0",
          "state": {
            "_model_module": "@jupyter-widgets/controls",
            "_model_module_version": "1.5.0",
            "_model_name": "DescriptionStyleModel",
            "_view_count": null,
            "_view_module": "@jupyter-widgets/base",
            "_view_module_version": "1.2.0",
            "_view_name": "StyleView",
            "description_width": ""
          }
        },
        "ab09b51cc63f4cfcb35a930317ca65eb": {
          "model_module": "@jupyter-widgets/base",
          "model_name": "LayoutModel",
          "model_module_version": "1.2.0",
          "state": {
            "_model_module": "@jupyter-widgets/base",
            "_model_module_version": "1.2.0",
            "_model_name": "LayoutModel",
            "_view_count": null,
            "_view_module": "@jupyter-widgets/base",
            "_view_module_version": "1.2.0",
            "_view_name": "LayoutView",
            "align_content": null,
            "align_items": null,
            "align_self": null,
            "border": null,
            "bottom": null,
            "display": null,
            "flex": null,
            "flex_flow": null,
            "grid_area": null,
            "grid_auto_columns": null,
            "grid_auto_flow": null,
            "grid_auto_rows": null,
            "grid_column": null,
            "grid_gap": null,
            "grid_row": null,
            "grid_template_areas": null,
            "grid_template_columns": null,
            "grid_template_rows": null,
            "height": null,
            "justify_content": null,
            "justify_items": null,
            "left": null,
            "margin": null,
            "max_height": null,
            "max_width": null,
            "min_height": null,
            "min_width": null,
            "object_fit": null,
            "object_position": null,
            "order": null,
            "overflow": null,
            "overflow_x": null,
            "overflow_y": null,
            "padding": null,
            "right": null,
            "top": null,
            "visibility": null,
            "width": null
          }
        },
        "9c4ef25f7c454db1a2dd4dac026811fd": {
          "model_module": "@jupyter-widgets/controls",
          "model_name": "ProgressStyleModel",
          "model_module_version": "1.5.0",
          "state": {
            "_model_module": "@jupyter-widgets/controls",
            "_model_module_version": "1.5.0",
            "_model_name": "ProgressStyleModel",
            "_view_count": null,
            "_view_module": "@jupyter-widgets/base",
            "_view_module_version": "1.2.0",
            "_view_name": "StyleView",
            "bar_color": null,
            "description_width": ""
          }
        },
        "c6e38603feab4bf2873eb594b3be8ddd": {
          "model_module": "@jupyter-widgets/base",
          "model_name": "LayoutModel",
          "model_module_version": "1.2.0",
          "state": {
            "_model_module": "@jupyter-widgets/base",
            "_model_module_version": "1.2.0",
            "_model_name": "LayoutModel",
            "_view_count": null,
            "_view_module": "@jupyter-widgets/base",
            "_view_module_version": "1.2.0",
            "_view_name": "LayoutView",
            "align_content": null,
            "align_items": null,
            "align_self": null,
            "border": null,
            "bottom": null,
            "display": null,
            "flex": null,
            "flex_flow": null,
            "grid_area": null,
            "grid_auto_columns": null,
            "grid_auto_flow": null,
            "grid_auto_rows": null,
            "grid_column": null,
            "grid_gap": null,
            "grid_row": null,
            "grid_template_areas": null,
            "grid_template_columns": null,
            "grid_template_rows": null,
            "height": null,
            "justify_content": null,
            "justify_items": null,
            "left": null,
            "margin": null,
            "max_height": null,
            "max_width": null,
            "min_height": null,
            "min_width": null,
            "object_fit": null,
            "object_position": null,
            "order": null,
            "overflow": null,
            "overflow_x": null,
            "overflow_y": null,
            "padding": null,
            "right": null,
            "top": null,
            "visibility": null,
            "width": null
          }
        },
        "f714e6e22aee4871b1c253ff4a2afcf3": {
          "model_module": "@jupyter-widgets/controls",
          "model_name": "DescriptionStyleModel",
          "model_module_version": "1.5.0",
          "state": {
            "_model_module": "@jupyter-widgets/controls",
            "_model_module_version": "1.5.0",
            "_model_name": "DescriptionStyleModel",
            "_view_count": null,
            "_view_module": "@jupyter-widgets/base",
            "_view_module_version": "1.2.0",
            "_view_name": "StyleView",
            "description_width": ""
          }
        },
        "87667c739ba049bb882921f24c9abea9": {
          "model_module": "@jupyter-widgets/controls",
          "model_name": "HBoxModel",
          "model_module_version": "1.5.0",
          "state": {
            "_dom_classes": [],
            "_model_module": "@jupyter-widgets/controls",
            "_model_module_version": "1.5.0",
            "_model_name": "HBoxModel",
            "_view_count": null,
            "_view_module": "@jupyter-widgets/controls",
            "_view_module_version": "1.5.0",
            "_view_name": "HBoxView",
            "box_style": "",
            "children": [
              "IPY_MODEL_912ce6c1c1bf4fd49614898adc91b08a",
              "IPY_MODEL_dcfcda5080ab4a558cda961b4e558bf9",
              "IPY_MODEL_d2adce3f71864337bec9ab59f2aac58f"
            ],
            "layout": "IPY_MODEL_139295bba4154a3cadcc4f213b875b2f"
          }
        },
        "912ce6c1c1bf4fd49614898adc91b08a": {
          "model_module": "@jupyter-widgets/controls",
          "model_name": "HTMLModel",
          "model_module_version": "1.5.0",
          "state": {
            "_dom_classes": [],
            "_model_module": "@jupyter-widgets/controls",
            "_model_module_version": "1.5.0",
            "_model_name": "HTMLModel",
            "_view_count": null,
            "_view_module": "@jupyter-widgets/controls",
            "_view_module_version": "1.5.0",
            "_view_name": "HTMLView",
            "description": "",
            "description_tooltip": null,
            "layout": "IPY_MODEL_e034d415800d4198962f713a7162cd18",
            "placeholder": "​",
            "style": "IPY_MODEL_eeb8c7f0c71a45428ac11dbe5dd4682b",
            "value": "Downloading (…)_Pooling/config.json: 100%"
          }
        },
        "dcfcda5080ab4a558cda961b4e558bf9": {
          "model_module": "@jupyter-widgets/controls",
          "model_name": "FloatProgressModel",
          "model_module_version": "1.5.0",
          "state": {
            "_dom_classes": [],
            "_model_module": "@jupyter-widgets/controls",
            "_model_module_version": "1.5.0",
            "_model_name": "FloatProgressModel",
            "_view_count": null,
            "_view_module": "@jupyter-widgets/controls",
            "_view_module_version": "1.5.0",
            "_view_name": "ProgressView",
            "bar_style": "success",
            "description": "",
            "description_tooltip": null,
            "layout": "IPY_MODEL_5e08355be2ca4992a7c68926c561d451",
            "max": 190,
            "min": 0,
            "orientation": "horizontal",
            "style": "IPY_MODEL_0ca6e861a1bb4d8a8c3f4d706c5013fd",
            "value": 190
          }
        },
        "d2adce3f71864337bec9ab59f2aac58f": {
          "model_module": "@jupyter-widgets/controls",
          "model_name": "HTMLModel",
          "model_module_version": "1.5.0",
          "state": {
            "_dom_classes": [],
            "_model_module": "@jupyter-widgets/controls",
            "_model_module_version": "1.5.0",
            "_model_name": "HTMLModel",
            "_view_count": null,
            "_view_module": "@jupyter-widgets/controls",
            "_view_module_version": "1.5.0",
            "_view_name": "HTMLView",
            "description": "",
            "description_tooltip": null,
            "layout": "IPY_MODEL_263b1c4b57724641b0fd307e5a0b2f86",
            "placeholder": "​",
            "style": "IPY_MODEL_2a11bcbc9a3645778dd59912b8901934",
            "value": " 190/190 [00:00&lt;00:00, 7.25kB/s]"
          }
        },
        "139295bba4154a3cadcc4f213b875b2f": {
          "model_module": "@jupyter-widgets/base",
          "model_name": "LayoutModel",
          "model_module_version": "1.2.0",
          "state": {
            "_model_module": "@jupyter-widgets/base",
            "_model_module_version": "1.2.0",
            "_model_name": "LayoutModel",
            "_view_count": null,
            "_view_module": "@jupyter-widgets/base",
            "_view_module_version": "1.2.0",
            "_view_name": "LayoutView",
            "align_content": null,
            "align_items": null,
            "align_self": null,
            "border": null,
            "bottom": null,
            "display": null,
            "flex": null,
            "flex_flow": null,
            "grid_area": null,
            "grid_auto_columns": null,
            "grid_auto_flow": null,
            "grid_auto_rows": null,
            "grid_column": null,
            "grid_gap": null,
            "grid_row": null,
            "grid_template_areas": null,
            "grid_template_columns": null,
            "grid_template_rows": null,
            "height": null,
            "justify_content": null,
            "justify_items": null,
            "left": null,
            "margin": null,
            "max_height": null,
            "max_width": null,
            "min_height": null,
            "min_width": null,
            "object_fit": null,
            "object_position": null,
            "order": null,
            "overflow": null,
            "overflow_x": null,
            "overflow_y": null,
            "padding": null,
            "right": null,
            "top": null,
            "visibility": null,
            "width": null
          }
        },
        "e034d415800d4198962f713a7162cd18": {
          "model_module": "@jupyter-widgets/base",
          "model_name": "LayoutModel",
          "model_module_version": "1.2.0",
          "state": {
            "_model_module": "@jupyter-widgets/base",
            "_model_module_version": "1.2.0",
            "_model_name": "LayoutModel",
            "_view_count": null,
            "_view_module": "@jupyter-widgets/base",
            "_view_module_version": "1.2.0",
            "_view_name": "LayoutView",
            "align_content": null,
            "align_items": null,
            "align_self": null,
            "border": null,
            "bottom": null,
            "display": null,
            "flex": null,
            "flex_flow": null,
            "grid_area": null,
            "grid_auto_columns": null,
            "grid_auto_flow": null,
            "grid_auto_rows": null,
            "grid_column": null,
            "grid_gap": null,
            "grid_row": null,
            "grid_template_areas": null,
            "grid_template_columns": null,
            "grid_template_rows": null,
            "height": null,
            "justify_content": null,
            "justify_items": null,
            "left": null,
            "margin": null,
            "max_height": null,
            "max_width": null,
            "min_height": null,
            "min_width": null,
            "object_fit": null,
            "object_position": null,
            "order": null,
            "overflow": null,
            "overflow_x": null,
            "overflow_y": null,
            "padding": null,
            "right": null,
            "top": null,
            "visibility": null,
            "width": null
          }
        },
        "eeb8c7f0c71a45428ac11dbe5dd4682b": {
          "model_module": "@jupyter-widgets/controls",
          "model_name": "DescriptionStyleModel",
          "model_module_version": "1.5.0",
          "state": {
            "_model_module": "@jupyter-widgets/controls",
            "_model_module_version": "1.5.0",
            "_model_name": "DescriptionStyleModel",
            "_view_count": null,
            "_view_module": "@jupyter-widgets/base",
            "_view_module_version": "1.2.0",
            "_view_name": "StyleView",
            "description_width": ""
          }
        },
        "5e08355be2ca4992a7c68926c561d451": {
          "model_module": "@jupyter-widgets/base",
          "model_name": "LayoutModel",
          "model_module_version": "1.2.0",
          "state": {
            "_model_module": "@jupyter-widgets/base",
            "_model_module_version": "1.2.0",
            "_model_name": "LayoutModel",
            "_view_count": null,
            "_view_module": "@jupyter-widgets/base",
            "_view_module_version": "1.2.0",
            "_view_name": "LayoutView",
            "align_content": null,
            "align_items": null,
            "align_self": null,
            "border": null,
            "bottom": null,
            "display": null,
            "flex": null,
            "flex_flow": null,
            "grid_area": null,
            "grid_auto_columns": null,
            "grid_auto_flow": null,
            "grid_auto_rows": null,
            "grid_column": null,
            "grid_gap": null,
            "grid_row": null,
            "grid_template_areas": null,
            "grid_template_columns": null,
            "grid_template_rows": null,
            "height": null,
            "justify_content": null,
            "justify_items": null,
            "left": null,
            "margin": null,
            "max_height": null,
            "max_width": null,
            "min_height": null,
            "min_width": null,
            "object_fit": null,
            "object_position": null,
            "order": null,
            "overflow": null,
            "overflow_x": null,
            "overflow_y": null,
            "padding": null,
            "right": null,
            "top": null,
            "visibility": null,
            "width": null
          }
        },
        "0ca6e861a1bb4d8a8c3f4d706c5013fd": {
          "model_module": "@jupyter-widgets/controls",
          "model_name": "ProgressStyleModel",
          "model_module_version": "1.5.0",
          "state": {
            "_model_module": "@jupyter-widgets/controls",
            "_model_module_version": "1.5.0",
            "_model_name": "ProgressStyleModel",
            "_view_count": null,
            "_view_module": "@jupyter-widgets/base",
            "_view_module_version": "1.2.0",
            "_view_name": "StyleView",
            "bar_color": null,
            "description_width": ""
          }
        },
        "263b1c4b57724641b0fd307e5a0b2f86": {
          "model_module": "@jupyter-widgets/base",
          "model_name": "LayoutModel",
          "model_module_version": "1.2.0",
          "state": {
            "_model_module": "@jupyter-widgets/base",
            "_model_module_version": "1.2.0",
            "_model_name": "LayoutModel",
            "_view_count": null,
            "_view_module": "@jupyter-widgets/base",
            "_view_module_version": "1.2.0",
            "_view_name": "LayoutView",
            "align_content": null,
            "align_items": null,
            "align_self": null,
            "border": null,
            "bottom": null,
            "display": null,
            "flex": null,
            "flex_flow": null,
            "grid_area": null,
            "grid_auto_columns": null,
            "grid_auto_flow": null,
            "grid_auto_rows": null,
            "grid_column": null,
            "grid_gap": null,
            "grid_row": null,
            "grid_template_areas": null,
            "grid_template_columns": null,
            "grid_template_rows": null,
            "height": null,
            "justify_content": null,
            "justify_items": null,
            "left": null,
            "margin": null,
            "max_height": null,
            "max_width": null,
            "min_height": null,
            "min_width": null,
            "object_fit": null,
            "object_position": null,
            "order": null,
            "overflow": null,
            "overflow_x": null,
            "overflow_y": null,
            "padding": null,
            "right": null,
            "top": null,
            "visibility": null,
            "width": null
          }
        },
        "2a11bcbc9a3645778dd59912b8901934": {
          "model_module": "@jupyter-widgets/controls",
          "model_name": "DescriptionStyleModel",
          "model_module_version": "1.5.0",
          "state": {
            "_model_module": "@jupyter-widgets/controls",
            "_model_module_version": "1.5.0",
            "_model_name": "DescriptionStyleModel",
            "_view_count": null,
            "_view_module": "@jupyter-widgets/base",
            "_view_module_version": "1.2.0",
            "_view_name": "StyleView",
            "description_width": ""
          }
        },
        "80db3ec996094e41a2cde019c2267b37": {
          "model_module": "@jupyter-widgets/controls",
          "model_name": "HBoxModel",
          "model_module_version": "1.5.0",
          "state": {
            "_dom_classes": [],
            "_model_module": "@jupyter-widgets/controls",
            "_model_module_version": "1.5.0",
            "_model_name": "HBoxModel",
            "_view_count": null,
            "_view_module": "@jupyter-widgets/controls",
            "_view_module_version": "1.5.0",
            "_view_name": "HBoxView",
            "box_style": "",
            "children": [
              "IPY_MODEL_a3ce34f8edc34f4a95aba66937639e67",
              "IPY_MODEL_e6529a381c704f5f817db21172d2d730",
              "IPY_MODEL_4aaa2d0a03a345fab4e1640d7972b44d"
            ],
            "layout": "IPY_MODEL_48f6d9316fac46968b1940c1f0224288"
          }
        },
        "a3ce34f8edc34f4a95aba66937639e67": {
          "model_module": "@jupyter-widgets/controls",
          "model_name": "HTMLModel",
          "model_module_version": "1.5.0",
          "state": {
            "_dom_classes": [],
            "_model_module": "@jupyter-widgets/controls",
            "_model_module_version": "1.5.0",
            "_model_name": "HTMLModel",
            "_view_count": null,
            "_view_module": "@jupyter-widgets/controls",
            "_view_module_version": "1.5.0",
            "_view_name": "HTMLView",
            "description": "",
            "description_tooltip": null,
            "layout": "IPY_MODEL_13541a8d3b8a4c0eab5c88ef51f5b109",
            "placeholder": "​",
            "style": "IPY_MODEL_11dd89e488844a668ade4e0f7cbef851",
            "value": "Downloading (…)7e55de9125/README.md: 100%"
          }
        },
        "e6529a381c704f5f817db21172d2d730": {
          "model_module": "@jupyter-widgets/controls",
          "model_name": "FloatProgressModel",
          "model_module_version": "1.5.0",
          "state": {
            "_dom_classes": [],
            "_model_module": "@jupyter-widgets/controls",
            "_model_module_version": "1.5.0",
            "_model_name": "FloatProgressModel",
            "_view_count": null,
            "_view_module": "@jupyter-widgets/controls",
            "_view_module_version": "1.5.0",
            "_view_name": "ProgressView",
            "bar_style": "success",
            "description": "",
            "description_tooltip": null,
            "layout": "IPY_MODEL_0170cb0abce74b8e9208d3b9f70f3482",
            "max": 10610,
            "min": 0,
            "orientation": "horizontal",
            "style": "IPY_MODEL_d93323ee14804639b8e8c2001dfda80e",
            "value": 10610
          }
        },
        "4aaa2d0a03a345fab4e1640d7972b44d": {
          "model_module": "@jupyter-widgets/controls",
          "model_name": "HTMLModel",
          "model_module_version": "1.5.0",
          "state": {
            "_dom_classes": [],
            "_model_module": "@jupyter-widgets/controls",
            "_model_module_version": "1.5.0",
            "_model_name": "HTMLModel",
            "_view_count": null,
            "_view_module": "@jupyter-widgets/controls",
            "_view_module_version": "1.5.0",
            "_view_name": "HTMLView",
            "description": "",
            "description_tooltip": null,
            "layout": "IPY_MODEL_500cc226fbb044569322a23c6644649c",
            "placeholder": "​",
            "style": "IPY_MODEL_984b39d93ddb4ae29bb0d350132db6df",
            "value": " 10.6k/10.6k [00:00&lt;00:00, 599kB/s]"
          }
        },
        "48f6d9316fac46968b1940c1f0224288": {
          "model_module": "@jupyter-widgets/base",
          "model_name": "LayoutModel",
          "model_module_version": "1.2.0",
          "state": {
            "_model_module": "@jupyter-widgets/base",
            "_model_module_version": "1.2.0",
            "_model_name": "LayoutModel",
            "_view_count": null,
            "_view_module": "@jupyter-widgets/base",
            "_view_module_version": "1.2.0",
            "_view_name": "LayoutView",
            "align_content": null,
            "align_items": null,
            "align_self": null,
            "border": null,
            "bottom": null,
            "display": null,
            "flex": null,
            "flex_flow": null,
            "grid_area": null,
            "grid_auto_columns": null,
            "grid_auto_flow": null,
            "grid_auto_rows": null,
            "grid_column": null,
            "grid_gap": null,
            "grid_row": null,
            "grid_template_areas": null,
            "grid_template_columns": null,
            "grid_template_rows": null,
            "height": null,
            "justify_content": null,
            "justify_items": null,
            "left": null,
            "margin": null,
            "max_height": null,
            "max_width": null,
            "min_height": null,
            "min_width": null,
            "object_fit": null,
            "object_position": null,
            "order": null,
            "overflow": null,
            "overflow_x": null,
            "overflow_y": null,
            "padding": null,
            "right": null,
            "top": null,
            "visibility": null,
            "width": null
          }
        },
        "13541a8d3b8a4c0eab5c88ef51f5b109": {
          "model_module": "@jupyter-widgets/base",
          "model_name": "LayoutModel",
          "model_module_version": "1.2.0",
          "state": {
            "_model_module": "@jupyter-widgets/base",
            "_model_module_version": "1.2.0",
            "_model_name": "LayoutModel",
            "_view_count": null,
            "_view_module": "@jupyter-widgets/base",
            "_view_module_version": "1.2.0",
            "_view_name": "LayoutView",
            "align_content": null,
            "align_items": null,
            "align_self": null,
            "border": null,
            "bottom": null,
            "display": null,
            "flex": null,
            "flex_flow": null,
            "grid_area": null,
            "grid_auto_columns": null,
            "grid_auto_flow": null,
            "grid_auto_rows": null,
            "grid_column": null,
            "grid_gap": null,
            "grid_row": null,
            "grid_template_areas": null,
            "grid_template_columns": null,
            "grid_template_rows": null,
            "height": null,
            "justify_content": null,
            "justify_items": null,
            "left": null,
            "margin": null,
            "max_height": null,
            "max_width": null,
            "min_height": null,
            "min_width": null,
            "object_fit": null,
            "object_position": null,
            "order": null,
            "overflow": null,
            "overflow_x": null,
            "overflow_y": null,
            "padding": null,
            "right": null,
            "top": null,
            "visibility": null,
            "width": null
          }
        },
        "11dd89e488844a668ade4e0f7cbef851": {
          "model_module": "@jupyter-widgets/controls",
          "model_name": "DescriptionStyleModel",
          "model_module_version": "1.5.0",
          "state": {
            "_model_module": "@jupyter-widgets/controls",
            "_model_module_version": "1.5.0",
            "_model_name": "DescriptionStyleModel",
            "_view_count": null,
            "_view_module": "@jupyter-widgets/base",
            "_view_module_version": "1.2.0",
            "_view_name": "StyleView",
            "description_width": ""
          }
        },
        "0170cb0abce74b8e9208d3b9f70f3482": {
          "model_module": "@jupyter-widgets/base",
          "model_name": "LayoutModel",
          "model_module_version": "1.2.0",
          "state": {
            "_model_module": "@jupyter-widgets/base",
            "_model_module_version": "1.2.0",
            "_model_name": "LayoutModel",
            "_view_count": null,
            "_view_module": "@jupyter-widgets/base",
            "_view_module_version": "1.2.0",
            "_view_name": "LayoutView",
            "align_content": null,
            "align_items": null,
            "align_self": null,
            "border": null,
            "bottom": null,
            "display": null,
            "flex": null,
            "flex_flow": null,
            "grid_area": null,
            "grid_auto_columns": null,
            "grid_auto_flow": null,
            "grid_auto_rows": null,
            "grid_column": null,
            "grid_gap": null,
            "grid_row": null,
            "grid_template_areas": null,
            "grid_template_columns": null,
            "grid_template_rows": null,
            "height": null,
            "justify_content": null,
            "justify_items": null,
            "left": null,
            "margin": null,
            "max_height": null,
            "max_width": null,
            "min_height": null,
            "min_width": null,
            "object_fit": null,
            "object_position": null,
            "order": null,
            "overflow": null,
            "overflow_x": null,
            "overflow_y": null,
            "padding": null,
            "right": null,
            "top": null,
            "visibility": null,
            "width": null
          }
        },
        "d93323ee14804639b8e8c2001dfda80e": {
          "model_module": "@jupyter-widgets/controls",
          "model_name": "ProgressStyleModel",
          "model_module_version": "1.5.0",
          "state": {
            "_model_module": "@jupyter-widgets/controls",
            "_model_module_version": "1.5.0",
            "_model_name": "ProgressStyleModel",
            "_view_count": null,
            "_view_module": "@jupyter-widgets/base",
            "_view_module_version": "1.2.0",
            "_view_name": "StyleView",
            "bar_color": null,
            "description_width": ""
          }
        },
        "500cc226fbb044569322a23c6644649c": {
          "model_module": "@jupyter-widgets/base",
          "model_name": "LayoutModel",
          "model_module_version": "1.2.0",
          "state": {
            "_model_module": "@jupyter-widgets/base",
            "_model_module_version": "1.2.0",
            "_model_name": "LayoutModel",
            "_view_count": null,
            "_view_module": "@jupyter-widgets/base",
            "_view_module_version": "1.2.0",
            "_view_name": "LayoutView",
            "align_content": null,
            "align_items": null,
            "align_self": null,
            "border": null,
            "bottom": null,
            "display": null,
            "flex": null,
            "flex_flow": null,
            "grid_area": null,
            "grid_auto_columns": null,
            "grid_auto_flow": null,
            "grid_auto_rows": null,
            "grid_column": null,
            "grid_gap": null,
            "grid_row": null,
            "grid_template_areas": null,
            "grid_template_columns": null,
            "grid_template_rows": null,
            "height": null,
            "justify_content": null,
            "justify_items": null,
            "left": null,
            "margin": null,
            "max_height": null,
            "max_width": null,
            "min_height": null,
            "min_width": null,
            "object_fit": null,
            "object_position": null,
            "order": null,
            "overflow": null,
            "overflow_x": null,
            "overflow_y": null,
            "padding": null,
            "right": null,
            "top": null,
            "visibility": null,
            "width": null
          }
        },
        "984b39d93ddb4ae29bb0d350132db6df": {
          "model_module": "@jupyter-widgets/controls",
          "model_name": "DescriptionStyleModel",
          "model_module_version": "1.5.0",
          "state": {
            "_model_module": "@jupyter-widgets/controls",
            "_model_module_version": "1.5.0",
            "_model_name": "DescriptionStyleModel",
            "_view_count": null,
            "_view_module": "@jupyter-widgets/base",
            "_view_module_version": "1.2.0",
            "_view_name": "StyleView",
            "description_width": ""
          }
        },
        "2c38a138b6984fe996d259152a3d617f": {
          "model_module": "@jupyter-widgets/controls",
          "model_name": "HBoxModel",
          "model_module_version": "1.5.0",
          "state": {
            "_dom_classes": [],
            "_model_module": "@jupyter-widgets/controls",
            "_model_module_version": "1.5.0",
            "_model_name": "HBoxModel",
            "_view_count": null,
            "_view_module": "@jupyter-widgets/controls",
            "_view_module_version": "1.5.0",
            "_view_name": "HBoxView",
            "box_style": "",
            "children": [
              "IPY_MODEL_a564c4c4917d40748f9f5806287d53c9",
              "IPY_MODEL_a068095c194f463daf21f772c828e3b7",
              "IPY_MODEL_a74433003cbc48ba8dc8534a22892d9c"
            ],
            "layout": "IPY_MODEL_8345f8ec676d4a4ca20d7219f57d9f24"
          }
        },
        "a564c4c4917d40748f9f5806287d53c9": {
          "model_module": "@jupyter-widgets/controls",
          "model_name": "HTMLModel",
          "model_module_version": "1.5.0",
          "state": {
            "_dom_classes": [],
            "_model_module": "@jupyter-widgets/controls",
            "_model_module_version": "1.5.0",
            "_model_name": "HTMLModel",
            "_view_count": null,
            "_view_module": "@jupyter-widgets/controls",
            "_view_module_version": "1.5.0",
            "_view_name": "HTMLView",
            "description": "",
            "description_tooltip": null,
            "layout": "IPY_MODEL_c456922481bc42f09ff5397790149813",
            "placeholder": "​",
            "style": "IPY_MODEL_80744e8894f941669a6e2cad1ad8c704",
            "value": "Downloading (…)55de9125/config.json: 100%"
          }
        },
        "a068095c194f463daf21f772c828e3b7": {
          "model_module": "@jupyter-widgets/controls",
          "model_name": "FloatProgressModel",
          "model_module_version": "1.5.0",
          "state": {
            "_dom_classes": [],
            "_model_module": "@jupyter-widgets/controls",
            "_model_module_version": "1.5.0",
            "_model_name": "FloatProgressModel",
            "_view_count": null,
            "_view_module": "@jupyter-widgets/controls",
            "_view_module_version": "1.5.0",
            "_view_name": "ProgressView",
            "bar_style": "success",
            "description": "",
            "description_tooltip": null,
            "layout": "IPY_MODEL_7e2eeb3a821a4e5e9ca6122329e7ed7f",
            "max": 612,
            "min": 0,
            "orientation": "horizontal",
            "style": "IPY_MODEL_4ff93fdacafc497c8d8798759ee1bc88",
            "value": 612
          }
        },
        "a74433003cbc48ba8dc8534a22892d9c": {
          "model_module": "@jupyter-widgets/controls",
          "model_name": "HTMLModel",
          "model_module_version": "1.5.0",
          "state": {
            "_dom_classes": [],
            "_model_module": "@jupyter-widgets/controls",
            "_model_module_version": "1.5.0",
            "_model_name": "HTMLModel",
            "_view_count": null,
            "_view_module": "@jupyter-widgets/controls",
            "_view_module_version": "1.5.0",
            "_view_name": "HTMLView",
            "description": "",
            "description_tooltip": null,
            "layout": "IPY_MODEL_e6dac55a2a4c45daa6880fcd18957329",
            "placeholder": "​",
            "style": "IPY_MODEL_bd8120432b7d419596dbac1f963c9b5c",
            "value": " 612/612 [00:00&lt;00:00, 21.7kB/s]"
          }
        },
        "8345f8ec676d4a4ca20d7219f57d9f24": {
          "model_module": "@jupyter-widgets/base",
          "model_name": "LayoutModel",
          "model_module_version": "1.2.0",
          "state": {
            "_model_module": "@jupyter-widgets/base",
            "_model_module_version": "1.2.0",
            "_model_name": "LayoutModel",
            "_view_count": null,
            "_view_module": "@jupyter-widgets/base",
            "_view_module_version": "1.2.0",
            "_view_name": "LayoutView",
            "align_content": null,
            "align_items": null,
            "align_self": null,
            "border": null,
            "bottom": null,
            "display": null,
            "flex": null,
            "flex_flow": null,
            "grid_area": null,
            "grid_auto_columns": null,
            "grid_auto_flow": null,
            "grid_auto_rows": null,
            "grid_column": null,
            "grid_gap": null,
            "grid_row": null,
            "grid_template_areas": null,
            "grid_template_columns": null,
            "grid_template_rows": null,
            "height": null,
            "justify_content": null,
            "justify_items": null,
            "left": null,
            "margin": null,
            "max_height": null,
            "max_width": null,
            "min_height": null,
            "min_width": null,
            "object_fit": null,
            "object_position": null,
            "order": null,
            "overflow": null,
            "overflow_x": null,
            "overflow_y": null,
            "padding": null,
            "right": null,
            "top": null,
            "visibility": null,
            "width": null
          }
        },
        "c456922481bc42f09ff5397790149813": {
          "model_module": "@jupyter-widgets/base",
          "model_name": "LayoutModel",
          "model_module_version": "1.2.0",
          "state": {
            "_model_module": "@jupyter-widgets/base",
            "_model_module_version": "1.2.0",
            "_model_name": "LayoutModel",
            "_view_count": null,
            "_view_module": "@jupyter-widgets/base",
            "_view_module_version": "1.2.0",
            "_view_name": "LayoutView",
            "align_content": null,
            "align_items": null,
            "align_self": null,
            "border": null,
            "bottom": null,
            "display": null,
            "flex": null,
            "flex_flow": null,
            "grid_area": null,
            "grid_auto_columns": null,
            "grid_auto_flow": null,
            "grid_auto_rows": null,
            "grid_column": null,
            "grid_gap": null,
            "grid_row": null,
            "grid_template_areas": null,
            "grid_template_columns": null,
            "grid_template_rows": null,
            "height": null,
            "justify_content": null,
            "justify_items": null,
            "left": null,
            "margin": null,
            "max_height": null,
            "max_width": null,
            "min_height": null,
            "min_width": null,
            "object_fit": null,
            "object_position": null,
            "order": null,
            "overflow": null,
            "overflow_x": null,
            "overflow_y": null,
            "padding": null,
            "right": null,
            "top": null,
            "visibility": null,
            "width": null
          }
        },
        "80744e8894f941669a6e2cad1ad8c704": {
          "model_module": "@jupyter-widgets/controls",
          "model_name": "DescriptionStyleModel",
          "model_module_version": "1.5.0",
          "state": {
            "_model_module": "@jupyter-widgets/controls",
            "_model_module_version": "1.5.0",
            "_model_name": "DescriptionStyleModel",
            "_view_count": null,
            "_view_module": "@jupyter-widgets/base",
            "_view_module_version": "1.2.0",
            "_view_name": "StyleView",
            "description_width": ""
          }
        },
        "7e2eeb3a821a4e5e9ca6122329e7ed7f": {
          "model_module": "@jupyter-widgets/base",
          "model_name": "LayoutModel",
          "model_module_version": "1.2.0",
          "state": {
            "_model_module": "@jupyter-widgets/base",
            "_model_module_version": "1.2.0",
            "_model_name": "LayoutModel",
            "_view_count": null,
            "_view_module": "@jupyter-widgets/base",
            "_view_module_version": "1.2.0",
            "_view_name": "LayoutView",
            "align_content": null,
            "align_items": null,
            "align_self": null,
            "border": null,
            "bottom": null,
            "display": null,
            "flex": null,
            "flex_flow": null,
            "grid_area": null,
            "grid_auto_columns": null,
            "grid_auto_flow": null,
            "grid_auto_rows": null,
            "grid_column": null,
            "grid_gap": null,
            "grid_row": null,
            "grid_template_areas": null,
            "grid_template_columns": null,
            "grid_template_rows": null,
            "height": null,
            "justify_content": null,
            "justify_items": null,
            "left": null,
            "margin": null,
            "max_height": null,
            "max_width": null,
            "min_height": null,
            "min_width": null,
            "object_fit": null,
            "object_position": null,
            "order": null,
            "overflow": null,
            "overflow_x": null,
            "overflow_y": null,
            "padding": null,
            "right": null,
            "top": null,
            "visibility": null,
            "width": null
          }
        },
        "4ff93fdacafc497c8d8798759ee1bc88": {
          "model_module": "@jupyter-widgets/controls",
          "model_name": "ProgressStyleModel",
          "model_module_version": "1.5.0",
          "state": {
            "_model_module": "@jupyter-widgets/controls",
            "_model_module_version": "1.5.0",
            "_model_name": "ProgressStyleModel",
            "_view_count": null,
            "_view_module": "@jupyter-widgets/base",
            "_view_module_version": "1.2.0",
            "_view_name": "StyleView",
            "bar_color": null,
            "description_width": ""
          }
        },
        "e6dac55a2a4c45daa6880fcd18957329": {
          "model_module": "@jupyter-widgets/base",
          "model_name": "LayoutModel",
          "model_module_version": "1.2.0",
          "state": {
            "_model_module": "@jupyter-widgets/base",
            "_model_module_version": "1.2.0",
            "_model_name": "LayoutModel",
            "_view_count": null,
            "_view_module": "@jupyter-widgets/base",
            "_view_module_version": "1.2.0",
            "_view_name": "LayoutView",
            "align_content": null,
            "align_items": null,
            "align_self": null,
            "border": null,
            "bottom": null,
            "display": null,
            "flex": null,
            "flex_flow": null,
            "grid_area": null,
            "grid_auto_columns": null,
            "grid_auto_flow": null,
            "grid_auto_rows": null,
            "grid_column": null,
            "grid_gap": null,
            "grid_row": null,
            "grid_template_areas": null,
            "grid_template_columns": null,
            "grid_template_rows": null,
            "height": null,
            "justify_content": null,
            "justify_items": null,
            "left": null,
            "margin": null,
            "max_height": null,
            "max_width": null,
            "min_height": null,
            "min_width": null,
            "object_fit": null,
            "object_position": null,
            "order": null,
            "overflow": null,
            "overflow_x": null,
            "overflow_y": null,
            "padding": null,
            "right": null,
            "top": null,
            "visibility": null,
            "width": null
          }
        },
        "bd8120432b7d419596dbac1f963c9b5c": {
          "model_module": "@jupyter-widgets/controls",
          "model_name": "DescriptionStyleModel",
          "model_module_version": "1.5.0",
          "state": {
            "_model_module": "@jupyter-widgets/controls",
            "_model_module_version": "1.5.0",
            "_model_name": "DescriptionStyleModel",
            "_view_count": null,
            "_view_module": "@jupyter-widgets/base",
            "_view_module_version": "1.2.0",
            "_view_name": "StyleView",
            "description_width": ""
          }
        },
        "5dd8bb63cc0e4a2c86d5849abca1060b": {
          "model_module": "@jupyter-widgets/controls",
          "model_name": "HBoxModel",
          "model_module_version": "1.5.0",
          "state": {
            "_dom_classes": [],
            "_model_module": "@jupyter-widgets/controls",
            "_model_module_version": "1.5.0",
            "_model_name": "HBoxModel",
            "_view_count": null,
            "_view_module": "@jupyter-widgets/controls",
            "_view_module_version": "1.5.0",
            "_view_name": "HBoxView",
            "box_style": "",
            "children": [
              "IPY_MODEL_bffafdc8d5d34a4c83fa7276984cd132",
              "IPY_MODEL_faf096c286bf4fb99c77b835d56a3a5d",
              "IPY_MODEL_ee30b8cf04b34dc09ef7c4ba3426ab07"
            ],
            "layout": "IPY_MODEL_d54f203dae9d4e6bac47db99a27ffab2"
          }
        },
        "bffafdc8d5d34a4c83fa7276984cd132": {
          "model_module": "@jupyter-widgets/controls",
          "model_name": "HTMLModel",
          "model_module_version": "1.5.0",
          "state": {
            "_dom_classes": [],
            "_model_module": "@jupyter-widgets/controls",
            "_model_module_version": "1.5.0",
            "_model_name": "HTMLModel",
            "_view_count": null,
            "_view_module": "@jupyter-widgets/controls",
            "_view_module_version": "1.5.0",
            "_view_name": "HTMLView",
            "description": "",
            "description_tooltip": null,
            "layout": "IPY_MODEL_771ec2df387e412dac0cb029ccd63df0",
            "placeholder": "​",
            "style": "IPY_MODEL_b3a6c6696153429db5c64837db0c0447",
            "value": "Downloading (…)ce_transformers.json: 100%"
          }
        },
        "faf096c286bf4fb99c77b835d56a3a5d": {
          "model_module": "@jupyter-widgets/controls",
          "model_name": "FloatProgressModel",
          "model_module_version": "1.5.0",
          "state": {
            "_dom_classes": [],
            "_model_module": "@jupyter-widgets/controls",
            "_model_module_version": "1.5.0",
            "_model_name": "FloatProgressModel",
            "_view_count": null,
            "_view_module": "@jupyter-widgets/controls",
            "_view_module_version": "1.5.0",
            "_view_name": "ProgressView",
            "bar_style": "success",
            "description": "",
            "description_tooltip": null,
            "layout": "IPY_MODEL_b58025a9d8ee4652b9c1096e1169339f",
            "max": 116,
            "min": 0,
            "orientation": "horizontal",
            "style": "IPY_MODEL_e2cef1fca0eb4f548d71e2c3417134a4",
            "value": 116
          }
        },
        "ee30b8cf04b34dc09ef7c4ba3426ab07": {
          "model_module": "@jupyter-widgets/controls",
          "model_name": "HTMLModel",
          "model_module_version": "1.5.0",
          "state": {
            "_dom_classes": [],
            "_model_module": "@jupyter-widgets/controls",
            "_model_module_version": "1.5.0",
            "_model_name": "HTMLModel",
            "_view_count": null,
            "_view_module": "@jupyter-widgets/controls",
            "_view_module_version": "1.5.0",
            "_view_name": "HTMLView",
            "description": "",
            "description_tooltip": null,
            "layout": "IPY_MODEL_73f4ca09da9e40788c6357187b6e800d",
            "placeholder": "​",
            "style": "IPY_MODEL_aa52c74b6859445798c374aed66e7d59",
            "value": " 116/116 [00:00&lt;00:00, 4.23kB/s]"
          }
        },
        "d54f203dae9d4e6bac47db99a27ffab2": {
          "model_module": "@jupyter-widgets/base",
          "model_name": "LayoutModel",
          "model_module_version": "1.2.0",
          "state": {
            "_model_module": "@jupyter-widgets/base",
            "_model_module_version": "1.2.0",
            "_model_name": "LayoutModel",
            "_view_count": null,
            "_view_module": "@jupyter-widgets/base",
            "_view_module_version": "1.2.0",
            "_view_name": "LayoutView",
            "align_content": null,
            "align_items": null,
            "align_self": null,
            "border": null,
            "bottom": null,
            "display": null,
            "flex": null,
            "flex_flow": null,
            "grid_area": null,
            "grid_auto_columns": null,
            "grid_auto_flow": null,
            "grid_auto_rows": null,
            "grid_column": null,
            "grid_gap": null,
            "grid_row": null,
            "grid_template_areas": null,
            "grid_template_columns": null,
            "grid_template_rows": null,
            "height": null,
            "justify_content": null,
            "justify_items": null,
            "left": null,
            "margin": null,
            "max_height": null,
            "max_width": null,
            "min_height": null,
            "min_width": null,
            "object_fit": null,
            "object_position": null,
            "order": null,
            "overflow": null,
            "overflow_x": null,
            "overflow_y": null,
            "padding": null,
            "right": null,
            "top": null,
            "visibility": null,
            "width": null
          }
        },
        "771ec2df387e412dac0cb029ccd63df0": {
          "model_module": "@jupyter-widgets/base",
          "model_name": "LayoutModel",
          "model_module_version": "1.2.0",
          "state": {
            "_model_module": "@jupyter-widgets/base",
            "_model_module_version": "1.2.0",
            "_model_name": "LayoutModel",
            "_view_count": null,
            "_view_module": "@jupyter-widgets/base",
            "_view_module_version": "1.2.0",
            "_view_name": "LayoutView",
            "align_content": null,
            "align_items": null,
            "align_self": null,
            "border": null,
            "bottom": null,
            "display": null,
            "flex": null,
            "flex_flow": null,
            "grid_area": null,
            "grid_auto_columns": null,
            "grid_auto_flow": null,
            "grid_auto_rows": null,
            "grid_column": null,
            "grid_gap": null,
            "grid_row": null,
            "grid_template_areas": null,
            "grid_template_columns": null,
            "grid_template_rows": null,
            "height": null,
            "justify_content": null,
            "justify_items": null,
            "left": null,
            "margin": null,
            "max_height": null,
            "max_width": null,
            "min_height": null,
            "min_width": null,
            "object_fit": null,
            "object_position": null,
            "order": null,
            "overflow": null,
            "overflow_x": null,
            "overflow_y": null,
            "padding": null,
            "right": null,
            "top": null,
            "visibility": null,
            "width": null
          }
        },
        "b3a6c6696153429db5c64837db0c0447": {
          "model_module": "@jupyter-widgets/controls",
          "model_name": "DescriptionStyleModel",
          "model_module_version": "1.5.0",
          "state": {
            "_model_module": "@jupyter-widgets/controls",
            "_model_module_version": "1.5.0",
            "_model_name": "DescriptionStyleModel",
            "_view_count": null,
            "_view_module": "@jupyter-widgets/base",
            "_view_module_version": "1.2.0",
            "_view_name": "StyleView",
            "description_width": ""
          }
        },
        "b58025a9d8ee4652b9c1096e1169339f": {
          "model_module": "@jupyter-widgets/base",
          "model_name": "LayoutModel",
          "model_module_version": "1.2.0",
          "state": {
            "_model_module": "@jupyter-widgets/base",
            "_model_module_version": "1.2.0",
            "_model_name": "LayoutModel",
            "_view_count": null,
            "_view_module": "@jupyter-widgets/base",
            "_view_module_version": "1.2.0",
            "_view_name": "LayoutView",
            "align_content": null,
            "align_items": null,
            "align_self": null,
            "border": null,
            "bottom": null,
            "display": null,
            "flex": null,
            "flex_flow": null,
            "grid_area": null,
            "grid_auto_columns": null,
            "grid_auto_flow": null,
            "grid_auto_rows": null,
            "grid_column": null,
            "grid_gap": null,
            "grid_row": null,
            "grid_template_areas": null,
            "grid_template_columns": null,
            "grid_template_rows": null,
            "height": null,
            "justify_content": null,
            "justify_items": null,
            "left": null,
            "margin": null,
            "max_height": null,
            "max_width": null,
            "min_height": null,
            "min_width": null,
            "object_fit": null,
            "object_position": null,
            "order": null,
            "overflow": null,
            "overflow_x": null,
            "overflow_y": null,
            "padding": null,
            "right": null,
            "top": null,
            "visibility": null,
            "width": null
          }
        },
        "e2cef1fca0eb4f548d71e2c3417134a4": {
          "model_module": "@jupyter-widgets/controls",
          "model_name": "ProgressStyleModel",
          "model_module_version": "1.5.0",
          "state": {
            "_model_module": "@jupyter-widgets/controls",
            "_model_module_version": "1.5.0",
            "_model_name": "ProgressStyleModel",
            "_view_count": null,
            "_view_module": "@jupyter-widgets/base",
            "_view_module_version": "1.2.0",
            "_view_name": "StyleView",
            "bar_color": null,
            "description_width": ""
          }
        },
        "73f4ca09da9e40788c6357187b6e800d": {
          "model_module": "@jupyter-widgets/base",
          "model_name": "LayoutModel",
          "model_module_version": "1.2.0",
          "state": {
            "_model_module": "@jupyter-widgets/base",
            "_model_module_version": "1.2.0",
            "_model_name": "LayoutModel",
            "_view_count": null,
            "_view_module": "@jupyter-widgets/base",
            "_view_module_version": "1.2.0",
            "_view_name": "LayoutView",
            "align_content": null,
            "align_items": null,
            "align_self": null,
            "border": null,
            "bottom": null,
            "display": null,
            "flex": null,
            "flex_flow": null,
            "grid_area": null,
            "grid_auto_columns": null,
            "grid_auto_flow": null,
            "grid_auto_rows": null,
            "grid_column": null,
            "grid_gap": null,
            "grid_row": null,
            "grid_template_areas": null,
            "grid_template_columns": null,
            "grid_template_rows": null,
            "height": null,
            "justify_content": null,
            "justify_items": null,
            "left": null,
            "margin": null,
            "max_height": null,
            "max_width": null,
            "min_height": null,
            "min_width": null,
            "object_fit": null,
            "object_position": null,
            "order": null,
            "overflow": null,
            "overflow_x": null,
            "overflow_y": null,
            "padding": null,
            "right": null,
            "top": null,
            "visibility": null,
            "width": null
          }
        },
        "aa52c74b6859445798c374aed66e7d59": {
          "model_module": "@jupyter-widgets/controls",
          "model_name": "DescriptionStyleModel",
          "model_module_version": "1.5.0",
          "state": {
            "_model_module": "@jupyter-widgets/controls",
            "_model_module_version": "1.5.0",
            "_model_name": "DescriptionStyleModel",
            "_view_count": null,
            "_view_module": "@jupyter-widgets/base",
            "_view_module_version": "1.2.0",
            "_view_name": "StyleView",
            "description_width": ""
          }
        },
        "a538b472a109484f944bf29786b3d273": {
          "model_module": "@jupyter-widgets/controls",
          "model_name": "HBoxModel",
          "model_module_version": "1.5.0",
          "state": {
            "_dom_classes": [],
            "_model_module": "@jupyter-widgets/controls",
            "_model_module_version": "1.5.0",
            "_model_name": "HBoxModel",
            "_view_count": null,
            "_view_module": "@jupyter-widgets/controls",
            "_view_module_version": "1.5.0",
            "_view_name": "HBoxView",
            "box_style": "",
            "children": [
              "IPY_MODEL_19c38af02c6643488e89a3c7bd432748",
              "IPY_MODEL_09de571d0687419baf2c21beddb4b617",
              "IPY_MODEL_058bcab1c8aa4d5e925148e9931bf783"
            ],
            "layout": "IPY_MODEL_e642f38207f44a2d860383c2e1fcfe66"
          }
        },
        "19c38af02c6643488e89a3c7bd432748": {
          "model_module": "@jupyter-widgets/controls",
          "model_name": "HTMLModel",
          "model_module_version": "1.5.0",
          "state": {
            "_dom_classes": [],
            "_model_module": "@jupyter-widgets/controls",
            "_model_module_version": "1.5.0",
            "_model_name": "HTMLModel",
            "_view_count": null,
            "_view_module": "@jupyter-widgets/controls",
            "_view_module_version": "1.5.0",
            "_view_name": "HTMLView",
            "description": "",
            "description_tooltip": null,
            "layout": "IPY_MODEL_cb35ddf52162417b9d38149b61e0ad6f",
            "placeholder": "​",
            "style": "IPY_MODEL_46f87b2b4e8c4c94ac20342242159ce8",
            "value": "Downloading (…)125/data_config.json: 100%"
          }
        },
        "09de571d0687419baf2c21beddb4b617": {
          "model_module": "@jupyter-widgets/controls",
          "model_name": "FloatProgressModel",
          "model_module_version": "1.5.0",
          "state": {
            "_dom_classes": [],
            "_model_module": "@jupyter-widgets/controls",
            "_model_module_version": "1.5.0",
            "_model_name": "FloatProgressModel",
            "_view_count": null,
            "_view_module": "@jupyter-widgets/controls",
            "_view_module_version": "1.5.0",
            "_view_name": "ProgressView",
            "bar_style": "success",
            "description": "",
            "description_tooltip": null,
            "layout": "IPY_MODEL_75e8ba4dabbf4b62b25b62e4c7a31239",
            "max": 39265,
            "min": 0,
            "orientation": "horizontal",
            "style": "IPY_MODEL_ef340b5d66924c9191690b299b820ea8",
            "value": 39265
          }
        },
        "058bcab1c8aa4d5e925148e9931bf783": {
          "model_module": "@jupyter-widgets/controls",
          "model_name": "HTMLModel",
          "model_module_version": "1.5.0",
          "state": {
            "_dom_classes": [],
            "_model_module": "@jupyter-widgets/controls",
            "_model_module_version": "1.5.0",
            "_model_name": "HTMLModel",
            "_view_count": null,
            "_view_module": "@jupyter-widgets/controls",
            "_view_module_version": "1.5.0",
            "_view_name": "HTMLView",
            "description": "",
            "description_tooltip": null,
            "layout": "IPY_MODEL_0cf407b4bfac45719f016ca872943411",
            "placeholder": "​",
            "style": "IPY_MODEL_9201e6fbdcd74d5a91ca7160c7e958cd",
            "value": " 39.3k/39.3k [00:00&lt;00:00, 178kB/s]"
          }
        },
        "e642f38207f44a2d860383c2e1fcfe66": {
          "model_module": "@jupyter-widgets/base",
          "model_name": "LayoutModel",
          "model_module_version": "1.2.0",
          "state": {
            "_model_module": "@jupyter-widgets/base",
            "_model_module_version": "1.2.0",
            "_model_name": "LayoutModel",
            "_view_count": null,
            "_view_module": "@jupyter-widgets/base",
            "_view_module_version": "1.2.0",
            "_view_name": "LayoutView",
            "align_content": null,
            "align_items": null,
            "align_self": null,
            "border": null,
            "bottom": null,
            "display": null,
            "flex": null,
            "flex_flow": null,
            "grid_area": null,
            "grid_auto_columns": null,
            "grid_auto_flow": null,
            "grid_auto_rows": null,
            "grid_column": null,
            "grid_gap": null,
            "grid_row": null,
            "grid_template_areas": null,
            "grid_template_columns": null,
            "grid_template_rows": null,
            "height": null,
            "justify_content": null,
            "justify_items": null,
            "left": null,
            "margin": null,
            "max_height": null,
            "max_width": null,
            "min_height": null,
            "min_width": null,
            "object_fit": null,
            "object_position": null,
            "order": null,
            "overflow": null,
            "overflow_x": null,
            "overflow_y": null,
            "padding": null,
            "right": null,
            "top": null,
            "visibility": null,
            "width": null
          }
        },
        "cb35ddf52162417b9d38149b61e0ad6f": {
          "model_module": "@jupyter-widgets/base",
          "model_name": "LayoutModel",
          "model_module_version": "1.2.0",
          "state": {
            "_model_module": "@jupyter-widgets/base",
            "_model_module_version": "1.2.0",
            "_model_name": "LayoutModel",
            "_view_count": null,
            "_view_module": "@jupyter-widgets/base",
            "_view_module_version": "1.2.0",
            "_view_name": "LayoutView",
            "align_content": null,
            "align_items": null,
            "align_self": null,
            "border": null,
            "bottom": null,
            "display": null,
            "flex": null,
            "flex_flow": null,
            "grid_area": null,
            "grid_auto_columns": null,
            "grid_auto_flow": null,
            "grid_auto_rows": null,
            "grid_column": null,
            "grid_gap": null,
            "grid_row": null,
            "grid_template_areas": null,
            "grid_template_columns": null,
            "grid_template_rows": null,
            "height": null,
            "justify_content": null,
            "justify_items": null,
            "left": null,
            "margin": null,
            "max_height": null,
            "max_width": null,
            "min_height": null,
            "min_width": null,
            "object_fit": null,
            "object_position": null,
            "order": null,
            "overflow": null,
            "overflow_x": null,
            "overflow_y": null,
            "padding": null,
            "right": null,
            "top": null,
            "visibility": null,
            "width": null
          }
        },
        "46f87b2b4e8c4c94ac20342242159ce8": {
          "model_module": "@jupyter-widgets/controls",
          "model_name": "DescriptionStyleModel",
          "model_module_version": "1.5.0",
          "state": {
            "_model_module": "@jupyter-widgets/controls",
            "_model_module_version": "1.5.0",
            "_model_name": "DescriptionStyleModel",
            "_view_count": null,
            "_view_module": "@jupyter-widgets/base",
            "_view_module_version": "1.2.0",
            "_view_name": "StyleView",
            "description_width": ""
          }
        },
        "75e8ba4dabbf4b62b25b62e4c7a31239": {
          "model_module": "@jupyter-widgets/base",
          "model_name": "LayoutModel",
          "model_module_version": "1.2.0",
          "state": {
            "_model_module": "@jupyter-widgets/base",
            "_model_module_version": "1.2.0",
            "_model_name": "LayoutModel",
            "_view_count": null,
            "_view_module": "@jupyter-widgets/base",
            "_view_module_version": "1.2.0",
            "_view_name": "LayoutView",
            "align_content": null,
            "align_items": null,
            "align_self": null,
            "border": null,
            "bottom": null,
            "display": null,
            "flex": null,
            "flex_flow": null,
            "grid_area": null,
            "grid_auto_columns": null,
            "grid_auto_flow": null,
            "grid_auto_rows": null,
            "grid_column": null,
            "grid_gap": null,
            "grid_row": null,
            "grid_template_areas": null,
            "grid_template_columns": null,
            "grid_template_rows": null,
            "height": null,
            "justify_content": null,
            "justify_items": null,
            "left": null,
            "margin": null,
            "max_height": null,
            "max_width": null,
            "min_height": null,
            "min_width": null,
            "object_fit": null,
            "object_position": null,
            "order": null,
            "overflow": null,
            "overflow_x": null,
            "overflow_y": null,
            "padding": null,
            "right": null,
            "top": null,
            "visibility": null,
            "width": null
          }
        },
        "ef340b5d66924c9191690b299b820ea8": {
          "model_module": "@jupyter-widgets/controls",
          "model_name": "ProgressStyleModel",
          "model_module_version": "1.5.0",
          "state": {
            "_model_module": "@jupyter-widgets/controls",
            "_model_module_version": "1.5.0",
            "_model_name": "ProgressStyleModel",
            "_view_count": null,
            "_view_module": "@jupyter-widgets/base",
            "_view_module_version": "1.2.0",
            "_view_name": "StyleView",
            "bar_color": null,
            "description_width": ""
          }
        },
        "0cf407b4bfac45719f016ca872943411": {
          "model_module": "@jupyter-widgets/base",
          "model_name": "LayoutModel",
          "model_module_version": "1.2.0",
          "state": {
            "_model_module": "@jupyter-widgets/base",
            "_model_module_version": "1.2.0",
            "_model_name": "LayoutModel",
            "_view_count": null,
            "_view_module": "@jupyter-widgets/base",
            "_view_module_version": "1.2.0",
            "_view_name": "LayoutView",
            "align_content": null,
            "align_items": null,
            "align_self": null,
            "border": null,
            "bottom": null,
            "display": null,
            "flex": null,
            "flex_flow": null,
            "grid_area": null,
            "grid_auto_columns": null,
            "grid_auto_flow": null,
            "grid_auto_rows": null,
            "grid_column": null,
            "grid_gap": null,
            "grid_row": null,
            "grid_template_areas": null,
            "grid_template_columns": null,
            "grid_template_rows": null,
            "height": null,
            "justify_content": null,
            "justify_items": null,
            "left": null,
            "margin": null,
            "max_height": null,
            "max_width": null,
            "min_height": null,
            "min_width": null,
            "object_fit": null,
            "object_position": null,
            "order": null,
            "overflow": null,
            "overflow_x": null,
            "overflow_y": null,
            "padding": null,
            "right": null,
            "top": null,
            "visibility": null,
            "width": null
          }
        },
        "9201e6fbdcd74d5a91ca7160c7e958cd": {
          "model_module": "@jupyter-widgets/controls",
          "model_name": "DescriptionStyleModel",
          "model_module_version": "1.5.0",
          "state": {
            "_model_module": "@jupyter-widgets/controls",
            "_model_module_version": "1.5.0",
            "_model_name": "DescriptionStyleModel",
            "_view_count": null,
            "_view_module": "@jupyter-widgets/base",
            "_view_module_version": "1.2.0",
            "_view_name": "StyleView",
            "description_width": ""
          }
        },
        "1f854a16ed114a9582026c043aa7563a": {
          "model_module": "@jupyter-widgets/controls",
          "model_name": "HBoxModel",
          "model_module_version": "1.5.0",
          "state": {
            "_dom_classes": [],
            "_model_module": "@jupyter-widgets/controls",
            "_model_module_version": "1.5.0",
            "_model_name": "HBoxModel",
            "_view_count": null,
            "_view_module": "@jupyter-widgets/controls",
            "_view_module_version": "1.5.0",
            "_view_name": "HBoxView",
            "box_style": "",
            "children": [
              "IPY_MODEL_4048cdbadc5e46cbaa167a7486dbc62d",
              "IPY_MODEL_bd138e9beff34d59bc73c736e77d1cbd",
              "IPY_MODEL_4360a70304f54c97b9e9875321592e4e"
            ],
            "layout": "IPY_MODEL_3d38862e383f4022ab51a605b96d9ff8"
          }
        },
        "4048cdbadc5e46cbaa167a7486dbc62d": {
          "model_module": "@jupyter-widgets/controls",
          "model_name": "HTMLModel",
          "model_module_version": "1.5.0",
          "state": {
            "_dom_classes": [],
            "_model_module": "@jupyter-widgets/controls",
            "_model_module_version": "1.5.0",
            "_model_name": "HTMLModel",
            "_view_count": null,
            "_view_module": "@jupyter-widgets/controls",
            "_view_module_version": "1.5.0",
            "_view_name": "HTMLView",
            "description": "",
            "description_tooltip": null,
            "layout": "IPY_MODEL_b345945e29004430986d3e43d1e6ae12",
            "placeholder": "​",
            "style": "IPY_MODEL_c3b6fdf7d14f4d0190696729b39c90c1",
            "value": "Downloading pytorch_model.bin: 100%"
          }
        },
        "bd138e9beff34d59bc73c736e77d1cbd": {
          "model_module": "@jupyter-widgets/controls",
          "model_name": "FloatProgressModel",
          "model_module_version": "1.5.0",
          "state": {
            "_dom_classes": [],
            "_model_module": "@jupyter-widgets/controls",
            "_model_module_version": "1.5.0",
            "_model_name": "FloatProgressModel",
            "_view_count": null,
            "_view_module": "@jupyter-widgets/controls",
            "_view_module_version": "1.5.0",
            "_view_name": "ProgressView",
            "bar_style": "success",
            "description": "",
            "description_tooltip": null,
            "layout": "IPY_MODEL_e637eea6c2dc47adb18ca26875123854",
            "max": 90888945,
            "min": 0,
            "orientation": "horizontal",
            "style": "IPY_MODEL_203b605038214e799cf2fc1658f15e1f",
            "value": 90888945
          }
        },
        "4360a70304f54c97b9e9875321592e4e": {
          "model_module": "@jupyter-widgets/controls",
          "model_name": "HTMLModel",
          "model_module_version": "1.5.0",
          "state": {
            "_dom_classes": [],
            "_model_module": "@jupyter-widgets/controls",
            "_model_module_version": "1.5.0",
            "_model_name": "HTMLModel",
            "_view_count": null,
            "_view_module": "@jupyter-widgets/controls",
            "_view_module_version": "1.5.0",
            "_view_name": "HTMLView",
            "description": "",
            "description_tooltip": null,
            "layout": "IPY_MODEL_aadc10d8ada5497687393bf0ae89fd58",
            "placeholder": "​",
            "style": "IPY_MODEL_c8f73c313f074087a9c7f3c43d432e09",
            "value": " 90.9M/90.9M [00:00&lt;00:00, 109MB/s]"
          }
        },
        "3d38862e383f4022ab51a605b96d9ff8": {
          "model_module": "@jupyter-widgets/base",
          "model_name": "LayoutModel",
          "model_module_version": "1.2.0",
          "state": {
            "_model_module": "@jupyter-widgets/base",
            "_model_module_version": "1.2.0",
            "_model_name": "LayoutModel",
            "_view_count": null,
            "_view_module": "@jupyter-widgets/base",
            "_view_module_version": "1.2.0",
            "_view_name": "LayoutView",
            "align_content": null,
            "align_items": null,
            "align_self": null,
            "border": null,
            "bottom": null,
            "display": null,
            "flex": null,
            "flex_flow": null,
            "grid_area": null,
            "grid_auto_columns": null,
            "grid_auto_flow": null,
            "grid_auto_rows": null,
            "grid_column": null,
            "grid_gap": null,
            "grid_row": null,
            "grid_template_areas": null,
            "grid_template_columns": null,
            "grid_template_rows": null,
            "height": null,
            "justify_content": null,
            "justify_items": null,
            "left": null,
            "margin": null,
            "max_height": null,
            "max_width": null,
            "min_height": null,
            "min_width": null,
            "object_fit": null,
            "object_position": null,
            "order": null,
            "overflow": null,
            "overflow_x": null,
            "overflow_y": null,
            "padding": null,
            "right": null,
            "top": null,
            "visibility": null,
            "width": null
          }
        },
        "b345945e29004430986d3e43d1e6ae12": {
          "model_module": "@jupyter-widgets/base",
          "model_name": "LayoutModel",
          "model_module_version": "1.2.0",
          "state": {
            "_model_module": "@jupyter-widgets/base",
            "_model_module_version": "1.2.0",
            "_model_name": "LayoutModel",
            "_view_count": null,
            "_view_module": "@jupyter-widgets/base",
            "_view_module_version": "1.2.0",
            "_view_name": "LayoutView",
            "align_content": null,
            "align_items": null,
            "align_self": null,
            "border": null,
            "bottom": null,
            "display": null,
            "flex": null,
            "flex_flow": null,
            "grid_area": null,
            "grid_auto_columns": null,
            "grid_auto_flow": null,
            "grid_auto_rows": null,
            "grid_column": null,
            "grid_gap": null,
            "grid_row": null,
            "grid_template_areas": null,
            "grid_template_columns": null,
            "grid_template_rows": null,
            "height": null,
            "justify_content": null,
            "justify_items": null,
            "left": null,
            "margin": null,
            "max_height": null,
            "max_width": null,
            "min_height": null,
            "min_width": null,
            "object_fit": null,
            "object_position": null,
            "order": null,
            "overflow": null,
            "overflow_x": null,
            "overflow_y": null,
            "padding": null,
            "right": null,
            "top": null,
            "visibility": null,
            "width": null
          }
        },
        "c3b6fdf7d14f4d0190696729b39c90c1": {
          "model_module": "@jupyter-widgets/controls",
          "model_name": "DescriptionStyleModel",
          "model_module_version": "1.5.0",
          "state": {
            "_model_module": "@jupyter-widgets/controls",
            "_model_module_version": "1.5.0",
            "_model_name": "DescriptionStyleModel",
            "_view_count": null,
            "_view_module": "@jupyter-widgets/base",
            "_view_module_version": "1.2.0",
            "_view_name": "StyleView",
            "description_width": ""
          }
        },
        "e637eea6c2dc47adb18ca26875123854": {
          "model_module": "@jupyter-widgets/base",
          "model_name": "LayoutModel",
          "model_module_version": "1.2.0",
          "state": {
            "_model_module": "@jupyter-widgets/base",
            "_model_module_version": "1.2.0",
            "_model_name": "LayoutModel",
            "_view_count": null,
            "_view_module": "@jupyter-widgets/base",
            "_view_module_version": "1.2.0",
            "_view_name": "LayoutView",
            "align_content": null,
            "align_items": null,
            "align_self": null,
            "border": null,
            "bottom": null,
            "display": null,
            "flex": null,
            "flex_flow": null,
            "grid_area": null,
            "grid_auto_columns": null,
            "grid_auto_flow": null,
            "grid_auto_rows": null,
            "grid_column": null,
            "grid_gap": null,
            "grid_row": null,
            "grid_template_areas": null,
            "grid_template_columns": null,
            "grid_template_rows": null,
            "height": null,
            "justify_content": null,
            "justify_items": null,
            "left": null,
            "margin": null,
            "max_height": null,
            "max_width": null,
            "min_height": null,
            "min_width": null,
            "object_fit": null,
            "object_position": null,
            "order": null,
            "overflow": null,
            "overflow_x": null,
            "overflow_y": null,
            "padding": null,
            "right": null,
            "top": null,
            "visibility": null,
            "width": null
          }
        },
        "203b605038214e799cf2fc1658f15e1f": {
          "model_module": "@jupyter-widgets/controls",
          "model_name": "ProgressStyleModel",
          "model_module_version": "1.5.0",
          "state": {
            "_model_module": "@jupyter-widgets/controls",
            "_model_module_version": "1.5.0",
            "_model_name": "ProgressStyleModel",
            "_view_count": null,
            "_view_module": "@jupyter-widgets/base",
            "_view_module_version": "1.2.0",
            "_view_name": "StyleView",
            "bar_color": null,
            "description_width": ""
          }
        },
        "aadc10d8ada5497687393bf0ae89fd58": {
          "model_module": "@jupyter-widgets/base",
          "model_name": "LayoutModel",
          "model_module_version": "1.2.0",
          "state": {
            "_model_module": "@jupyter-widgets/base",
            "_model_module_version": "1.2.0",
            "_model_name": "LayoutModel",
            "_view_count": null,
            "_view_module": "@jupyter-widgets/base",
            "_view_module_version": "1.2.0",
            "_view_name": "LayoutView",
            "align_content": null,
            "align_items": null,
            "align_self": null,
            "border": null,
            "bottom": null,
            "display": null,
            "flex": null,
            "flex_flow": null,
            "grid_area": null,
            "grid_auto_columns": null,
            "grid_auto_flow": null,
            "grid_auto_rows": null,
            "grid_column": null,
            "grid_gap": null,
            "grid_row": null,
            "grid_template_areas": null,
            "grid_template_columns": null,
            "grid_template_rows": null,
            "height": null,
            "justify_content": null,
            "justify_items": null,
            "left": null,
            "margin": null,
            "max_height": null,
            "max_width": null,
            "min_height": null,
            "min_width": null,
            "object_fit": null,
            "object_position": null,
            "order": null,
            "overflow": null,
            "overflow_x": null,
            "overflow_y": null,
            "padding": null,
            "right": null,
            "top": null,
            "visibility": null,
            "width": null
          }
        },
        "c8f73c313f074087a9c7f3c43d432e09": {
          "model_module": "@jupyter-widgets/controls",
          "model_name": "DescriptionStyleModel",
          "model_module_version": "1.5.0",
          "state": {
            "_model_module": "@jupyter-widgets/controls",
            "_model_module_version": "1.5.0",
            "_model_name": "DescriptionStyleModel",
            "_view_count": null,
            "_view_module": "@jupyter-widgets/base",
            "_view_module_version": "1.2.0",
            "_view_name": "StyleView",
            "description_width": ""
          }
        },
        "992eb349a0ac4ad6a063a832739f0a96": {
          "model_module": "@jupyter-widgets/controls",
          "model_name": "HBoxModel",
          "model_module_version": "1.5.0",
          "state": {
            "_dom_classes": [],
            "_model_module": "@jupyter-widgets/controls",
            "_model_module_version": "1.5.0",
            "_model_name": "HBoxModel",
            "_view_count": null,
            "_view_module": "@jupyter-widgets/controls",
            "_view_module_version": "1.5.0",
            "_view_name": "HBoxView",
            "box_style": "",
            "children": [
              "IPY_MODEL_bd852a8da27942a1a2231ef79e65b887",
              "IPY_MODEL_307dc983c0b0482294cf3544a25f2cce",
              "IPY_MODEL_0c35c71cd0544486bd3a19c7534a93e2"
            ],
            "layout": "IPY_MODEL_49faac2d3dd24200a1e1d9772ab63838"
          }
        },
        "bd852a8da27942a1a2231ef79e65b887": {
          "model_module": "@jupyter-widgets/controls",
          "model_name": "HTMLModel",
          "model_module_version": "1.5.0",
          "state": {
            "_dom_classes": [],
            "_model_module": "@jupyter-widgets/controls",
            "_model_module_version": "1.5.0",
            "_model_name": "HTMLModel",
            "_view_count": null,
            "_view_module": "@jupyter-widgets/controls",
            "_view_module_version": "1.5.0",
            "_view_name": "HTMLView",
            "description": "",
            "description_tooltip": null,
            "layout": "IPY_MODEL_7357a432d2f1416f843dd01fb54241cf",
            "placeholder": "​",
            "style": "IPY_MODEL_f4e8fd668ddc49198bcc442bf3ea009a",
            "value": "Downloading (…)nce_bert_config.json: 100%"
          }
        },
        "307dc983c0b0482294cf3544a25f2cce": {
          "model_module": "@jupyter-widgets/controls",
          "model_name": "FloatProgressModel",
          "model_module_version": "1.5.0",
          "state": {
            "_dom_classes": [],
            "_model_module": "@jupyter-widgets/controls",
            "_model_module_version": "1.5.0",
            "_model_name": "FloatProgressModel",
            "_view_count": null,
            "_view_module": "@jupyter-widgets/controls",
            "_view_module_version": "1.5.0",
            "_view_name": "ProgressView",
            "bar_style": "success",
            "description": "",
            "description_tooltip": null,
            "layout": "IPY_MODEL_72f6af8837f6450c9458ffb78daf5f8b",
            "max": 53,
            "min": 0,
            "orientation": "horizontal",
            "style": "IPY_MODEL_bfa7264b452f42f297411ee12333a9f5",
            "value": 53
          }
        },
        "0c35c71cd0544486bd3a19c7534a93e2": {
          "model_module": "@jupyter-widgets/controls",
          "model_name": "HTMLModel",
          "model_module_version": "1.5.0",
          "state": {
            "_dom_classes": [],
            "_model_module": "@jupyter-widgets/controls",
            "_model_module_version": "1.5.0",
            "_model_name": "HTMLModel",
            "_view_count": null,
            "_view_module": "@jupyter-widgets/controls",
            "_view_module_version": "1.5.0",
            "_view_name": "HTMLView",
            "description": "",
            "description_tooltip": null,
            "layout": "IPY_MODEL_0626d2e590be4fb0ad8f92dfd6c85c6e",
            "placeholder": "​",
            "style": "IPY_MODEL_19be828b6f08486eb0138f13e5a38a53",
            "value": " 53.0/53.0 [00:00&lt;00:00, 2.25kB/s]"
          }
        },
        "49faac2d3dd24200a1e1d9772ab63838": {
          "model_module": "@jupyter-widgets/base",
          "model_name": "LayoutModel",
          "model_module_version": "1.2.0",
          "state": {
            "_model_module": "@jupyter-widgets/base",
            "_model_module_version": "1.2.0",
            "_model_name": "LayoutModel",
            "_view_count": null,
            "_view_module": "@jupyter-widgets/base",
            "_view_module_version": "1.2.0",
            "_view_name": "LayoutView",
            "align_content": null,
            "align_items": null,
            "align_self": null,
            "border": null,
            "bottom": null,
            "display": null,
            "flex": null,
            "flex_flow": null,
            "grid_area": null,
            "grid_auto_columns": null,
            "grid_auto_flow": null,
            "grid_auto_rows": null,
            "grid_column": null,
            "grid_gap": null,
            "grid_row": null,
            "grid_template_areas": null,
            "grid_template_columns": null,
            "grid_template_rows": null,
            "height": null,
            "justify_content": null,
            "justify_items": null,
            "left": null,
            "margin": null,
            "max_height": null,
            "max_width": null,
            "min_height": null,
            "min_width": null,
            "object_fit": null,
            "object_position": null,
            "order": null,
            "overflow": null,
            "overflow_x": null,
            "overflow_y": null,
            "padding": null,
            "right": null,
            "top": null,
            "visibility": null,
            "width": null
          }
        },
        "7357a432d2f1416f843dd01fb54241cf": {
          "model_module": "@jupyter-widgets/base",
          "model_name": "LayoutModel",
          "model_module_version": "1.2.0",
          "state": {
            "_model_module": "@jupyter-widgets/base",
            "_model_module_version": "1.2.0",
            "_model_name": "LayoutModel",
            "_view_count": null,
            "_view_module": "@jupyter-widgets/base",
            "_view_module_version": "1.2.0",
            "_view_name": "LayoutView",
            "align_content": null,
            "align_items": null,
            "align_self": null,
            "border": null,
            "bottom": null,
            "display": null,
            "flex": null,
            "flex_flow": null,
            "grid_area": null,
            "grid_auto_columns": null,
            "grid_auto_flow": null,
            "grid_auto_rows": null,
            "grid_column": null,
            "grid_gap": null,
            "grid_row": null,
            "grid_template_areas": null,
            "grid_template_columns": null,
            "grid_template_rows": null,
            "height": null,
            "justify_content": null,
            "justify_items": null,
            "left": null,
            "margin": null,
            "max_height": null,
            "max_width": null,
            "min_height": null,
            "min_width": null,
            "object_fit": null,
            "object_position": null,
            "order": null,
            "overflow": null,
            "overflow_x": null,
            "overflow_y": null,
            "padding": null,
            "right": null,
            "top": null,
            "visibility": null,
            "width": null
          }
        },
        "f4e8fd668ddc49198bcc442bf3ea009a": {
          "model_module": "@jupyter-widgets/controls",
          "model_name": "DescriptionStyleModel",
          "model_module_version": "1.5.0",
          "state": {
            "_model_module": "@jupyter-widgets/controls",
            "_model_module_version": "1.5.0",
            "_model_name": "DescriptionStyleModel",
            "_view_count": null,
            "_view_module": "@jupyter-widgets/base",
            "_view_module_version": "1.2.0",
            "_view_name": "StyleView",
            "description_width": ""
          }
        },
        "72f6af8837f6450c9458ffb78daf5f8b": {
          "model_module": "@jupyter-widgets/base",
          "model_name": "LayoutModel",
          "model_module_version": "1.2.0",
          "state": {
            "_model_module": "@jupyter-widgets/base",
            "_model_module_version": "1.2.0",
            "_model_name": "LayoutModel",
            "_view_count": null,
            "_view_module": "@jupyter-widgets/base",
            "_view_module_version": "1.2.0",
            "_view_name": "LayoutView",
            "align_content": null,
            "align_items": null,
            "align_self": null,
            "border": null,
            "bottom": null,
            "display": null,
            "flex": null,
            "flex_flow": null,
            "grid_area": null,
            "grid_auto_columns": null,
            "grid_auto_flow": null,
            "grid_auto_rows": null,
            "grid_column": null,
            "grid_gap": null,
            "grid_row": null,
            "grid_template_areas": null,
            "grid_template_columns": null,
            "grid_template_rows": null,
            "height": null,
            "justify_content": null,
            "justify_items": null,
            "left": null,
            "margin": null,
            "max_height": null,
            "max_width": null,
            "min_height": null,
            "min_width": null,
            "object_fit": null,
            "object_position": null,
            "order": null,
            "overflow": null,
            "overflow_x": null,
            "overflow_y": null,
            "padding": null,
            "right": null,
            "top": null,
            "visibility": null,
            "width": null
          }
        },
        "bfa7264b452f42f297411ee12333a9f5": {
          "model_module": "@jupyter-widgets/controls",
          "model_name": "ProgressStyleModel",
          "model_module_version": "1.5.0",
          "state": {
            "_model_module": "@jupyter-widgets/controls",
            "_model_module_version": "1.5.0",
            "_model_name": "ProgressStyleModel",
            "_view_count": null,
            "_view_module": "@jupyter-widgets/base",
            "_view_module_version": "1.2.0",
            "_view_name": "StyleView",
            "bar_color": null,
            "description_width": ""
          }
        },
        "0626d2e590be4fb0ad8f92dfd6c85c6e": {
          "model_module": "@jupyter-widgets/base",
          "model_name": "LayoutModel",
          "model_module_version": "1.2.0",
          "state": {
            "_model_module": "@jupyter-widgets/base",
            "_model_module_version": "1.2.0",
            "_model_name": "LayoutModel",
            "_view_count": null,
            "_view_module": "@jupyter-widgets/base",
            "_view_module_version": "1.2.0",
            "_view_name": "LayoutView",
            "align_content": null,
            "align_items": null,
            "align_self": null,
            "border": null,
            "bottom": null,
            "display": null,
            "flex": null,
            "flex_flow": null,
            "grid_area": null,
            "grid_auto_columns": null,
            "grid_auto_flow": null,
            "grid_auto_rows": null,
            "grid_column": null,
            "grid_gap": null,
            "grid_row": null,
            "grid_template_areas": null,
            "grid_template_columns": null,
            "grid_template_rows": null,
            "height": null,
            "justify_content": null,
            "justify_items": null,
            "left": null,
            "margin": null,
            "max_height": null,
            "max_width": null,
            "min_height": null,
            "min_width": null,
            "object_fit": null,
            "object_position": null,
            "order": null,
            "overflow": null,
            "overflow_x": null,
            "overflow_y": null,
            "padding": null,
            "right": null,
            "top": null,
            "visibility": null,
            "width": null
          }
        },
        "19be828b6f08486eb0138f13e5a38a53": {
          "model_module": "@jupyter-widgets/controls",
          "model_name": "DescriptionStyleModel",
          "model_module_version": "1.5.0",
          "state": {
            "_model_module": "@jupyter-widgets/controls",
            "_model_module_version": "1.5.0",
            "_model_name": "DescriptionStyleModel",
            "_view_count": null,
            "_view_module": "@jupyter-widgets/base",
            "_view_module_version": "1.2.0",
            "_view_name": "StyleView",
            "description_width": ""
          }
        },
        "51745b1eb5f6454bbe306c180ea31333": {
          "model_module": "@jupyter-widgets/controls",
          "model_name": "HBoxModel",
          "model_module_version": "1.5.0",
          "state": {
            "_dom_classes": [],
            "_model_module": "@jupyter-widgets/controls",
            "_model_module_version": "1.5.0",
            "_model_name": "HBoxModel",
            "_view_count": null,
            "_view_module": "@jupyter-widgets/controls",
            "_view_module_version": "1.5.0",
            "_view_name": "HBoxView",
            "box_style": "",
            "children": [
              "IPY_MODEL_ac61c0f275ba4233b357710c58817c32",
              "IPY_MODEL_16ef8ee726e0440a988a2e421c306e08",
              "IPY_MODEL_de98809d388f40d6b8068e0c29e87b5b"
            ],
            "layout": "IPY_MODEL_82a567261eaa474191a182864842cab2"
          }
        },
        "ac61c0f275ba4233b357710c58817c32": {
          "model_module": "@jupyter-widgets/controls",
          "model_name": "HTMLModel",
          "model_module_version": "1.5.0",
          "state": {
            "_dom_classes": [],
            "_model_module": "@jupyter-widgets/controls",
            "_model_module_version": "1.5.0",
            "_model_name": "HTMLModel",
            "_view_count": null,
            "_view_module": "@jupyter-widgets/controls",
            "_view_module_version": "1.5.0",
            "_view_name": "HTMLView",
            "description": "",
            "description_tooltip": null,
            "layout": "IPY_MODEL_f96d5f13c5ee495abd70838b46a71163",
            "placeholder": "​",
            "style": "IPY_MODEL_bf8e049945d74f3cae35b2be1507a94e",
            "value": "Downloading (…)cial_tokens_map.json: 100%"
          }
        },
        "16ef8ee726e0440a988a2e421c306e08": {
          "model_module": "@jupyter-widgets/controls",
          "model_name": "FloatProgressModel",
          "model_module_version": "1.5.0",
          "state": {
            "_dom_classes": [],
            "_model_module": "@jupyter-widgets/controls",
            "_model_module_version": "1.5.0",
            "_model_name": "FloatProgressModel",
            "_view_count": null,
            "_view_module": "@jupyter-widgets/controls",
            "_view_module_version": "1.5.0",
            "_view_name": "ProgressView",
            "bar_style": "success",
            "description": "",
            "description_tooltip": null,
            "layout": "IPY_MODEL_07b6485d345d405da719982b49aca621",
            "max": 112,
            "min": 0,
            "orientation": "horizontal",
            "style": "IPY_MODEL_f2acf3fb5c884f9ea1a96295417ec2d3",
            "value": 112
          }
        },
        "de98809d388f40d6b8068e0c29e87b5b": {
          "model_module": "@jupyter-widgets/controls",
          "model_name": "HTMLModel",
          "model_module_version": "1.5.0",
          "state": {
            "_dom_classes": [],
            "_model_module": "@jupyter-widgets/controls",
            "_model_module_version": "1.5.0",
            "_model_name": "HTMLModel",
            "_view_count": null,
            "_view_module": "@jupyter-widgets/controls",
            "_view_module_version": "1.5.0",
            "_view_name": "HTMLView",
            "description": "",
            "description_tooltip": null,
            "layout": "IPY_MODEL_b52dd79f688d41fc8c9ab28d5853e185",
            "placeholder": "​",
            "style": "IPY_MODEL_c41e011e1a814fe99640599acccdbad9",
            "value": " 112/112 [00:00&lt;00:00, 6.62kB/s]"
          }
        },
        "82a567261eaa474191a182864842cab2": {
          "model_module": "@jupyter-widgets/base",
          "model_name": "LayoutModel",
          "model_module_version": "1.2.0",
          "state": {
            "_model_module": "@jupyter-widgets/base",
            "_model_module_version": "1.2.0",
            "_model_name": "LayoutModel",
            "_view_count": null,
            "_view_module": "@jupyter-widgets/base",
            "_view_module_version": "1.2.0",
            "_view_name": "LayoutView",
            "align_content": null,
            "align_items": null,
            "align_self": null,
            "border": null,
            "bottom": null,
            "display": null,
            "flex": null,
            "flex_flow": null,
            "grid_area": null,
            "grid_auto_columns": null,
            "grid_auto_flow": null,
            "grid_auto_rows": null,
            "grid_column": null,
            "grid_gap": null,
            "grid_row": null,
            "grid_template_areas": null,
            "grid_template_columns": null,
            "grid_template_rows": null,
            "height": null,
            "justify_content": null,
            "justify_items": null,
            "left": null,
            "margin": null,
            "max_height": null,
            "max_width": null,
            "min_height": null,
            "min_width": null,
            "object_fit": null,
            "object_position": null,
            "order": null,
            "overflow": null,
            "overflow_x": null,
            "overflow_y": null,
            "padding": null,
            "right": null,
            "top": null,
            "visibility": null,
            "width": null
          }
        },
        "f96d5f13c5ee495abd70838b46a71163": {
          "model_module": "@jupyter-widgets/base",
          "model_name": "LayoutModel",
          "model_module_version": "1.2.0",
          "state": {
            "_model_module": "@jupyter-widgets/base",
            "_model_module_version": "1.2.0",
            "_model_name": "LayoutModel",
            "_view_count": null,
            "_view_module": "@jupyter-widgets/base",
            "_view_module_version": "1.2.0",
            "_view_name": "LayoutView",
            "align_content": null,
            "align_items": null,
            "align_self": null,
            "border": null,
            "bottom": null,
            "display": null,
            "flex": null,
            "flex_flow": null,
            "grid_area": null,
            "grid_auto_columns": null,
            "grid_auto_flow": null,
            "grid_auto_rows": null,
            "grid_column": null,
            "grid_gap": null,
            "grid_row": null,
            "grid_template_areas": null,
            "grid_template_columns": null,
            "grid_template_rows": null,
            "height": null,
            "justify_content": null,
            "justify_items": null,
            "left": null,
            "margin": null,
            "max_height": null,
            "max_width": null,
            "min_height": null,
            "min_width": null,
            "object_fit": null,
            "object_position": null,
            "order": null,
            "overflow": null,
            "overflow_x": null,
            "overflow_y": null,
            "padding": null,
            "right": null,
            "top": null,
            "visibility": null,
            "width": null
          }
        },
        "bf8e049945d74f3cae35b2be1507a94e": {
          "model_module": "@jupyter-widgets/controls",
          "model_name": "DescriptionStyleModel",
          "model_module_version": "1.5.0",
          "state": {
            "_model_module": "@jupyter-widgets/controls",
            "_model_module_version": "1.5.0",
            "_model_name": "DescriptionStyleModel",
            "_view_count": null,
            "_view_module": "@jupyter-widgets/base",
            "_view_module_version": "1.2.0",
            "_view_name": "StyleView",
            "description_width": ""
          }
        },
        "07b6485d345d405da719982b49aca621": {
          "model_module": "@jupyter-widgets/base",
          "model_name": "LayoutModel",
          "model_module_version": "1.2.0",
          "state": {
            "_model_module": "@jupyter-widgets/base",
            "_model_module_version": "1.2.0",
            "_model_name": "LayoutModel",
            "_view_count": null,
            "_view_module": "@jupyter-widgets/base",
            "_view_module_version": "1.2.0",
            "_view_name": "LayoutView",
            "align_content": null,
            "align_items": null,
            "align_self": null,
            "border": null,
            "bottom": null,
            "display": null,
            "flex": null,
            "flex_flow": null,
            "grid_area": null,
            "grid_auto_columns": null,
            "grid_auto_flow": null,
            "grid_auto_rows": null,
            "grid_column": null,
            "grid_gap": null,
            "grid_row": null,
            "grid_template_areas": null,
            "grid_template_columns": null,
            "grid_template_rows": null,
            "height": null,
            "justify_content": null,
            "justify_items": null,
            "left": null,
            "margin": null,
            "max_height": null,
            "max_width": null,
            "min_height": null,
            "min_width": null,
            "object_fit": null,
            "object_position": null,
            "order": null,
            "overflow": null,
            "overflow_x": null,
            "overflow_y": null,
            "padding": null,
            "right": null,
            "top": null,
            "visibility": null,
            "width": null
          }
        },
        "f2acf3fb5c884f9ea1a96295417ec2d3": {
          "model_module": "@jupyter-widgets/controls",
          "model_name": "ProgressStyleModel",
          "model_module_version": "1.5.0",
          "state": {
            "_model_module": "@jupyter-widgets/controls",
            "_model_module_version": "1.5.0",
            "_model_name": "ProgressStyleModel",
            "_view_count": null,
            "_view_module": "@jupyter-widgets/base",
            "_view_module_version": "1.2.0",
            "_view_name": "StyleView",
            "bar_color": null,
            "description_width": ""
          }
        },
        "b52dd79f688d41fc8c9ab28d5853e185": {
          "model_module": "@jupyter-widgets/base",
          "model_name": "LayoutModel",
          "model_module_version": "1.2.0",
          "state": {
            "_model_module": "@jupyter-widgets/base",
            "_model_module_version": "1.2.0",
            "_model_name": "LayoutModel",
            "_view_count": null,
            "_view_module": "@jupyter-widgets/base",
            "_view_module_version": "1.2.0",
            "_view_name": "LayoutView",
            "align_content": null,
            "align_items": null,
            "align_self": null,
            "border": null,
            "bottom": null,
            "display": null,
            "flex": null,
            "flex_flow": null,
            "grid_area": null,
            "grid_auto_columns": null,
            "grid_auto_flow": null,
            "grid_auto_rows": null,
            "grid_column": null,
            "grid_gap": null,
            "grid_row": null,
            "grid_template_areas": null,
            "grid_template_columns": null,
            "grid_template_rows": null,
            "height": null,
            "justify_content": null,
            "justify_items": null,
            "left": null,
            "margin": null,
            "max_height": null,
            "max_width": null,
            "min_height": null,
            "min_width": null,
            "object_fit": null,
            "object_position": null,
            "order": null,
            "overflow": null,
            "overflow_x": null,
            "overflow_y": null,
            "padding": null,
            "right": null,
            "top": null,
            "visibility": null,
            "width": null
          }
        },
        "c41e011e1a814fe99640599acccdbad9": {
          "model_module": "@jupyter-widgets/controls",
          "model_name": "DescriptionStyleModel",
          "model_module_version": "1.5.0",
          "state": {
            "_model_module": "@jupyter-widgets/controls",
            "_model_module_version": "1.5.0",
            "_model_name": "DescriptionStyleModel",
            "_view_count": null,
            "_view_module": "@jupyter-widgets/base",
            "_view_module_version": "1.2.0",
            "_view_name": "StyleView",
            "description_width": ""
          }
        },
        "03a0a0fb6ec647a1bd07a6d929a6fdf4": {
          "model_module": "@jupyter-widgets/controls",
          "model_name": "HBoxModel",
          "model_module_version": "1.5.0",
          "state": {
            "_dom_classes": [],
            "_model_module": "@jupyter-widgets/controls",
            "_model_module_version": "1.5.0",
            "_model_name": "HBoxModel",
            "_view_count": null,
            "_view_module": "@jupyter-widgets/controls",
            "_view_module_version": "1.5.0",
            "_view_name": "HBoxView",
            "box_style": "",
            "children": [
              "IPY_MODEL_c2e38e5bc743466badad0af657f3f56b",
              "IPY_MODEL_a59836ef2519470db60b854fb9d6c8d6",
              "IPY_MODEL_e35e8706ba6b4c83b90e3a29dba1b7d0"
            ],
            "layout": "IPY_MODEL_0423734894cf4682901edf1f3706f08e"
          }
        },
        "c2e38e5bc743466badad0af657f3f56b": {
          "model_module": "@jupyter-widgets/controls",
          "model_name": "HTMLModel",
          "model_module_version": "1.5.0",
          "state": {
            "_dom_classes": [],
            "_model_module": "@jupyter-widgets/controls",
            "_model_module_version": "1.5.0",
            "_model_name": "HTMLModel",
            "_view_count": null,
            "_view_module": "@jupyter-widgets/controls",
            "_view_module_version": "1.5.0",
            "_view_name": "HTMLView",
            "description": "",
            "description_tooltip": null,
            "layout": "IPY_MODEL_699ccdc4367645dba6693f89914f6169",
            "placeholder": "​",
            "style": "IPY_MODEL_96ba9c3de111414eb2e2ad98f6eb6f10",
            "value": "Downloading (…)e9125/tokenizer.json: 100%"
          }
        },
        "a59836ef2519470db60b854fb9d6c8d6": {
          "model_module": "@jupyter-widgets/controls",
          "model_name": "FloatProgressModel",
          "model_module_version": "1.5.0",
          "state": {
            "_dom_classes": [],
            "_model_module": "@jupyter-widgets/controls",
            "_model_module_version": "1.5.0",
            "_model_name": "FloatProgressModel",
            "_view_count": null,
            "_view_module": "@jupyter-widgets/controls",
            "_view_module_version": "1.5.0",
            "_view_name": "ProgressView",
            "bar_style": "success",
            "description": "",
            "description_tooltip": null,
            "layout": "IPY_MODEL_90723325ae974a99bbe6175469b809da",
            "max": 466247,
            "min": 0,
            "orientation": "horizontal",
            "style": "IPY_MODEL_bc9adf27a21e414286bf7ee45a7b9c6b",
            "value": 466247
          }
        },
        "e35e8706ba6b4c83b90e3a29dba1b7d0": {
          "model_module": "@jupyter-widgets/controls",
          "model_name": "HTMLModel",
          "model_module_version": "1.5.0",
          "state": {
            "_dom_classes": [],
            "_model_module": "@jupyter-widgets/controls",
            "_model_module_version": "1.5.0",
            "_model_name": "HTMLModel",
            "_view_count": null,
            "_view_module": "@jupyter-widgets/controls",
            "_view_module_version": "1.5.0",
            "_view_name": "HTMLView",
            "description": "",
            "description_tooltip": null,
            "layout": "IPY_MODEL_632aa16fab19462283303576be2f9ac7",
            "placeholder": "​",
            "style": "IPY_MODEL_c6f32d0c7a0849169b3503df06f64c20",
            "value": " 466k/466k [00:01&lt;00:00, 421kB/s]"
          }
        },
        "0423734894cf4682901edf1f3706f08e": {
          "model_module": "@jupyter-widgets/base",
          "model_name": "LayoutModel",
          "model_module_version": "1.2.0",
          "state": {
            "_model_module": "@jupyter-widgets/base",
            "_model_module_version": "1.2.0",
            "_model_name": "LayoutModel",
            "_view_count": null,
            "_view_module": "@jupyter-widgets/base",
            "_view_module_version": "1.2.0",
            "_view_name": "LayoutView",
            "align_content": null,
            "align_items": null,
            "align_self": null,
            "border": null,
            "bottom": null,
            "display": null,
            "flex": null,
            "flex_flow": null,
            "grid_area": null,
            "grid_auto_columns": null,
            "grid_auto_flow": null,
            "grid_auto_rows": null,
            "grid_column": null,
            "grid_gap": null,
            "grid_row": null,
            "grid_template_areas": null,
            "grid_template_columns": null,
            "grid_template_rows": null,
            "height": null,
            "justify_content": null,
            "justify_items": null,
            "left": null,
            "margin": null,
            "max_height": null,
            "max_width": null,
            "min_height": null,
            "min_width": null,
            "object_fit": null,
            "object_position": null,
            "order": null,
            "overflow": null,
            "overflow_x": null,
            "overflow_y": null,
            "padding": null,
            "right": null,
            "top": null,
            "visibility": null,
            "width": null
          }
        },
        "699ccdc4367645dba6693f89914f6169": {
          "model_module": "@jupyter-widgets/base",
          "model_name": "LayoutModel",
          "model_module_version": "1.2.0",
          "state": {
            "_model_module": "@jupyter-widgets/base",
            "_model_module_version": "1.2.0",
            "_model_name": "LayoutModel",
            "_view_count": null,
            "_view_module": "@jupyter-widgets/base",
            "_view_module_version": "1.2.0",
            "_view_name": "LayoutView",
            "align_content": null,
            "align_items": null,
            "align_self": null,
            "border": null,
            "bottom": null,
            "display": null,
            "flex": null,
            "flex_flow": null,
            "grid_area": null,
            "grid_auto_columns": null,
            "grid_auto_flow": null,
            "grid_auto_rows": null,
            "grid_column": null,
            "grid_gap": null,
            "grid_row": null,
            "grid_template_areas": null,
            "grid_template_columns": null,
            "grid_template_rows": null,
            "height": null,
            "justify_content": null,
            "justify_items": null,
            "left": null,
            "margin": null,
            "max_height": null,
            "max_width": null,
            "min_height": null,
            "min_width": null,
            "object_fit": null,
            "object_position": null,
            "order": null,
            "overflow": null,
            "overflow_x": null,
            "overflow_y": null,
            "padding": null,
            "right": null,
            "top": null,
            "visibility": null,
            "width": null
          }
        },
        "96ba9c3de111414eb2e2ad98f6eb6f10": {
          "model_module": "@jupyter-widgets/controls",
          "model_name": "DescriptionStyleModel",
          "model_module_version": "1.5.0",
          "state": {
            "_model_module": "@jupyter-widgets/controls",
            "_model_module_version": "1.5.0",
            "_model_name": "DescriptionStyleModel",
            "_view_count": null,
            "_view_module": "@jupyter-widgets/base",
            "_view_module_version": "1.2.0",
            "_view_name": "StyleView",
            "description_width": ""
          }
        },
        "90723325ae974a99bbe6175469b809da": {
          "model_module": "@jupyter-widgets/base",
          "model_name": "LayoutModel",
          "model_module_version": "1.2.0",
          "state": {
            "_model_module": "@jupyter-widgets/base",
            "_model_module_version": "1.2.0",
            "_model_name": "LayoutModel",
            "_view_count": null,
            "_view_module": "@jupyter-widgets/base",
            "_view_module_version": "1.2.0",
            "_view_name": "LayoutView",
            "align_content": null,
            "align_items": null,
            "align_self": null,
            "border": null,
            "bottom": null,
            "display": null,
            "flex": null,
            "flex_flow": null,
            "grid_area": null,
            "grid_auto_columns": null,
            "grid_auto_flow": null,
            "grid_auto_rows": null,
            "grid_column": null,
            "grid_gap": null,
            "grid_row": null,
            "grid_template_areas": null,
            "grid_template_columns": null,
            "grid_template_rows": null,
            "height": null,
            "justify_content": null,
            "justify_items": null,
            "left": null,
            "margin": null,
            "max_height": null,
            "max_width": null,
            "min_height": null,
            "min_width": null,
            "object_fit": null,
            "object_position": null,
            "order": null,
            "overflow": null,
            "overflow_x": null,
            "overflow_y": null,
            "padding": null,
            "right": null,
            "top": null,
            "visibility": null,
            "width": null
          }
        },
        "bc9adf27a21e414286bf7ee45a7b9c6b": {
          "model_module": "@jupyter-widgets/controls",
          "model_name": "ProgressStyleModel",
          "model_module_version": "1.5.0",
          "state": {
            "_model_module": "@jupyter-widgets/controls",
            "_model_module_version": "1.5.0",
            "_model_name": "ProgressStyleModel",
            "_view_count": null,
            "_view_module": "@jupyter-widgets/base",
            "_view_module_version": "1.2.0",
            "_view_name": "StyleView",
            "bar_color": null,
            "description_width": ""
          }
        },
        "632aa16fab19462283303576be2f9ac7": {
          "model_module": "@jupyter-widgets/base",
          "model_name": "LayoutModel",
          "model_module_version": "1.2.0",
          "state": {
            "_model_module": "@jupyter-widgets/base",
            "_model_module_version": "1.2.0",
            "_model_name": "LayoutModel",
            "_view_count": null,
            "_view_module": "@jupyter-widgets/base",
            "_view_module_version": "1.2.0",
            "_view_name": "LayoutView",
            "align_content": null,
            "align_items": null,
            "align_self": null,
            "border": null,
            "bottom": null,
            "display": null,
            "flex": null,
            "flex_flow": null,
            "grid_area": null,
            "grid_auto_columns": null,
            "grid_auto_flow": null,
            "grid_auto_rows": null,
            "grid_column": null,
            "grid_gap": null,
            "grid_row": null,
            "grid_template_areas": null,
            "grid_template_columns": null,
            "grid_template_rows": null,
            "height": null,
            "justify_content": null,
            "justify_items": null,
            "left": null,
            "margin": null,
            "max_height": null,
            "max_width": null,
            "min_height": null,
            "min_width": null,
            "object_fit": null,
            "object_position": null,
            "order": null,
            "overflow": null,
            "overflow_x": null,
            "overflow_y": null,
            "padding": null,
            "right": null,
            "top": null,
            "visibility": null,
            "width": null
          }
        },
        "c6f32d0c7a0849169b3503df06f64c20": {
          "model_module": "@jupyter-widgets/controls",
          "model_name": "DescriptionStyleModel",
          "model_module_version": "1.5.0",
          "state": {
            "_model_module": "@jupyter-widgets/controls",
            "_model_module_version": "1.5.0",
            "_model_name": "DescriptionStyleModel",
            "_view_count": null,
            "_view_module": "@jupyter-widgets/base",
            "_view_module_version": "1.2.0",
            "_view_name": "StyleView",
            "description_width": ""
          }
        },
        "f53df90b7c67487ab81310ab34bd2f92": {
          "model_module": "@jupyter-widgets/controls",
          "model_name": "HBoxModel",
          "model_module_version": "1.5.0",
          "state": {
            "_dom_classes": [],
            "_model_module": "@jupyter-widgets/controls",
            "_model_module_version": "1.5.0",
            "_model_name": "HBoxModel",
            "_view_count": null,
            "_view_module": "@jupyter-widgets/controls",
            "_view_module_version": "1.5.0",
            "_view_name": "HBoxView",
            "box_style": "",
            "children": [
              "IPY_MODEL_0f24ad9c221f4463a669227802bccb1c",
              "IPY_MODEL_b5241666da5c4f0c8d3ddb95e152d739",
              "IPY_MODEL_47f82ea09cdd46afa4ea04ee8a9ec9f6"
            ],
            "layout": "IPY_MODEL_bdb199ba61f64325bc6eb5716f317bbd"
          }
        },
        "0f24ad9c221f4463a669227802bccb1c": {
          "model_module": "@jupyter-widgets/controls",
          "model_name": "HTMLModel",
          "model_module_version": "1.5.0",
          "state": {
            "_dom_classes": [],
            "_model_module": "@jupyter-widgets/controls",
            "_model_module_version": "1.5.0",
            "_model_name": "HTMLModel",
            "_view_count": null,
            "_view_module": "@jupyter-widgets/controls",
            "_view_module_version": "1.5.0",
            "_view_name": "HTMLView",
            "description": "",
            "description_tooltip": null,
            "layout": "IPY_MODEL_fe28c47087c147e3b31cc07fd386795f",
            "placeholder": "​",
            "style": "IPY_MODEL_13b5b6cc88174790aa376768ae2b9d62",
            "value": "Downloading (…)okenizer_config.json: 100%"
          }
        },
        "b5241666da5c4f0c8d3ddb95e152d739": {
          "model_module": "@jupyter-widgets/controls",
          "model_name": "FloatProgressModel",
          "model_module_version": "1.5.0",
          "state": {
            "_dom_classes": [],
            "_model_module": "@jupyter-widgets/controls",
            "_model_module_version": "1.5.0",
            "_model_name": "FloatProgressModel",
            "_view_count": null,
            "_view_module": "@jupyter-widgets/controls",
            "_view_module_version": "1.5.0",
            "_view_name": "ProgressView",
            "bar_style": "success",
            "description": "",
            "description_tooltip": null,
            "layout": "IPY_MODEL_5b349e520fbc425484558ba51f80742f",
            "max": 350,
            "min": 0,
            "orientation": "horizontal",
            "style": "IPY_MODEL_7546a887c66f413dba4c6bd62c4f93cb",
            "value": 350
          }
        },
        "47f82ea09cdd46afa4ea04ee8a9ec9f6": {
          "model_module": "@jupyter-widgets/controls",
          "model_name": "HTMLModel",
          "model_module_version": "1.5.0",
          "state": {
            "_dom_classes": [],
            "_model_module": "@jupyter-widgets/controls",
            "_model_module_version": "1.5.0",
            "_model_name": "HTMLModel",
            "_view_count": null,
            "_view_module": "@jupyter-widgets/controls",
            "_view_module_version": "1.5.0",
            "_view_name": "HTMLView",
            "description": "",
            "description_tooltip": null,
            "layout": "IPY_MODEL_9098d2852d19450e974d7256cf00364a",
            "placeholder": "​",
            "style": "IPY_MODEL_480771e34e134f8a81e3940eb7fa28ee",
            "value": " 350/350 [00:00&lt;00:00, 11.6kB/s]"
          }
        },
        "bdb199ba61f64325bc6eb5716f317bbd": {
          "model_module": "@jupyter-widgets/base",
          "model_name": "LayoutModel",
          "model_module_version": "1.2.0",
          "state": {
            "_model_module": "@jupyter-widgets/base",
            "_model_module_version": "1.2.0",
            "_model_name": "LayoutModel",
            "_view_count": null,
            "_view_module": "@jupyter-widgets/base",
            "_view_module_version": "1.2.0",
            "_view_name": "LayoutView",
            "align_content": null,
            "align_items": null,
            "align_self": null,
            "border": null,
            "bottom": null,
            "display": null,
            "flex": null,
            "flex_flow": null,
            "grid_area": null,
            "grid_auto_columns": null,
            "grid_auto_flow": null,
            "grid_auto_rows": null,
            "grid_column": null,
            "grid_gap": null,
            "grid_row": null,
            "grid_template_areas": null,
            "grid_template_columns": null,
            "grid_template_rows": null,
            "height": null,
            "justify_content": null,
            "justify_items": null,
            "left": null,
            "margin": null,
            "max_height": null,
            "max_width": null,
            "min_height": null,
            "min_width": null,
            "object_fit": null,
            "object_position": null,
            "order": null,
            "overflow": null,
            "overflow_x": null,
            "overflow_y": null,
            "padding": null,
            "right": null,
            "top": null,
            "visibility": null,
            "width": null
          }
        },
        "fe28c47087c147e3b31cc07fd386795f": {
          "model_module": "@jupyter-widgets/base",
          "model_name": "LayoutModel",
          "model_module_version": "1.2.0",
          "state": {
            "_model_module": "@jupyter-widgets/base",
            "_model_module_version": "1.2.0",
            "_model_name": "LayoutModel",
            "_view_count": null,
            "_view_module": "@jupyter-widgets/base",
            "_view_module_version": "1.2.0",
            "_view_name": "LayoutView",
            "align_content": null,
            "align_items": null,
            "align_self": null,
            "border": null,
            "bottom": null,
            "display": null,
            "flex": null,
            "flex_flow": null,
            "grid_area": null,
            "grid_auto_columns": null,
            "grid_auto_flow": null,
            "grid_auto_rows": null,
            "grid_column": null,
            "grid_gap": null,
            "grid_row": null,
            "grid_template_areas": null,
            "grid_template_columns": null,
            "grid_template_rows": null,
            "height": null,
            "justify_content": null,
            "justify_items": null,
            "left": null,
            "margin": null,
            "max_height": null,
            "max_width": null,
            "min_height": null,
            "min_width": null,
            "object_fit": null,
            "object_position": null,
            "order": null,
            "overflow": null,
            "overflow_x": null,
            "overflow_y": null,
            "padding": null,
            "right": null,
            "top": null,
            "visibility": null,
            "width": null
          }
        },
        "13b5b6cc88174790aa376768ae2b9d62": {
          "model_module": "@jupyter-widgets/controls",
          "model_name": "DescriptionStyleModel",
          "model_module_version": "1.5.0",
          "state": {
            "_model_module": "@jupyter-widgets/controls",
            "_model_module_version": "1.5.0",
            "_model_name": "DescriptionStyleModel",
            "_view_count": null,
            "_view_module": "@jupyter-widgets/base",
            "_view_module_version": "1.2.0",
            "_view_name": "StyleView",
            "description_width": ""
          }
        },
        "5b349e520fbc425484558ba51f80742f": {
          "model_module": "@jupyter-widgets/base",
          "model_name": "LayoutModel",
          "model_module_version": "1.2.0",
          "state": {
            "_model_module": "@jupyter-widgets/base",
            "_model_module_version": "1.2.0",
            "_model_name": "LayoutModel",
            "_view_count": null,
            "_view_module": "@jupyter-widgets/base",
            "_view_module_version": "1.2.0",
            "_view_name": "LayoutView",
            "align_content": null,
            "align_items": null,
            "align_self": null,
            "border": null,
            "bottom": null,
            "display": null,
            "flex": null,
            "flex_flow": null,
            "grid_area": null,
            "grid_auto_columns": null,
            "grid_auto_flow": null,
            "grid_auto_rows": null,
            "grid_column": null,
            "grid_gap": null,
            "grid_row": null,
            "grid_template_areas": null,
            "grid_template_columns": null,
            "grid_template_rows": null,
            "height": null,
            "justify_content": null,
            "justify_items": null,
            "left": null,
            "margin": null,
            "max_height": null,
            "max_width": null,
            "min_height": null,
            "min_width": null,
            "object_fit": null,
            "object_position": null,
            "order": null,
            "overflow": null,
            "overflow_x": null,
            "overflow_y": null,
            "padding": null,
            "right": null,
            "top": null,
            "visibility": null,
            "width": null
          }
        },
        "7546a887c66f413dba4c6bd62c4f93cb": {
          "model_module": "@jupyter-widgets/controls",
          "model_name": "ProgressStyleModel",
          "model_module_version": "1.5.0",
          "state": {
            "_model_module": "@jupyter-widgets/controls",
            "_model_module_version": "1.5.0",
            "_model_name": "ProgressStyleModel",
            "_view_count": null,
            "_view_module": "@jupyter-widgets/base",
            "_view_module_version": "1.2.0",
            "_view_name": "StyleView",
            "bar_color": null,
            "description_width": ""
          }
        },
        "9098d2852d19450e974d7256cf00364a": {
          "model_module": "@jupyter-widgets/base",
          "model_name": "LayoutModel",
          "model_module_version": "1.2.0",
          "state": {
            "_model_module": "@jupyter-widgets/base",
            "_model_module_version": "1.2.0",
            "_model_name": "LayoutModel",
            "_view_count": null,
            "_view_module": "@jupyter-widgets/base",
            "_view_module_version": "1.2.0",
            "_view_name": "LayoutView",
            "align_content": null,
            "align_items": null,
            "align_self": null,
            "border": null,
            "bottom": null,
            "display": null,
            "flex": null,
            "flex_flow": null,
            "grid_area": null,
            "grid_auto_columns": null,
            "grid_auto_flow": null,
            "grid_auto_rows": null,
            "grid_column": null,
            "grid_gap": null,
            "grid_row": null,
            "grid_template_areas": null,
            "grid_template_columns": null,
            "grid_template_rows": null,
            "height": null,
            "justify_content": null,
            "justify_items": null,
            "left": null,
            "margin": null,
            "max_height": null,
            "max_width": null,
            "min_height": null,
            "min_width": null,
            "object_fit": null,
            "object_position": null,
            "order": null,
            "overflow": null,
            "overflow_x": null,
            "overflow_y": null,
            "padding": null,
            "right": null,
            "top": null,
            "visibility": null,
            "width": null
          }
        },
        "480771e34e134f8a81e3940eb7fa28ee": {
          "model_module": "@jupyter-widgets/controls",
          "model_name": "DescriptionStyleModel",
          "model_module_version": "1.5.0",
          "state": {
            "_model_module": "@jupyter-widgets/controls",
            "_model_module_version": "1.5.0",
            "_model_name": "DescriptionStyleModel",
            "_view_count": null,
            "_view_module": "@jupyter-widgets/base",
            "_view_module_version": "1.2.0",
            "_view_name": "StyleView",
            "description_width": ""
          }
        },
        "c3c2c5e078b24a3c8cd056bbc5a8d567": {
          "model_module": "@jupyter-widgets/controls",
          "model_name": "HBoxModel",
          "model_module_version": "1.5.0",
          "state": {
            "_dom_classes": [],
            "_model_module": "@jupyter-widgets/controls",
            "_model_module_version": "1.5.0",
            "_model_name": "HBoxModel",
            "_view_count": null,
            "_view_module": "@jupyter-widgets/controls",
            "_view_module_version": "1.5.0",
            "_view_name": "HBoxView",
            "box_style": "",
            "children": [
              "IPY_MODEL_c837c61adeb144818b50648d9d15818b",
              "IPY_MODEL_f34f2b73af3a441a9539c62bbe730724",
              "IPY_MODEL_68e27192f56f4ef8b1bbc7a05ad0b439"
            ],
            "layout": "IPY_MODEL_17c4726ba6924a94acb40e21d4ac5ab3"
          }
        },
        "c837c61adeb144818b50648d9d15818b": {
          "model_module": "@jupyter-widgets/controls",
          "model_name": "HTMLModel",
          "model_module_version": "1.5.0",
          "state": {
            "_dom_classes": [],
            "_model_module": "@jupyter-widgets/controls",
            "_model_module_version": "1.5.0",
            "_model_name": "HTMLModel",
            "_view_count": null,
            "_view_module": "@jupyter-widgets/controls",
            "_view_module_version": "1.5.0",
            "_view_name": "HTMLView",
            "description": "",
            "description_tooltip": null,
            "layout": "IPY_MODEL_deb9b51b9c2146e7b20d847723ce7d42",
            "placeholder": "​",
            "style": "IPY_MODEL_8b03f814a40545dd95a3a5721c0ee831",
            "value": "Downloading (…)9125/train_script.py: 100%"
          }
        },
        "f34f2b73af3a441a9539c62bbe730724": {
          "model_module": "@jupyter-widgets/controls",
          "model_name": "FloatProgressModel",
          "model_module_version": "1.5.0",
          "state": {
            "_dom_classes": [],
            "_model_module": "@jupyter-widgets/controls",
            "_model_module_version": "1.5.0",
            "_model_name": "FloatProgressModel",
            "_view_count": null,
            "_view_module": "@jupyter-widgets/controls",
            "_view_module_version": "1.5.0",
            "_view_name": "ProgressView",
            "bar_style": "success",
            "description": "",
            "description_tooltip": null,
            "layout": "IPY_MODEL_ff318a2893034001bc7c234f6cd99eed",
            "max": 13156,
            "min": 0,
            "orientation": "horizontal",
            "style": "IPY_MODEL_2be99551d5284fd9a4c3f84d2fcfe5b4",
            "value": 13156
          }
        },
        "68e27192f56f4ef8b1bbc7a05ad0b439": {
          "model_module": "@jupyter-widgets/controls",
          "model_name": "HTMLModel",
          "model_module_version": "1.5.0",
          "state": {
            "_dom_classes": [],
            "_model_module": "@jupyter-widgets/controls",
            "_model_module_version": "1.5.0",
            "_model_name": "HTMLModel",
            "_view_count": null,
            "_view_module": "@jupyter-widgets/controls",
            "_view_module_version": "1.5.0",
            "_view_name": "HTMLView",
            "description": "",
            "description_tooltip": null,
            "layout": "IPY_MODEL_b3a72353ebf64372bec24b95740dc18c",
            "placeholder": "​",
            "style": "IPY_MODEL_a8b33420a8e842869dfc687c4f1d209a",
            "value": " 13.2k/13.2k [00:00&lt;00:00, 825kB/s]"
          }
        },
        "17c4726ba6924a94acb40e21d4ac5ab3": {
          "model_module": "@jupyter-widgets/base",
          "model_name": "LayoutModel",
          "model_module_version": "1.2.0",
          "state": {
            "_model_module": "@jupyter-widgets/base",
            "_model_module_version": "1.2.0",
            "_model_name": "LayoutModel",
            "_view_count": null,
            "_view_module": "@jupyter-widgets/base",
            "_view_module_version": "1.2.0",
            "_view_name": "LayoutView",
            "align_content": null,
            "align_items": null,
            "align_self": null,
            "border": null,
            "bottom": null,
            "display": null,
            "flex": null,
            "flex_flow": null,
            "grid_area": null,
            "grid_auto_columns": null,
            "grid_auto_flow": null,
            "grid_auto_rows": null,
            "grid_column": null,
            "grid_gap": null,
            "grid_row": null,
            "grid_template_areas": null,
            "grid_template_columns": null,
            "grid_template_rows": null,
            "height": null,
            "justify_content": null,
            "justify_items": null,
            "left": null,
            "margin": null,
            "max_height": null,
            "max_width": null,
            "min_height": null,
            "min_width": null,
            "object_fit": null,
            "object_position": null,
            "order": null,
            "overflow": null,
            "overflow_x": null,
            "overflow_y": null,
            "padding": null,
            "right": null,
            "top": null,
            "visibility": null,
            "width": null
          }
        },
        "deb9b51b9c2146e7b20d847723ce7d42": {
          "model_module": "@jupyter-widgets/base",
          "model_name": "LayoutModel",
          "model_module_version": "1.2.0",
          "state": {
            "_model_module": "@jupyter-widgets/base",
            "_model_module_version": "1.2.0",
            "_model_name": "LayoutModel",
            "_view_count": null,
            "_view_module": "@jupyter-widgets/base",
            "_view_module_version": "1.2.0",
            "_view_name": "LayoutView",
            "align_content": null,
            "align_items": null,
            "align_self": null,
            "border": null,
            "bottom": null,
            "display": null,
            "flex": null,
            "flex_flow": null,
            "grid_area": null,
            "grid_auto_columns": null,
            "grid_auto_flow": null,
            "grid_auto_rows": null,
            "grid_column": null,
            "grid_gap": null,
            "grid_row": null,
            "grid_template_areas": null,
            "grid_template_columns": null,
            "grid_template_rows": null,
            "height": null,
            "justify_content": null,
            "justify_items": null,
            "left": null,
            "margin": null,
            "max_height": null,
            "max_width": null,
            "min_height": null,
            "min_width": null,
            "object_fit": null,
            "object_position": null,
            "order": null,
            "overflow": null,
            "overflow_x": null,
            "overflow_y": null,
            "padding": null,
            "right": null,
            "top": null,
            "visibility": null,
            "width": null
          }
        },
        "8b03f814a40545dd95a3a5721c0ee831": {
          "model_module": "@jupyter-widgets/controls",
          "model_name": "DescriptionStyleModel",
          "model_module_version": "1.5.0",
          "state": {
            "_model_module": "@jupyter-widgets/controls",
            "_model_module_version": "1.5.0",
            "_model_name": "DescriptionStyleModel",
            "_view_count": null,
            "_view_module": "@jupyter-widgets/base",
            "_view_module_version": "1.2.0",
            "_view_name": "StyleView",
            "description_width": ""
          }
        },
        "ff318a2893034001bc7c234f6cd99eed": {
          "model_module": "@jupyter-widgets/base",
          "model_name": "LayoutModel",
          "model_module_version": "1.2.0",
          "state": {
            "_model_module": "@jupyter-widgets/base",
            "_model_module_version": "1.2.0",
            "_model_name": "LayoutModel",
            "_view_count": null,
            "_view_module": "@jupyter-widgets/base",
            "_view_module_version": "1.2.0",
            "_view_name": "LayoutView",
            "align_content": null,
            "align_items": null,
            "align_self": null,
            "border": null,
            "bottom": null,
            "display": null,
            "flex": null,
            "flex_flow": null,
            "grid_area": null,
            "grid_auto_columns": null,
            "grid_auto_flow": null,
            "grid_auto_rows": null,
            "grid_column": null,
            "grid_gap": null,
            "grid_row": null,
            "grid_template_areas": null,
            "grid_template_columns": null,
            "grid_template_rows": null,
            "height": null,
            "justify_content": null,
            "justify_items": null,
            "left": null,
            "margin": null,
            "max_height": null,
            "max_width": null,
            "min_height": null,
            "min_width": null,
            "object_fit": null,
            "object_position": null,
            "order": null,
            "overflow": null,
            "overflow_x": null,
            "overflow_y": null,
            "padding": null,
            "right": null,
            "top": null,
            "visibility": null,
            "width": null
          }
        },
        "2be99551d5284fd9a4c3f84d2fcfe5b4": {
          "model_module": "@jupyter-widgets/controls",
          "model_name": "ProgressStyleModel",
          "model_module_version": "1.5.0",
          "state": {
            "_model_module": "@jupyter-widgets/controls",
            "_model_module_version": "1.5.0",
            "_model_name": "ProgressStyleModel",
            "_view_count": null,
            "_view_module": "@jupyter-widgets/base",
            "_view_module_version": "1.2.0",
            "_view_name": "StyleView",
            "bar_color": null,
            "description_width": ""
          }
        },
        "b3a72353ebf64372bec24b95740dc18c": {
          "model_module": "@jupyter-widgets/base",
          "model_name": "LayoutModel",
          "model_module_version": "1.2.0",
          "state": {
            "_model_module": "@jupyter-widgets/base",
            "_model_module_version": "1.2.0",
            "_model_name": "LayoutModel",
            "_view_count": null,
            "_view_module": "@jupyter-widgets/base",
            "_view_module_version": "1.2.0",
            "_view_name": "LayoutView",
            "align_content": null,
            "align_items": null,
            "align_self": null,
            "border": null,
            "bottom": null,
            "display": null,
            "flex": null,
            "flex_flow": null,
            "grid_area": null,
            "grid_auto_columns": null,
            "grid_auto_flow": null,
            "grid_auto_rows": null,
            "grid_column": null,
            "grid_gap": null,
            "grid_row": null,
            "grid_template_areas": null,
            "grid_template_columns": null,
            "grid_template_rows": null,
            "height": null,
            "justify_content": null,
            "justify_items": null,
            "left": null,
            "margin": null,
            "max_height": null,
            "max_width": null,
            "min_height": null,
            "min_width": null,
            "object_fit": null,
            "object_position": null,
            "order": null,
            "overflow": null,
            "overflow_x": null,
            "overflow_y": null,
            "padding": null,
            "right": null,
            "top": null,
            "visibility": null,
            "width": null
          }
        },
        "a8b33420a8e842869dfc687c4f1d209a": {
          "model_module": "@jupyter-widgets/controls",
          "model_name": "DescriptionStyleModel",
          "model_module_version": "1.5.0",
          "state": {
            "_model_module": "@jupyter-widgets/controls",
            "_model_module_version": "1.5.0",
            "_model_name": "DescriptionStyleModel",
            "_view_count": null,
            "_view_module": "@jupyter-widgets/base",
            "_view_module_version": "1.2.0",
            "_view_name": "StyleView",
            "description_width": ""
          }
        },
        "b6e4846e00104e4985a19537d96516ba": {
          "model_module": "@jupyter-widgets/controls",
          "model_name": "HBoxModel",
          "model_module_version": "1.5.0",
          "state": {
            "_dom_classes": [],
            "_model_module": "@jupyter-widgets/controls",
            "_model_module_version": "1.5.0",
            "_model_name": "HBoxModel",
            "_view_count": null,
            "_view_module": "@jupyter-widgets/controls",
            "_view_module_version": "1.5.0",
            "_view_name": "HBoxView",
            "box_style": "",
            "children": [
              "IPY_MODEL_db1b9a5dbdbf415a927c421821bda90b",
              "IPY_MODEL_b41f609fe4834b79ad20f3f22ac58a0f",
              "IPY_MODEL_40794bbf855f4c03989442078dde595a"
            ],
            "layout": "IPY_MODEL_ae94d0a633524b54857536dc9b30c660"
          }
        },
        "db1b9a5dbdbf415a927c421821bda90b": {
          "model_module": "@jupyter-widgets/controls",
          "model_name": "HTMLModel",
          "model_module_version": "1.5.0",
          "state": {
            "_dom_classes": [],
            "_model_module": "@jupyter-widgets/controls",
            "_model_module_version": "1.5.0",
            "_model_name": "HTMLModel",
            "_view_count": null,
            "_view_module": "@jupyter-widgets/controls",
            "_view_module_version": "1.5.0",
            "_view_name": "HTMLView",
            "description": "",
            "description_tooltip": null,
            "layout": "IPY_MODEL_9523cefadad946e3b84e1872ec5f2910",
            "placeholder": "​",
            "style": "IPY_MODEL_b9329c4783a048d2bf651576cdc01c07",
            "value": "Downloading (…)7e55de9125/vocab.txt: 100%"
          }
        },
        "b41f609fe4834b79ad20f3f22ac58a0f": {
          "model_module": "@jupyter-widgets/controls",
          "model_name": "FloatProgressModel",
          "model_module_version": "1.5.0",
          "state": {
            "_dom_classes": [],
            "_model_module": "@jupyter-widgets/controls",
            "_model_module_version": "1.5.0",
            "_model_name": "FloatProgressModel",
            "_view_count": null,
            "_view_module": "@jupyter-widgets/controls",
            "_view_module_version": "1.5.0",
            "_view_name": "ProgressView",
            "bar_style": "success",
            "description": "",
            "description_tooltip": null,
            "layout": "IPY_MODEL_703b884d57d04ee283b51feb03d313f4",
            "max": 231508,
            "min": 0,
            "orientation": "horizontal",
            "style": "IPY_MODEL_2b6389bebe5f4e5aad1fbcf224908cf6",
            "value": 231508
          }
        },
        "40794bbf855f4c03989442078dde595a": {
          "model_module": "@jupyter-widgets/controls",
          "model_name": "HTMLModel",
          "model_module_version": "1.5.0",
          "state": {
            "_dom_classes": [],
            "_model_module": "@jupyter-widgets/controls",
            "_model_module_version": "1.5.0",
            "_model_name": "HTMLModel",
            "_view_count": null,
            "_view_module": "@jupyter-widgets/controls",
            "_view_module_version": "1.5.0",
            "_view_name": "HTMLView",
            "description": "",
            "description_tooltip": null,
            "layout": "IPY_MODEL_0fd3fc489c434cd0a2ab966853238d7d",
            "placeholder": "​",
            "style": "IPY_MODEL_15d1bc68819744d3a69f30998a463553",
            "value": " 232k/232k [00:00&lt;00:00, 260kB/s]"
          }
        },
        "ae94d0a633524b54857536dc9b30c660": {
          "model_module": "@jupyter-widgets/base",
          "model_name": "LayoutModel",
          "model_module_version": "1.2.0",
          "state": {
            "_model_module": "@jupyter-widgets/base",
            "_model_module_version": "1.2.0",
            "_model_name": "LayoutModel",
            "_view_count": null,
            "_view_module": "@jupyter-widgets/base",
            "_view_module_version": "1.2.0",
            "_view_name": "LayoutView",
            "align_content": null,
            "align_items": null,
            "align_self": null,
            "border": null,
            "bottom": null,
            "display": null,
            "flex": null,
            "flex_flow": null,
            "grid_area": null,
            "grid_auto_columns": null,
            "grid_auto_flow": null,
            "grid_auto_rows": null,
            "grid_column": null,
            "grid_gap": null,
            "grid_row": null,
            "grid_template_areas": null,
            "grid_template_columns": null,
            "grid_template_rows": null,
            "height": null,
            "justify_content": null,
            "justify_items": null,
            "left": null,
            "margin": null,
            "max_height": null,
            "max_width": null,
            "min_height": null,
            "min_width": null,
            "object_fit": null,
            "object_position": null,
            "order": null,
            "overflow": null,
            "overflow_x": null,
            "overflow_y": null,
            "padding": null,
            "right": null,
            "top": null,
            "visibility": null,
            "width": null
          }
        },
        "9523cefadad946e3b84e1872ec5f2910": {
          "model_module": "@jupyter-widgets/base",
          "model_name": "LayoutModel",
          "model_module_version": "1.2.0",
          "state": {
            "_model_module": "@jupyter-widgets/base",
            "_model_module_version": "1.2.0",
            "_model_name": "LayoutModel",
            "_view_count": null,
            "_view_module": "@jupyter-widgets/base",
            "_view_module_version": "1.2.0",
            "_view_name": "LayoutView",
            "align_content": null,
            "align_items": null,
            "align_self": null,
            "border": null,
            "bottom": null,
            "display": null,
            "flex": null,
            "flex_flow": null,
            "grid_area": null,
            "grid_auto_columns": null,
            "grid_auto_flow": null,
            "grid_auto_rows": null,
            "grid_column": null,
            "grid_gap": null,
            "grid_row": null,
            "grid_template_areas": null,
            "grid_template_columns": null,
            "grid_template_rows": null,
            "height": null,
            "justify_content": null,
            "justify_items": null,
            "left": null,
            "margin": null,
            "max_height": null,
            "max_width": null,
            "min_height": null,
            "min_width": null,
            "object_fit": null,
            "object_position": null,
            "order": null,
            "overflow": null,
            "overflow_x": null,
            "overflow_y": null,
            "padding": null,
            "right": null,
            "top": null,
            "visibility": null,
            "width": null
          }
        },
        "b9329c4783a048d2bf651576cdc01c07": {
          "model_module": "@jupyter-widgets/controls",
          "model_name": "DescriptionStyleModel",
          "model_module_version": "1.5.0",
          "state": {
            "_model_module": "@jupyter-widgets/controls",
            "_model_module_version": "1.5.0",
            "_model_name": "DescriptionStyleModel",
            "_view_count": null,
            "_view_module": "@jupyter-widgets/base",
            "_view_module_version": "1.2.0",
            "_view_name": "StyleView",
            "description_width": ""
          }
        },
        "703b884d57d04ee283b51feb03d313f4": {
          "model_module": "@jupyter-widgets/base",
          "model_name": "LayoutModel",
          "model_module_version": "1.2.0",
          "state": {
            "_model_module": "@jupyter-widgets/base",
            "_model_module_version": "1.2.0",
            "_model_name": "LayoutModel",
            "_view_count": null,
            "_view_module": "@jupyter-widgets/base",
            "_view_module_version": "1.2.0",
            "_view_name": "LayoutView",
            "align_content": null,
            "align_items": null,
            "align_self": null,
            "border": null,
            "bottom": null,
            "display": null,
            "flex": null,
            "flex_flow": null,
            "grid_area": null,
            "grid_auto_columns": null,
            "grid_auto_flow": null,
            "grid_auto_rows": null,
            "grid_column": null,
            "grid_gap": null,
            "grid_row": null,
            "grid_template_areas": null,
            "grid_template_columns": null,
            "grid_template_rows": null,
            "height": null,
            "justify_content": null,
            "justify_items": null,
            "left": null,
            "margin": null,
            "max_height": null,
            "max_width": null,
            "min_height": null,
            "min_width": null,
            "object_fit": null,
            "object_position": null,
            "order": null,
            "overflow": null,
            "overflow_x": null,
            "overflow_y": null,
            "padding": null,
            "right": null,
            "top": null,
            "visibility": null,
            "width": null
          }
        },
        "2b6389bebe5f4e5aad1fbcf224908cf6": {
          "model_module": "@jupyter-widgets/controls",
          "model_name": "ProgressStyleModel",
          "model_module_version": "1.5.0",
          "state": {
            "_model_module": "@jupyter-widgets/controls",
            "_model_module_version": "1.5.0",
            "_model_name": "ProgressStyleModel",
            "_view_count": null,
            "_view_module": "@jupyter-widgets/base",
            "_view_module_version": "1.2.0",
            "_view_name": "StyleView",
            "bar_color": null,
            "description_width": ""
          }
        },
        "0fd3fc489c434cd0a2ab966853238d7d": {
          "model_module": "@jupyter-widgets/base",
          "model_name": "LayoutModel",
          "model_module_version": "1.2.0",
          "state": {
            "_model_module": "@jupyter-widgets/base",
            "_model_module_version": "1.2.0",
            "_model_name": "LayoutModel",
            "_view_count": null,
            "_view_module": "@jupyter-widgets/base",
            "_view_module_version": "1.2.0",
            "_view_name": "LayoutView",
            "align_content": null,
            "align_items": null,
            "align_self": null,
            "border": null,
            "bottom": null,
            "display": null,
            "flex": null,
            "flex_flow": null,
            "grid_area": null,
            "grid_auto_columns": null,
            "grid_auto_flow": null,
            "grid_auto_rows": null,
            "grid_column": null,
            "grid_gap": null,
            "grid_row": null,
            "grid_template_areas": null,
            "grid_template_columns": null,
            "grid_template_rows": null,
            "height": null,
            "justify_content": null,
            "justify_items": null,
            "left": null,
            "margin": null,
            "max_height": null,
            "max_width": null,
            "min_height": null,
            "min_width": null,
            "object_fit": null,
            "object_position": null,
            "order": null,
            "overflow": null,
            "overflow_x": null,
            "overflow_y": null,
            "padding": null,
            "right": null,
            "top": null,
            "visibility": null,
            "width": null
          }
        },
        "15d1bc68819744d3a69f30998a463553": {
          "model_module": "@jupyter-widgets/controls",
          "model_name": "DescriptionStyleModel",
          "model_module_version": "1.5.0",
          "state": {
            "_model_module": "@jupyter-widgets/controls",
            "_model_module_version": "1.5.0",
            "_model_name": "DescriptionStyleModel",
            "_view_count": null,
            "_view_module": "@jupyter-widgets/base",
            "_view_module_version": "1.2.0",
            "_view_name": "StyleView",
            "description_width": ""
          }
        },
        "42eeaf00e1d3477c81ad343174fee21d": {
          "model_module": "@jupyter-widgets/controls",
          "model_name": "HBoxModel",
          "model_module_version": "1.5.0",
          "state": {
            "_dom_classes": [],
            "_model_module": "@jupyter-widgets/controls",
            "_model_module_version": "1.5.0",
            "_model_name": "HBoxModel",
            "_view_count": null,
            "_view_module": "@jupyter-widgets/controls",
            "_view_module_version": "1.5.0",
            "_view_name": "HBoxView",
            "box_style": "",
            "children": [
              "IPY_MODEL_2e1006859c6e4568a25a99a509ffc3d7",
              "IPY_MODEL_928a91081e604fee88549883a585a622",
              "IPY_MODEL_40d1fb84722445b4a1271a29faca442b"
            ],
            "layout": "IPY_MODEL_0673741c952a4a498fd03b4bf50509f1"
          }
        },
        "2e1006859c6e4568a25a99a509ffc3d7": {
          "model_module": "@jupyter-widgets/controls",
          "model_name": "HTMLModel",
          "model_module_version": "1.5.0",
          "state": {
            "_dom_classes": [],
            "_model_module": "@jupyter-widgets/controls",
            "_model_module_version": "1.5.0",
            "_model_name": "HTMLModel",
            "_view_count": null,
            "_view_module": "@jupyter-widgets/controls",
            "_view_module_version": "1.5.0",
            "_view_name": "HTMLView",
            "description": "",
            "description_tooltip": null,
            "layout": "IPY_MODEL_1caa28e472f0411e8b73c2a5002111e1",
            "placeholder": "​",
            "style": "IPY_MODEL_4c8e742280814817b3eccfd39a768c28",
            "value": "Downloading (…)5de9125/modules.json: 100%"
          }
        },
        "928a91081e604fee88549883a585a622": {
          "model_module": "@jupyter-widgets/controls",
          "model_name": "FloatProgressModel",
          "model_module_version": "1.5.0",
          "state": {
            "_dom_classes": [],
            "_model_module": "@jupyter-widgets/controls",
            "_model_module_version": "1.5.0",
            "_model_name": "FloatProgressModel",
            "_view_count": null,
            "_view_module": "@jupyter-widgets/controls",
            "_view_module_version": "1.5.0",
            "_view_name": "ProgressView",
            "bar_style": "success",
            "description": "",
            "description_tooltip": null,
            "layout": "IPY_MODEL_eae4f1dc33c640cbba91e87f105b444e",
            "max": 349,
            "min": 0,
            "orientation": "horizontal",
            "style": "IPY_MODEL_467b2dcb4fac468c9245ddd3f1126d10",
            "value": 349
          }
        },
        "40d1fb84722445b4a1271a29faca442b": {
          "model_module": "@jupyter-widgets/controls",
          "model_name": "HTMLModel",
          "model_module_version": "1.5.0",
          "state": {
            "_dom_classes": [],
            "_model_module": "@jupyter-widgets/controls",
            "_model_module_version": "1.5.0",
            "_model_name": "HTMLModel",
            "_view_count": null,
            "_view_module": "@jupyter-widgets/controls",
            "_view_module_version": "1.5.0",
            "_view_name": "HTMLView",
            "description": "",
            "description_tooltip": null,
            "layout": "IPY_MODEL_cca422169d1c43bfb58ee4080b18c18b",
            "placeholder": "​",
            "style": "IPY_MODEL_3e86a6c72cb14296a14d61347f426fdb",
            "value": " 349/349 [00:00&lt;00:00, 18.6kB/s]"
          }
        },
        "0673741c952a4a498fd03b4bf50509f1": {
          "model_module": "@jupyter-widgets/base",
          "model_name": "LayoutModel",
          "model_module_version": "1.2.0",
          "state": {
            "_model_module": "@jupyter-widgets/base",
            "_model_module_version": "1.2.0",
            "_model_name": "LayoutModel",
            "_view_count": null,
            "_view_module": "@jupyter-widgets/base",
            "_view_module_version": "1.2.0",
            "_view_name": "LayoutView",
            "align_content": null,
            "align_items": null,
            "align_self": null,
            "border": null,
            "bottom": null,
            "display": null,
            "flex": null,
            "flex_flow": null,
            "grid_area": null,
            "grid_auto_columns": null,
            "grid_auto_flow": null,
            "grid_auto_rows": null,
            "grid_column": null,
            "grid_gap": null,
            "grid_row": null,
            "grid_template_areas": null,
            "grid_template_columns": null,
            "grid_template_rows": null,
            "height": null,
            "justify_content": null,
            "justify_items": null,
            "left": null,
            "margin": null,
            "max_height": null,
            "max_width": null,
            "min_height": null,
            "min_width": null,
            "object_fit": null,
            "object_position": null,
            "order": null,
            "overflow": null,
            "overflow_x": null,
            "overflow_y": null,
            "padding": null,
            "right": null,
            "top": null,
            "visibility": null,
            "width": null
          }
        },
        "1caa28e472f0411e8b73c2a5002111e1": {
          "model_module": "@jupyter-widgets/base",
          "model_name": "LayoutModel",
          "model_module_version": "1.2.0",
          "state": {
            "_model_module": "@jupyter-widgets/base",
            "_model_module_version": "1.2.0",
            "_model_name": "LayoutModel",
            "_view_count": null,
            "_view_module": "@jupyter-widgets/base",
            "_view_module_version": "1.2.0",
            "_view_name": "LayoutView",
            "align_content": null,
            "align_items": null,
            "align_self": null,
            "border": null,
            "bottom": null,
            "display": null,
            "flex": null,
            "flex_flow": null,
            "grid_area": null,
            "grid_auto_columns": null,
            "grid_auto_flow": null,
            "grid_auto_rows": null,
            "grid_column": null,
            "grid_gap": null,
            "grid_row": null,
            "grid_template_areas": null,
            "grid_template_columns": null,
            "grid_template_rows": null,
            "height": null,
            "justify_content": null,
            "justify_items": null,
            "left": null,
            "margin": null,
            "max_height": null,
            "max_width": null,
            "min_height": null,
            "min_width": null,
            "object_fit": null,
            "object_position": null,
            "order": null,
            "overflow": null,
            "overflow_x": null,
            "overflow_y": null,
            "padding": null,
            "right": null,
            "top": null,
            "visibility": null,
            "width": null
          }
        },
        "4c8e742280814817b3eccfd39a768c28": {
          "model_module": "@jupyter-widgets/controls",
          "model_name": "DescriptionStyleModel",
          "model_module_version": "1.5.0",
          "state": {
            "_model_module": "@jupyter-widgets/controls",
            "_model_module_version": "1.5.0",
            "_model_name": "DescriptionStyleModel",
            "_view_count": null,
            "_view_module": "@jupyter-widgets/base",
            "_view_module_version": "1.2.0",
            "_view_name": "StyleView",
            "description_width": ""
          }
        },
        "eae4f1dc33c640cbba91e87f105b444e": {
          "model_module": "@jupyter-widgets/base",
          "model_name": "LayoutModel",
          "model_module_version": "1.2.0",
          "state": {
            "_model_module": "@jupyter-widgets/base",
            "_model_module_version": "1.2.0",
            "_model_name": "LayoutModel",
            "_view_count": null,
            "_view_module": "@jupyter-widgets/base",
            "_view_module_version": "1.2.0",
            "_view_name": "LayoutView",
            "align_content": null,
            "align_items": null,
            "align_self": null,
            "border": null,
            "bottom": null,
            "display": null,
            "flex": null,
            "flex_flow": null,
            "grid_area": null,
            "grid_auto_columns": null,
            "grid_auto_flow": null,
            "grid_auto_rows": null,
            "grid_column": null,
            "grid_gap": null,
            "grid_row": null,
            "grid_template_areas": null,
            "grid_template_columns": null,
            "grid_template_rows": null,
            "height": null,
            "justify_content": null,
            "justify_items": null,
            "left": null,
            "margin": null,
            "max_height": null,
            "max_width": null,
            "min_height": null,
            "min_width": null,
            "object_fit": null,
            "object_position": null,
            "order": null,
            "overflow": null,
            "overflow_x": null,
            "overflow_y": null,
            "padding": null,
            "right": null,
            "top": null,
            "visibility": null,
            "width": null
          }
        },
        "467b2dcb4fac468c9245ddd3f1126d10": {
          "model_module": "@jupyter-widgets/controls",
          "model_name": "ProgressStyleModel",
          "model_module_version": "1.5.0",
          "state": {
            "_model_module": "@jupyter-widgets/controls",
            "_model_module_version": "1.5.0",
            "_model_name": "ProgressStyleModel",
            "_view_count": null,
            "_view_module": "@jupyter-widgets/base",
            "_view_module_version": "1.2.0",
            "_view_name": "StyleView",
            "bar_color": null,
            "description_width": ""
          }
        },
        "cca422169d1c43bfb58ee4080b18c18b": {
          "model_module": "@jupyter-widgets/base",
          "model_name": "LayoutModel",
          "model_module_version": "1.2.0",
          "state": {
            "_model_module": "@jupyter-widgets/base",
            "_model_module_version": "1.2.0",
            "_model_name": "LayoutModel",
            "_view_count": null,
            "_view_module": "@jupyter-widgets/base",
            "_view_module_version": "1.2.0",
            "_view_name": "LayoutView",
            "align_content": null,
            "align_items": null,
            "align_self": null,
            "border": null,
            "bottom": null,
            "display": null,
            "flex": null,
            "flex_flow": null,
            "grid_area": null,
            "grid_auto_columns": null,
            "grid_auto_flow": null,
            "grid_auto_rows": null,
            "grid_column": null,
            "grid_gap": null,
            "grid_row": null,
            "grid_template_areas": null,
            "grid_template_columns": null,
            "grid_template_rows": null,
            "height": null,
            "justify_content": null,
            "justify_items": null,
            "left": null,
            "margin": null,
            "max_height": null,
            "max_width": null,
            "min_height": null,
            "min_width": null,
            "object_fit": null,
            "object_position": null,
            "order": null,
            "overflow": null,
            "overflow_x": null,
            "overflow_y": null,
            "padding": null,
            "right": null,
            "top": null,
            "visibility": null,
            "width": null
          }
        },
        "3e86a6c72cb14296a14d61347f426fdb": {
          "model_module": "@jupyter-widgets/controls",
          "model_name": "DescriptionStyleModel",
          "model_module_version": "1.5.0",
          "state": {
            "_model_module": "@jupyter-widgets/controls",
            "_model_module_version": "1.5.0",
            "_model_name": "DescriptionStyleModel",
            "_view_count": null,
            "_view_module": "@jupyter-widgets/base",
            "_view_module_version": "1.2.0",
            "_view_name": "StyleView",
            "description_width": ""
          }
        }
      }
    }
  },
  "cells": [
    {
      "cell_type": "markdown",
      "metadata": {
        "id": "view-in-github",
        "colab_type": "text"
      },
      "source": [
        "<a href=\"https://colab.research.google.com/github/felixzhao/title_catgories_classification/blob/main/JTC_v3_5_Hierarchial_model_implementation_topn_deliverable.ipynb\" target=\"_parent\"><img src=\"https://colab.research.google.com/assets/colab-badge.svg\" alt=\"Open In Colab\"/></a>"
      ]
    },
    {
      "cell_type": "markdown",
      "source": [
        "# install dependency"
      ],
      "metadata": {
        "id": "tKZLvYaCiy6i"
      }
    },
    {
      "cell_type": "code",
      "execution_count": 1,
      "metadata": {
        "colab": {
          "base_uri": "https://localhost:8080/"
        },
        "id": "IL9AjlvPNbzQ",
        "outputId": "9833c9a1-18ea-4e63-fb59-0f1ced2d75dd"
      },
      "outputs": [
        {
          "output_type": "stream",
          "name": "stdout",
          "text": [
            "Looking in indexes: https://pypi.org/simple, https://us-python.pkg.dev/colab-wheels/public/simple/\n",
            "Collecting sentence-transformers\n",
            "  Downloading sentence-transformers-2.2.2.tar.gz (85 kB)\n",
            "\u001b[2K     \u001b[90m━━━━━━━━━━━━━━━━━━━━━━━━━━━━━━━━━━━━━━━━\u001b[0m \u001b[32m86.0/86.0 KB\u001b[0m \u001b[31m1.3 MB/s\u001b[0m eta \u001b[36m0:00:00\u001b[0m\n",
            "\u001b[?25h  Preparing metadata (setup.py) ... \u001b[?25l\u001b[?25hdone\n",
            "Collecting transformers<5.0.0,>=4.6.0\n",
            "  Downloading transformers-4.26.1-py3-none-any.whl (6.3 MB)\n",
            "\u001b[2K     \u001b[90m━━━━━━━━━━━━━━━━━━━━━━━━━━━━━━━━━━━━━━━━\u001b[0m \u001b[32m6.3/6.3 MB\u001b[0m \u001b[31m105.6 MB/s\u001b[0m eta \u001b[36m0:00:00\u001b[0m\n",
            "\u001b[?25hRequirement already satisfied: tqdm in /usr/local/lib/python3.9/dist-packages (from sentence-transformers) (4.65.0)\n",
            "Requirement already satisfied: torch>=1.6.0 in /usr/local/lib/python3.9/dist-packages (from sentence-transformers) (1.13.1+cu116)\n",
            "Requirement already satisfied: torchvision in /usr/local/lib/python3.9/dist-packages (from sentence-transformers) (0.14.1+cu116)\n",
            "Requirement already satisfied: numpy in /usr/local/lib/python3.9/dist-packages (from sentence-transformers) (1.22.4)\n",
            "Requirement already satisfied: scikit-learn in /usr/local/lib/python3.9/dist-packages (from sentence-transformers) (1.2.1)\n",
            "Requirement already satisfied: scipy in /usr/local/lib/python3.9/dist-packages (from sentence-transformers) (1.10.1)\n",
            "Requirement already satisfied: nltk in /usr/local/lib/python3.9/dist-packages (from sentence-transformers) (3.7)\n",
            "Collecting sentencepiece\n",
            "  Downloading sentencepiece-0.1.97-cp39-cp39-manylinux_2_17_x86_64.manylinux2014_x86_64.whl (1.3 MB)\n",
            "\u001b[2K     \u001b[90m━━━━━━━━━━━━━━━━━━━━━━━━━━━━━━━━━━━━━━━━\u001b[0m \u001b[32m1.3/1.3 MB\u001b[0m \u001b[31m57.8 MB/s\u001b[0m eta \u001b[36m0:00:00\u001b[0m\n",
            "\u001b[?25hCollecting huggingface-hub>=0.4.0\n",
            "  Downloading huggingface_hub-0.13.1-py3-none-any.whl (199 kB)\n",
            "\u001b[2K     \u001b[90m━━━━━━━━━━━━━━━━━━━━━━━━━━━━━━━━━━━━━━\u001b[0m \u001b[32m199.2/199.2 KB\u001b[0m \u001b[31m22.8 MB/s\u001b[0m eta \u001b[36m0:00:00\u001b[0m\n",
            "\u001b[?25hRequirement already satisfied: typing-extensions>=3.7.4.3 in /usr/local/lib/python3.9/dist-packages (from huggingface-hub>=0.4.0->sentence-transformers) (4.5.0)\n",
            "Requirement already satisfied: requests in /usr/local/lib/python3.9/dist-packages (from huggingface-hub>=0.4.0->sentence-transformers) (2.25.1)\n",
            "Requirement already satisfied: filelock in /usr/local/lib/python3.9/dist-packages (from huggingface-hub>=0.4.0->sentence-transformers) (3.9.0)\n",
            "Requirement already satisfied: packaging>=20.9 in /usr/local/lib/python3.9/dist-packages (from huggingface-hub>=0.4.0->sentence-transformers) (23.0)\n",
            "Requirement already satisfied: pyyaml>=5.1 in /usr/local/lib/python3.9/dist-packages (from huggingface-hub>=0.4.0->sentence-transformers) (6.0)\n",
            "Requirement already satisfied: regex!=2019.12.17 in /usr/local/lib/python3.9/dist-packages (from transformers<5.0.0,>=4.6.0->sentence-transformers) (2022.6.2)\n",
            "Collecting tokenizers!=0.11.3,<0.14,>=0.11.1\n",
            "  Downloading tokenizers-0.13.2-cp39-cp39-manylinux_2_17_x86_64.manylinux2014_x86_64.whl (7.6 MB)\n",
            "\u001b[2K     \u001b[90m━━━━━━━━━━━━━━━━━━━━━━━━━━━━━━━━━━━━━━━━\u001b[0m \u001b[32m7.6/7.6 MB\u001b[0m \u001b[31m52.5 MB/s\u001b[0m eta \u001b[36m0:00:00\u001b[0m\n",
            "\u001b[?25hRequirement already satisfied: joblib in /usr/local/lib/python3.9/dist-packages (from nltk->sentence-transformers) (1.2.0)\n",
            "Requirement already satisfied: click in /usr/local/lib/python3.9/dist-packages (from nltk->sentence-transformers) (8.1.3)\n",
            "Requirement already satisfied: threadpoolctl>=2.0.0 in /usr/local/lib/python3.9/dist-packages (from scikit-learn->sentence-transformers) (3.1.0)\n",
            "Requirement already satisfied: pillow!=8.3.*,>=5.3.0 in /usr/local/lib/python3.9/dist-packages (from torchvision->sentence-transformers) (8.4.0)\n",
            "Requirement already satisfied: chardet<5,>=3.0.2 in /usr/local/lib/python3.9/dist-packages (from requests->huggingface-hub>=0.4.0->sentence-transformers) (4.0.0)\n",
            "Requirement already satisfied: certifi>=2017.4.17 in /usr/local/lib/python3.9/dist-packages (from requests->huggingface-hub>=0.4.0->sentence-transformers) (2022.12.7)\n",
            "Requirement already satisfied: idna<3,>=2.5 in /usr/local/lib/python3.9/dist-packages (from requests->huggingface-hub>=0.4.0->sentence-transformers) (2.10)\n",
            "Requirement already satisfied: urllib3<1.27,>=1.21.1 in /usr/local/lib/python3.9/dist-packages (from requests->huggingface-hub>=0.4.0->sentence-transformers) (1.26.14)\n",
            "Building wheels for collected packages: sentence-transformers\n",
            "  Building wheel for sentence-transformers (setup.py) ... \u001b[?25l\u001b[?25hdone\n",
            "  Created wheel for sentence-transformers: filename=sentence_transformers-2.2.2-py3-none-any.whl size=125938 sha256=aa84415e6076dc2f762d040483b9bb5401bb45dce515ba18af967d7572545774\n",
            "  Stored in directory: /root/.cache/pip/wheels/71/67/06/162a3760c40d74dd40bc855d527008d26341c2b0ecf3e8e11f\n",
            "Successfully built sentence-transformers\n",
            "Installing collected packages: tokenizers, sentencepiece, huggingface-hub, transformers, sentence-transformers\n",
            "Successfully installed huggingface-hub-0.13.1 sentence-transformers-2.2.2 sentencepiece-0.1.97 tokenizers-0.13.2 transformers-4.26.1\n"
          ]
        }
      ],
      "source": [
        "! pip install sentence-transformers\n"
      ]
    },
    {
      "cell_type": "markdown",
      "source": [
        "# load packages"
      ],
      "metadata": {
        "id": "D4_k8TOxi70W"
      }
    },
    {
      "cell_type": "code",
      "execution_count": 2,
      "metadata": {
        "id": "x8kgHpZQ85G4"
      },
      "outputs": [],
      "source": [
        "import pandas as pd\n",
        "import matplotlib.pyplot as plt\n",
        "\n",
        "from collections import defaultdict\n",
        "import json\n",
        "import pickle"
      ]
    },
    {
      "cell_type": "code",
      "source": [
        "from sklearn.model_selection import train_test_split\n",
        "from sklearn.feature_extraction.text import CountVectorizer, TfidfVectorizer\n",
        "\n",
        "from sklearn.ensemble import RandomForestClassifier\n",
        "from sklearn.metrics import confusion_matrix,classification_report\n",
        "\n",
        "from sentence_transformers import SentenceTransformer, util\n",
        "from sklearn import metrics"
      ],
      "metadata": {
        "id": "A1MOksIe9C8O"
      },
      "execution_count": 3,
      "outputs": []
    },
    {
      "cell_type": "code",
      "source": [
        "from typing import Any, Optional\n",
        "\n",
        "import pandas as pd\n",
        "import numpy as np\n",
        "\n",
        "from sklearn.ensemble import RandomForestClassifier\n",
        "\n",
        "from sklearn.metrics import (\n",
        "    classification_report,\n",
        "    accuracy_score,\n",
        "    confusion_matrix,\n",
        "    ConfusionMatrixDisplay\n",
        ")\n",
        "import pickle\n",
        "\n",
        "from sklearn.experimental import enable_halving_search_cv\n",
        "from sklearn.model_selection import HalvingGridSearchCV"
      ],
      "metadata": {
        "id": "CtVijL_Ibxad"
      },
      "execution_count": 4,
      "outputs": []
    },
    {
      "cell_type": "code",
      "source": [
        "model = SentenceTransformer(\"all-MiniLM-L6-v2\")"
      ],
      "metadata": {
        "colab": {
          "base_uri": "https://localhost:8080/",
          "height": 0,
          "referenced_widgets": [
            "fe5b90583e984c40b4fa690c31cb2787",
            "28e85b0d85cd470788414999bae83ad3",
            "817fa74d69354233908b64b12fd3dece",
            "15952501deab4950ad922f8910ba867a",
            "4f7de8ed70274d4dbbf0264375358f33",
            "4c40284163504b24a5db99e8fcdbca71",
            "3f900d69a7f7402f9ee6a799e00e7d9b",
            "ab09b51cc63f4cfcb35a930317ca65eb",
            "9c4ef25f7c454db1a2dd4dac026811fd",
            "c6e38603feab4bf2873eb594b3be8ddd",
            "f714e6e22aee4871b1c253ff4a2afcf3",
            "87667c739ba049bb882921f24c9abea9",
            "912ce6c1c1bf4fd49614898adc91b08a",
            "dcfcda5080ab4a558cda961b4e558bf9",
            "d2adce3f71864337bec9ab59f2aac58f",
            "139295bba4154a3cadcc4f213b875b2f",
            "e034d415800d4198962f713a7162cd18",
            "eeb8c7f0c71a45428ac11dbe5dd4682b",
            "5e08355be2ca4992a7c68926c561d451",
            "0ca6e861a1bb4d8a8c3f4d706c5013fd",
            "263b1c4b57724641b0fd307e5a0b2f86",
            "2a11bcbc9a3645778dd59912b8901934",
            "80db3ec996094e41a2cde019c2267b37",
            "a3ce34f8edc34f4a95aba66937639e67",
            "e6529a381c704f5f817db21172d2d730",
            "4aaa2d0a03a345fab4e1640d7972b44d",
            "48f6d9316fac46968b1940c1f0224288",
            "13541a8d3b8a4c0eab5c88ef51f5b109",
            "11dd89e488844a668ade4e0f7cbef851",
            "0170cb0abce74b8e9208d3b9f70f3482",
            "d93323ee14804639b8e8c2001dfda80e",
            "500cc226fbb044569322a23c6644649c",
            "984b39d93ddb4ae29bb0d350132db6df",
            "2c38a138b6984fe996d259152a3d617f",
            "a564c4c4917d40748f9f5806287d53c9",
            "a068095c194f463daf21f772c828e3b7",
            "a74433003cbc48ba8dc8534a22892d9c",
            "8345f8ec676d4a4ca20d7219f57d9f24",
            "c456922481bc42f09ff5397790149813",
            "80744e8894f941669a6e2cad1ad8c704",
            "7e2eeb3a821a4e5e9ca6122329e7ed7f",
            "4ff93fdacafc497c8d8798759ee1bc88",
            "e6dac55a2a4c45daa6880fcd18957329",
            "bd8120432b7d419596dbac1f963c9b5c",
            "5dd8bb63cc0e4a2c86d5849abca1060b",
            "bffafdc8d5d34a4c83fa7276984cd132",
            "faf096c286bf4fb99c77b835d56a3a5d",
            "ee30b8cf04b34dc09ef7c4ba3426ab07",
            "d54f203dae9d4e6bac47db99a27ffab2",
            "771ec2df387e412dac0cb029ccd63df0",
            "b3a6c6696153429db5c64837db0c0447",
            "b58025a9d8ee4652b9c1096e1169339f",
            "e2cef1fca0eb4f548d71e2c3417134a4",
            "73f4ca09da9e40788c6357187b6e800d",
            "aa52c74b6859445798c374aed66e7d59",
            "a538b472a109484f944bf29786b3d273",
            "19c38af02c6643488e89a3c7bd432748",
            "09de571d0687419baf2c21beddb4b617",
            "058bcab1c8aa4d5e925148e9931bf783",
            "e642f38207f44a2d860383c2e1fcfe66",
            "cb35ddf52162417b9d38149b61e0ad6f",
            "46f87b2b4e8c4c94ac20342242159ce8",
            "75e8ba4dabbf4b62b25b62e4c7a31239",
            "ef340b5d66924c9191690b299b820ea8",
            "0cf407b4bfac45719f016ca872943411",
            "9201e6fbdcd74d5a91ca7160c7e958cd",
            "1f854a16ed114a9582026c043aa7563a",
            "4048cdbadc5e46cbaa167a7486dbc62d",
            "bd138e9beff34d59bc73c736e77d1cbd",
            "4360a70304f54c97b9e9875321592e4e",
            "3d38862e383f4022ab51a605b96d9ff8",
            "b345945e29004430986d3e43d1e6ae12",
            "c3b6fdf7d14f4d0190696729b39c90c1",
            "e637eea6c2dc47adb18ca26875123854",
            "203b605038214e799cf2fc1658f15e1f",
            "aadc10d8ada5497687393bf0ae89fd58",
            "c8f73c313f074087a9c7f3c43d432e09",
            "992eb349a0ac4ad6a063a832739f0a96",
            "bd852a8da27942a1a2231ef79e65b887",
            "307dc983c0b0482294cf3544a25f2cce",
            "0c35c71cd0544486bd3a19c7534a93e2",
            "49faac2d3dd24200a1e1d9772ab63838",
            "7357a432d2f1416f843dd01fb54241cf",
            "f4e8fd668ddc49198bcc442bf3ea009a",
            "72f6af8837f6450c9458ffb78daf5f8b",
            "bfa7264b452f42f297411ee12333a9f5",
            "0626d2e590be4fb0ad8f92dfd6c85c6e",
            "19be828b6f08486eb0138f13e5a38a53",
            "51745b1eb5f6454bbe306c180ea31333",
            "ac61c0f275ba4233b357710c58817c32",
            "16ef8ee726e0440a988a2e421c306e08",
            "de98809d388f40d6b8068e0c29e87b5b",
            "82a567261eaa474191a182864842cab2",
            "f96d5f13c5ee495abd70838b46a71163",
            "bf8e049945d74f3cae35b2be1507a94e",
            "07b6485d345d405da719982b49aca621",
            "f2acf3fb5c884f9ea1a96295417ec2d3",
            "b52dd79f688d41fc8c9ab28d5853e185",
            "c41e011e1a814fe99640599acccdbad9",
            "03a0a0fb6ec647a1bd07a6d929a6fdf4",
            "c2e38e5bc743466badad0af657f3f56b",
            "a59836ef2519470db60b854fb9d6c8d6",
            "e35e8706ba6b4c83b90e3a29dba1b7d0",
            "0423734894cf4682901edf1f3706f08e",
            "699ccdc4367645dba6693f89914f6169",
            "96ba9c3de111414eb2e2ad98f6eb6f10",
            "90723325ae974a99bbe6175469b809da",
            "bc9adf27a21e414286bf7ee45a7b9c6b",
            "632aa16fab19462283303576be2f9ac7",
            "c6f32d0c7a0849169b3503df06f64c20",
            "f53df90b7c67487ab81310ab34bd2f92",
            "0f24ad9c221f4463a669227802bccb1c",
            "b5241666da5c4f0c8d3ddb95e152d739",
            "47f82ea09cdd46afa4ea04ee8a9ec9f6",
            "bdb199ba61f64325bc6eb5716f317bbd",
            "fe28c47087c147e3b31cc07fd386795f",
            "13b5b6cc88174790aa376768ae2b9d62",
            "5b349e520fbc425484558ba51f80742f",
            "7546a887c66f413dba4c6bd62c4f93cb",
            "9098d2852d19450e974d7256cf00364a",
            "480771e34e134f8a81e3940eb7fa28ee",
            "c3c2c5e078b24a3c8cd056bbc5a8d567",
            "c837c61adeb144818b50648d9d15818b",
            "f34f2b73af3a441a9539c62bbe730724",
            "68e27192f56f4ef8b1bbc7a05ad0b439",
            "17c4726ba6924a94acb40e21d4ac5ab3",
            "deb9b51b9c2146e7b20d847723ce7d42",
            "8b03f814a40545dd95a3a5721c0ee831",
            "ff318a2893034001bc7c234f6cd99eed",
            "2be99551d5284fd9a4c3f84d2fcfe5b4",
            "b3a72353ebf64372bec24b95740dc18c",
            "a8b33420a8e842869dfc687c4f1d209a",
            "b6e4846e00104e4985a19537d96516ba",
            "db1b9a5dbdbf415a927c421821bda90b",
            "b41f609fe4834b79ad20f3f22ac58a0f",
            "40794bbf855f4c03989442078dde595a",
            "ae94d0a633524b54857536dc9b30c660",
            "9523cefadad946e3b84e1872ec5f2910",
            "b9329c4783a048d2bf651576cdc01c07",
            "703b884d57d04ee283b51feb03d313f4",
            "2b6389bebe5f4e5aad1fbcf224908cf6",
            "0fd3fc489c434cd0a2ab966853238d7d",
            "15d1bc68819744d3a69f30998a463553",
            "42eeaf00e1d3477c81ad343174fee21d",
            "2e1006859c6e4568a25a99a509ffc3d7",
            "928a91081e604fee88549883a585a622",
            "40d1fb84722445b4a1271a29faca442b",
            "0673741c952a4a498fd03b4bf50509f1",
            "1caa28e472f0411e8b73c2a5002111e1",
            "4c8e742280814817b3eccfd39a768c28",
            "eae4f1dc33c640cbba91e87f105b444e",
            "467b2dcb4fac468c9245ddd3f1126d10",
            "cca422169d1c43bfb58ee4080b18c18b",
            "3e86a6c72cb14296a14d61347f426fdb"
          ]
        },
        "id": "YKj3O9EABTJU",
        "outputId": "53bc8813-3090-4d10-c10e-aa4bb9abddcd"
      },
      "execution_count": 5,
      "outputs": [
        {
          "output_type": "display_data",
          "data": {
            "text/plain": [
              "Downloading (…)e9125/.gitattributes:   0%|          | 0.00/1.18k [00:00<?, ?B/s]"
            ],
            "application/vnd.jupyter.widget-view+json": {
              "version_major": 2,
              "version_minor": 0,
              "model_id": "fe5b90583e984c40b4fa690c31cb2787"
            }
          },
          "metadata": {}
        },
        {
          "output_type": "display_data",
          "data": {
            "text/plain": [
              "Downloading (…)_Pooling/config.json:   0%|          | 0.00/190 [00:00<?, ?B/s]"
            ],
            "application/vnd.jupyter.widget-view+json": {
              "version_major": 2,
              "version_minor": 0,
              "model_id": "87667c739ba049bb882921f24c9abea9"
            }
          },
          "metadata": {}
        },
        {
          "output_type": "display_data",
          "data": {
            "text/plain": [
              "Downloading (…)7e55de9125/README.md:   0%|          | 0.00/10.6k [00:00<?, ?B/s]"
            ],
            "application/vnd.jupyter.widget-view+json": {
              "version_major": 2,
              "version_minor": 0,
              "model_id": "80db3ec996094e41a2cde019c2267b37"
            }
          },
          "metadata": {}
        },
        {
          "output_type": "display_data",
          "data": {
            "text/plain": [
              "Downloading (…)55de9125/config.json:   0%|          | 0.00/612 [00:00<?, ?B/s]"
            ],
            "application/vnd.jupyter.widget-view+json": {
              "version_major": 2,
              "version_minor": 0,
              "model_id": "2c38a138b6984fe996d259152a3d617f"
            }
          },
          "metadata": {}
        },
        {
          "output_type": "display_data",
          "data": {
            "text/plain": [
              "Downloading (…)ce_transformers.json:   0%|          | 0.00/116 [00:00<?, ?B/s]"
            ],
            "application/vnd.jupyter.widget-view+json": {
              "version_major": 2,
              "version_minor": 0,
              "model_id": "5dd8bb63cc0e4a2c86d5849abca1060b"
            }
          },
          "metadata": {}
        },
        {
          "output_type": "display_data",
          "data": {
            "text/plain": [
              "Downloading (…)125/data_config.json:   0%|          | 0.00/39.3k [00:00<?, ?B/s]"
            ],
            "application/vnd.jupyter.widget-view+json": {
              "version_major": 2,
              "version_minor": 0,
              "model_id": "a538b472a109484f944bf29786b3d273"
            }
          },
          "metadata": {}
        },
        {
          "output_type": "display_data",
          "data": {
            "text/plain": [
              "Downloading pytorch_model.bin:   0%|          | 0.00/90.9M [00:00<?, ?B/s]"
            ],
            "application/vnd.jupyter.widget-view+json": {
              "version_major": 2,
              "version_minor": 0,
              "model_id": "1f854a16ed114a9582026c043aa7563a"
            }
          },
          "metadata": {}
        },
        {
          "output_type": "display_data",
          "data": {
            "text/plain": [
              "Downloading (…)nce_bert_config.json:   0%|          | 0.00/53.0 [00:00<?, ?B/s]"
            ],
            "application/vnd.jupyter.widget-view+json": {
              "version_major": 2,
              "version_minor": 0,
              "model_id": "992eb349a0ac4ad6a063a832739f0a96"
            }
          },
          "metadata": {}
        },
        {
          "output_type": "display_data",
          "data": {
            "text/plain": [
              "Downloading (…)cial_tokens_map.json:   0%|          | 0.00/112 [00:00<?, ?B/s]"
            ],
            "application/vnd.jupyter.widget-view+json": {
              "version_major": 2,
              "version_minor": 0,
              "model_id": "51745b1eb5f6454bbe306c180ea31333"
            }
          },
          "metadata": {}
        },
        {
          "output_type": "display_data",
          "data": {
            "text/plain": [
              "Downloading (…)e9125/tokenizer.json:   0%|          | 0.00/466k [00:00<?, ?B/s]"
            ],
            "application/vnd.jupyter.widget-view+json": {
              "version_major": 2,
              "version_minor": 0,
              "model_id": "03a0a0fb6ec647a1bd07a6d929a6fdf4"
            }
          },
          "metadata": {}
        },
        {
          "output_type": "display_data",
          "data": {
            "text/plain": [
              "Downloading (…)okenizer_config.json:   0%|          | 0.00/350 [00:00<?, ?B/s]"
            ],
            "application/vnd.jupyter.widget-view+json": {
              "version_major": 2,
              "version_minor": 0,
              "model_id": "f53df90b7c67487ab81310ab34bd2f92"
            }
          },
          "metadata": {}
        },
        {
          "output_type": "display_data",
          "data": {
            "text/plain": [
              "Downloading (…)9125/train_script.py:   0%|          | 0.00/13.2k [00:00<?, ?B/s]"
            ],
            "application/vnd.jupyter.widget-view+json": {
              "version_major": 2,
              "version_minor": 0,
              "model_id": "c3c2c5e078b24a3c8cd056bbc5a8d567"
            }
          },
          "metadata": {}
        },
        {
          "output_type": "display_data",
          "data": {
            "text/plain": [
              "Downloading (…)7e55de9125/vocab.txt:   0%|          | 0.00/232k [00:00<?, ?B/s]"
            ],
            "application/vnd.jupyter.widget-view+json": {
              "version_major": 2,
              "version_minor": 0,
              "model_id": "b6e4846e00104e4985a19537d96516ba"
            }
          },
          "metadata": {}
        },
        {
          "output_type": "display_data",
          "data": {
            "text/plain": [
              "Downloading (…)5de9125/modules.json:   0%|          | 0.00/349 [00:00<?, ?B/s]"
            ],
            "application/vnd.jupyter.widget-view+json": {
              "version_major": 2,
              "version_minor": 0,
              "model_id": "42eeaf00e1d3477c81ad343174fee21d"
            }
          },
          "metadata": {}
        }
      ]
    },
    {
      "cell_type": "markdown",
      "source": [
        "load data\n",
        "This work loads data from google drive. Please put the files into \"trademe_data\" folder under the root of google drive.\n",
        "\n",
        "Then run the following code to mount the google drive in colab.\n",
        "\n",
        "You can follow the guide. https://towardsdatascience.com/different-ways-to-connect-google-drive-to-a-google-colab-notebook-pt-1-de03433d2f7a"
      ],
      "metadata": {
        "id": "1aW75fGu9Fgh"
      }
    },
    {
      "cell_type": "code",
      "source": [
        "from google.colab import drive\n",
        "drive.mount('/content/drive')\n",
        "root_path = \"drive/MyDrive/trademe_data/\""
      ],
      "metadata": {
        "colab": {
          "base_uri": "https://localhost:8080/"
        },
        "id": "yriR5_n99F7Z",
        "outputId": "507d34be-56ab-48bf-c5da-545db7d37362"
      },
      "execution_count": 6,
      "outputs": [
        {
          "output_type": "stream",
          "name": "stdout",
          "text": [
            "Mounted at /content/drive\n"
          ]
        }
      ]
    },
    {
      "cell_type": "markdown",
      "source": [
        "# load  data"
      ],
      "metadata": {
        "id": "6XjRHu5N9T46"
      }
    },
    {
      "cell_type": "code",
      "source": [
        "raw_path = f\"{root_path}raw.csv\"\n",
        "c3_dict_path = f\"{root_path}c3_dict.json\"\n",
        "c1_dict_path = f\"{root_path}c1_dict.json\"\n",
        "\n",
        "c1_mapping_path = f\"{root_path}c1_mapping.json\"\n",
        "c2_mapping_path = f\"{root_path}c2_mapping.json\"\n",
        "c3_mapping_path = f\"{root_path}c3_mapping.json\""
      ],
      "metadata": {
        "id": "KyWXpSNUjZP0"
      },
      "execution_count": 16,
      "outputs": []
    },
    {
      "cell_type": "code",
      "source": [
        "raw_df = pd.read_csv(raw_path)\n",
        "raw_df.head(1)"
      ],
      "metadata": {
        "id": "IUDMyMvG9JKr",
        "colab": {
          "base_uri": "https://localhost:8080/",
          "height": 0
        },
        "outputId": "ea9eb89f-e258-42a5-8d0c-da5805176f15"
      },
      "execution_count": 17,
      "outputs": [
        {
          "output_type": "execute_result",
          "data": {
            "text/plain": [
              "   Unnamed: 0                       x_title  y_cat_id              cat_1  \\\n",
              "0           0  unqualified asbestos remover      5192  trades & services   \n",
              "\n",
              "       cat_2      cat_3          x_title_feature  \n",
              "0  labourers  labourers  unqualifi asbesto remov  "
            ],
            "text/html": [
              "\n",
              "  <div id=\"df-104f588f-6347-4530-acaa-2dc23f0f4755\">\n",
              "    <div class=\"colab-df-container\">\n",
              "      <div>\n",
              "<style scoped>\n",
              "    .dataframe tbody tr th:only-of-type {\n",
              "        vertical-align: middle;\n",
              "    }\n",
              "\n",
              "    .dataframe tbody tr th {\n",
              "        vertical-align: top;\n",
              "    }\n",
              "\n",
              "    .dataframe thead th {\n",
              "        text-align: right;\n",
              "    }\n",
              "</style>\n",
              "<table border=\"1\" class=\"dataframe\">\n",
              "  <thead>\n",
              "    <tr style=\"text-align: right;\">\n",
              "      <th></th>\n",
              "      <th>Unnamed: 0</th>\n",
              "      <th>x_title</th>\n",
              "      <th>y_cat_id</th>\n",
              "      <th>cat_1</th>\n",
              "      <th>cat_2</th>\n",
              "      <th>cat_3</th>\n",
              "      <th>x_title_feature</th>\n",
              "    </tr>\n",
              "  </thead>\n",
              "  <tbody>\n",
              "    <tr>\n",
              "      <th>0</th>\n",
              "      <td>0</td>\n",
              "      <td>unqualified asbestos remover</td>\n",
              "      <td>5192</td>\n",
              "      <td>trades &amp; services</td>\n",
              "      <td>labourers</td>\n",
              "      <td>labourers</td>\n",
              "      <td>unqualifi asbesto remov</td>\n",
              "    </tr>\n",
              "  </tbody>\n",
              "</table>\n",
              "</div>\n",
              "      <button class=\"colab-df-convert\" onclick=\"convertToInteractive('df-104f588f-6347-4530-acaa-2dc23f0f4755')\"\n",
              "              title=\"Convert this dataframe to an interactive table.\"\n",
              "              style=\"display:none;\">\n",
              "        \n",
              "  <svg xmlns=\"http://www.w3.org/2000/svg\" height=\"24px\"viewBox=\"0 0 24 24\"\n",
              "       width=\"24px\">\n",
              "    <path d=\"M0 0h24v24H0V0z\" fill=\"none\"/>\n",
              "    <path d=\"M18.56 5.44l.94 2.06.94-2.06 2.06-.94-2.06-.94-.94-2.06-.94 2.06-2.06.94zm-11 1L8.5 8.5l.94-2.06 2.06-.94-2.06-.94L8.5 2.5l-.94 2.06-2.06.94zm10 10l.94 2.06.94-2.06 2.06-.94-2.06-.94-.94-2.06-.94 2.06-2.06.94z\"/><path d=\"M17.41 7.96l-1.37-1.37c-.4-.4-.92-.59-1.43-.59-.52 0-1.04.2-1.43.59L10.3 9.45l-7.72 7.72c-.78.78-.78 2.05 0 2.83L4 21.41c.39.39.9.59 1.41.59.51 0 1.02-.2 1.41-.59l7.78-7.78 2.81-2.81c.8-.78.8-2.07 0-2.86zM5.41 20L4 18.59l7.72-7.72 1.47 1.35L5.41 20z\"/>\n",
              "  </svg>\n",
              "      </button>\n",
              "      \n",
              "  <style>\n",
              "    .colab-df-container {\n",
              "      display:flex;\n",
              "      flex-wrap:wrap;\n",
              "      gap: 12px;\n",
              "    }\n",
              "\n",
              "    .colab-df-convert {\n",
              "      background-color: #E8F0FE;\n",
              "      border: none;\n",
              "      border-radius: 50%;\n",
              "      cursor: pointer;\n",
              "      display: none;\n",
              "      fill: #1967D2;\n",
              "      height: 32px;\n",
              "      padding: 0 0 0 0;\n",
              "      width: 32px;\n",
              "    }\n",
              "\n",
              "    .colab-df-convert:hover {\n",
              "      background-color: #E2EBFA;\n",
              "      box-shadow: 0px 1px 2px rgba(60, 64, 67, 0.3), 0px 1px 3px 1px rgba(60, 64, 67, 0.15);\n",
              "      fill: #174EA6;\n",
              "    }\n",
              "\n",
              "    [theme=dark] .colab-df-convert {\n",
              "      background-color: #3B4455;\n",
              "      fill: #D2E3FC;\n",
              "    }\n",
              "\n",
              "    [theme=dark] .colab-df-convert:hover {\n",
              "      background-color: #434B5C;\n",
              "      box-shadow: 0px 1px 3px 1px rgba(0, 0, 0, 0.15);\n",
              "      filter: drop-shadow(0px 1px 2px rgba(0, 0, 0, 0.3));\n",
              "      fill: #FFFFFF;\n",
              "    }\n",
              "  </style>\n",
              "\n",
              "      <script>\n",
              "        const buttonEl =\n",
              "          document.querySelector('#df-104f588f-6347-4530-acaa-2dc23f0f4755 button.colab-df-convert');\n",
              "        buttonEl.style.display =\n",
              "          google.colab.kernel.accessAllowed ? 'block' : 'none';\n",
              "\n",
              "        async function convertToInteractive(key) {\n",
              "          const element = document.querySelector('#df-104f588f-6347-4530-acaa-2dc23f0f4755');\n",
              "          const dataTable =\n",
              "            await google.colab.kernel.invokeFunction('convertToInteractive',\n",
              "                                                     [key], {});\n",
              "          if (!dataTable) return;\n",
              "\n",
              "          const docLinkHtml = 'Like what you see? Visit the ' +\n",
              "            '<a target=\"_blank\" href=https://colab.research.google.com/notebooks/data_table.ipynb>data table notebook</a>'\n",
              "            + ' to learn more about interactive tables.';\n",
              "          element.innerHTML = '';\n",
              "          dataTable['output_type'] = 'display_data';\n",
              "          await google.colab.output.renderOutput(dataTable, element);\n",
              "          const docLink = document.createElement('div');\n",
              "          docLink.innerHTML = docLinkHtml;\n",
              "          element.appendChild(docLink);\n",
              "        }\n",
              "      </script>\n",
              "    </div>\n",
              "  </div>\n",
              "  "
            ]
          },
          "metadata": {},
          "execution_count": 17
        }
      ]
    },
    {
      "cell_type": "code",
      "source": [
        "raw_df = raw_df[['y_cat_id', 'x_title_feature', 'cat_1', 'cat_2','cat_3']]\n",
        "print(len(raw_df))\n",
        "raw_df.head()"
      ],
      "metadata": {
        "colab": {
          "base_uri": "https://localhost:8080/",
          "height": 0
        },
        "id": "V0G_SMIOYArh",
        "outputId": "fb772060-f372-4e76-c686-65a81cfe0e30"
      },
      "execution_count": 18,
      "outputs": [
        {
          "output_type": "stream",
          "name": "stdout",
          "text": [
            "20000\n"
          ]
        },
        {
          "output_type": "execute_result",
          "data": {
            "text/plain": [
              "   y_cat_id                       x_title_feature              cat_1  \\\n",
              "0      5192               unqualifi asbesto remov  trades & services   \n",
              "1      5123                   senior test analyst                 it   \n",
              "2      6894                ict trainer supervisor          education   \n",
              "3      5197  automot specialist multi facet posit  trades & services   \n",
              "4      5114                          busi analyst                 it   \n",
              "\n",
              "                         cat_2                        cat_3  \n",
              "0                    labourers                    labourers  \n",
              "1                      testing                      testing  \n",
              "2          tutoring & training          tutoring & training  \n",
              "3                  technicians                  technicians  \n",
              "4  business & systems analysts  business & systems analysts  "
            ],
            "text/html": [
              "\n",
              "  <div id=\"df-7018720a-8861-4b6c-9fe0-aed3b5b29522\">\n",
              "    <div class=\"colab-df-container\">\n",
              "      <div>\n",
              "<style scoped>\n",
              "    .dataframe tbody tr th:only-of-type {\n",
              "        vertical-align: middle;\n",
              "    }\n",
              "\n",
              "    .dataframe tbody tr th {\n",
              "        vertical-align: top;\n",
              "    }\n",
              "\n",
              "    .dataframe thead th {\n",
              "        text-align: right;\n",
              "    }\n",
              "</style>\n",
              "<table border=\"1\" class=\"dataframe\">\n",
              "  <thead>\n",
              "    <tr style=\"text-align: right;\">\n",
              "      <th></th>\n",
              "      <th>y_cat_id</th>\n",
              "      <th>x_title_feature</th>\n",
              "      <th>cat_1</th>\n",
              "      <th>cat_2</th>\n",
              "      <th>cat_3</th>\n",
              "    </tr>\n",
              "  </thead>\n",
              "  <tbody>\n",
              "    <tr>\n",
              "      <th>0</th>\n",
              "      <td>5192</td>\n",
              "      <td>unqualifi asbesto remov</td>\n",
              "      <td>trades &amp; services</td>\n",
              "      <td>labourers</td>\n",
              "      <td>labourers</td>\n",
              "    </tr>\n",
              "    <tr>\n",
              "      <th>1</th>\n",
              "      <td>5123</td>\n",
              "      <td>senior test analyst</td>\n",
              "      <td>it</td>\n",
              "      <td>testing</td>\n",
              "      <td>testing</td>\n",
              "    </tr>\n",
              "    <tr>\n",
              "      <th>2</th>\n",
              "      <td>6894</td>\n",
              "      <td>ict trainer supervisor</td>\n",
              "      <td>education</td>\n",
              "      <td>tutoring &amp; training</td>\n",
              "      <td>tutoring &amp; training</td>\n",
              "    </tr>\n",
              "    <tr>\n",
              "      <th>3</th>\n",
              "      <td>5197</td>\n",
              "      <td>automot specialist multi facet posit</td>\n",
              "      <td>trades &amp; services</td>\n",
              "      <td>technicians</td>\n",
              "      <td>technicians</td>\n",
              "    </tr>\n",
              "    <tr>\n",
              "      <th>4</th>\n",
              "      <td>5114</td>\n",
              "      <td>busi analyst</td>\n",
              "      <td>it</td>\n",
              "      <td>business &amp; systems analysts</td>\n",
              "      <td>business &amp; systems analysts</td>\n",
              "    </tr>\n",
              "  </tbody>\n",
              "</table>\n",
              "</div>\n",
              "      <button class=\"colab-df-convert\" onclick=\"convertToInteractive('df-7018720a-8861-4b6c-9fe0-aed3b5b29522')\"\n",
              "              title=\"Convert this dataframe to an interactive table.\"\n",
              "              style=\"display:none;\">\n",
              "        \n",
              "  <svg xmlns=\"http://www.w3.org/2000/svg\" height=\"24px\"viewBox=\"0 0 24 24\"\n",
              "       width=\"24px\">\n",
              "    <path d=\"M0 0h24v24H0V0z\" fill=\"none\"/>\n",
              "    <path d=\"M18.56 5.44l.94 2.06.94-2.06 2.06-.94-2.06-.94-.94-2.06-.94 2.06-2.06.94zm-11 1L8.5 8.5l.94-2.06 2.06-.94-2.06-.94L8.5 2.5l-.94 2.06-2.06.94zm10 10l.94 2.06.94-2.06 2.06-.94-2.06-.94-.94-2.06-.94 2.06-2.06.94z\"/><path d=\"M17.41 7.96l-1.37-1.37c-.4-.4-.92-.59-1.43-.59-.52 0-1.04.2-1.43.59L10.3 9.45l-7.72 7.72c-.78.78-.78 2.05 0 2.83L4 21.41c.39.39.9.59 1.41.59.51 0 1.02-.2 1.41-.59l7.78-7.78 2.81-2.81c.8-.78.8-2.07 0-2.86zM5.41 20L4 18.59l7.72-7.72 1.47 1.35L5.41 20z\"/>\n",
              "  </svg>\n",
              "      </button>\n",
              "      \n",
              "  <style>\n",
              "    .colab-df-container {\n",
              "      display:flex;\n",
              "      flex-wrap:wrap;\n",
              "      gap: 12px;\n",
              "    }\n",
              "\n",
              "    .colab-df-convert {\n",
              "      background-color: #E8F0FE;\n",
              "      border: none;\n",
              "      border-radius: 50%;\n",
              "      cursor: pointer;\n",
              "      display: none;\n",
              "      fill: #1967D2;\n",
              "      height: 32px;\n",
              "      padding: 0 0 0 0;\n",
              "      width: 32px;\n",
              "    }\n",
              "\n",
              "    .colab-df-convert:hover {\n",
              "      background-color: #E2EBFA;\n",
              "      box-shadow: 0px 1px 2px rgba(60, 64, 67, 0.3), 0px 1px 3px 1px rgba(60, 64, 67, 0.15);\n",
              "      fill: #174EA6;\n",
              "    }\n",
              "\n",
              "    [theme=dark] .colab-df-convert {\n",
              "      background-color: #3B4455;\n",
              "      fill: #D2E3FC;\n",
              "    }\n",
              "\n",
              "    [theme=dark] .colab-df-convert:hover {\n",
              "      background-color: #434B5C;\n",
              "      box-shadow: 0px 1px 3px 1px rgba(0, 0, 0, 0.15);\n",
              "      filter: drop-shadow(0px 1px 2px rgba(0, 0, 0, 0.3));\n",
              "      fill: #FFFFFF;\n",
              "    }\n",
              "  </style>\n",
              "\n",
              "      <script>\n",
              "        const buttonEl =\n",
              "          document.querySelector('#df-7018720a-8861-4b6c-9fe0-aed3b5b29522 button.colab-df-convert');\n",
              "        buttonEl.style.display =\n",
              "          google.colab.kernel.accessAllowed ? 'block' : 'none';\n",
              "\n",
              "        async function convertToInteractive(key) {\n",
              "          const element = document.querySelector('#df-7018720a-8861-4b6c-9fe0-aed3b5b29522');\n",
              "          const dataTable =\n",
              "            await google.colab.kernel.invokeFunction('convertToInteractive',\n",
              "                                                     [key], {});\n",
              "          if (!dataTable) return;\n",
              "\n",
              "          const docLinkHtml = 'Like what you see? Visit the ' +\n",
              "            '<a target=\"_blank\" href=https://colab.research.google.com/notebooks/data_table.ipynb>data table notebook</a>'\n",
              "            + ' to learn more about interactive tables.';\n",
              "          element.innerHTML = '';\n",
              "          dataTable['output_type'] = 'display_data';\n",
              "          await google.colab.output.renderOutput(dataTable, element);\n",
              "          const docLink = document.createElement('div');\n",
              "          docLink.innerHTML = docLinkHtml;\n",
              "          element.appendChild(docLink);\n",
              "        }\n",
              "      </script>\n",
              "    </div>\n",
              "  </div>\n",
              "  "
            ]
          },
          "metadata": {},
          "execution_count": 18
        }
      ]
    },
    {
      "cell_type": "markdown",
      "source": [
        "### load level dicts"
      ],
      "metadata": {
        "id": "_dyHhEaJCloO"
      }
    },
    {
      "cell_type": "code",
      "source": [
        "c3_dict = json.load(open(c3_dict_path))\n",
        "print(len(c3_dict.keys()))\n",
        "c3_ununique_node_c2_list = c3_dict.keys()\n",
        "c3_ununique_node_c2_list"
      ],
      "metadata": {
        "colab": {
          "base_uri": "https://localhost:8080/"
        },
        "id": "RG6UvgIiCoG5",
        "outputId": "9ec8eeef-398e-4b65-f0f7-7c5eae1bb2a7"
      },
      "execution_count": 19,
      "outputs": [
        {
          "output_type": "stream",
          "name": "stdout",
          "text": [
            "3\n"
          ]
        },
        {
          "output_type": "execute_result",
          "data": {
            "text/plain": [
              "dict_keys(['accountants', 'drivers & couriers', 'nursing & midwifery'])"
            ]
          },
          "metadata": {},
          "execution_count": 19
        }
      ]
    },
    {
      "cell_type": "code",
      "source": [
        "c1_dict = json.load(open(c1_dict_path))\n",
        "print(len(c1_dict.keys()))\n",
        "c1_ununique_node_c2_list = c1_dict.keys()\n",
        "c1_ununique_node_c2_list"
      ],
      "metadata": {
        "colab": {
          "base_uri": "https://localhost:8080/"
        },
        "id": "13KSW3TkDVrT",
        "outputId": "56925c28-6611-44e6-9067-5c81a68fe93d"
      },
      "execution_count": 20,
      "outputs": [
        {
          "output_type": "stream",
          "name": "stdout",
          "text": [
            "10\n"
          ]
        },
        {
          "output_type": "execute_result",
          "data": {
            "text/plain": [
              "dict_keys(['administration', 'analysts', 'architects', 'drafting', 'electrical', 'health & safety', 'management', 'project management', 'security', 'supervisors & forepersons'])"
            ]
          },
          "metadata": {},
          "execution_count": 20
        }
      ]
    },
    {
      "cell_type": "markdown",
      "source": [
        "## load id and label mapping"
      ],
      "metadata": {
        "id": "RJe_6RJM14w_"
      }
    },
    {
      "cell_type": "code",
      "source": [
        "c1_mapping = json.load(open(c1_mapping_path))\n",
        "print(len(c1_mapping.keys()))\n",
        "c1_mapping"
      ],
      "metadata": {
        "colab": {
          "base_uri": "https://localhost:8080/"
        },
        "id": "8DeEjJ181_D9",
        "outputId": "96c2712b-06b8-4d11-cd28-c56a1bfcf8a3"
      },
      "execution_count": 21,
      "outputs": [
        {
          "output_type": "stream",
          "name": "stdout",
          "text": [
            "10\n"
          ]
        },
        {
          "output_type": "execute_result",
          "data": {
            "text/plain": [
              "{'administration': {'healthcare': 5083, 'office & administration': 5156},\n",
              " 'analysts': {'banking, finance & insurance': 5022, 'accounting': 6889},\n",
              " 'architects': {'architecture': 5034, 'it': 5113},\n",
              " 'drafting': {'architecture': 5035, 'engineering': 5059},\n",
              " 'electrical': {'engineering': 5060, 'trades & services': 5188},\n",
              " 'health & safety': {'construction & roading': 4957, 'hr & recruitment': 4958},\n",
              " 'management': {'automotive': 4962,\n",
              "  'accounting': 5011,\n",
              "  'banking, finance & insurance': 5030,\n",
              "  'customer service': 5047,\n",
              "  'engineering': 5063,\n",
              "  'transport & logistics': 5072,\n",
              "  'healthcare': 5088,\n",
              "  'hospitality & tourism': 5103,\n",
              "  'it': 5117,\n",
              "  'manufacturing & operations': 5136,\n",
              "  'marketing, media & communications': 5151,\n",
              "  'retail': 5174},\n",
              " 'project management': {'engineering': 5065, 'it': 5120},\n",
              " 'security': {'trades & services': 5196, 'it': 6899},\n",
              " 'supervisors & forepersons': {'construction & roading': 5042,\n",
              "  'manufacturing & operations': 6901}}"
            ]
          },
          "metadata": {},
          "execution_count": 21
        }
      ]
    },
    {
      "cell_type": "code",
      "source": [
        "def read_from_file_pickle(file_name):\n",
        "    res = None\n",
        "    with open(file_name, \"rb\") as file:\n",
        "        res = pickle.load(file) \n",
        "    return res "
      ],
      "metadata": {
        "id": "TMSc6ktE2uhZ"
      },
      "execution_count": 22,
      "outputs": []
    },
    {
      "cell_type": "code",
      "source": [
        "c2_mapping = read_from_file_pickle(c2_mapping_path)\n",
        "print(len(c2_mapping.keys()))"
      ],
      "metadata": {
        "colab": {
          "base_uri": "https://localhost:8080/"
        },
        "id": "jJ9i7XLc2Y_0",
        "outputId": "71ceeced-e2af-47c9-8977-5c204a0ebb3a"
      },
      "execution_count": 23,
      "outputs": [
        {
          "output_type": "stream",
          "name": "stdout",
          "text": [
            "149\n"
          ]
        }
      ]
    },
    {
      "cell_type": "code",
      "source": [
        "c3_mapping = json.load(open(c3_mapping_path))\n",
        "print(len(c3_mapping.keys()))\n",
        "c3_mapping"
      ],
      "metadata": {
        "colab": {
          "base_uri": "https://localhost:8080/"
        },
        "id": "59zK61NZ2ZTr",
        "outputId": "49933c94-6753-476a-b3ab-571d1e2392cb"
      },
      "execution_count": 24,
      "outputs": [
        {
          "output_type": "stream",
          "name": "stdout",
          "text": [
            "3\n"
          ]
        },
        {
          "output_type": "execute_result",
          "data": {
            "text/plain": [
              "{'accountants': {'business advisory services': 621,\n",
              "  'assistant accountants': 6882,\n",
              "  'audit': 6883,\n",
              "  'financial accounting & reporting': 6884,\n",
              "  'general / ca': 6885,\n",
              "  'management accountants': 6886,\n",
              "  'tax': 6887},\n",
              " 'drivers & couriers': {'couriers': 6908, 'truck ht': 6909},\n",
              " 'nursing & midwifery': {'community & primary care': 900,\n",
              "  'critical care & emergency': 904,\n",
              "  'medical': 906,\n",
              "  'mental health': 907,\n",
              "  'paediatrics': 910,\n",
              "  'surgical': 916,\n",
              "  'theatre & recovery': 927,\n",
              "  'women’s health': 929}}"
            ]
          },
          "metadata": {},
          "execution_count": 24
        }
      ]
    },
    {
      "cell_type": "markdown",
      "source": [
        "# Model Classes"
      ],
      "metadata": {
        "id": "37yaZV0PEHPr"
      }
    },
    {
      "cell_type": "code",
      "source": [
        "class BasicClassifierRFC:\n",
        "    def __init__(self):\n",
        "        self.clf = None\n",
        "\n",
        "    def build(self):\n",
        "        self.clf = RandomForestClassifier(n_estimators=100)\n",
        "    \n",
        "    def train(self, X_train, y_train):\n",
        "        return self.clf.fit(X_train, y_train)\n",
        "\n",
        "    def predict(self, input):\n",
        "        return self.batch_predict([input])\n",
        "\n",
        "    def batch_predict(self, inputs):\n",
        "        return self.clf.predict(inputs)"
      ],
      "metadata": {
        "id": "gJs21SIdEJCa"
      },
      "execution_count": 25,
      "outputs": []
    },
    {
      "cell_type": "markdown",
      "source": [
        "## Root Model"
      ],
      "metadata": {
        "id": "BSsf_X7-oKtU"
      }
    },
    {
      "cell_type": "code",
      "source": [
        "class RootClassifier:\n",
        "    def __init__(self, df, classifier=BasicClassifierRFC(), col_X=\"x_title_feature_encoding\", col_y=\"cat_2\", test_size=0.2, random_state=123):\n",
        "        self.df = df\n",
        "        self.classifier = classifier\n",
        "        self.test_size = test_size\n",
        "        self.random_state = random_state\n",
        "        self.col_X = col_X\n",
        "        self.col_y = col_y\n",
        "        self.accuracy = {}\n",
        "        self.reports = {}\n",
        "\n",
        "    def _train_test_split(self):\n",
        "        X_train, X_test , y_train, y_test = train_test_split(self.df[self.col_X],   self.df[[self.col_y]],  test_size=self.test_size, random_state=self.random_state)\n",
        "        return X_train.to_list(), X_test.to_list() , y_train, y_test\n",
        "\n",
        "    def build(self):\n",
        "        X_train, X_test , y_train, y_test = self._train_test_split()\n",
        "        self.classifier.build()\n",
        "        model = self.classifier.train(X_train, y_train)\n",
        "        # eval\n",
        "        y_pred = self.classifier.batch_predict(X_test)\n",
        "        self.accuracy['root'] = metrics.accuracy_score(y_test, y_pred)\n",
        "        self.reports['root'] = classification_report(y_test, y_pred)\n",
        "        return model\n",
        "\n",
        "    def eval(self):\n",
        "        return self.accuracy, self.reports"
      ],
      "metadata": {
        "id": "-PMPi3HuM3ba"
      },
      "execution_count": 26,
      "outputs": []
    },
    {
      "cell_type": "markdown",
      "source": [
        "## Leaves Model"
      ],
      "metadata": {
        "id": "QJinAHAyt6zK"
      }
    },
    {
      "cell_type": "code",
      "source": [
        "class LeavesClassifier:\n",
        "    def __init__(self, df, root_nodes, col_y, col_X=\"x_title_feature_encoding\", test_size=0.2, random_state=123):\n",
        "        self.df = df\n",
        "        self.root_nodes = root_nodes\n",
        "        self.test_size = test_size\n",
        "        self.random_state = random_state\n",
        "        self.col_X = col_X\n",
        "        self.col_y = col_y\n",
        "        self.accuracy = {}\n",
        "        self.reports = {}\n",
        "\n",
        "    def _train_test_split(self, node):\n",
        "        node_df = self.df[self.df.cat_2 == node]\n",
        "        X_train, X_test , y_train, y_test = train_test_split(node_df[self.col_X],   node_df[[self.col_y]],  test_size=self.test_size, random_state=self.random_state)\n",
        "        return X_train.to_list(), X_test.to_list() , y_train, y_test\n",
        "\n",
        "    def build(self):\n",
        "        leaves_models = {}\n",
        "        for node in self.root_nodes:\n",
        "            X_train, X_test , y_train, y_test = self._train_test_split(node)\n",
        "            classifier = BasicClassifierRFC()\n",
        "            classifier.build()\n",
        "            leaves_models[node] = classifier.train(X_train, y_train)\n",
        "            # eval\n",
        "            y_pred = classifier.batch_predict(X_test)\n",
        "            self.accuracy[node] = metrics.accuracy_score(y_test, y_pred)\n",
        "            self.reports[node] = classification_report(y_test, y_pred)\n",
        "        return leaves_models\n",
        "\n",
        "    def eval(self):\n",
        "        return self.accuracy, self.reports"
      ],
      "metadata": {
        "id": "T3UXmcZIUANm"
      },
      "execution_count": 27,
      "outputs": []
    },
    {
      "cell_type": "markdown",
      "source": [
        "## hierarchical model"
      ],
      "metadata": {
        "id": "BJtb7ueZj0Zd"
      }
    },
    {
      "cell_type": "code",
      "source": [
        "class HierarchicalClassifier:\n",
        "    def __init__(self, root_model, cat_3_models, cat_1_models, c1_mapping, c2_mapping, c3_mapping):\n",
        "        self.root_model = root_model\n",
        "        self.cat_3_models = cat_3_models\n",
        "        self.cat_1_models = cat_1_models\n",
        "        self.c1_mapping = c1_mapping\n",
        "        self.c2_mapping = c2_mapping\n",
        "        self.c3_mapping = c3_mapping\n",
        "        \n",
        "    def predict(self, query):\n",
        "        query = [query]\n",
        "        root_pred = self.root_model.predict(query)[0]\n",
        "        # print(f\"root predict: {root_pred}\")\n",
        "        if root_pred in self.cat_3_models.keys():\n",
        "            cat_3_predict = self.cat_3_models[root_pred].predict(query)[0]\n",
        "            # print(f\"cat 3 pred: {cat_3_predict}\")\n",
        "            return self.c3_mapping[root_pred][cat_3_predict]\n",
        "        elif root_pred in self.cat_1_models.keys():\n",
        "            cat_1_predict = self.cat_1_models[root_pred].predict(query)[0]\n",
        "            # print(f\"cat 1 pred: {cat_1_predict}\")\n",
        "            return self.c1_mapping[root_pred][cat_1_predict]\n",
        "\n",
        "        # print(f\"cat 2 pred: {root_pred}\")\n",
        "        return self.c2_mapping[root_pred]\n",
        "\n",
        "    def batch_predict(self, queries):\n",
        "        predictions = []\n",
        "        for query in queries:\n",
        "            predictions.append(self.predict(query))\n",
        "        return predictions\n",
        "\n",
        "    "
      ],
      "metadata": {
        "id": "PA4FbfBBJ4Py"
      },
      "execution_count": 38,
      "outputs": []
    },
    {
      "cell_type": "markdown",
      "source": [
        "# Data Preparation"
      ],
      "metadata": {
        "id": "Jqo-ZTtfFx6e"
      }
    },
    {
      "cell_type": "code",
      "source": [
        "data_df = raw_df.copy()"
      ],
      "metadata": {
        "id": "eUFsERTqF2qb"
      },
      "execution_count": 39,
      "outputs": []
    },
    {
      "cell_type": "markdown",
      "source": [
        "## encoding"
      ],
      "metadata": {
        "id": "GJoHCCcuXauD"
      }
    },
    {
      "cell_type": "code",
      "source": [
        "data_df['x_title_feature_encoding'] = data_df['x_title_feature'].apply(lambda x: model.encode(str(x), convert_to_tensor=True).cpu().numpy())"
      ],
      "metadata": {
        "id": "PERGWn-2XmQ_"
      },
      "execution_count": 40,
      "outputs": []
    },
    {
      "cell_type": "code",
      "source": [
        "print(len(data_df))\n",
        "data_df.head(2)"
      ],
      "metadata": {
        "colab": {
          "base_uri": "https://localhost:8080/",
          "height": 130
        },
        "id": "FpuESiACYRZT",
        "outputId": "fd5cf88c-fe96-4a6d-ad19-277df6be81aa"
      },
      "execution_count": 41,
      "outputs": [
        {
          "output_type": "stream",
          "name": "stdout",
          "text": [
            "20000\n"
          ]
        },
        {
          "output_type": "execute_result",
          "data": {
            "text/plain": [
              "   y_cat_id          x_title_feature              cat_1      cat_2      cat_3  \\\n",
              "0      5192  unqualifi asbesto remov  trades & services  labourers  labourers   \n",
              "1      5123      senior test analyst                 it    testing    testing   \n",
              "\n",
              "                            x_title_feature_encoding  \n",
              "0  [-0.04014635, 0.04006017, -0.052789543, 0.0232...  \n",
              "1  [-0.02413135, 0.055597737, -0.103181325, 0.024...  "
            ],
            "text/html": [
              "\n",
              "  <div id=\"df-f1ed5d8e-af1f-4e88-808f-dba900f944ae\">\n",
              "    <div class=\"colab-df-container\">\n",
              "      <div>\n",
              "<style scoped>\n",
              "    .dataframe tbody tr th:only-of-type {\n",
              "        vertical-align: middle;\n",
              "    }\n",
              "\n",
              "    .dataframe tbody tr th {\n",
              "        vertical-align: top;\n",
              "    }\n",
              "\n",
              "    .dataframe thead th {\n",
              "        text-align: right;\n",
              "    }\n",
              "</style>\n",
              "<table border=\"1\" class=\"dataframe\">\n",
              "  <thead>\n",
              "    <tr style=\"text-align: right;\">\n",
              "      <th></th>\n",
              "      <th>y_cat_id</th>\n",
              "      <th>x_title_feature</th>\n",
              "      <th>cat_1</th>\n",
              "      <th>cat_2</th>\n",
              "      <th>cat_3</th>\n",
              "      <th>x_title_feature_encoding</th>\n",
              "    </tr>\n",
              "  </thead>\n",
              "  <tbody>\n",
              "    <tr>\n",
              "      <th>0</th>\n",
              "      <td>5192</td>\n",
              "      <td>unqualifi asbesto remov</td>\n",
              "      <td>trades &amp; services</td>\n",
              "      <td>labourers</td>\n",
              "      <td>labourers</td>\n",
              "      <td>[-0.04014635, 0.04006017, -0.052789543, 0.0232...</td>\n",
              "    </tr>\n",
              "    <tr>\n",
              "      <th>1</th>\n",
              "      <td>5123</td>\n",
              "      <td>senior test analyst</td>\n",
              "      <td>it</td>\n",
              "      <td>testing</td>\n",
              "      <td>testing</td>\n",
              "      <td>[-0.02413135, 0.055597737, -0.103181325, 0.024...</td>\n",
              "    </tr>\n",
              "  </tbody>\n",
              "</table>\n",
              "</div>\n",
              "      <button class=\"colab-df-convert\" onclick=\"convertToInteractive('df-f1ed5d8e-af1f-4e88-808f-dba900f944ae')\"\n",
              "              title=\"Convert this dataframe to an interactive table.\"\n",
              "              style=\"display:none;\">\n",
              "        \n",
              "  <svg xmlns=\"http://www.w3.org/2000/svg\" height=\"24px\"viewBox=\"0 0 24 24\"\n",
              "       width=\"24px\">\n",
              "    <path d=\"M0 0h24v24H0V0z\" fill=\"none\"/>\n",
              "    <path d=\"M18.56 5.44l.94 2.06.94-2.06 2.06-.94-2.06-.94-.94-2.06-.94 2.06-2.06.94zm-11 1L8.5 8.5l.94-2.06 2.06-.94-2.06-.94L8.5 2.5l-.94 2.06-2.06.94zm10 10l.94 2.06.94-2.06 2.06-.94-2.06-.94-.94-2.06-.94 2.06-2.06.94z\"/><path d=\"M17.41 7.96l-1.37-1.37c-.4-.4-.92-.59-1.43-.59-.52 0-1.04.2-1.43.59L10.3 9.45l-7.72 7.72c-.78.78-.78 2.05 0 2.83L4 21.41c.39.39.9.59 1.41.59.51 0 1.02-.2 1.41-.59l7.78-7.78 2.81-2.81c.8-.78.8-2.07 0-2.86zM5.41 20L4 18.59l7.72-7.72 1.47 1.35L5.41 20z\"/>\n",
              "  </svg>\n",
              "      </button>\n",
              "      \n",
              "  <style>\n",
              "    .colab-df-container {\n",
              "      display:flex;\n",
              "      flex-wrap:wrap;\n",
              "      gap: 12px;\n",
              "    }\n",
              "\n",
              "    .colab-df-convert {\n",
              "      background-color: #E8F0FE;\n",
              "      border: none;\n",
              "      border-radius: 50%;\n",
              "      cursor: pointer;\n",
              "      display: none;\n",
              "      fill: #1967D2;\n",
              "      height: 32px;\n",
              "      padding: 0 0 0 0;\n",
              "      width: 32px;\n",
              "    }\n",
              "\n",
              "    .colab-df-convert:hover {\n",
              "      background-color: #E2EBFA;\n",
              "      box-shadow: 0px 1px 2px rgba(60, 64, 67, 0.3), 0px 1px 3px 1px rgba(60, 64, 67, 0.15);\n",
              "      fill: #174EA6;\n",
              "    }\n",
              "\n",
              "    [theme=dark] .colab-df-convert {\n",
              "      background-color: #3B4455;\n",
              "      fill: #D2E3FC;\n",
              "    }\n",
              "\n",
              "    [theme=dark] .colab-df-convert:hover {\n",
              "      background-color: #434B5C;\n",
              "      box-shadow: 0px 1px 3px 1px rgba(0, 0, 0, 0.15);\n",
              "      filter: drop-shadow(0px 1px 2px rgba(0, 0, 0, 0.3));\n",
              "      fill: #FFFFFF;\n",
              "    }\n",
              "  </style>\n",
              "\n",
              "      <script>\n",
              "        const buttonEl =\n",
              "          document.querySelector('#df-f1ed5d8e-af1f-4e88-808f-dba900f944ae button.colab-df-convert');\n",
              "        buttonEl.style.display =\n",
              "          google.colab.kernel.accessAllowed ? 'block' : 'none';\n",
              "\n",
              "        async function convertToInteractive(key) {\n",
              "          const element = document.querySelector('#df-f1ed5d8e-af1f-4e88-808f-dba900f944ae');\n",
              "          const dataTable =\n",
              "            await google.colab.kernel.invokeFunction('convertToInteractive',\n",
              "                                                     [key], {});\n",
              "          if (!dataTable) return;\n",
              "\n",
              "          const docLinkHtml = 'Like what you see? Visit the ' +\n",
              "            '<a target=\"_blank\" href=https://colab.research.google.com/notebooks/data_table.ipynb>data table notebook</a>'\n",
              "            + ' to learn more about interactive tables.';\n",
              "          element.innerHTML = '';\n",
              "          dataTable['output_type'] = 'display_data';\n",
              "          await google.colab.output.renderOutput(dataTable, element);\n",
              "          const docLink = document.createElement('div');\n",
              "          docLink.innerHTML = docLinkHtml;\n",
              "          element.appendChild(docLink);\n",
              "        }\n",
              "      </script>\n",
              "    </div>\n",
              "  </div>\n",
              "  "
            ]
          },
          "metadata": {},
          "execution_count": 41
        }
      ]
    },
    {
      "cell_type": "markdown",
      "source": [
        "## split for Hierarchial model and eval"
      ],
      "metadata": {
        "id": "tP5jxLlOztdQ"
      }
    },
    {
      "cell_type": "code",
      "source": [
        "train_dataset = data_df.sample(frac = 0.8)\n",
        "print(len(train_dataset))"
      ],
      "metadata": {
        "colab": {
          "base_uri": "https://localhost:8080/"
        },
        "id": "IOio81zWmsOw",
        "outputId": "57fec972-33d9-4ed0-e62c-f90b6818f9f5"
      },
      "execution_count": 42,
      "outputs": [
        {
          "output_type": "stream",
          "name": "stdout",
          "text": [
            "16000\n"
          ]
        }
      ]
    },
    {
      "cell_type": "code",
      "source": [
        "eval_dataset = data_df.drop(train_dataset.index)\n",
        "print(len(eval_dataset))"
      ],
      "metadata": {
        "id": "B6PM9F-Jzxiq",
        "colab": {
          "base_uri": "https://localhost:8080/"
        },
        "outputId": "ee8b2a16-35ee-4ff0-f026-9695a008e88d"
      },
      "execution_count": 43,
      "outputs": [
        {
          "output_type": "stream",
          "name": "stdout",
          "text": [
            "4000\n"
          ]
        }
      ]
    },
    {
      "cell_type": "markdown",
      "source": [
        "# Model training for each level"
      ],
      "metadata": {
        "id": "S1_8hki2bwc7"
      }
    },
    {
      "cell_type": "markdown",
      "source": [
        "## C1 models"
      ],
      "metadata": {
        "id": "gt-cWSDne7KK"
      }
    },
    {
      "cell_type": "code",
      "source": [
        "c1_root_nodes = list(c1_dict.keys())\n",
        "c1_root_nodes"
      ],
      "metadata": {
        "colab": {
          "base_uri": "https://localhost:8080/"
        },
        "id": "sF7GrgsDe8l1",
        "outputId": "4bc2faea-52ac-492e-db2f-224dea17d8a6"
      },
      "execution_count": 44,
      "outputs": [
        {
          "output_type": "execute_result",
          "data": {
            "text/plain": [
              "['administration',\n",
              " 'analysts',\n",
              " 'architects',\n",
              " 'drafting',\n",
              " 'electrical',\n",
              " 'health & safety',\n",
              " 'management',\n",
              " 'project management',\n",
              " 'security',\n",
              " 'supervisors & forepersons']"
            ]
          },
          "metadata": {},
          "execution_count": 44
        }
      ]
    },
    {
      "cell_type": "code",
      "source": [
        "c1_classifiers = LeavesClassifier(df=train_dataset, root_nodes=c1_root_nodes, col_y=\"cat_1\")\n",
        "c1_models = c1_classifiers.build()"
      ],
      "metadata": {
        "colab": {
          "base_uri": "https://localhost:8080/"
        },
        "id": "eANhye0KfGmY",
        "outputId": "81a685c6-5483-40eb-a210-538d20bd5e7e"
      },
      "execution_count": 45,
      "outputs": [
        {
          "output_type": "stream",
          "name": "stderr",
          "text": [
            "<ipython-input-25-361938b15d1b>:9: DataConversionWarning: A column-vector y was passed when a 1d array was expected. Please change the shape of y to (n_samples,), for example using ravel().\n",
            "  return self.clf.fit(X_train, y_train)\n",
            "<ipython-input-25-361938b15d1b>:9: DataConversionWarning: A column-vector y was passed when a 1d array was expected. Please change the shape of y to (n_samples,), for example using ravel().\n",
            "  return self.clf.fit(X_train, y_train)\n",
            "<ipython-input-25-361938b15d1b>:9: DataConversionWarning: A column-vector y was passed when a 1d array was expected. Please change the shape of y to (n_samples,), for example using ravel().\n",
            "  return self.clf.fit(X_train, y_train)\n",
            "<ipython-input-25-361938b15d1b>:9: DataConversionWarning: A column-vector y was passed when a 1d array was expected. Please change the shape of y to (n_samples,), for example using ravel().\n",
            "  return self.clf.fit(X_train, y_train)\n",
            "<ipython-input-25-361938b15d1b>:9: DataConversionWarning: A column-vector y was passed when a 1d array was expected. Please change the shape of y to (n_samples,), for example using ravel().\n",
            "  return self.clf.fit(X_train, y_train)\n",
            "<ipython-input-25-361938b15d1b>:9: DataConversionWarning: A column-vector y was passed when a 1d array was expected. Please change the shape of y to (n_samples,), for example using ravel().\n",
            "  return self.clf.fit(X_train, y_train)\n",
            "/usr/local/lib/python3.9/dist-packages/sklearn/metrics/_classification.py:1344: UndefinedMetricWarning: Precision and F-score are ill-defined and being set to 0.0 in labels with no predicted samples. Use `zero_division` parameter to control this behavior.\n",
            "  _warn_prf(average, modifier, msg_start, len(result))\n",
            "/usr/local/lib/python3.9/dist-packages/sklearn/metrics/_classification.py:1344: UndefinedMetricWarning: Precision and F-score are ill-defined and being set to 0.0 in labels with no predicted samples. Use `zero_division` parameter to control this behavior.\n",
            "  _warn_prf(average, modifier, msg_start, len(result))\n",
            "/usr/local/lib/python3.9/dist-packages/sklearn/metrics/_classification.py:1344: UndefinedMetricWarning: Precision and F-score are ill-defined and being set to 0.0 in labels with no predicted samples. Use `zero_division` parameter to control this behavior.\n",
            "  _warn_prf(average, modifier, msg_start, len(result))\n",
            "<ipython-input-25-361938b15d1b>:9: DataConversionWarning: A column-vector y was passed when a 1d array was expected. Please change the shape of y to (n_samples,), for example using ravel().\n",
            "  return self.clf.fit(X_train, y_train)\n",
            "/usr/local/lib/python3.9/dist-packages/sklearn/metrics/_classification.py:1344: UndefinedMetricWarning: Precision and F-score are ill-defined and being set to 0.0 in labels with no predicted samples. Use `zero_division` parameter to control this behavior.\n",
            "  _warn_prf(average, modifier, msg_start, len(result))\n",
            "/usr/local/lib/python3.9/dist-packages/sklearn/metrics/_classification.py:1344: UndefinedMetricWarning: Precision and F-score are ill-defined and being set to 0.0 in labels with no predicted samples. Use `zero_division` parameter to control this behavior.\n",
            "  _warn_prf(average, modifier, msg_start, len(result))\n",
            "/usr/local/lib/python3.9/dist-packages/sklearn/metrics/_classification.py:1344: UndefinedMetricWarning: Precision and F-score are ill-defined and being set to 0.0 in labels with no predicted samples. Use `zero_division` parameter to control this behavior.\n",
            "  _warn_prf(average, modifier, msg_start, len(result))\n",
            "<ipython-input-25-361938b15d1b>:9: DataConversionWarning: A column-vector y was passed when a 1d array was expected. Please change the shape of y to (n_samples,), for example using ravel().\n",
            "  return self.clf.fit(X_train, y_train)\n",
            "/usr/local/lib/python3.9/dist-packages/sklearn/metrics/_classification.py:1344: UndefinedMetricWarning: Precision and F-score are ill-defined and being set to 0.0 in labels with no predicted samples. Use `zero_division` parameter to control this behavior.\n",
            "  _warn_prf(average, modifier, msg_start, len(result))\n",
            "/usr/local/lib/python3.9/dist-packages/sklearn/metrics/_classification.py:1344: UndefinedMetricWarning: Precision and F-score are ill-defined and being set to 0.0 in labels with no predicted samples. Use `zero_division` parameter to control this behavior.\n",
            "  _warn_prf(average, modifier, msg_start, len(result))\n",
            "/usr/local/lib/python3.9/dist-packages/sklearn/metrics/_classification.py:1344: UndefinedMetricWarning: Precision and F-score are ill-defined and being set to 0.0 in labels with no predicted samples. Use `zero_division` parameter to control this behavior.\n",
            "  _warn_prf(average, modifier, msg_start, len(result))\n",
            "<ipython-input-25-361938b15d1b>:9: DataConversionWarning: A column-vector y was passed when a 1d array was expected. Please change the shape of y to (n_samples,), for example using ravel().\n",
            "  return self.clf.fit(X_train, y_train)\n",
            "<ipython-input-25-361938b15d1b>:9: DataConversionWarning: A column-vector y was passed when a 1d array was expected. Please change the shape of y to (n_samples,), for example using ravel().\n",
            "  return self.clf.fit(X_train, y_train)\n"
          ]
        }
      ]
    },
    {
      "cell_type": "code",
      "source": [
        "acc, rep = c1_classifiers.eval()"
      ],
      "metadata": {
        "id": "jjwmd9dBfdnI"
      },
      "execution_count": 46,
      "outputs": []
    },
    {
      "cell_type": "code",
      "source": [
        "print(f\"overall accuracy of Cat_1: {sum(acc.values())/ len(acc.values())}\")"
      ],
      "metadata": {
        "colab": {
          "base_uri": "https://localhost:8080/"
        },
        "id": "Raq_phtyvdIw",
        "outputId": "4170de1a-6dd3-4e8d-8e25-06fa2fd9d6cb"
      },
      "execution_count": 50,
      "outputs": [
        {
          "output_type": "stream",
          "name": "stdout",
          "text": [
            "overall accuracy of Cat_1: 0.7603295355584903\n"
          ]
        }
      ]
    },
    {
      "cell_type": "code",
      "source": [
        "for k in acc.keys():\n",
        "    print(k)\n",
        "    print(acc[k])"
      ],
      "metadata": {
        "colab": {
          "base_uri": "https://localhost:8080/"
        },
        "outputId": "69092fae-6235-461b-90eb-1e54c21b174b",
        "id": "EnS8RD2xu25a"
      },
      "execution_count": 37,
      "outputs": [
        {
          "output_type": "stream",
          "name": "stdout",
          "text": [
            "administration\n",
            "0.8394160583941606\n",
            "analysts\n",
            "0.6\n",
            "architects\n",
            "1.0\n",
            "drafting\n",
            "0.6666666666666666\n",
            "electrical\n",
            "0.8913043478260869\n",
            "health & safety\n",
            "0.5714285714285714\n",
            "management\n",
            "0.5535714285714286\n",
            "project management\n",
            "0.8888888888888888\n",
            "security\n",
            "0.9090909090909091\n",
            "supervisors & forepersons\n",
            "0.8780487804878049\n"
          ]
        }
      ]
    },
    {
      "cell_type": "code",
      "source": [
        "for k in rep.keys():\n",
        "    print(k)\n",
        "    print(rep[k])"
      ],
      "metadata": {
        "colab": {
          "base_uri": "https://localhost:8080/"
        },
        "outputId": "fdb2a62e-261d-4294-fa68-29a119d4267a",
        "id": "zBRRPQkwu25b"
      },
      "execution_count": 51,
      "outputs": [
        {
          "output_type": "stream",
          "name": "stdout",
          "text": [
            "administration\n",
            "                         precision    recall  f1-score   support\n",
            "\n",
            "             healthcare       0.75      0.29      0.41        21\n",
            "office & administration       0.89      0.98      0.93       120\n",
            "\n",
            "               accuracy                           0.88       141\n",
            "              macro avg       0.82      0.63      0.67       141\n",
            "           weighted avg       0.87      0.88      0.86       141\n",
            "\n",
            "analysts\n",
            "                              precision    recall  f1-score   support\n",
            "\n",
            "                  accounting       0.80      0.80      0.80         5\n",
            "banking, finance & insurance       0.00      0.00      0.00         1\n",
            "\n",
            "                    accuracy                           0.67         6\n",
            "                   macro avg       0.40      0.40      0.40         6\n",
            "                weighted avg       0.67      0.67      0.67         6\n",
            "\n",
            "architects\n",
            "              precision    recall  f1-score   support\n",
            "\n",
            "architecture       0.93      0.93      0.93        14\n",
            "          it       0.86      0.86      0.86         7\n",
            "\n",
            "    accuracy                           0.90        21\n",
            "   macro avg       0.89      0.89      0.89        21\n",
            "weighted avg       0.90      0.90      0.90        21\n",
            "\n",
            "drafting\n",
            "              precision    recall  f1-score   support\n",
            "\n",
            "architecture       0.38      0.75      0.50         4\n",
            " engineering       0.50      0.17      0.25         6\n",
            "\n",
            "    accuracy                           0.40        10\n",
            "   macro avg       0.44      0.46      0.38        10\n",
            "weighted avg       0.45      0.40      0.35        10\n",
            "\n",
            "electrical\n",
            "                   precision    recall  f1-score   support\n",
            "\n",
            "      engineering       0.67      0.20      0.31        10\n",
            "trades & services       0.80      0.97      0.88        34\n",
            "\n",
            "         accuracy                           0.80        44\n",
            "        macro avg       0.74      0.59      0.59        44\n",
            "     weighted avg       0.77      0.80      0.75        44\n",
            "\n",
            "health & safety\n",
            "                        precision    recall  f1-score   support\n",
            "\n",
            "construction & roading       0.00      0.00      0.00         3\n",
            "      hr & recruitment       0.77      1.00      0.87        10\n",
            "\n",
            "              accuracy                           0.77        13\n",
            "             macro avg       0.38      0.50      0.43        13\n",
            "          weighted avg       0.59      0.77      0.67        13\n",
            "\n",
            "management\n",
            "                                   precision    recall  f1-score   support\n",
            "\n",
            "                       accounting       0.00      0.00      0.00         2\n",
            "                       automotive       0.50      0.33      0.40         3\n",
            "     banking, finance & insurance       0.00      0.00      0.00         2\n",
            "                 customer service       0.00      0.00      0.00         4\n",
            "                      engineering       0.00      0.00      0.00         2\n",
            "                       healthcare       0.85      0.52      0.65        21\n",
            "            hospitality & tourism       0.49      0.81      0.61        37\n",
            "                               it       0.56      0.58      0.57        24\n",
            "       manufacturing & operations       0.50      0.17      0.25         6\n",
            "marketing, media & communications       0.00      0.00      0.00         1\n",
            "                           retail       0.17      0.33      0.22         3\n",
            "            transport & logistics       0.67      0.29      0.40         7\n",
            "\n",
            "                         accuracy                           0.54       112\n",
            "                        macro avg       0.31      0.25      0.26       112\n",
            "                     weighted avg       0.53      0.54      0.50       112\n",
            "\n",
            "project management\n",
            "              precision    recall  f1-score   support\n",
            "\n",
            " engineering       0.00      0.00      0.00         2\n",
            "          it       0.88      1.00      0.93        14\n",
            "\n",
            "    accuracy                           0.88        16\n",
            "   macro avg       0.44      0.50      0.47        16\n",
            "weighted avg       0.77      0.88      0.82        16\n",
            "\n",
            "security\n",
            "                   precision    recall  f1-score   support\n",
            "\n",
            "               it       1.00      0.50      0.67         2\n",
            "trades & services       0.95      1.00      0.98        21\n",
            "\n",
            "         accuracy                           0.96        23\n",
            "        macro avg       0.98      0.75      0.82        23\n",
            "     weighted avg       0.96      0.96      0.95        23\n",
            "\n",
            "supervisors & forepersons\n",
            "                            precision    recall  f1-score   support\n",
            "\n",
            "    construction & roading       0.81      1.00      0.89        29\n",
            "manufacturing & operations       1.00      0.30      0.46        10\n",
            "\n",
            "                  accuracy                           0.82        39\n",
            "                 macro avg       0.90      0.65      0.68        39\n",
            "              weighted avg       0.86      0.82      0.78        39\n",
            "\n"
          ]
        }
      ]
    },
    {
      "cell_type": "markdown",
      "source": [
        "## C3 models"
      ],
      "metadata": {
        "id": "RvFp8RcOW75S"
      }
    },
    {
      "cell_type": "code",
      "source": [
        "c3_root_nodes = list(c3_dict.keys())\n",
        "c3_root_nodes"
      ],
      "metadata": {
        "colab": {
          "base_uri": "https://localhost:8080/"
        },
        "id": "IrG98XFzXF9G",
        "outputId": "96690b26-cbb8-4777-e7f0-9694bce935ab"
      },
      "execution_count": 52,
      "outputs": [
        {
          "output_type": "execute_result",
          "data": {
            "text/plain": [
              "['accountants', 'drivers & couriers', 'nursing & midwifery']"
            ]
          },
          "metadata": {},
          "execution_count": 52
        }
      ]
    },
    {
      "cell_type": "code",
      "source": [
        "c3_classifiers = LeavesClassifier(df=train_dataset, root_nodes=c3_root_nodes, col_y=\"cat_3\")\n",
        "c3_models = c3_classifiers.build()"
      ],
      "metadata": {
        "id": "SQFeHArvW9jA",
        "colab": {
          "base_uri": "https://localhost:8080/"
        },
        "outputId": "5c2bbfc0-8f63-4c3a-d20f-9ae0335319f8"
      },
      "execution_count": 53,
      "outputs": [
        {
          "output_type": "stream",
          "name": "stderr",
          "text": [
            "<ipython-input-25-361938b15d1b>:9: DataConversionWarning: A column-vector y was passed when a 1d array was expected. Please change the shape of y to (n_samples,), for example using ravel().\n",
            "  return self.clf.fit(X_train, y_train)\n",
            "/usr/local/lib/python3.9/dist-packages/sklearn/metrics/_classification.py:1344: UndefinedMetricWarning: Precision and F-score are ill-defined and being set to 0.0 in labels with no predicted samples. Use `zero_division` parameter to control this behavior.\n",
            "  _warn_prf(average, modifier, msg_start, len(result))\n",
            "/usr/local/lib/python3.9/dist-packages/sklearn/metrics/_classification.py:1344: UndefinedMetricWarning: Precision and F-score are ill-defined and being set to 0.0 in labels with no predicted samples. Use `zero_division` parameter to control this behavior.\n",
            "  _warn_prf(average, modifier, msg_start, len(result))\n",
            "/usr/local/lib/python3.9/dist-packages/sklearn/metrics/_classification.py:1344: UndefinedMetricWarning: Precision and F-score are ill-defined and being set to 0.0 in labels with no predicted samples. Use `zero_division` parameter to control this behavior.\n",
            "  _warn_prf(average, modifier, msg_start, len(result))\n",
            "<ipython-input-25-361938b15d1b>:9: DataConversionWarning: A column-vector y was passed when a 1d array was expected. Please change the shape of y to (n_samples,), for example using ravel().\n",
            "  return self.clf.fit(X_train, y_train)\n",
            "<ipython-input-25-361938b15d1b>:9: DataConversionWarning: A column-vector y was passed when a 1d array was expected. Please change the shape of y to (n_samples,), for example using ravel().\n",
            "  return self.clf.fit(X_train, y_train)\n",
            "/usr/local/lib/python3.9/dist-packages/sklearn/metrics/_classification.py:1344: UndefinedMetricWarning: Precision and F-score are ill-defined and being set to 0.0 in labels with no predicted samples. Use `zero_division` parameter to control this behavior.\n",
            "  _warn_prf(average, modifier, msg_start, len(result))\n",
            "/usr/local/lib/python3.9/dist-packages/sklearn/metrics/_classification.py:1344: UndefinedMetricWarning: Precision and F-score are ill-defined and being set to 0.0 in labels with no predicted samples. Use `zero_division` parameter to control this behavior.\n",
            "  _warn_prf(average, modifier, msg_start, len(result))\n",
            "/usr/local/lib/python3.9/dist-packages/sklearn/metrics/_classification.py:1344: UndefinedMetricWarning: Precision and F-score are ill-defined and being set to 0.0 in labels with no predicted samples. Use `zero_division` parameter to control this behavior.\n",
            "  _warn_prf(average, modifier, msg_start, len(result))\n"
          ]
        }
      ]
    },
    {
      "cell_type": "code",
      "source": [
        "acc, rep = c3_classifiers.eval()"
      ],
      "metadata": {
        "id": "86tEcWppdu0n"
      },
      "execution_count": 54,
      "outputs": []
    },
    {
      "cell_type": "code",
      "source": [
        "print(f\"overall accuracy of Cat_3: {sum(acc.values())/ len(acc.values())}\")"
      ],
      "metadata": {
        "colab": {
          "base_uri": "https://localhost:8080/"
        },
        "id": "ekIQl6C1v7L5",
        "outputId": "870f4010-a1fe-4df4-db1f-151edde2d408"
      },
      "execution_count": 55,
      "outputs": [
        {
          "output_type": "stream",
          "name": "stdout",
          "text": [
            "overall accuracy of Cat_3: 0.7346775687332964\n"
          ]
        }
      ]
    },
    {
      "cell_type": "code",
      "source": [
        "for k in acc.keys():\n",
        "    print(k)\n",
        "    print(acc[k])"
      ],
      "metadata": {
        "colab": {
          "base_uri": "https://localhost:8080/"
        },
        "id": "emtZPg2UbPeM",
        "outputId": "b19fa2f8-1f5d-4ce2-a26b-c89b04cffe7c"
      },
      "execution_count": 56,
      "outputs": [
        {
          "output_type": "stream",
          "name": "stdout",
          "text": [
            "accountants\n",
            "0.6153846153846154\n",
            "drivers & couriers\n",
            "0.9298245614035088\n",
            "nursing & midwifery\n",
            "0.6588235294117647\n"
          ]
        }
      ]
    },
    {
      "cell_type": "code",
      "source": [
        "for k in rep.keys():\n",
        "    print(k)\n",
        "    print(rep[k])"
      ],
      "metadata": {
        "colab": {
          "base_uri": "https://localhost:8080/"
        },
        "id": "FqMI75mca7Nj",
        "outputId": "01fcecbc-de23-47bd-9353-e964afab171e"
      },
      "execution_count": 57,
      "outputs": [
        {
          "output_type": "stream",
          "name": "stdout",
          "text": [
            "accountants\n",
            "                                  precision    recall  f1-score   support\n",
            "\n",
            "           assistant accountants       0.35      0.75      0.48         8\n",
            "                           audit       1.00      1.00      1.00         3\n",
            "      business advisory services       0.46      0.86      0.60         7\n",
            "financial accounting & reporting       0.89      0.67      0.76        12\n",
            "                    general / ca       0.00      0.00      0.00         5\n",
            "          management accountants       0.90      0.82      0.86        11\n",
            "                             tax       0.00      0.00      0.00         6\n",
            "\n",
            "                        accuracy                           0.62        52\n",
            "                       macro avg       0.51      0.58      0.53        52\n",
            "                    weighted avg       0.57      0.62      0.57        52\n",
            "\n",
            "drivers & couriers\n",
            "              precision    recall  f1-score   support\n",
            "\n",
            "    couriers       0.93      0.65      0.76        20\n",
            "    truck ht       0.93      0.99      0.96        94\n",
            "\n",
            "    accuracy                           0.93       114\n",
            "   macro avg       0.93      0.82      0.86       114\n",
            "weighted avg       0.93      0.93      0.92       114\n",
            "\n",
            "nursing & midwifery\n",
            "                           precision    recall  f1-score   support\n",
            "\n",
            " community & primary care       0.52      1.00      0.68        30\n",
            "critical care & emergency       1.00      0.20      0.33         5\n",
            "                  medical       0.83      0.45      0.59        11\n",
            "            mental health       1.00      0.71      0.83        21\n",
            "              paediatrics       0.00      0.00      0.00         2\n",
            "                 surgical       0.00      0.00      0.00         3\n",
            "       theatre & recovery       1.00      1.00      1.00         1\n",
            "           women’s health       1.00      0.33      0.50        12\n",
            "\n",
            "                 accuracy                           0.66        85\n",
            "                macro avg       0.67      0.46      0.49        85\n",
            "             weighted avg       0.75      0.66      0.62        85\n",
            "\n"
          ]
        }
      ]
    },
    {
      "cell_type": "markdown",
      "source": [
        "## Root model"
      ],
      "metadata": {
        "id": "LROl5ZGAW6LF"
      }
    },
    {
      "cell_type": "code",
      "source": [
        "root_classifier = RootClassifier(df=train_dataset)\n",
        "root_model = root_classifier.build()"
      ],
      "metadata": {
        "colab": {
          "base_uri": "https://localhost:8080/"
        },
        "id": "5dVbtiQmQXxK",
        "outputId": "7590dcf7-e627-4c62-f0ea-aa4699fdc72a"
      },
      "execution_count": 58,
      "outputs": [
        {
          "output_type": "stream",
          "name": "stderr",
          "text": [
            "<ipython-input-25-361938b15d1b>:9: DataConversionWarning: A column-vector y was passed when a 1d array was expected. Please change the shape of y to (n_samples,), for example using ravel().\n",
            "  return self.clf.fit(X_train, y_train)\n",
            "/usr/local/lib/python3.9/dist-packages/sklearn/metrics/_classification.py:1344: UndefinedMetricWarning: Precision and F-score are ill-defined and being set to 0.0 in labels with no predicted samples. Use `zero_division` parameter to control this behavior.\n",
            "  _warn_prf(average, modifier, msg_start, len(result))\n",
            "/usr/local/lib/python3.9/dist-packages/sklearn/metrics/_classification.py:1344: UndefinedMetricWarning: Recall and F-score are ill-defined and being set to 0.0 in labels with no true samples. Use `zero_division` parameter to control this behavior.\n",
            "  _warn_prf(average, modifier, msg_start, len(result))\n",
            "/usr/local/lib/python3.9/dist-packages/sklearn/metrics/_classification.py:1344: UndefinedMetricWarning: Precision and F-score are ill-defined and being set to 0.0 in labels with no predicted samples. Use `zero_division` parameter to control this behavior.\n",
            "  _warn_prf(average, modifier, msg_start, len(result))\n",
            "/usr/local/lib/python3.9/dist-packages/sklearn/metrics/_classification.py:1344: UndefinedMetricWarning: Recall and F-score are ill-defined and being set to 0.0 in labels with no true samples. Use `zero_division` parameter to control this behavior.\n",
            "  _warn_prf(average, modifier, msg_start, len(result))\n",
            "/usr/local/lib/python3.9/dist-packages/sklearn/metrics/_classification.py:1344: UndefinedMetricWarning: Precision and F-score are ill-defined and being set to 0.0 in labels with no predicted samples. Use `zero_division` parameter to control this behavior.\n",
            "  _warn_prf(average, modifier, msg_start, len(result))\n",
            "/usr/local/lib/python3.9/dist-packages/sklearn/metrics/_classification.py:1344: UndefinedMetricWarning: Recall and F-score are ill-defined and being set to 0.0 in labels with no true samples. Use `zero_division` parameter to control this behavior.\n",
            "  _warn_prf(average, modifier, msg_start, len(result))\n"
          ]
        }
      ]
    },
    {
      "cell_type": "code",
      "source": [
        "acc, rep = root_classifier.eval()"
      ],
      "metadata": {
        "id": "xrNQKHmIJZm0"
      },
      "execution_count": 59,
      "outputs": []
    },
    {
      "cell_type": "code",
      "source": [
        "print(f\"accuracy of root: {acc['root']}\")"
      ],
      "metadata": {
        "colab": {
          "base_uri": "https://localhost:8080/"
        },
        "id": "F89jgPaYppld",
        "outputId": "50fa89e4-c9cf-4a15-b6c3-c68beea74748"
      },
      "execution_count": 60,
      "outputs": [
        {
          "output_type": "stream",
          "name": "stdout",
          "text": [
            "accuracy of root: 0.57\n"
          ]
        }
      ]
    },
    {
      "cell_type": "code",
      "source": [
        "print(rep['root'])"
      ],
      "metadata": {
        "colab": {
          "base_uri": "https://localhost:8080/"
        },
        "id": "Mjf9Hm1apx5l",
        "outputId": "a60b759c-d404-4fa2-8d9f-7ad885e8f5b8"
      },
      "execution_count": 61,
      "outputs": [
        {
          "output_type": "stream",
          "name": "stdout",
          "text": [
            "                                             precision    recall  f1-score   support\n",
            "\n",
            "                         account management       0.50      0.17      0.25         6\n",
            "                                accountants       0.81      0.85      0.83        55\n",
            "                    accounts administrators       0.67      0.32      0.43        19\n",
            "                           accounts payable       0.60      0.75      0.67         8\n",
            "                        accounts receivable       1.00      0.50      0.67         2\n",
            "                             administration       0.34      0.73      0.47       131\n",
            "                                advertising       0.00      0.00      0.00         2\n",
            "                   air con. & refrigeration       0.88      0.70      0.78        10\n",
            "                                   analysts       0.50      0.33      0.40         3\n",
            "                                 architects       0.58      0.55      0.56        20\n",
            "                              area managers       0.00      0.00      0.00         2\n",
            "                   assistant store managers       0.86      0.55      0.67        11\n",
            "                      automotive technician       0.74      0.76      0.75        45\n",
            "                       bar staff & baristas       0.77      0.51      0.62        39\n",
            "                                 beautician       0.80      1.00      0.89         4\n",
            "                              boat building       0.00      0.00      0.00         3\n",
            "                     boilermakers & welders       0.62      0.62      0.62        24\n",
            "                 brand & product management       0.25      0.20      0.22         5\n",
            "                       building & carpentry       0.56      0.81      0.66       156\n",
            "                          building services       0.00      0.00      0.00         5\n",
            "                business & systems analysts       0.61      0.77      0.68        35\n",
            "               business development manager       1.00      0.67      0.80        12\n",
            "                          butchers & bakers       0.67      0.31      0.42        13\n",
            "                                     buying       0.00      0.00      0.00         1\n",
            "                                call centre       0.30      0.17      0.21        18\n",
            "                                 caregiving       0.64      0.60      0.62        63\n",
            "                         central government       0.50      0.10      0.17        20\n",
            "                                      chefs       0.75      0.94      0.84        87\n",
            "                         civil & structural       0.85      0.65      0.73        34\n",
            "                                   cleaning       0.68      0.79      0.73        38\n",
            "                            client services       0.00      0.00      0.00         2\n",
            "                 commercial sales & leasing       0.00      0.00      0.00         2\n",
            "                        communications & pr       1.00      0.30      0.46        10\n",
            "                community & social services       0.33      0.66      0.44        58\n",
            "          corporate & institutional banking       0.00      0.00      0.00         1\n",
            "                           credit & lending       0.00      0.00      0.00         2\n",
            "                            customer-facing       0.50      0.49      0.49        35\n",
            "                                 data entry       0.67      0.29      0.40         7\n",
            "                      data warehousing & bi       0.33      0.14      0.20         7\n",
            "                                   database       0.00      0.00      0.00         2\n",
            "                                    defence       0.00      0.00      0.00         2\n",
            "                                  dentistry       1.00      0.92      0.96        13\n",
            "                        department managers       0.00      0.00      0.00         9\n",
            "                                     design       0.00      0.00      0.00         1\n",
            "                            diesel mechanic       0.81      0.75      0.78        28\n",
            "                          digital marketing       0.83      0.62      0.71         8\n",
            "                      doctors & specialists       0.80      0.57      0.67        42\n",
            "                                   drafting       0.62      0.31      0.42        16\n",
            "                         drivers & couriers       0.63      0.94      0.76       101\n",
            "                       ea, pa & secretarial       0.57      0.29      0.38        14\n",
            "                            early childhood       0.74      0.84      0.79        75\n",
            "                                 electrical       0.63      0.63      0.63        43\n",
            "                                     energy       1.00      0.50      0.67         2\n",
            "                                 estimation       0.60      0.33      0.43         9\n",
            "             executive & general management       0.67      0.14      0.24        14\n",
            "facilities & commercial property management       0.00      0.00      0.00         1\n",
            "                                    farming       0.85      0.58      0.69        38\n",
            "             finance managers & controllers       1.00      0.50      0.67        10\n",
            "            financial planning & investment       0.00      0.00      0.00         0\n",
            "                                    fishing       0.75      0.50      0.60         6\n",
            "                        fitness & wellbeing       0.60      0.27      0.37        11\n",
            "                        fitters & machining       0.09      0.14      0.11         7\n",
            "                                   flooring       1.00      0.50      0.67         8\n",
            "                                   forestry       0.00      0.00      0.00         9\n",
            "                         freight forwarders       0.00      0.00      0.00         5\n",
            "                     functional consultants       0.00      0.00      0.00         0\n",
            "                    gardening & landscaping       0.89      0.67      0.76        24\n",
            "                               geotechnical       1.00      0.75      0.86         4\n",
            "                                   glaziers       0.75      0.75      0.75         4\n",
            "                               hairdressing       1.00      0.95      0.98        21\n",
            "                              handy-persons       0.60      0.21      0.32        14\n",
            "                            health & safety       0.70      0.88      0.78         8\n",
            "                               horticulture       0.67      0.10      0.17        20\n",
            "                               housekeeping       0.92      0.52      0.67        21\n",
            "                                         hr       0.81      0.61      0.69        28\n",
            "                            import & export       0.00      0.00      0.00         4\n",
            "                           in-house counsel       0.00      0.00      0.00         4\n",
            "                                 industrial       0.20      0.14      0.17         7\n",
            "                                  insurance       0.00      0.00      0.00         6\n",
            "                            interior design       1.00      0.33      0.50         3\n",
            "                                 journalism       0.00      0.00      0.00         1\n",
            "                              kitchen staff       0.57      0.41      0.48        29\n",
            "                                  labourers       0.51      0.57      0.54        70\n",
            "                                  labouring       0.35      0.29      0.32        62\n",
            "                   local & regional council       0.50      0.13      0.21        23\n",
            "                          machine operation       0.55      0.35      0.43        48\n",
            "                          machine operators       0.67      0.52      0.59        75\n",
            "                                maintenance       0.20      0.06      0.10        16\n",
            "                                 management       0.32      0.53      0.40       100\n",
            "                 market research & analysis       0.00      0.00      0.00         2\n",
            "        marketing assistants & coordinators       1.00      0.14      0.25         7\n",
            "                                 mechanical       0.75      0.16      0.26        19\n",
            "                              merchandising       0.82      0.69      0.75        13\n",
            "                       networking & storage       1.00      0.33      0.50         6\n",
            "                        nursing & midwifery       0.75      0.78      0.76       112\n",
            "                       occupational therapy       1.00      0.75      0.86         8\n",
            "                          office management       0.83      0.62      0.71         8\n",
            "                                 operations       0.50      0.09      0.15        11\n",
            "                                   painting       0.93      0.81      0.87        32\n",
            "                              panel & paint       0.92      1.00      0.96        12\n",
            "                                    payroll       0.77      0.77      0.77        13\n",
            "                                   pharmacy       0.86      0.67      0.75         9\n",
            "                                   planning       0.00      0.00      0.00         2\n",
            "                                   plumbing       0.69      0.79      0.73        28\n",
            "                                    primary       0.00      0.00      0.00         7\n",
            "                                   printing       0.00      0.00      0.00         1\n",
            "                           private practice       0.71      0.56      0.63         9\n",
            "                         process & assembly       0.58      0.54      0.56        57\n",
            "                  programming & development       0.53      0.73      0.61        56\n",
            "             project & contracts management       0.73      0.79      0.76        24\n",
            "                         project management       0.50      0.07      0.12        15\n",
            "                   psychology & counselling       0.67      0.47      0.55        17\n",
            "                     purchasing & inventory       1.00      0.12      0.22         8\n",
            "                          quality assurance       0.00      0.00      0.00         4\n",
            "                         quantity surveying       0.67      0.80      0.73        15\n",
            "                   radiography & sonography       1.00      0.67      0.80         6\n",
            "                                  reception       0.60      0.27      0.37        11\n",
            "                     reception & front desk       0.00      0.00      0.00         2\n",
            "                                recruitment       0.50      0.50      0.50        10\n",
            "             residential sales & management       1.00      0.76      0.87        17\n",
            "                          retail assistants       0.34      0.76      0.47        94\n",
            "                          risk & compliance       0.00      0.00      0.00         1\n",
            "                                    roofing       0.90      0.75      0.82        12\n",
            "                          sales & pre-sales       0.00      0.00      0.00         2\n",
            "                             sales managers       0.00      0.00      0.00         2\n",
            "                                 sales reps       0.67      0.35      0.46        23\n",
            "                              sales support       0.00      0.00      0.00         6\n",
            "                  sales, operations & parts       0.57      0.17      0.26        24\n",
            "                       science & technology       0.45      0.24      0.31        21\n",
            "                                  secondary       0.00      0.00      0.00         1\n",
            "                                secretarial       0.67      0.67      0.67         3\n",
            "                                   security       0.80      0.20      0.32        20\n",
            "                               service desk       0.50      0.27      0.35        11\n",
            "                               sign writers       0.00      0.00      0.00         3\n",
            "                            site management       0.64      0.54      0.58        13\n",
            "                             store managers       0.81      0.57      0.67        23\n",
            "                 storepersons & warehousing       0.36      0.20      0.25        41\n",
            "                  supervisors & forepersons       0.50      0.40      0.44        43\n",
            "                    supply chain & planning       0.00      0.00      0.00         2\n",
            "                                  surveying       0.33      0.20      0.25         5\n",
            "                          systems engineers       0.61      0.65      0.63        17\n",
            "                                technicians       0.24      0.36      0.29        28\n",
            "                         telecommunications       0.50      0.17      0.25         6\n",
            "                                  telesales       1.00      0.17      0.29         6\n",
            "                     tellers & branch staff       0.00      0.00      0.00         3\n",
            "                                   tertiary       0.00      0.00      0.00         7\n",
            "                                    testing       0.79      0.75      0.77        20\n",
            "                      tourism & tour guides       0.00      0.00      0.00         3\n",
            "                         traffic management       0.78      0.75      0.77        24\n",
            "                                   training       0.00      0.00      0.00         1\n",
            "                        tutoring & training       1.00      0.25      0.40         8\n",
            "                                 veterinary       1.00      0.25      0.40         4\n",
            "                              waiting staff       0.86      0.40      0.55        30\n",
            "                   warehouse & distribution       0.41      0.50      0.45        80\n",
            "                              water & waste       0.00      0.00      0.00         3\n",
            "                                 web design       0.67      0.25      0.36         8\n",
            "\n",
            "                                   accuracy                           0.57      3200\n",
            "                                  macro avg       0.51      0.37      0.40      3200\n",
            "                               weighted avg       0.60      0.57      0.55      3200\n",
            "\n"
          ]
        }
      ]
    },
    {
      "cell_type": "markdown",
      "source": [
        "# Hierarcial model"
      ],
      "metadata": {
        "id": "tIKvmMgpf2Or"
      }
    },
    {
      "cell_type": "code",
      "source": [
        "X_eval = eval_dataset[\"x_title_feature_encoding\"].to_list()\n",
        "y_eval = eval_dataset[\"y_cat_id\"]"
      ],
      "metadata": {
        "id": "Epqw5YJEqbdH"
      },
      "execution_count": 62,
      "outputs": []
    },
    {
      "cell_type": "code",
      "source": [
        "hierarcial_classifier = HierarchicalClassifier(\n",
        "    root_model= root_model, cat_3_models= c3_models, cat_1_models = c1_models,\n",
        "    c1_mapping = c1_mapping, c2_mapping = c2_mapping, c3_mapping = c3_mapping\n",
        "    )"
      ],
      "metadata": {
        "id": "bx6FpTg8f1c7"
      },
      "execution_count": 63,
      "outputs": []
    },
    {
      "cell_type": "markdown",
      "source": [
        "## eval of singal predict"
      ],
      "metadata": {
        "id": "w8fpb9gDs_t1"
      }
    },
    {
      "cell_type": "code",
      "source": [
        "hierarcial_classifier.c2_mapping['bar staff & baristas']"
      ],
      "metadata": {
        "colab": {
          "base_uri": "https://localhost:8080/"
        },
        "id": "bPIe8SGI4Cxj",
        "outputId": "62ca13cf-7313-40d0-b140-0545221a2c68"
      },
      "execution_count": 64,
      "outputs": [
        {
          "output_type": "execute_result",
          "data": {
            "text/plain": [
              "5098"
            ]
          },
          "metadata": {},
          "execution_count": 64
        }
      ]
    },
    {
      "cell_type": "code",
      "source": [
        "from datetime import datetime\n",
        "start = datetime.utcnow()\n",
        "\n",
        "preds = hierarcial_classifier.predict(X_eval[0])\n",
        "\n",
        "date= datetime.utcnow() - start\n",
        "seconds =(date.total_seconds())\n",
        "milliseconds = round(seconds*1000)\n",
        "print(\"Milliseconds since epoch:\",milliseconds)"
      ],
      "metadata": {
        "colab": {
          "base_uri": "https://localhost:8080/"
        },
        "id": "a7DyHViJsWXF",
        "outputId": "3b65c082-5832-4cb5-b659-43c27702f3b8"
      },
      "execution_count": 65,
      "outputs": [
        {
          "output_type": "stream",
          "name": "stdout",
          "text": [
            "Milliseconds since epoch: 20\n"
          ]
        }
      ]
    },
    {
      "cell_type": "code",
      "source": [
        "preds"
      ],
      "metadata": {
        "id": "1sLVkxJXh9Jy",
        "outputId": "ee20b729-cb30-446c-fbe4-1d64914be4ab",
        "colab": {
          "base_uri": "https://localhost:8080/"
        }
      },
      "execution_count": 66,
      "outputs": [
        {
          "output_type": "execute_result",
          "data": {
            "text/plain": [
              "5085"
            ]
          },
          "metadata": {},
          "execution_count": 66
        }
      ]
    },
    {
      "cell_type": "code",
      "source": [
        "y_eval.head(1)"
      ],
      "metadata": {
        "id": "3J131stJkSOA",
        "outputId": "bdd7a6a9-40ca-4d1f-abba-187c2a5d8bb1",
        "colab": {
          "base_uri": "https://localhost:8080/"
        }
      },
      "execution_count": 67,
      "outputs": [
        {
          "output_type": "execute_result",
          "data": {
            "text/plain": [
              "2    6894\n",
              "Name: y_cat_id, dtype: int64"
            ]
          },
          "metadata": {},
          "execution_count": 67
        }
      ]
    },
    {
      "cell_type": "markdown",
      "source": [
        "## batch eval"
      ],
      "metadata": {
        "id": "Zy-hIFfr4nc6"
      }
    },
    {
      "cell_type": "code",
      "source": [
        "# hierarcial_classifier.c1_mapping.keys()"
      ],
      "metadata": {
        "id": "9TVcuR-j5gPe"
      },
      "execution_count": 69,
      "outputs": []
    },
    {
      "cell_type": "code",
      "source": [
        "# for x in X_eval[:1000]:\n",
        "#     hierarcial_classifier.predict(x)"
      ],
      "metadata": {
        "id": "TyFr4DoR5CqV"
      },
      "execution_count": 70,
      "outputs": []
    },
    {
      "cell_type": "code",
      "source": [
        "y_pred = hierarcial_classifier.batch_predict(X_eval)"
      ],
      "metadata": {
        "id": "hzfDaZGvtMob"
      },
      "execution_count": 71,
      "outputs": []
    },
    {
      "cell_type": "code",
      "source": [
        "metrics.accuracy_score(y_eval, y_pred)"
      ],
      "metadata": {
        "colab": {
          "base_uri": "https://localhost:8080/"
        },
        "id": "-ob6QtYT4xS6",
        "outputId": "f60b2e9c-db21-4ab0-b640-8d72640361d3"
      },
      "execution_count": 72,
      "outputs": [
        {
          "output_type": "execute_result",
          "data": {
            "text/plain": [
              "0.546"
            ]
          },
          "metadata": {},
          "execution_count": 72
        }
      ]
    },
    {
      "cell_type": "code",
      "source": [
        "print(classification_report(y_eval, y_pred))"
      ],
      "metadata": {
        "colab": {
          "base_uri": "https://localhost:8080/"
        },
        "id": "sgXcFN958Mu7",
        "outputId": "bc61c2aa-aa8c-48f3-85e1-dd6e81e741df"
      },
      "execution_count": 73,
      "outputs": [
        {
          "output_type": "stream",
          "name": "stdout",
          "text": [
            "              precision    recall  f1-score   support\n",
            "\n",
            "         621       0.27      0.44      0.33         9\n",
            "         674       0.00      0.00      0.00         2\n",
            "         728       0.72      0.72      0.72        18\n",
            "         733       0.44      0.32      0.37        22\n",
            "         748       1.00      0.50      0.67         4\n",
            "         749       1.00      1.00      1.00         2\n",
            "         751       0.75      0.46      0.57        13\n",
            "         752       1.00      0.40      0.57         5\n",
            "         755       0.00      0.00      0.00         5\n",
            "         759       0.00      0.00      0.00         3\n",
            "         761       0.65      0.72      0.68        18\n",
            "         763       1.00      0.50      0.67         2\n",
            "         764       0.75      0.30      0.43        10\n",
            "         765       0.00      0.00      0.00         1\n",
            "         766       0.00      0.00      0.00         1\n",
            "         768       0.00      0.00      0.00        14\n",
            "         883       0.00      0.00      0.00        13\n",
            "         897       0.87      0.65      0.74        20\n",
            "         900       0.38      0.78      0.51        46\n",
            "         904       1.00      0.43      0.60         7\n",
            "         906       0.43      0.17      0.24        18\n",
            "         907       0.43      0.75      0.55         8\n",
            "         910       1.00      0.20      0.33         5\n",
            "         916       0.60      0.30      0.40        10\n",
            "         927       1.00      0.67      0.80         6\n",
            "         929       1.00      0.64      0.78        11\n",
            "        4957       0.00      0.00      0.00        12\n",
            "        4958       0.53      0.60      0.56        15\n",
            "        4960       0.72      0.57      0.64        51\n",
            "        4961       0.61      0.58      0.60        24\n",
            "        4962       0.25      0.14      0.18         7\n",
            "        4963       0.93      0.59      0.72        22\n",
            "        4964       0.60      0.30      0.40        30\n",
            "        5004       0.86      0.80      0.83        15\n",
            "        5005       1.00      0.25      0.40         4\n",
            "        5007       0.88      0.41      0.56        17\n",
            "        5009       0.88      0.41      0.56        17\n",
            "        5011       0.00      0.00      0.00         3\n",
            "        5012       0.84      0.84      0.84        19\n",
            "        5016       0.74      0.51      0.60        51\n",
            "        5017       0.60      0.38      0.46         8\n",
            "        5018       1.00      0.20      0.33        10\n",
            "        5019       0.64      0.22      0.33        32\n",
            "        5022       0.00      0.00      0.00         1\n",
            "        5023       0.00      0.00      0.00         3\n",
            "        5024       0.00      0.00      0.00         1\n",
            "        5025       0.00      0.00      0.00         1\n",
            "        5026       0.50      0.25      0.33         4\n",
            "        5027       0.00      0.00      0.00         5\n",
            "        5029       0.67      1.00      0.80         2\n",
            "        5034       0.60      0.55      0.57        11\n",
            "        5035       0.50      0.14      0.22         7\n",
            "        5036       0.33      0.20      0.25         5\n",
            "        5037       1.00      0.50      0.67         2\n",
            "        5038       0.00      0.00      0.00         3\n",
            "        5039       0.39      0.22      0.28        91\n",
            "        5040       0.48      0.56      0.52        25\n",
            "        5041       0.62      0.47      0.53        17\n",
            "        5042       0.56      0.49      0.52        39\n",
            "        5043       0.67      0.29      0.40         7\n",
            "        5046       0.42      0.26      0.32        31\n",
            "        5047       0.43      0.33      0.38         9\n",
            "        5051       0.73      0.83      0.78        92\n",
            "        5052       0.00      0.00      0.00        11\n",
            "        5053       0.00      0.00      0.00         4\n",
            "        5054       0.00      0.00      0.00         4\n",
            "        5057       0.00      0.00      0.00         5\n",
            "        5058       0.71      0.68      0.69        25\n",
            "        5059       0.00      0.00      0.00         1\n",
            "        5060       0.00      0.00      0.00         9\n",
            "        5062       0.50      0.24      0.32        17\n",
            "        5063       1.00      0.25      0.40         4\n",
            "        5064       0.67      0.12      0.20        17\n",
            "        5065       0.00      0.00      0.00         7\n",
            "        5066       0.00      0.00      0.00         3\n",
            "        5070       0.00      0.00      0.00         6\n",
            "        5071       0.80      0.40      0.53        10\n",
            "        5072       0.20      0.11      0.14         9\n",
            "        5073       0.00      0.00      0.00         1\n",
            "        5074       0.40      0.46      0.43        96\n",
            "        5075       0.00      0.00      0.00         3\n",
            "        5078       0.33      0.15      0.21        27\n",
            "        5079       0.33      0.06      0.10        18\n",
            "        5080       0.00      0.00      0.00         1\n",
            "        5083       0.60      0.30      0.40        40\n",
            "        5084       0.76      0.69      0.72        77\n",
            "        5085       0.41      0.74      0.53        88\n",
            "        5086       0.93      0.74      0.82        19\n",
            "        5087       0.74      0.45      0.56        44\n",
            "        5088       0.43      0.33      0.38        18\n",
            "        5091       1.00      0.64      0.78        11\n",
            "        5092       1.00      0.44      0.61        16\n",
            "        5094       0.75      0.43      0.55        35\n",
            "        5095       1.00      0.71      0.83         7\n",
            "        5098       0.58      0.41      0.48        37\n",
            "        5099       0.75      0.45      0.56        20\n",
            "        5100       0.69      0.92      0.79       107\n",
            "        5101       0.00      0.00      0.00         2\n",
            "        5102       0.64      0.34      0.44        41\n",
            "        5103       0.17      0.50      0.25        52\n",
            "        5107       0.83      0.51      0.63        39\n",
            "        5110       0.86      0.57      0.69        21\n",
            "        5113       1.00      0.62      0.77         8\n",
            "        5114       0.73      0.79      0.76        52\n",
            "        5115       0.00      0.00      0.00         4\n",
            "        5116       0.67      0.46      0.55        13\n",
            "        5117       0.22      0.56      0.32        16\n",
            "        5118       0.83      0.62      0.71         8\n",
            "        5119       0.69      0.85      0.76        80\n",
            "        5120       0.75      0.26      0.39        23\n",
            "        5121       0.00      0.00      0.00         3\n",
            "        5122       0.75      0.38      0.50         8\n",
            "        5123       0.86      0.90      0.88        20\n",
            "        5124       1.00      0.38      0.55         8\n",
            "        5127       1.00      0.67      0.80         3\n",
            "        5129       1.00      0.14      0.25         7\n",
            "        5130       0.50      0.29      0.36         7\n",
            "        5133       0.00      0.00      0.00         5\n",
            "        5135       0.61      0.46      0.52        50\n",
            "        5136       0.38      0.25      0.30        12\n",
            "        5138       0.42      0.45      0.43        83\n",
            "        5139       0.00      0.00      0.00         4\n",
            "        5140       1.00      0.11      0.20         9\n",
            "        5141       0.45      0.29      0.35        63\n",
            "        5145       0.33      0.17      0.22         6\n",
            "        5147       0.00      0.00      0.00         2\n",
            "        5148       0.50      0.25      0.33         4\n",
            "        5149       0.25      0.17      0.20         6\n",
            "        5150       0.88      0.50      0.64        14\n",
            "        5151       1.00      0.50      0.67         4\n",
            "        5153       0.00      0.00      0.00         1\n",
            "        5156       0.30      0.73      0.42       130\n",
            "        5157       1.00      0.40      0.57         5\n",
            "        5158       0.33      0.22      0.27         9\n",
            "        5159       0.71      0.53      0.61        19\n",
            "        5160       0.86      0.38      0.52        16\n",
            "        5164       0.38      0.33      0.35         9\n",
            "        5165       0.67      0.60      0.63        10\n",
            "        5166       0.25      0.08      0.12        12\n",
            "        5167       0.62      0.42      0.50        36\n",
            "        5168       0.00      0.00      0.00        12\n",
            "        5169       1.00      0.50      0.67         4\n",
            "        5173       0.88      0.56      0.68        27\n",
            "        5174       0.00      0.00      0.00        11\n",
            "        5175       0.37      0.80      0.51       126\n",
            "        5176       0.67      0.54      0.59        41\n",
            "        5177       0.47      0.40      0.43        20\n",
            "        5179       0.67      0.31      0.42        26\n",
            "        5182       0.80      0.76      0.78        21\n",
            "        5184       0.61      0.68      0.64        25\n",
            "        5185       0.73      0.57      0.64        14\n",
            "        5186       0.57      0.85      0.68       172\n",
            "        5187       0.62      0.82      0.70        38\n",
            "        5188       0.78      0.73      0.75        59\n",
            "        5189       0.85      0.41      0.56        41\n",
            "        5190       0.83      0.76      0.79        25\n",
            "        5191       0.67      0.17      0.27        12\n",
            "        5192       0.39      0.56      0.46        84\n",
            "        5193       0.72      0.84      0.78        25\n",
            "        5194       0.86      0.83      0.85        36\n",
            "        5195       0.00      0.00      0.00         3\n",
            "        5196       0.67      0.42      0.52        19\n",
            "        5197       0.38      0.51      0.43        39\n",
            "        5311       0.86      0.86      0.86        28\n",
            "        6882       0.31      0.56      0.40         9\n",
            "        6883       1.00      0.67      0.80         6\n",
            "        6884       0.47      0.60      0.53        15\n",
            "        6885       0.00      0.00      0.00         3\n",
            "        6886       0.73      0.73      0.73        15\n",
            "        6887       0.00      0.00      0.00         5\n",
            "        6889       1.00      0.67      0.80         3\n",
            "        6891       0.58      0.68      0.62        78\n",
            "        6894       0.67      0.14      0.24        14\n",
            "        6895       1.00      0.17      0.29         6\n",
            "        6896       0.00      0.00      0.00        13\n",
            "        6897       1.00      0.41      0.58        22\n",
            "        6898       0.00      0.00      0.00         3\n",
            "        6899       0.67      0.40      0.50         5\n",
            "        6900       0.00      0.00      0.00         3\n",
            "        6901       1.00      0.12      0.22        16\n",
            "        6902       1.00      0.33      0.50         6\n",
            "        6903       0.00      0.00      0.00         2\n",
            "        6904       0.00      0.00      0.00         5\n",
            "        6905       0.71      1.00      0.83         5\n",
            "        6906       0.71      0.77      0.74        13\n",
            "        6907       1.00      0.33      0.50         3\n",
            "        6908       0.92      0.67      0.77        18\n",
            "        6909       0.67      0.96      0.79       126\n",
            "        9831       0.40      0.18      0.25        11\n",
            "\n",
            "    accuracy                           0.55      4000\n",
            "   macro avg       0.53      0.37      0.41      4000\n",
            "weighted avg       0.58      0.55      0.53      4000\n",
            "\n"
          ]
        },
        {
          "output_type": "stream",
          "name": "stderr",
          "text": [
            "/usr/local/lib/python3.9/dist-packages/sklearn/metrics/_classification.py:1344: UndefinedMetricWarning: Precision and F-score are ill-defined and being set to 0.0 in labels with no predicted samples. Use `zero_division` parameter to control this behavior.\n",
            "  _warn_prf(average, modifier, msg_start, len(result))\n",
            "/usr/local/lib/python3.9/dist-packages/sklearn/metrics/_classification.py:1344: UndefinedMetricWarning: Precision and F-score are ill-defined and being set to 0.0 in labels with no predicted samples. Use `zero_division` parameter to control this behavior.\n",
            "  _warn_prf(average, modifier, msg_start, len(result))\n",
            "/usr/local/lib/python3.9/dist-packages/sklearn/metrics/_classification.py:1344: UndefinedMetricWarning: Precision and F-score are ill-defined and being set to 0.0 in labels with no predicted samples. Use `zero_division` parameter to control this behavior.\n",
            "  _warn_prf(average, modifier, msg_start, len(result))\n"
          ]
        }
      ]
    },
    {
      "cell_type": "markdown",
      "source": [
        "# eval top 10 frequency id"
      ],
      "metadata": {
        "id": "j71Ng_M_JVLj"
      }
    },
    {
      "cell_type": "code",
      "source": [
        "# top_n_ids = [5186, 5156, 5175, 6909, 5100, 5085, 5074, 5051, 5039, 5192]\n",
        "top_n_ids = [5186, 5156, 5175, 6909, 5100]\n",
        "# top_n_ids = [5186, 5156, 5175]"
      ],
      "metadata": {
        "id": "KoPw8ZxN8R73"
      },
      "execution_count": 152,
      "outputs": []
    },
    {
      "cell_type": "code",
      "source": [
        "top_n_eval_dataset = eval_dataset[eval_dataset[\"y_cat_id\"].isin(top_n_ids)]\n",
        "len(top_n_eval_dataset)"
      ],
      "metadata": {
        "colab": {
          "base_uri": "https://localhost:8080/"
        },
        "id": "53-0W8VGJaAx",
        "outputId": "c34258df-1b24-4b27-be82-85a41c54f8bf"
      },
      "execution_count": 153,
      "outputs": [
        {
          "output_type": "execute_result",
          "data": {
            "text/plain": [
              "661"
            ]
          },
          "metadata": {},
          "execution_count": 153
        }
      ]
    },
    {
      "cell_type": "code",
      "source": [
        "eval_dataset.head(1)"
      ],
      "metadata": {
        "colab": {
          "base_uri": "https://localhost:8080/",
          "height": 81
        },
        "id": "pZaS9lMhJ40D",
        "outputId": "c13219bc-942b-4a60-f72d-20178e0d70c4"
      },
      "execution_count": 154,
      "outputs": [
        {
          "output_type": "execute_result",
          "data": {
            "text/plain": [
              "   y_cat_id         x_title_feature      cat_1                cat_2  \\\n",
              "2      6894  ict trainer supervisor  education  tutoring & training   \n",
              "\n",
              "                 cat_3                           x_title_feature_encoding  \n",
              "2  tutoring & training  [-0.068075106, 0.03999727, 0.03979084, -0.0085...  "
            ],
            "text/html": [
              "\n",
              "  <div id=\"df-cffe86f6-71d2-4967-9e2d-1894ea3d4de2\">\n",
              "    <div class=\"colab-df-container\">\n",
              "      <div>\n",
              "<style scoped>\n",
              "    .dataframe tbody tr th:only-of-type {\n",
              "        vertical-align: middle;\n",
              "    }\n",
              "\n",
              "    .dataframe tbody tr th {\n",
              "        vertical-align: top;\n",
              "    }\n",
              "\n",
              "    .dataframe thead th {\n",
              "        text-align: right;\n",
              "    }\n",
              "</style>\n",
              "<table border=\"1\" class=\"dataframe\">\n",
              "  <thead>\n",
              "    <tr style=\"text-align: right;\">\n",
              "      <th></th>\n",
              "      <th>y_cat_id</th>\n",
              "      <th>x_title_feature</th>\n",
              "      <th>cat_1</th>\n",
              "      <th>cat_2</th>\n",
              "      <th>cat_3</th>\n",
              "      <th>x_title_feature_encoding</th>\n",
              "    </tr>\n",
              "  </thead>\n",
              "  <tbody>\n",
              "    <tr>\n",
              "      <th>2</th>\n",
              "      <td>6894</td>\n",
              "      <td>ict trainer supervisor</td>\n",
              "      <td>education</td>\n",
              "      <td>tutoring &amp; training</td>\n",
              "      <td>tutoring &amp; training</td>\n",
              "      <td>[-0.068075106, 0.03999727, 0.03979084, -0.0085...</td>\n",
              "    </tr>\n",
              "  </tbody>\n",
              "</table>\n",
              "</div>\n",
              "      <button class=\"colab-df-convert\" onclick=\"convertToInteractive('df-cffe86f6-71d2-4967-9e2d-1894ea3d4de2')\"\n",
              "              title=\"Convert this dataframe to an interactive table.\"\n",
              "              style=\"display:none;\">\n",
              "        \n",
              "  <svg xmlns=\"http://www.w3.org/2000/svg\" height=\"24px\"viewBox=\"0 0 24 24\"\n",
              "       width=\"24px\">\n",
              "    <path d=\"M0 0h24v24H0V0z\" fill=\"none\"/>\n",
              "    <path d=\"M18.56 5.44l.94 2.06.94-2.06 2.06-.94-2.06-.94-.94-2.06-.94 2.06-2.06.94zm-11 1L8.5 8.5l.94-2.06 2.06-.94-2.06-.94L8.5 2.5l-.94 2.06-2.06.94zm10 10l.94 2.06.94-2.06 2.06-.94-2.06-.94-.94-2.06-.94 2.06-2.06.94z\"/><path d=\"M17.41 7.96l-1.37-1.37c-.4-.4-.92-.59-1.43-.59-.52 0-1.04.2-1.43.59L10.3 9.45l-7.72 7.72c-.78.78-.78 2.05 0 2.83L4 21.41c.39.39.9.59 1.41.59.51 0 1.02-.2 1.41-.59l7.78-7.78 2.81-2.81c.8-.78.8-2.07 0-2.86zM5.41 20L4 18.59l7.72-7.72 1.47 1.35L5.41 20z\"/>\n",
              "  </svg>\n",
              "      </button>\n",
              "      \n",
              "  <style>\n",
              "    .colab-df-container {\n",
              "      display:flex;\n",
              "      flex-wrap:wrap;\n",
              "      gap: 12px;\n",
              "    }\n",
              "\n",
              "    .colab-df-convert {\n",
              "      background-color: #E8F0FE;\n",
              "      border: none;\n",
              "      border-radius: 50%;\n",
              "      cursor: pointer;\n",
              "      display: none;\n",
              "      fill: #1967D2;\n",
              "      height: 32px;\n",
              "      padding: 0 0 0 0;\n",
              "      width: 32px;\n",
              "    }\n",
              "\n",
              "    .colab-df-convert:hover {\n",
              "      background-color: #E2EBFA;\n",
              "      box-shadow: 0px 1px 2px rgba(60, 64, 67, 0.3), 0px 1px 3px 1px rgba(60, 64, 67, 0.15);\n",
              "      fill: #174EA6;\n",
              "    }\n",
              "\n",
              "    [theme=dark] .colab-df-convert {\n",
              "      background-color: #3B4455;\n",
              "      fill: #D2E3FC;\n",
              "    }\n",
              "\n",
              "    [theme=dark] .colab-df-convert:hover {\n",
              "      background-color: #434B5C;\n",
              "      box-shadow: 0px 1px 3px 1px rgba(0, 0, 0, 0.15);\n",
              "      filter: drop-shadow(0px 1px 2px rgba(0, 0, 0, 0.3));\n",
              "      fill: #FFFFFF;\n",
              "    }\n",
              "  </style>\n",
              "\n",
              "      <script>\n",
              "        const buttonEl =\n",
              "          document.querySelector('#df-cffe86f6-71d2-4967-9e2d-1894ea3d4de2 button.colab-df-convert');\n",
              "        buttonEl.style.display =\n",
              "          google.colab.kernel.accessAllowed ? 'block' : 'none';\n",
              "\n",
              "        async function convertToInteractive(key) {\n",
              "          const element = document.querySelector('#df-cffe86f6-71d2-4967-9e2d-1894ea3d4de2');\n",
              "          const dataTable =\n",
              "            await google.colab.kernel.invokeFunction('convertToInteractive',\n",
              "                                                     [key], {});\n",
              "          if (!dataTable) return;\n",
              "\n",
              "          const docLinkHtml = 'Like what you see? Visit the ' +\n",
              "            '<a target=\"_blank\" href=https://colab.research.google.com/notebooks/data_table.ipynb>data table notebook</a>'\n",
              "            + ' to learn more about interactive tables.';\n",
              "          element.innerHTML = '';\n",
              "          dataTable['output_type'] = 'display_data';\n",
              "          await google.colab.output.renderOutput(dataTable, element);\n",
              "          const docLink = document.createElement('div');\n",
              "          docLink.innerHTML = docLinkHtml;\n",
              "          element.appendChild(docLink);\n",
              "        }\n",
              "      </script>\n",
              "    </div>\n",
              "  </div>\n",
              "  "
            ]
          },
          "metadata": {},
          "execution_count": 154
        }
      ]
    },
    {
      "cell_type": "code",
      "source": [
        "len(eval_dataset)"
      ],
      "metadata": {
        "colab": {
          "base_uri": "https://localhost:8080/"
        },
        "id": "_oH5aDi5ye8P",
        "outputId": "4dc739c2-853b-4f12-962f-97eefc37eb70"
      },
      "execution_count": 155,
      "outputs": [
        {
          "output_type": "execute_result",
          "data": {
            "text/plain": [
              "4000"
            ]
          },
          "metadata": {},
          "execution_count": 155
        }
      ]
    },
    {
      "cell_type": "code",
      "source": [
        "top_n_eval_dataset = eval_dataset[eval_dataset.y_cat_id.isin(top_n_ids)]\n",
        "print(len(top_n_eval_dataset))\n",
        "top_n_eval_dataset.head(1)"
      ],
      "metadata": {
        "colab": {
          "base_uri": "https://localhost:8080/",
          "height": 99
        },
        "id": "YOSahYnHyiiF",
        "outputId": "6581bd7a-5c80-4ede-8330-b8dc0b6d4282"
      },
      "execution_count": 156,
      "outputs": [
        {
          "output_type": "stream",
          "name": "stdout",
          "text": [
            "661\n"
          ]
        },
        {
          "output_type": "execute_result",
          "data": {
            "text/plain": [
              "    y_cat_id            x_title_feature              cat_1  \\\n",
              "28      5186  apprentic carpent builder  trades & services   \n",
              "\n",
              "                   cat_2                 cat_3  \\\n",
              "28  building & carpentry  building & carpentry   \n",
              "\n",
              "                             x_title_feature_encoding  \n",
              "28  [-0.092464365, 0.027520915, 0.019851051, -0.02...  "
            ],
            "text/html": [
              "\n",
              "  <div id=\"df-4822232f-671f-41dd-90cc-c3963e5ac534\">\n",
              "    <div class=\"colab-df-container\">\n",
              "      <div>\n",
              "<style scoped>\n",
              "    .dataframe tbody tr th:only-of-type {\n",
              "        vertical-align: middle;\n",
              "    }\n",
              "\n",
              "    .dataframe tbody tr th {\n",
              "        vertical-align: top;\n",
              "    }\n",
              "\n",
              "    .dataframe thead th {\n",
              "        text-align: right;\n",
              "    }\n",
              "</style>\n",
              "<table border=\"1\" class=\"dataframe\">\n",
              "  <thead>\n",
              "    <tr style=\"text-align: right;\">\n",
              "      <th></th>\n",
              "      <th>y_cat_id</th>\n",
              "      <th>x_title_feature</th>\n",
              "      <th>cat_1</th>\n",
              "      <th>cat_2</th>\n",
              "      <th>cat_3</th>\n",
              "      <th>x_title_feature_encoding</th>\n",
              "    </tr>\n",
              "  </thead>\n",
              "  <tbody>\n",
              "    <tr>\n",
              "      <th>28</th>\n",
              "      <td>5186</td>\n",
              "      <td>apprentic carpent builder</td>\n",
              "      <td>trades &amp; services</td>\n",
              "      <td>building &amp; carpentry</td>\n",
              "      <td>building &amp; carpentry</td>\n",
              "      <td>[-0.092464365, 0.027520915, 0.019851051, -0.02...</td>\n",
              "    </tr>\n",
              "  </tbody>\n",
              "</table>\n",
              "</div>\n",
              "      <button class=\"colab-df-convert\" onclick=\"convertToInteractive('df-4822232f-671f-41dd-90cc-c3963e5ac534')\"\n",
              "              title=\"Convert this dataframe to an interactive table.\"\n",
              "              style=\"display:none;\">\n",
              "        \n",
              "  <svg xmlns=\"http://www.w3.org/2000/svg\" height=\"24px\"viewBox=\"0 0 24 24\"\n",
              "       width=\"24px\">\n",
              "    <path d=\"M0 0h24v24H0V0z\" fill=\"none\"/>\n",
              "    <path d=\"M18.56 5.44l.94 2.06.94-2.06 2.06-.94-2.06-.94-.94-2.06-.94 2.06-2.06.94zm-11 1L8.5 8.5l.94-2.06 2.06-.94-2.06-.94L8.5 2.5l-.94 2.06-2.06.94zm10 10l.94 2.06.94-2.06 2.06-.94-2.06-.94-.94-2.06-.94 2.06-2.06.94z\"/><path d=\"M17.41 7.96l-1.37-1.37c-.4-.4-.92-.59-1.43-.59-.52 0-1.04.2-1.43.59L10.3 9.45l-7.72 7.72c-.78.78-.78 2.05 0 2.83L4 21.41c.39.39.9.59 1.41.59.51 0 1.02-.2 1.41-.59l7.78-7.78 2.81-2.81c.8-.78.8-2.07 0-2.86zM5.41 20L4 18.59l7.72-7.72 1.47 1.35L5.41 20z\"/>\n",
              "  </svg>\n",
              "      </button>\n",
              "      \n",
              "  <style>\n",
              "    .colab-df-container {\n",
              "      display:flex;\n",
              "      flex-wrap:wrap;\n",
              "      gap: 12px;\n",
              "    }\n",
              "\n",
              "    .colab-df-convert {\n",
              "      background-color: #E8F0FE;\n",
              "      border: none;\n",
              "      border-radius: 50%;\n",
              "      cursor: pointer;\n",
              "      display: none;\n",
              "      fill: #1967D2;\n",
              "      height: 32px;\n",
              "      padding: 0 0 0 0;\n",
              "      width: 32px;\n",
              "    }\n",
              "\n",
              "    .colab-df-convert:hover {\n",
              "      background-color: #E2EBFA;\n",
              "      box-shadow: 0px 1px 2px rgba(60, 64, 67, 0.3), 0px 1px 3px 1px rgba(60, 64, 67, 0.15);\n",
              "      fill: #174EA6;\n",
              "    }\n",
              "\n",
              "    [theme=dark] .colab-df-convert {\n",
              "      background-color: #3B4455;\n",
              "      fill: #D2E3FC;\n",
              "    }\n",
              "\n",
              "    [theme=dark] .colab-df-convert:hover {\n",
              "      background-color: #434B5C;\n",
              "      box-shadow: 0px 1px 3px 1px rgba(0, 0, 0, 0.15);\n",
              "      filter: drop-shadow(0px 1px 2px rgba(0, 0, 0, 0.3));\n",
              "      fill: #FFFFFF;\n",
              "    }\n",
              "  </style>\n",
              "\n",
              "      <script>\n",
              "        const buttonEl =\n",
              "          document.querySelector('#df-4822232f-671f-41dd-90cc-c3963e5ac534 button.colab-df-convert');\n",
              "        buttonEl.style.display =\n",
              "          google.colab.kernel.accessAllowed ? 'block' : 'none';\n",
              "\n",
              "        async function convertToInteractive(key) {\n",
              "          const element = document.querySelector('#df-4822232f-671f-41dd-90cc-c3963e5ac534');\n",
              "          const dataTable =\n",
              "            await google.colab.kernel.invokeFunction('convertToInteractive',\n",
              "                                                     [key], {});\n",
              "          if (!dataTable) return;\n",
              "\n",
              "          const docLinkHtml = 'Like what you see? Visit the ' +\n",
              "            '<a target=\"_blank\" href=https://colab.research.google.com/notebooks/data_table.ipynb>data table notebook</a>'\n",
              "            + ' to learn more about interactive tables.';\n",
              "          element.innerHTML = '';\n",
              "          dataTable['output_type'] = 'display_data';\n",
              "          await google.colab.output.renderOutput(dataTable, element);\n",
              "          const docLink = document.createElement('div');\n",
              "          docLink.innerHTML = docLinkHtml;\n",
              "          element.appendChild(docLink);\n",
              "        }\n",
              "      </script>\n",
              "    </div>\n",
              "  </div>\n",
              "  "
            ]
          },
          "metadata": {},
          "execution_count": 156
        }
      ]
    },
    {
      "cell_type": "code",
      "source": [
        "top_n_X_eval = top_n_eval_dataset[\"x_title_feature_encoding\"].to_list()\n",
        "top_n_y_eval = top_n_eval_dataset[\"y_cat_id\"]"
      ],
      "metadata": {
        "id": "LTGCLOcQytSi"
      },
      "execution_count": 157,
      "outputs": []
    },
    {
      "cell_type": "code",
      "source": [
        "top_n_y_pred = hierarcial_classifier.batch_predict(top_n_X_eval)"
      ],
      "metadata": {
        "id": "bsPrJknbzAIH"
      },
      "execution_count": 158,
      "outputs": []
    },
    {
      "cell_type": "code",
      "source": [
        "# top_n_y_pred = [x if x in top_n_ids else -1 for x in top_n_y_pred]\n",
        "print(len(set(top_n_y_pred)))"
      ],
      "metadata": {
        "colab": {
          "base_uri": "https://localhost:8080/"
        },
        "id": "6IwtHDq202w7",
        "outputId": "2d8b5f47-a919-4a17-8aa3-cbd68d8987de"
      },
      "execution_count": 159,
      "outputs": [
        {
          "output_type": "stream",
          "name": "stdout",
          "text": [
            "40\n"
          ]
        }
      ]
    },
    {
      "cell_type": "code",
      "source": [
        "metrics.accuracy_score(top_n_y_eval, top_n_y_pred)"
      ],
      "metadata": {
        "colab": {
          "base_uri": "https://localhost:8080/"
        },
        "id": "GZP1lqafzITK",
        "outputId": "dfe5c5c0-dfeb-4ae7-8bba-c84149e6646c"
      },
      "execution_count": 160,
      "outputs": [
        {
          "output_type": "execute_result",
          "data": {
            "text/plain": [
              "0.848714069591528"
            ]
          },
          "metadata": {},
          "execution_count": 160
        }
      ]
    },
    {
      "cell_type": "code",
      "source": [
        "print(classification_report(top_n_y_eval, top_n_y_pred))"
      ],
      "metadata": {
        "colab": {
          "base_uri": "https://localhost:8080/"
        },
        "id": "5WMVRnWyzQtH",
        "outputId": "982469b9-05ac-4429-bcca-bd6ea6ce0aa3"
      },
      "execution_count": 161,
      "outputs": [
        {
          "output_type": "stream",
          "name": "stdout",
          "text": [
            "              precision    recall  f1-score   support\n",
            "\n",
            "        4964       0.00      0.00      0.00         0\n",
            "        5012       0.00      0.00      0.00         0\n",
            "        5016       0.00      0.00      0.00         0\n",
            "        5036       0.00      0.00      0.00         0\n",
            "        5039       0.00      0.00      0.00         0\n",
            "        5040       0.00      0.00      0.00         0\n",
            "        5042       0.00      0.00      0.00         0\n",
            "        5046       0.00      0.00      0.00         0\n",
            "        5074       0.00      0.00      0.00         0\n",
            "        5083       0.00      0.00      0.00         0\n",
            "        5085       0.00      0.00      0.00         0\n",
            "        5087       0.00      0.00      0.00         0\n",
            "        5098       0.00      0.00      0.00         0\n",
            "        5100       0.97      0.92      0.94       107\n",
            "        5102       0.00      0.00      0.00         0\n",
            "        5103       0.00      0.00      0.00         0\n",
            "        5107       0.00      0.00      0.00         0\n",
            "        5138       0.00      0.00      0.00         0\n",
            "        5139       0.00      0.00      0.00         0\n",
            "        5145       0.00      0.00      0.00         0\n",
            "        5156       0.96      0.73      0.83       130\n",
            "        5158       0.00      0.00      0.00         0\n",
            "        5159       0.00      0.00      0.00         0\n",
            "        5165       0.00      0.00      0.00         0\n",
            "        5167       0.00      0.00      0.00         0\n",
            "        5173       0.00      0.00      0.00         0\n",
            "        5175       0.93      0.80      0.86       126\n",
            "        5177       0.00      0.00      0.00         0\n",
            "        5185       0.00      0.00      0.00         0\n",
            "        5186       0.99      0.85      0.92       172\n",
            "        5187       0.00      0.00      0.00         0\n",
            "        5191       0.00      0.00      0.00         0\n",
            "        5192       0.00      0.00      0.00         0\n",
            "        5194       0.00      0.00      0.00         0\n",
            "        5196       0.00      0.00      0.00         0\n",
            "        6882       0.00      0.00      0.00         0\n",
            "        6884       0.00      0.00      0.00         0\n",
            "        6891       0.00      0.00      0.00         0\n",
            "        6905       0.00      0.00      0.00         0\n",
            "        6909       0.97      0.96      0.96       126\n",
            "\n",
            "    accuracy                           0.85       661\n",
            "   macro avg       0.12      0.11      0.11       661\n",
            "weighted avg       0.97      0.85      0.90       661\n",
            "\n"
          ]
        },
        {
          "output_type": "stream",
          "name": "stderr",
          "text": [
            "/usr/local/lib/python3.9/dist-packages/sklearn/metrics/_classification.py:1344: UndefinedMetricWarning: Recall and F-score are ill-defined and being set to 0.0 in labels with no true samples. Use `zero_division` parameter to control this behavior.\n",
            "  _warn_prf(average, modifier, msg_start, len(result))\n",
            "/usr/local/lib/python3.9/dist-packages/sklearn/metrics/_classification.py:1344: UndefinedMetricWarning: Recall and F-score are ill-defined and being set to 0.0 in labels with no true samples. Use `zero_division` parameter to control this behavior.\n",
            "  _warn_prf(average, modifier, msg_start, len(result))\n",
            "/usr/local/lib/python3.9/dist-packages/sklearn/metrics/_classification.py:1344: UndefinedMetricWarning: Recall and F-score are ill-defined and being set to 0.0 in labels with no true samples. Use `zero_division` parameter to control this behavior.\n",
            "  _warn_prf(average, modifier, msg_start, len(result))\n"
          ]
        }
      ]
    },
    {
      "cell_type": "code",
      "source": [
        "cm = confusion_matrix(top_n_y_eval, top_n_y_pred)\n",
        "disp = ConfusionMatrixDisplay(confusion_matrix=cm)\n",
        "fig, ax = plt.subplots(figsize=(10,10))\n",
        "disp.plot(ax=ax)"
      ],
      "metadata": {
        "colab": {
          "base_uri": "https://localhost:8080/",
          "height": 598
        },
        "id": "C65IrDrbzT_q",
        "outputId": "ed239b17-c3fa-46d4-bec0-1b429ddf9082"
      },
      "execution_count": 162,
      "outputs": [
        {
          "output_type": "execute_result",
          "data": {
            "text/plain": [
              "<sklearn.metrics._plot.confusion_matrix.ConfusionMatrixDisplay at 0x7fb2f3aa7ac0>"
            ]
          },
          "metadata": {},
          "execution_count": 162
        },
        {
          "output_type": "display_data",
          "data": {
            "text/plain": [
              "<Figure size 720x720 with 2 Axes>"
            ],
            "image/png": "[encoded data removed]"
          },
          "metadata": {
            "needs_background": "light"
          }
        }
      ]
    },
    {
      "cell_type": "code",
      "source": [],
      "metadata": {
        "id": "p9FwkUkZzhBz"
      },
      "execution_count": null,
      "outputs": []
    }
  ]
}